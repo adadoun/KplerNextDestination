{
  "cells": [
    {
      "cell_type": "markdown",
      "metadata": {
        "id": "view-in-github",
        "colab_type": "text"
      },
      "source": [
        "<a href=\"https://colab.research.google.com/github/adadoun/KplerNextDestination/blob/main/AssociationRuleTechnique.ipynb\" target=\"_parent\"><img src=\"https://colab.research.google.com/assets/colab-badge.svg\" alt=\"Open In Colab\"/></a>"
      ]
    },
    {
      "cell_type": "code",
      "execution_count": 2,
      "id": "d118b788-4bc4-4662-9385-ffa834abc57b",
      "metadata": {
        "id": "d118b788-4bc4-4662-9385-ffa834abc57b"
      },
      "outputs": [],
      "source": [
        "# library Import\n",
        "import pandas as pd\n",
        "from collections import defaultdict\n",
        "import numpy as np\n",
        "import pandas as pd\n",
        "import numpy as np\n",
        "from collections import defaultdict\n",
        "import plotly.graph_objects as go\n",
        "from plotly.subplots import make_subplots\n",
        "from typing import List, Tuple"
      ]
    },
    {
      "cell_type": "code",
      "execution_count": 3,
      "id": "f3e84473-7724-461f-aced-3104833c8ae5",
      "metadata": {
        "colab": {
          "base_uri": "https://localhost:8080/"
        },
        "id": "f3e84473-7724-461f-aced-3104833c8ae5",
        "outputId": "e1333536-145b-4660-f648-afccf0c5447b"
      },
      "outputs": [
        {
          "output_type": "stream",
          "name": "stdout",
          "text": [
            "Mounted at /content/drive\n"
          ]
        }
      ],
      "source": [
        "from google.colab import drive\n",
        "drive.mount('/content/drive')"
      ]
    },
    {
      "cell_type": "code",
      "execution_count": 5,
      "id": "d3e05346-ae4e-4cae-903d-9321450419fd",
      "metadata": {
        "id": "d3e05346-ae4e-4cae-903d-9321450419fd"
      },
      "outputs": [],
      "source": [
        "# Load the training data\n",
        "train_df = pd.read_csv('drive/MyDrive/Collab_DATA/KplerData/train_trades_csv_prepared.csv')\n",
        "test_df = pd.read_csv('drive/MyDrive/Collab_DATA/KplerData/test_trades_csv_prepared.csv')"
      ]
    },
    {
      "cell_type": "markdown",
      "source": [
        "## Create Ranking destinations based on association rules probabilities\n"
      ],
      "metadata": {
        "id": "qqkyZVXYHeN0"
      },
      "id": "qqkyZVXYHeN0"
    },
    {
      "cell_type": "code",
      "execution_count": 7,
      "id": "b5303704-523f-4dbb-9549-c77ee6b1d582",
      "metadata": {
        "id": "b5303704-523f-4dbb-9549-c77ee6b1d582"
      },
      "outputs": [],
      "source": [
        "# Create a DataFrame with predictions\n",
        "ranked_destinations = test_df[['vessel_id', 'destination', 'is_visit', 'vessel_type', 'product_family']].copy()\n",
        "ranked_destinations['predicted_probability'] = test_df['merged_destination_probability']\n",
        "\n",
        "# Filter predictions (is_visit = 0) and actual destinations (is_visit = 1)\n",
        "ranked_destinations_filtered = ranked_destinations[ranked_destinations['is_visit'] == 0]\n",
        "test_df_sample = ranked_destinations[ranked_destinations['is_visit'] == 1]\n",
        "\n",
        "# Create a dictionary of actual destinations\n",
        "actual_destinations = test_df_sample.set_index('vessel_id')['destination'].to_dict()"
      ]
    },
    {
      "cell_type": "markdown",
      "source": [
        "## Create Utilities Functions"
      ],
      "metadata": {
        "id": "zNKGuTrcHo_u"
      },
      "id": "zNKGuTrcHo_u"
    },
    {
      "cell_type": "code",
      "source": [
        "def get_top_n_predictions(group: pd.DataFrame, n: int) -> List[str]:\n",
        "    \"\"\"\n",
        "    Get the top N predictions for a group of destinations based on predicted probability.\n",
        "\n",
        "    Args:\n",
        "        group (pd.DataFrame): A DataFrame containing 'destination' and 'predicted_probability' columns.\n",
        "        n (int): The number of top predictions to return.\n",
        "\n",
        "    Returns:\n",
        "        List[str]: A list of the top N predicted destinations.\n",
        "    \"\"\"\n",
        "    return group.nlargest(n, 'predicted_probability')['destination'].tolist()\n",
        "\n",
        "def calculate_accuracy_and_ranks(n: int) -> Tuple[float, List[float]]:\n",
        "    \"\"\"\n",
        "    Calculate accuracy and get ranks for Mean Reciprocal Rank (MRR) calculation.\n",
        "\n",
        "    Args:\n",
        "        n (int): The number of top predictions to consider.\n",
        "\n",
        "    Returns:\n",
        "        Tuple[float, List[float]]: A tuple containing the accuracy and a list of ranks for MRR.\n",
        "    \"\"\"\n",
        "    # Group predictions by vessel_id and get top N predictions for each\n",
        "    top_n_predictions = ranked_destinations_filtered.groupby('vessel_id').apply(lambda x: get_top_n_predictions(x, n))\n",
        "\n",
        "    accuracies = []\n",
        "    ranks = []\n",
        "    for vessel_id, preds in top_n_predictions.items():\n",
        "        actual_dest = actual_destinations.get(vessel_id)\n",
        "        if actual_dest in preds:\n",
        "            accuracies.append(1)\n",
        "            ranks.append(1 / (preds.index(actual_dest) + 1))\n",
        "        else:\n",
        "            accuracies.append(0)\n",
        "            ranks.append(0)\n",
        "\n",
        "    return np.mean(accuracies), ranks\n",
        "\n",
        "def calculate_accuracy_for_top_n(n: int) -> float:\n",
        "    \"\"\"\n",
        "    Calculate accuracy for top N predictions.\n",
        "\n",
        "    Args:\n",
        "        n (int): The number of top predictions to consider.\n",
        "\n",
        "    Returns:\n",
        "        float: The accuracy of the top N predictions.\n",
        "    \"\"\"\n",
        "    # Group predictions by vessel_id and get top N predictions for each\n",
        "    top_n_predictions = ranked_destinations_filtered.groupby('vessel_id').apply(lambda x: get_top_n_predictions(x, n))\n",
        "\n",
        "    # Calculate accuracy\n",
        "    accuracy = sum(actual_destinations.get(vessel_id) in preds for vessel_id, preds in top_n_predictions.items()) / len(actual_destinations)\n",
        "\n",
        "    return accuracy\n",
        "\n",
        "def calculate_mrr() -> float:\n",
        "    \"\"\"\n",
        "    Calculate the Mean Reciprocal Rank (MRR) for the predictions.\n",
        "\n",
        "    Returns:\n",
        "        float: The Mean Reciprocal Rank.\n",
        "    \"\"\"\n",
        "    def get_reciprocal_rank(group: pd.DataFrame) -> float:\n",
        "        \"\"\"\n",
        "        Calculate the reciprocal rank for a single group (vessel).\n",
        "\n",
        "        Args:\n",
        "            group (pd.DataFrame): A DataFrame containing predictions for a single vessel.\n",
        "\n",
        "        Returns:\n",
        "            float: The reciprocal rank for the vessel.\n",
        "        \"\"\"\n",
        "        vessel_id = group.name\n",
        "        actual_dest = actual_destinations.get(vessel_id)\n",
        "        if actual_dest is None:\n",
        "            return 0\n",
        "\n",
        "        # Sort predictions by probability in descending order\n",
        "        sorted_predictions = group.sort_values('predicted_probability', ascending=False).reset_index(drop=True)\n",
        "\n",
        "        # Find the rank of the actual destination\n",
        "        rank = sorted_predictions[sorted_predictions['destination'] == actual_dest].index.min()\n",
        "        if pd.isna(rank):\n",
        "            return 0\n",
        "\n",
        "        # Calculate reciprocal rank (add 1 to rank because indexing starts at 0)\n",
        "        return 1 / (rank + 1)\n",
        "\n",
        "    # Calculate reciprocal ranks for all vessels\n",
        "    reciprocal_ranks = ranked_destinations_filtered.groupby('vessel_id').apply(get_reciprocal_rank)\n",
        "\n",
        "    # Print some debug information\n",
        "    print(f\"Number of vessels: {len(reciprocal_ranks)}\")\n",
        "    print(f\"Number of non-zero ranks: {(reciprocal_ranks > 0).sum()}\")\n",
        "    print(f\"Average reciprocal rank: {reciprocal_ranks.mean():.4f}\")\n",
        "\n",
        "    return reciprocal_ranks.mean()"
      ],
      "metadata": {
        "id": "rnSkADNWJCOc"
      },
      "id": "rnSkADNWJCOc",
      "execution_count": 8,
      "outputs": []
    },
    {
      "cell_type": "markdown",
      "source": [
        "## Compute Accuracy"
      ],
      "metadata": {
        "id": "OcQchz9FI0fQ"
      },
      "id": "OcQchz9FI0fQ"
    },
    {
      "cell_type": "code",
      "source": [
        "# Calculate Top 1, Top 3, and Top 10 Accuracies\n",
        "top_1_accuracy, ranks_1 = calculate_accuracy_and_ranks(1)\n",
        "top_3_accuracy, _ = calculate_accuracy_and_ranks(3)\n",
        "top_10_accuracy, _ = calculate_accuracy_and_ranks(10)\n",
        "\n",
        "# Calculate Mean Reciprocal Rank\n",
        "mrr = calculate_mrr()\n",
        "\n",
        "# Print the results\n",
        "print(f\"Top 1 Accuracy: {top_1_accuracy:.4f}\")\n",
        "print(f\"Top 3 Accuracy: {top_3_accuracy:.4f}\")\n",
        "print(f\"Top 10 Accuracy: {top_10_accuracy:.4f}\")\n",
        "print(f\"Mean Reciprocal Rank (MRR): {mrr:.4f}\")"
      ],
      "metadata": {
        "colab": {
          "base_uri": "https://localhost:8080/"
        },
        "id": "5QG90vdiJFJU",
        "outputId": "b0f5390b-de70-41e3-812e-9d4585add7d3"
      },
      "id": "5QG90vdiJFJU",
      "execution_count": 9,
      "outputs": [
        {
          "output_type": "stream",
          "name": "stdout",
          "text": [
            "Number of vessels: 6246\n",
            "Number of non-zero ranks: 5038\n",
            "Average reciprocal rank: 0.3293\n",
            "Top 1 Accuracy: 0.2147\n",
            "Top 3 Accuracy: 0.3809\n",
            "Top 10 Accuracy: 0.5621\n",
            "Mean Reciprocal Rank (MRR): 0.3293\n"
          ]
        }
      ]
    },
    {
      "cell_type": "markdown",
      "source": [
        "## Plot Evolution of the accuracy for different top K predictions"
      ],
      "metadata": {
        "id": "mmcD0XETI7ry"
      },
      "id": "mmcD0XETI7ry"
    },
    {
      "cell_type": "code",
      "source": [
        "# Calculate accuracies for top 1 to top 10\n",
        "accuracies = [calculate_accuracy_for_top_n(i) for i in range(1, 11)]\n",
        "\n",
        "# 1. Plot accuracy evolution from top 1 to top 10\n",
        "fig1 = go.Figure(data=go.Scatter(\n",
        "    x=list(range(1, 11)),\n",
        "    y=accuracies,\n",
        "    mode='lines+markers+text',\n",
        "    text=[f'{acc:.2%}' for acc in accuracies],\n",
        "    textposition='top center'\n",
        "))\n",
        "fig1.update_layout(\n",
        "    title='Accuracy Evolution: Top 1 to Top 10',\n",
        "    xaxis_title='Top N Predictions',\n",
        "    yaxis_title='Accuracy',\n",
        "    yaxis_tickformat='.0%',\n",
        "    xaxis=dict(tickmode='linear', tick0=1, dtick=1)\n",
        ")\n",
        "fig1.show()"
      ],
      "metadata": {
        "colab": {
          "base_uri": "https://localhost:8080/",
          "height": 542
        },
        "id": "Yn2dbsjAJHg5",
        "outputId": "e122dd6b-8bb3-4fc2-9be9-fed9bae86b58"
      },
      "id": "Yn2dbsjAJHg5",
      "execution_count": 10,
      "outputs": [
        {
          "output_type": "display_data",
          "data": {
            "text/html": [
              "<html>\n",
              "<head><meta charset=\"utf-8\" /></head>\n",
              "<body>\n",
              "    <div>            <script src=\"https://cdnjs.cloudflare.com/ajax/libs/mathjax/2.7.5/MathJax.js?config=TeX-AMS-MML_SVG\"></script><script type=\"text/javascript\">if (window.MathJax && window.MathJax.Hub && window.MathJax.Hub.Config) {window.MathJax.Hub.Config({SVG: {font: \"STIX-Web\"}});}</script>                <script type=\"text/javascript\">window.PlotlyConfig = {MathJaxConfig: 'local'};</script>\n",
              "        <script charset=\"utf-8\" src=\"https://cdn.plot.ly/plotly-2.24.1.min.js\"></script>                <div id=\"b9939b07-5fd3-4e9f-a0bf-933abd27a817\" class=\"plotly-graph-div\" style=\"height:525px; width:100%;\"></div>            <script type=\"text/javascript\">                                    window.PLOTLYENV=window.PLOTLYENV || {};                                    if (document.getElementById(\"b9939b07-5fd3-4e9f-a0bf-933abd27a817\")) {                    Plotly.newPlot(                        \"b9939b07-5fd3-4e9f-a0bf-933abd27a817\",                        [{\"mode\":\"lines+markers+text\",\"text\":[\"21.26%\",\"31.40%\",\"37.71%\",\"42.13%\",\"45.89%\",\"48.61%\",\"51.02%\",\"53.10%\",\"54.38%\",\"55.65%\"],\"textposition\":\"top center\",\"x\":[1,2,3,4,5,6,7,8,9,10],\"y\":[0.21255349500713266,0.3139958789031542,0.3770803613884926,0.4213029006181645,0.45886828340466,0.4861309240767158,0.510223490252021,0.5309874782057379,0.543826279917578,0.5565065779045808],\"type\":\"scatter\"}],                        {\"template\":{\"data\":{\"histogram2dcontour\":[{\"type\":\"histogram2dcontour\",\"colorbar\":{\"outlinewidth\":0,\"ticks\":\"\"},\"colorscale\":[[0.0,\"#0d0887\"],[0.1111111111111111,\"#46039f\"],[0.2222222222222222,\"#7201a8\"],[0.3333333333333333,\"#9c179e\"],[0.4444444444444444,\"#bd3786\"],[0.5555555555555556,\"#d8576b\"],[0.6666666666666666,\"#ed7953\"],[0.7777777777777778,\"#fb9f3a\"],[0.8888888888888888,\"#fdca26\"],[1.0,\"#f0f921\"]]}],\"choropleth\":[{\"type\":\"choropleth\",\"colorbar\":{\"outlinewidth\":0,\"ticks\":\"\"}}],\"histogram2d\":[{\"type\":\"histogram2d\",\"colorbar\":{\"outlinewidth\":0,\"ticks\":\"\"},\"colorscale\":[[0.0,\"#0d0887\"],[0.1111111111111111,\"#46039f\"],[0.2222222222222222,\"#7201a8\"],[0.3333333333333333,\"#9c179e\"],[0.4444444444444444,\"#bd3786\"],[0.5555555555555556,\"#d8576b\"],[0.6666666666666666,\"#ed7953\"],[0.7777777777777778,\"#fb9f3a\"],[0.8888888888888888,\"#fdca26\"],[1.0,\"#f0f921\"]]}],\"heatmap\":[{\"type\":\"heatmap\",\"colorbar\":{\"outlinewidth\":0,\"ticks\":\"\"},\"colorscale\":[[0.0,\"#0d0887\"],[0.1111111111111111,\"#46039f\"],[0.2222222222222222,\"#7201a8\"],[0.3333333333333333,\"#9c179e\"],[0.4444444444444444,\"#bd3786\"],[0.5555555555555556,\"#d8576b\"],[0.6666666666666666,\"#ed7953\"],[0.7777777777777778,\"#fb9f3a\"],[0.8888888888888888,\"#fdca26\"],[1.0,\"#f0f921\"]]}],\"heatmapgl\":[{\"type\":\"heatmapgl\",\"colorbar\":{\"outlinewidth\":0,\"ticks\":\"\"},\"colorscale\":[[0.0,\"#0d0887\"],[0.1111111111111111,\"#46039f\"],[0.2222222222222222,\"#7201a8\"],[0.3333333333333333,\"#9c179e\"],[0.4444444444444444,\"#bd3786\"],[0.5555555555555556,\"#d8576b\"],[0.6666666666666666,\"#ed7953\"],[0.7777777777777778,\"#fb9f3a\"],[0.8888888888888888,\"#fdca26\"],[1.0,\"#f0f921\"]]}],\"contourcarpet\":[{\"type\":\"contourcarpet\",\"colorbar\":{\"outlinewidth\":0,\"ticks\":\"\"}}],\"contour\":[{\"type\":\"contour\",\"colorbar\":{\"outlinewidth\":0,\"ticks\":\"\"},\"colorscale\":[[0.0,\"#0d0887\"],[0.1111111111111111,\"#46039f\"],[0.2222222222222222,\"#7201a8\"],[0.3333333333333333,\"#9c179e\"],[0.4444444444444444,\"#bd3786\"],[0.5555555555555556,\"#d8576b\"],[0.6666666666666666,\"#ed7953\"],[0.7777777777777778,\"#fb9f3a\"],[0.8888888888888888,\"#fdca26\"],[1.0,\"#f0f921\"]]}],\"surface\":[{\"type\":\"surface\",\"colorbar\":{\"outlinewidth\":0,\"ticks\":\"\"},\"colorscale\":[[0.0,\"#0d0887\"],[0.1111111111111111,\"#46039f\"],[0.2222222222222222,\"#7201a8\"],[0.3333333333333333,\"#9c179e\"],[0.4444444444444444,\"#bd3786\"],[0.5555555555555556,\"#d8576b\"],[0.6666666666666666,\"#ed7953\"],[0.7777777777777778,\"#fb9f3a\"],[0.8888888888888888,\"#fdca26\"],[1.0,\"#f0f921\"]]}],\"mesh3d\":[{\"type\":\"mesh3d\",\"colorbar\":{\"outlinewidth\":0,\"ticks\":\"\"}}],\"scatter\":[{\"fillpattern\":{\"fillmode\":\"overlay\",\"size\":10,\"solidity\":0.2},\"type\":\"scatter\"}],\"parcoords\":[{\"type\":\"parcoords\",\"line\":{\"colorbar\":{\"outlinewidth\":0,\"ticks\":\"\"}}}],\"scatterpolargl\":[{\"type\":\"scatterpolargl\",\"marker\":{\"colorbar\":{\"outlinewidth\":0,\"ticks\":\"\"}}}],\"bar\":[{\"error_x\":{\"color\":\"#2a3f5f\"},\"error_y\":{\"color\":\"#2a3f5f\"},\"marker\":{\"line\":{\"color\":\"#E5ECF6\",\"width\":0.5},\"pattern\":{\"fillmode\":\"overlay\",\"size\":10,\"solidity\":0.2}},\"type\":\"bar\"}],\"scattergeo\":[{\"type\":\"scattergeo\",\"marker\":{\"colorbar\":{\"outlinewidth\":0,\"ticks\":\"\"}}}],\"scatterpolar\":[{\"type\":\"scatterpolar\",\"marker\":{\"colorbar\":{\"outlinewidth\":0,\"ticks\":\"\"}}}],\"histogram\":[{\"marker\":{\"pattern\":{\"fillmode\":\"overlay\",\"size\":10,\"solidity\":0.2}},\"type\":\"histogram\"}],\"scattergl\":[{\"type\":\"scattergl\",\"marker\":{\"colorbar\":{\"outlinewidth\":0,\"ticks\":\"\"}}}],\"scatter3d\":[{\"type\":\"scatter3d\",\"line\":{\"colorbar\":{\"outlinewidth\":0,\"ticks\":\"\"}},\"marker\":{\"colorbar\":{\"outlinewidth\":0,\"ticks\":\"\"}}}],\"scattermapbox\":[{\"type\":\"scattermapbox\",\"marker\":{\"colorbar\":{\"outlinewidth\":0,\"ticks\":\"\"}}}],\"scatterternary\":[{\"type\":\"scatterternary\",\"marker\":{\"colorbar\":{\"outlinewidth\":0,\"ticks\":\"\"}}}],\"scattercarpet\":[{\"type\":\"scattercarpet\",\"marker\":{\"colorbar\":{\"outlinewidth\":0,\"ticks\":\"\"}}}],\"carpet\":[{\"aaxis\":{\"endlinecolor\":\"#2a3f5f\",\"gridcolor\":\"white\",\"linecolor\":\"white\",\"minorgridcolor\":\"white\",\"startlinecolor\":\"#2a3f5f\"},\"baxis\":{\"endlinecolor\":\"#2a3f5f\",\"gridcolor\":\"white\",\"linecolor\":\"white\",\"minorgridcolor\":\"white\",\"startlinecolor\":\"#2a3f5f\"},\"type\":\"carpet\"}],\"table\":[{\"cells\":{\"fill\":{\"color\":\"#EBF0F8\"},\"line\":{\"color\":\"white\"}},\"header\":{\"fill\":{\"color\":\"#C8D4E3\"},\"line\":{\"color\":\"white\"}},\"type\":\"table\"}],\"barpolar\":[{\"marker\":{\"line\":{\"color\":\"#E5ECF6\",\"width\":0.5},\"pattern\":{\"fillmode\":\"overlay\",\"size\":10,\"solidity\":0.2}},\"type\":\"barpolar\"}],\"pie\":[{\"automargin\":true,\"type\":\"pie\"}]},\"layout\":{\"autotypenumbers\":\"strict\",\"colorway\":[\"#636efa\",\"#EF553B\",\"#00cc96\",\"#ab63fa\",\"#FFA15A\",\"#19d3f3\",\"#FF6692\",\"#B6E880\",\"#FF97FF\",\"#FECB52\"],\"font\":{\"color\":\"#2a3f5f\"},\"hovermode\":\"closest\",\"hoverlabel\":{\"align\":\"left\"},\"paper_bgcolor\":\"white\",\"plot_bgcolor\":\"#E5ECF6\",\"polar\":{\"bgcolor\":\"#E5ECF6\",\"angularaxis\":{\"gridcolor\":\"white\",\"linecolor\":\"white\",\"ticks\":\"\"},\"radialaxis\":{\"gridcolor\":\"white\",\"linecolor\":\"white\",\"ticks\":\"\"}},\"ternary\":{\"bgcolor\":\"#E5ECF6\",\"aaxis\":{\"gridcolor\":\"white\",\"linecolor\":\"white\",\"ticks\":\"\"},\"baxis\":{\"gridcolor\":\"white\",\"linecolor\":\"white\",\"ticks\":\"\"},\"caxis\":{\"gridcolor\":\"white\",\"linecolor\":\"white\",\"ticks\":\"\"}},\"coloraxis\":{\"colorbar\":{\"outlinewidth\":0,\"ticks\":\"\"}},\"colorscale\":{\"sequential\":[[0.0,\"#0d0887\"],[0.1111111111111111,\"#46039f\"],[0.2222222222222222,\"#7201a8\"],[0.3333333333333333,\"#9c179e\"],[0.4444444444444444,\"#bd3786\"],[0.5555555555555556,\"#d8576b\"],[0.6666666666666666,\"#ed7953\"],[0.7777777777777778,\"#fb9f3a\"],[0.8888888888888888,\"#fdca26\"],[1.0,\"#f0f921\"]],\"sequentialminus\":[[0.0,\"#0d0887\"],[0.1111111111111111,\"#46039f\"],[0.2222222222222222,\"#7201a8\"],[0.3333333333333333,\"#9c179e\"],[0.4444444444444444,\"#bd3786\"],[0.5555555555555556,\"#d8576b\"],[0.6666666666666666,\"#ed7953\"],[0.7777777777777778,\"#fb9f3a\"],[0.8888888888888888,\"#fdca26\"],[1.0,\"#f0f921\"]],\"diverging\":[[0,\"#8e0152\"],[0.1,\"#c51b7d\"],[0.2,\"#de77ae\"],[0.3,\"#f1b6da\"],[0.4,\"#fde0ef\"],[0.5,\"#f7f7f7\"],[0.6,\"#e6f5d0\"],[0.7,\"#b8e186\"],[0.8,\"#7fbc41\"],[0.9,\"#4d9221\"],[1,\"#276419\"]]},\"xaxis\":{\"gridcolor\":\"white\",\"linecolor\":\"white\",\"ticks\":\"\",\"title\":{\"standoff\":15},\"zerolinecolor\":\"white\",\"automargin\":true,\"zerolinewidth\":2},\"yaxis\":{\"gridcolor\":\"white\",\"linecolor\":\"white\",\"ticks\":\"\",\"title\":{\"standoff\":15},\"zerolinecolor\":\"white\",\"automargin\":true,\"zerolinewidth\":2},\"scene\":{\"xaxis\":{\"backgroundcolor\":\"#E5ECF6\",\"gridcolor\":\"white\",\"linecolor\":\"white\",\"showbackground\":true,\"ticks\":\"\",\"zerolinecolor\":\"white\",\"gridwidth\":2},\"yaxis\":{\"backgroundcolor\":\"#E5ECF6\",\"gridcolor\":\"white\",\"linecolor\":\"white\",\"showbackground\":true,\"ticks\":\"\",\"zerolinecolor\":\"white\",\"gridwidth\":2},\"zaxis\":{\"backgroundcolor\":\"#E5ECF6\",\"gridcolor\":\"white\",\"linecolor\":\"white\",\"showbackground\":true,\"ticks\":\"\",\"zerolinecolor\":\"white\",\"gridwidth\":2}},\"shapedefaults\":{\"line\":{\"color\":\"#2a3f5f\"}},\"annotationdefaults\":{\"arrowcolor\":\"#2a3f5f\",\"arrowhead\":0,\"arrowwidth\":1},\"geo\":{\"bgcolor\":\"white\",\"landcolor\":\"#E5ECF6\",\"subunitcolor\":\"white\",\"showland\":true,\"showlakes\":true,\"lakecolor\":\"white\"},\"title\":{\"x\":0.05},\"mapbox\":{\"style\":\"light\"}}},\"yaxis\":{\"title\":{\"text\":\"Accuracy\"},\"tickformat\":\".0%\"},\"xaxis\":{\"title\":{\"text\":\"Top N Predictions\"},\"tickmode\":\"linear\",\"tick0\":1,\"dtick\":1},\"title\":{\"text\":\"Accuracy Evolution: Top 1 to Top 10\"}},                        {\"responsive\": true}                    ).then(function(){\n",
              "                            \n",
              "var gd = document.getElementById('b9939b07-5fd3-4e9f-a0bf-933abd27a817');\n",
              "var x = new MutationObserver(function (mutations, observer) {{\n",
              "        var display = window.getComputedStyle(gd).display;\n",
              "        if (!display || display === 'none') {{\n",
              "            console.log([gd, 'removed!']);\n",
              "            Plotly.purge(gd);\n",
              "            observer.disconnect();\n",
              "        }}\n",
              "}});\n",
              "\n",
              "// Listen for the removal of the full notebook cells\n",
              "var notebookContainer = gd.closest('#notebook-container');\n",
              "if (notebookContainer) {{\n",
              "    x.observe(notebookContainer, {childList: true});\n",
              "}}\n",
              "\n",
              "// Listen for the clearing of the current output cell\n",
              "var outputEl = gd.closest('.output');\n",
              "if (outputEl) {{\n",
              "    x.observe(outputEl, {childList: true});\n",
              "}}\n",
              "\n",
              "                        })                };                            </script>        </div>\n",
              "</body>\n",
              "</html>"
            ]
          },
          "metadata": {}
        }
      ]
    },
    {
      "cell_type": "markdown",
      "source": [
        "## Plot the evolution of accuracy (top 1) over the number of potential destinations"
      ],
      "metadata": {
        "id": "1n0mqR0JJGbe"
      },
      "id": "1n0mqR0JJGbe"
    },
    {
      "cell_type": "code",
      "source": [
        "def calculate_top_1_accuracy(group):\n",
        "    \"\"\"\n",
        "    Calculate the top 1 accuracy for a group of predictions.\n",
        "\n",
        "    Args:\n",
        "        group (pd.DataFrame): A group of predictions for a single vessel.\n",
        "\n",
        "    Returns:\n",
        "        bool: True if the top predicted destination matches the actual destination, False otherwise.\n",
        "    \"\"\"\n",
        "    return actual_destinations.get(group.name) == group.nlargest(1, 'predicted_probability')['destination'].iloc[0]\n",
        "\n",
        "# Calculate the number of potential destinations and top 1 accuracy for each vessel\n",
        "ranked_destinations['num_potential_destinations'] = ranked_destinations.groupby('vessel_id')['vessel_id'].transform('count')\n",
        "ranked_destinations['top_1_accuracy'] = ranked_destinations.groupby('vessel_id').apply(calculate_top_1_accuracy)\n",
        "\n",
        "# Filter to include only up to 1000 potential destinations\n",
        "ranked_destinations = ranked_destinations[ranked_destinations['num_potential_destinations'] <= 1000]\n",
        "\n",
        "# Define bin parameters for grouping\n",
        "bin_size = 100\n",
        "max_samples = 1000\n",
        "bins = range(0, max_samples + bin_size, bin_size)\n",
        "\n",
        "# Group accuracy data into bins and calculate mean accuracy and count for each bin\n",
        "accuracy_by_bin = ranked_destinations.groupby(pd.cut(ranked_destinations['num_potential_destinations'], bins=bins))['top_1_accuracy'].agg(['mean', 'count']).reset_index()\n",
        "accuracy_by_bin['bin_midpoint'] = accuracy_by_bin['num_potential_destinations'].apply(lambda x: x.mid)\n",
        "\n",
        "# Create subplots: line plot and histogram\n",
        "fig = make_subplots(rows=2, cols=1,\n",
        "                    subplot_titles=(\"Line Plot: Top 1 Accuracy vs Number of Potential Destinations (up to 1000)\",\n",
        "                                    \"Histogram: Distribution of Potential Destinations (up to 1000)\"),\n",
        "                    vertical_spacing=0.1)\n",
        "\n",
        "# Add line plot for accuracy\n",
        "fig.add_trace(\n",
        "    go.Scatter(x=accuracy_by_bin['bin_midpoint'], y=accuracy_by_bin['mean'], mode='lines+markers',\n",
        "               name='Top 1 Accuracy', text=[f'{acc:.2%}' for acc in accuracy_by_bin['mean']],\n",
        "               hovertemplate='Potential Destinations: %{x}<br>Accuracy: %{text}<br>Count: %{customdata}',\n",
        "               customdata=accuracy_by_bin['count']),\n",
        "    row=1, col=1\n",
        ")\n",
        "\n",
        "# Add histogram for distribution of potential destinations\n",
        "fig.add_trace(\n",
        "    go.Bar(x=accuracy_by_bin['bin_midpoint'], y=accuracy_by_bin['count'],\n",
        "           name='Sample Count', hovertemplate='Potential Destinations: %{x}<br>Count: %{y}'),\n",
        "    row=2, col=1\n",
        ")\n",
        "\n",
        "# Update layout and axes\n",
        "fig.update_layout(height=800, title_text=\"Top 1 Accuracy vs Number of Potential Destinations (up to 1000)\")\n",
        "fig.update_xaxes(title_text=\"Number of Potential Destinations\", row=1, col=1, tickmode='array', tickvals=list(range(0, 1001, 100)))\n",
        "fig.update_xaxes(title_text=\"Number of Potential Destinations\", row=2, col=1, tickmode='array', tickvals=list(range(0, 1001, 100)))\n",
        "fig.update_yaxes(title_text=\"Top 1 Accuracy\", tickformat='.0%', row=1, col=1)\n",
        "fig.update_yaxes(title_text=\"Count\", row=2, col=1)\n",
        "\n",
        "# Display the figure\n",
        "fig.show()\n",
        "\n",
        "# Print summary statistics\n",
        "print(f\"Total number of vessels (up to 1000 potential destinations): {len(ranked_destinations['vessel_id'].unique())}\")\n",
        "print(f\"Average number of potential destinations per vessel: {ranked_destinations['num_potential_destinations'].mean():.2f}\")\n",
        "print(f\"Median number of potential destinations per vessel: {ranked_destinations['num_potential_destinations'].median():.2f}\")\n",
        "print(f\"Range of potential destinations: {ranked_destinations['num_potential_destinations'].min()} to {ranked_destinations['num_potential_destinations'].max()}\")\n",
        "print(f\"Overall Top 1 Accuracy: {ranked_destinations['top_1_accuracy'].mean():.2%}\")\n",
        "print(f\"Correlation between number of potential destinations and accuracy: {accuracy_by_bin['bin_midpoint'].corr(accuracy_by_bin['mean']):.4f}\")\n",
        "\n",
        "# Additional statistics for vessels with more than 1000 potential destinations\n",
        "vessels_over_1000 = ranked_destinations[ranked_destinations['num_potential_destinations'] > 1000]\n",
        "print(f\"\\nNumber of vessels with more than 1000 potential destinations: {len(vessels_over_1000['vessel_id'].unique())}\")\n",
        "if not vessels_over_1000.empty:\n",
        "    print(f\"Average accuracy for vessels with >1000 potential destinations: {vessels_over_1000['top_1_accuracy'].mean():.2%}\")\n"
      ],
      "metadata": {
        "colab": {
          "base_uri": "https://localhost:8080/",
          "height": 1000
        },
        "id": "L_u_rZwOJUJk",
        "outputId": "90e0e6b0-50dd-448c-e3b8-192f22829961"
      },
      "id": "L_u_rZwOJUJk",
      "execution_count": 12,
      "outputs": [
        {
          "output_type": "stream",
          "name": "stderr",
          "text": [
            "<ipython-input-12-9beaea79e0b8>:26: FutureWarning:\n",
            "\n",
            "The default of observed=False is deprecated and will be changed to True in a future version of pandas. Pass observed=False to retain current behavior or observed=True to adopt the future default and silence this warning.\n",
            "\n"
          ]
        },
        {
          "output_type": "display_data",
          "data": {
            "text/html": [
              "<html>\n",
              "<head><meta charset=\"utf-8\" /></head>\n",
              "<body>\n",
              "    <div>            <script src=\"https://cdnjs.cloudflare.com/ajax/libs/mathjax/2.7.5/MathJax.js?config=TeX-AMS-MML_SVG\"></script><script type=\"text/javascript\">if (window.MathJax && window.MathJax.Hub && window.MathJax.Hub.Config) {window.MathJax.Hub.Config({SVG: {font: \"STIX-Web\"}});}</script>                <script type=\"text/javascript\">window.PlotlyConfig = {MathJaxConfig: 'local'};</script>\n",
              "        <script charset=\"utf-8\" src=\"https://cdn.plot.ly/plotly-2.24.1.min.js\"></script>                <div id=\"0811390b-1660-447b-9fe6-de2a65f5d431\" class=\"plotly-graph-div\" style=\"height:800px; width:100%;\"></div>            <script type=\"text/javascript\">                                    window.PLOTLYENV=window.PLOTLYENV || {};                                    if (document.getElementById(\"0811390b-1660-447b-9fe6-de2a65f5d431\")) {                    Plotly.newPlot(                        \"0811390b-1660-447b-9fe6-de2a65f5d431\",                        [{\"customdata\":[81,437,766,844,1493,1186,748,467,153,84],\"hovertemplate\":\"Potential Destinations: %{x}\\u003cbr\\u003eAccuracy: %{text}\\u003cbr\\u003eCount: %{customdata}\",\"mode\":\"lines+markers\",\"name\":\"Top 1 Accuracy\",\"text\":[\"20.99%\",\"26.54%\",\"26.37%\",\"27.96%\",\"28.73%\",\"25.80%\",\"25.00%\",\"25.70%\",\"21.57%\",\"35.71%\"],\"x\":[50.0,150.0,250.0,350.0,450.0,550.0,650.0,750.0,850.0,950.0],\"y\":[0.20987654320987653,0.2654462242562929,0.26370757180156656,0.2796208530805687,0.2873409243134628,0.2580101180438449,0.25,0.2569593147751606,0.21568627450980393,0.35714285714285715],\"type\":\"scatter\",\"xaxis\":\"x\",\"yaxis\":\"y\"},{\"hovertemplate\":\"Potential Destinations: %{x}\\u003cbr\\u003eCount: %{y}\",\"name\":\"Sample Count\",\"x\":[50.0,150.0,250.0,350.0,450.0,550.0,650.0,750.0,850.0,950.0],\"y\":[81,437,766,844,1493,1186,748,467,153,84],\"type\":\"bar\",\"xaxis\":\"x2\",\"yaxis\":\"y2\"}],                        {\"template\":{\"data\":{\"histogram2dcontour\":[{\"type\":\"histogram2dcontour\",\"colorbar\":{\"outlinewidth\":0,\"ticks\":\"\"},\"colorscale\":[[0.0,\"#0d0887\"],[0.1111111111111111,\"#46039f\"],[0.2222222222222222,\"#7201a8\"],[0.3333333333333333,\"#9c179e\"],[0.4444444444444444,\"#bd3786\"],[0.5555555555555556,\"#d8576b\"],[0.6666666666666666,\"#ed7953\"],[0.7777777777777778,\"#fb9f3a\"],[0.8888888888888888,\"#fdca26\"],[1.0,\"#f0f921\"]]}],\"choropleth\":[{\"type\":\"choropleth\",\"colorbar\":{\"outlinewidth\":0,\"ticks\":\"\"}}],\"histogram2d\":[{\"type\":\"histogram2d\",\"colorbar\":{\"outlinewidth\":0,\"ticks\":\"\"},\"colorscale\":[[0.0,\"#0d0887\"],[0.1111111111111111,\"#46039f\"],[0.2222222222222222,\"#7201a8\"],[0.3333333333333333,\"#9c179e\"],[0.4444444444444444,\"#bd3786\"],[0.5555555555555556,\"#d8576b\"],[0.6666666666666666,\"#ed7953\"],[0.7777777777777778,\"#fb9f3a\"],[0.8888888888888888,\"#fdca26\"],[1.0,\"#f0f921\"]]}],\"heatmap\":[{\"type\":\"heatmap\",\"colorbar\":{\"outlinewidth\":0,\"ticks\":\"\"},\"colorscale\":[[0.0,\"#0d0887\"],[0.1111111111111111,\"#46039f\"],[0.2222222222222222,\"#7201a8\"],[0.3333333333333333,\"#9c179e\"],[0.4444444444444444,\"#bd3786\"],[0.5555555555555556,\"#d8576b\"],[0.6666666666666666,\"#ed7953\"],[0.7777777777777778,\"#fb9f3a\"],[0.8888888888888888,\"#fdca26\"],[1.0,\"#f0f921\"]]}],\"heatmapgl\":[{\"type\":\"heatmapgl\",\"colorbar\":{\"outlinewidth\":0,\"ticks\":\"\"},\"colorscale\":[[0.0,\"#0d0887\"],[0.1111111111111111,\"#46039f\"],[0.2222222222222222,\"#7201a8\"],[0.3333333333333333,\"#9c179e\"],[0.4444444444444444,\"#bd3786\"],[0.5555555555555556,\"#d8576b\"],[0.6666666666666666,\"#ed7953\"],[0.7777777777777778,\"#fb9f3a\"],[0.8888888888888888,\"#fdca26\"],[1.0,\"#f0f921\"]]}],\"contourcarpet\":[{\"type\":\"contourcarpet\",\"colorbar\":{\"outlinewidth\":0,\"ticks\":\"\"}}],\"contour\":[{\"type\":\"contour\",\"colorbar\":{\"outlinewidth\":0,\"ticks\":\"\"},\"colorscale\":[[0.0,\"#0d0887\"],[0.1111111111111111,\"#46039f\"],[0.2222222222222222,\"#7201a8\"],[0.3333333333333333,\"#9c179e\"],[0.4444444444444444,\"#bd3786\"],[0.5555555555555556,\"#d8576b\"],[0.6666666666666666,\"#ed7953\"],[0.7777777777777778,\"#fb9f3a\"],[0.8888888888888888,\"#fdca26\"],[1.0,\"#f0f921\"]]}],\"surface\":[{\"type\":\"surface\",\"colorbar\":{\"outlinewidth\":0,\"ticks\":\"\"},\"colorscale\":[[0.0,\"#0d0887\"],[0.1111111111111111,\"#46039f\"],[0.2222222222222222,\"#7201a8\"],[0.3333333333333333,\"#9c179e\"],[0.4444444444444444,\"#bd3786\"],[0.5555555555555556,\"#d8576b\"],[0.6666666666666666,\"#ed7953\"],[0.7777777777777778,\"#fb9f3a\"],[0.8888888888888888,\"#fdca26\"],[1.0,\"#f0f921\"]]}],\"mesh3d\":[{\"type\":\"mesh3d\",\"colorbar\":{\"outlinewidth\":0,\"ticks\":\"\"}}],\"scatter\":[{\"fillpattern\":{\"fillmode\":\"overlay\",\"size\":10,\"solidity\":0.2},\"type\":\"scatter\"}],\"parcoords\":[{\"type\":\"parcoords\",\"line\":{\"colorbar\":{\"outlinewidth\":0,\"ticks\":\"\"}}}],\"scatterpolargl\":[{\"type\":\"scatterpolargl\",\"marker\":{\"colorbar\":{\"outlinewidth\":0,\"ticks\":\"\"}}}],\"bar\":[{\"error_x\":{\"color\":\"#2a3f5f\"},\"error_y\":{\"color\":\"#2a3f5f\"},\"marker\":{\"line\":{\"color\":\"#E5ECF6\",\"width\":0.5},\"pattern\":{\"fillmode\":\"overlay\",\"size\":10,\"solidity\":0.2}},\"type\":\"bar\"}],\"scattergeo\":[{\"type\":\"scattergeo\",\"marker\":{\"colorbar\":{\"outlinewidth\":0,\"ticks\":\"\"}}}],\"scatterpolar\":[{\"type\":\"scatterpolar\",\"marker\":{\"colorbar\":{\"outlinewidth\":0,\"ticks\":\"\"}}}],\"histogram\":[{\"marker\":{\"pattern\":{\"fillmode\":\"overlay\",\"size\":10,\"solidity\":0.2}},\"type\":\"histogram\"}],\"scattergl\":[{\"type\":\"scattergl\",\"marker\":{\"colorbar\":{\"outlinewidth\":0,\"ticks\":\"\"}}}],\"scatter3d\":[{\"type\":\"scatter3d\",\"line\":{\"colorbar\":{\"outlinewidth\":0,\"ticks\":\"\"}},\"marker\":{\"colorbar\":{\"outlinewidth\":0,\"ticks\":\"\"}}}],\"scattermapbox\":[{\"type\":\"scattermapbox\",\"marker\":{\"colorbar\":{\"outlinewidth\":0,\"ticks\":\"\"}}}],\"scatterternary\":[{\"type\":\"scatterternary\",\"marker\":{\"colorbar\":{\"outlinewidth\":0,\"ticks\":\"\"}}}],\"scattercarpet\":[{\"type\":\"scattercarpet\",\"marker\":{\"colorbar\":{\"outlinewidth\":0,\"ticks\":\"\"}}}],\"carpet\":[{\"aaxis\":{\"endlinecolor\":\"#2a3f5f\",\"gridcolor\":\"white\",\"linecolor\":\"white\",\"minorgridcolor\":\"white\",\"startlinecolor\":\"#2a3f5f\"},\"baxis\":{\"endlinecolor\":\"#2a3f5f\",\"gridcolor\":\"white\",\"linecolor\":\"white\",\"minorgridcolor\":\"white\",\"startlinecolor\":\"#2a3f5f\"},\"type\":\"carpet\"}],\"table\":[{\"cells\":{\"fill\":{\"color\":\"#EBF0F8\"},\"line\":{\"color\":\"white\"}},\"header\":{\"fill\":{\"color\":\"#C8D4E3\"},\"line\":{\"color\":\"white\"}},\"type\":\"table\"}],\"barpolar\":[{\"marker\":{\"line\":{\"color\":\"#E5ECF6\",\"width\":0.5},\"pattern\":{\"fillmode\":\"overlay\",\"size\":10,\"solidity\":0.2}},\"type\":\"barpolar\"}],\"pie\":[{\"automargin\":true,\"type\":\"pie\"}]},\"layout\":{\"autotypenumbers\":\"strict\",\"colorway\":[\"#636efa\",\"#EF553B\",\"#00cc96\",\"#ab63fa\",\"#FFA15A\",\"#19d3f3\",\"#FF6692\",\"#B6E880\",\"#FF97FF\",\"#FECB52\"],\"font\":{\"color\":\"#2a3f5f\"},\"hovermode\":\"closest\",\"hoverlabel\":{\"align\":\"left\"},\"paper_bgcolor\":\"white\",\"plot_bgcolor\":\"#E5ECF6\",\"polar\":{\"bgcolor\":\"#E5ECF6\",\"angularaxis\":{\"gridcolor\":\"white\",\"linecolor\":\"white\",\"ticks\":\"\"},\"radialaxis\":{\"gridcolor\":\"white\",\"linecolor\":\"white\",\"ticks\":\"\"}},\"ternary\":{\"bgcolor\":\"#E5ECF6\",\"aaxis\":{\"gridcolor\":\"white\",\"linecolor\":\"white\",\"ticks\":\"\"},\"baxis\":{\"gridcolor\":\"white\",\"linecolor\":\"white\",\"ticks\":\"\"},\"caxis\":{\"gridcolor\":\"white\",\"linecolor\":\"white\",\"ticks\":\"\"}},\"coloraxis\":{\"colorbar\":{\"outlinewidth\":0,\"ticks\":\"\"}},\"colorscale\":{\"sequential\":[[0.0,\"#0d0887\"],[0.1111111111111111,\"#46039f\"],[0.2222222222222222,\"#7201a8\"],[0.3333333333333333,\"#9c179e\"],[0.4444444444444444,\"#bd3786\"],[0.5555555555555556,\"#d8576b\"],[0.6666666666666666,\"#ed7953\"],[0.7777777777777778,\"#fb9f3a\"],[0.8888888888888888,\"#fdca26\"],[1.0,\"#f0f921\"]],\"sequentialminus\":[[0.0,\"#0d0887\"],[0.1111111111111111,\"#46039f\"],[0.2222222222222222,\"#7201a8\"],[0.3333333333333333,\"#9c179e\"],[0.4444444444444444,\"#bd3786\"],[0.5555555555555556,\"#d8576b\"],[0.6666666666666666,\"#ed7953\"],[0.7777777777777778,\"#fb9f3a\"],[0.8888888888888888,\"#fdca26\"],[1.0,\"#f0f921\"]],\"diverging\":[[0,\"#8e0152\"],[0.1,\"#c51b7d\"],[0.2,\"#de77ae\"],[0.3,\"#f1b6da\"],[0.4,\"#fde0ef\"],[0.5,\"#f7f7f7\"],[0.6,\"#e6f5d0\"],[0.7,\"#b8e186\"],[0.8,\"#7fbc41\"],[0.9,\"#4d9221\"],[1,\"#276419\"]]},\"xaxis\":{\"gridcolor\":\"white\",\"linecolor\":\"white\",\"ticks\":\"\",\"title\":{\"standoff\":15},\"zerolinecolor\":\"white\",\"automargin\":true,\"zerolinewidth\":2},\"yaxis\":{\"gridcolor\":\"white\",\"linecolor\":\"white\",\"ticks\":\"\",\"title\":{\"standoff\":15},\"zerolinecolor\":\"white\",\"automargin\":true,\"zerolinewidth\":2},\"scene\":{\"xaxis\":{\"backgroundcolor\":\"#E5ECF6\",\"gridcolor\":\"white\",\"linecolor\":\"white\",\"showbackground\":true,\"ticks\":\"\",\"zerolinecolor\":\"white\",\"gridwidth\":2},\"yaxis\":{\"backgroundcolor\":\"#E5ECF6\",\"gridcolor\":\"white\",\"linecolor\":\"white\",\"showbackground\":true,\"ticks\":\"\",\"zerolinecolor\":\"white\",\"gridwidth\":2},\"zaxis\":{\"backgroundcolor\":\"#E5ECF6\",\"gridcolor\":\"white\",\"linecolor\":\"white\",\"showbackground\":true,\"ticks\":\"\",\"zerolinecolor\":\"white\",\"gridwidth\":2}},\"shapedefaults\":{\"line\":{\"color\":\"#2a3f5f\"}},\"annotationdefaults\":{\"arrowcolor\":\"#2a3f5f\",\"arrowhead\":0,\"arrowwidth\":1},\"geo\":{\"bgcolor\":\"white\",\"landcolor\":\"#E5ECF6\",\"subunitcolor\":\"white\",\"showland\":true,\"showlakes\":true,\"lakecolor\":\"white\"},\"title\":{\"x\":0.05},\"mapbox\":{\"style\":\"light\"}}},\"xaxis\":{\"anchor\":\"y\",\"domain\":[0.0,1.0],\"title\":{\"text\":\"Number of Potential Destinations\"},\"tickmode\":\"array\",\"tickvals\":[0,100,200,300,400,500,600,700,800,900,1000]},\"yaxis\":{\"anchor\":\"x\",\"domain\":[0.55,1.0],\"title\":{\"text\":\"Top 1 Accuracy\"},\"tickformat\":\".0%\"},\"xaxis2\":{\"anchor\":\"y2\",\"domain\":[0.0,1.0],\"title\":{\"text\":\"Number of Potential Destinations\"},\"tickmode\":\"array\",\"tickvals\":[0,100,200,300,400,500,600,700,800,900,1000]},\"yaxis2\":{\"anchor\":\"x2\",\"domain\":[0.0,0.45],\"title\":{\"text\":\"Count\"}},\"annotations\":[{\"font\":{\"size\":16},\"showarrow\":false,\"text\":\"Line Plot: Top 1 Accuracy vs Number of Potential Destinations (up to 1000)\",\"x\":0.5,\"xanchor\":\"center\",\"xref\":\"paper\",\"y\":1.0,\"yanchor\":\"bottom\",\"yref\":\"paper\"},{\"font\":{\"size\":16},\"showarrow\":false,\"text\":\"Histogram: Distribution of Potential Destinations (up to 1000)\",\"x\":0.5,\"xanchor\":\"center\",\"xref\":\"paper\",\"y\":0.45,\"yanchor\":\"bottom\",\"yref\":\"paper\"}],\"title\":{\"text\":\"Top 1 Accuracy vs Number of Potential Destinations (up to 1000)\"},\"height\":800},                        {\"responsive\": true}                    ).then(function(){\n",
              "                            \n",
              "var gd = document.getElementById('0811390b-1660-447b-9fe6-de2a65f5d431');\n",
              "var x = new MutationObserver(function (mutations, observer) {{\n",
              "        var display = window.getComputedStyle(gd).display;\n",
              "        if (!display || display === 'none') {{\n",
              "            console.log([gd, 'removed!']);\n",
              "            Plotly.purge(gd);\n",
              "            observer.disconnect();\n",
              "        }}\n",
              "}});\n",
              "\n",
              "// Listen for the removal of the full notebook cells\n",
              "var notebookContainer = gd.closest('#notebook-container');\n",
              "if (notebookContainer) {{\n",
              "    x.observe(notebookContainer, {childList: true});\n",
              "}}\n",
              "\n",
              "// Listen for the clearing of the current output cell\n",
              "var outputEl = gd.closest('.output');\n",
              "if (outputEl) {{\n",
              "    x.observe(outputEl, {childList: true});\n",
              "}}\n",
              "\n",
              "                        })                };                            </script>        </div>\n",
              "</body>\n",
              "</html>"
            ]
          },
          "metadata": {}
        },
        {
          "output_type": "stream",
          "name": "stdout",
          "text": [
            "Total number of vessels (up to 1000 potential destinations): 6299\n",
            "Average number of potential destinations per vessel: 446.24\n",
            "Median number of potential destinations per vessel: 449.00\n",
            "Range of potential destinations: 1 to 992\n",
            "Overall Top 1 Accuracy: 26.78%\n",
            "Correlation between number of potential destinations and accuracy: 0.3707\n",
            "\n",
            "Number of vessels with more than 1000 potential destinations: 0\n"
          ]
        }
      ]
    },
    {
      "cell_type": "markdown",
      "source": [
        "## Compute accuracy for different vessel types and different traded product family"
      ],
      "metadata": {
        "id": "xWwkC3ELKGK6"
      },
      "id": "xWwkC3ELKGK6"
    },
    {
      "cell_type": "code",
      "source": [
        "def compute_top_1_accuracy_by_dimension(dimension: str, top_n: int) -> pd.Series:\n",
        "    \"\"\"\n",
        "    Compute top 1 accuracy for different categories within a specified dimension.\n",
        "\n",
        "    Args:\n",
        "        dimension (str): The column name of the dimension to analyze.\n",
        "        top_n (int): The number of top categories to consider.\n",
        "\n",
        "    Returns:\n",
        "        pd.Series: A series containing the top 1 accuracy for each category.\n",
        "    \"\"\"\n",
        "    # Get the top N categories for the specified dimension\n",
        "    top_categories = ranked_destinations[dimension].value_counts().nlargest(top_n).index\n",
        "\n",
        "    # Initialize a dictionary to store accuracies\n",
        "    accuracies = {}\n",
        "\n",
        "    # Compute accuracy for each top category\n",
        "    for category in top_categories:\n",
        "        # Filter the dataset for the current category\n",
        "        subset = ranked_destinations[ranked_destinations[dimension] == category]\n",
        "        # Compute and store the mean accuracy for this category\n",
        "        accuracies[category] = subset.groupby('vessel_id').apply(calculate_top_1_accuracy).mean()\n",
        "\n",
        "    # Return the accuracies as a pandas Series\n",
        "    return pd.Series(accuracies)\n",
        "\n",
        "# Compute top 1 accuracy for top 4 vessel types\n",
        "vessel_type_accuracy = compute_top_1_accuracy_by_dimension('vessel_type', 4)\n",
        "\n",
        "# Compute top 1 accuracy for top 5 product families\n",
        "product_family_accuracy = compute_top_1_accuracy_by_dimension('product_family', 5)\n",
        "\n",
        "# Create a subplot figure with two rows\n",
        "fig3 = make_subplots(rows=2, cols=1, subplot_titles=('Top 1 Accuracy by Vessel Type', 'Top 1 Accuracy by Product Family'))\n",
        "\n",
        "# Add bar chart for vessel type accuracy\n",
        "fig3.add_trace(go.Bar(\n",
        "    x=vessel_type_accuracy.index,\n",
        "    y=vessel_type_accuracy.values,\n",
        "    text=[f'{acc:.2%}' for acc in vessel_type_accuracy.values],\n",
        "    textposition='auto'\n",
        "), row=1, col=1)\n",
        "\n",
        "# Add bar chart for product family accuracy\n",
        "fig3.add_trace(go.Bar(\n",
        "    x=product_family_accuracy.index,\n",
        "    y=product_family_accuracy.values,\n",
        "    text=[f'{acc:.2%}' for acc in product_family_accuracy.values],\n",
        "    textposition='auto'\n",
        "), row=2, col=1)\n",
        "\n",
        "# Update layout of the figure\n",
        "fig3.update_layout(height=800, title_text=\"Top 1 Accuracy by Vessel Type and Product Family\")\n",
        "\n",
        "# Update x-axis labels\n",
        "fig3.update_xaxes(title_text=\"Vessel Type\", row=1, col=1)\n",
        "fig3.update_xaxes(title_text=\"Product Family\", row=2, col=1)\n",
        "\n",
        "# Update y-axis labels and format\n",
        "fig3.update_yaxes(title_text=\"Top 1 Accuracy\", tickformat='.0%', row=1, col=1)\n",
        "fig3.update_yaxes(title_text=\"Top 1 Accuracy\", tickformat='.0%', row=2, col=1)\n",
        "\n",
        "# Display the figure\n",
        "fig3.show()\n"
      ],
      "metadata": {
        "colab": {
          "base_uri": "https://localhost:8080/",
          "height": 817
        },
        "id": "o5dwx_W8JeeQ",
        "outputId": "05b2a243-b8fa-493b-8eeb-12e12e086b84"
      },
      "id": "o5dwx_W8JeeQ",
      "execution_count": 13,
      "outputs": [
        {
          "output_type": "display_data",
          "data": {
            "text/html": [
              "<html>\n",
              "<head><meta charset=\"utf-8\" /></head>\n",
              "<body>\n",
              "    <div>            <script src=\"https://cdnjs.cloudflare.com/ajax/libs/mathjax/2.7.5/MathJax.js?config=TeX-AMS-MML_SVG\"></script><script type=\"text/javascript\">if (window.MathJax && window.MathJax.Hub && window.MathJax.Hub.Config) {window.MathJax.Hub.Config({SVG: {font: \"STIX-Web\"}});}</script>                <script type=\"text/javascript\">window.PlotlyConfig = {MathJaxConfig: 'local'};</script>\n",
              "        <script charset=\"utf-8\" src=\"https://cdn.plot.ly/plotly-2.24.1.min.js\"></script>                <div id=\"b09d8c1d-6f30-4e41-beff-120eff7cc30e\" class=\"plotly-graph-div\" style=\"height:800px; width:100%;\"></div>            <script type=\"text/javascript\">                                    window.PLOTLYENV=window.PLOTLYENV || {};                                    if (document.getElementById(\"b09d8c1d-6f30-4e41-beff-120eff7cc30e\")) {                    Plotly.newPlot(                        \"b09d8c1d-6f30-4e41-beff-120eff7cc30e\",                        [{\"text\":[\"27.03%\",\"23.46%\",\"29.42%\",\"28.84%\"],\"textposition\":\"auto\",\"x\":[\"Crude\\u002fOil Products Tanker\",\"Chemical\\u002fOil Products Tanker\",\"Products Tanker\",\"Crude Oil Tanker\"],\"y\":[0.2703259005145798,0.234593837535014,0.2942366026289181,0.28840579710144926],\"type\":\"bar\",\"xaxis\":\"x\",\"yaxis\":\"y\"},{\"text\":[\"24.97%\",\"22.30%\",\"31.70%\",\"31.71%\",\"50.00%\"],\"textposition\":\"auto\",\"x\":[\"clean petroleum products\",\"chem\\u002fbio\",\"crude oil\\u002fcondensate\",\"dirty petroleum products\",\"minor bulks\"],\"y\":[0.24970035956851777,0.22296395193591456,0.3170197224251278,0.3170995670995671,0.5],\"type\":\"bar\",\"xaxis\":\"x2\",\"yaxis\":\"y2\"}],                        {\"template\":{\"data\":{\"histogram2dcontour\":[{\"type\":\"histogram2dcontour\",\"colorbar\":{\"outlinewidth\":0,\"ticks\":\"\"},\"colorscale\":[[0.0,\"#0d0887\"],[0.1111111111111111,\"#46039f\"],[0.2222222222222222,\"#7201a8\"],[0.3333333333333333,\"#9c179e\"],[0.4444444444444444,\"#bd3786\"],[0.5555555555555556,\"#d8576b\"],[0.6666666666666666,\"#ed7953\"],[0.7777777777777778,\"#fb9f3a\"],[0.8888888888888888,\"#fdca26\"],[1.0,\"#f0f921\"]]}],\"choropleth\":[{\"type\":\"choropleth\",\"colorbar\":{\"outlinewidth\":0,\"ticks\":\"\"}}],\"histogram2d\":[{\"type\":\"histogram2d\",\"colorbar\":{\"outlinewidth\":0,\"ticks\":\"\"},\"colorscale\":[[0.0,\"#0d0887\"],[0.1111111111111111,\"#46039f\"],[0.2222222222222222,\"#7201a8\"],[0.3333333333333333,\"#9c179e\"],[0.4444444444444444,\"#bd3786\"],[0.5555555555555556,\"#d8576b\"],[0.6666666666666666,\"#ed7953\"],[0.7777777777777778,\"#fb9f3a\"],[0.8888888888888888,\"#fdca26\"],[1.0,\"#f0f921\"]]}],\"heatmap\":[{\"type\":\"heatmap\",\"colorbar\":{\"outlinewidth\":0,\"ticks\":\"\"},\"colorscale\":[[0.0,\"#0d0887\"],[0.1111111111111111,\"#46039f\"],[0.2222222222222222,\"#7201a8\"],[0.3333333333333333,\"#9c179e\"],[0.4444444444444444,\"#bd3786\"],[0.5555555555555556,\"#d8576b\"],[0.6666666666666666,\"#ed7953\"],[0.7777777777777778,\"#fb9f3a\"],[0.8888888888888888,\"#fdca26\"],[1.0,\"#f0f921\"]]}],\"heatmapgl\":[{\"type\":\"heatmapgl\",\"colorbar\":{\"outlinewidth\":0,\"ticks\":\"\"},\"colorscale\":[[0.0,\"#0d0887\"],[0.1111111111111111,\"#46039f\"],[0.2222222222222222,\"#7201a8\"],[0.3333333333333333,\"#9c179e\"],[0.4444444444444444,\"#bd3786\"],[0.5555555555555556,\"#d8576b\"],[0.6666666666666666,\"#ed7953\"],[0.7777777777777778,\"#fb9f3a\"],[0.8888888888888888,\"#fdca26\"],[1.0,\"#f0f921\"]]}],\"contourcarpet\":[{\"type\":\"contourcarpet\",\"colorbar\":{\"outlinewidth\":0,\"ticks\":\"\"}}],\"contour\":[{\"type\":\"contour\",\"colorbar\":{\"outlinewidth\":0,\"ticks\":\"\"},\"colorscale\":[[0.0,\"#0d0887\"],[0.1111111111111111,\"#46039f\"],[0.2222222222222222,\"#7201a8\"],[0.3333333333333333,\"#9c179e\"],[0.4444444444444444,\"#bd3786\"],[0.5555555555555556,\"#d8576b\"],[0.6666666666666666,\"#ed7953\"],[0.7777777777777778,\"#fb9f3a\"],[0.8888888888888888,\"#fdca26\"],[1.0,\"#f0f921\"]]}],\"surface\":[{\"type\":\"surface\",\"colorbar\":{\"outlinewidth\":0,\"ticks\":\"\"},\"colorscale\":[[0.0,\"#0d0887\"],[0.1111111111111111,\"#46039f\"],[0.2222222222222222,\"#7201a8\"],[0.3333333333333333,\"#9c179e\"],[0.4444444444444444,\"#bd3786\"],[0.5555555555555556,\"#d8576b\"],[0.6666666666666666,\"#ed7953\"],[0.7777777777777778,\"#fb9f3a\"],[0.8888888888888888,\"#fdca26\"],[1.0,\"#f0f921\"]]}],\"mesh3d\":[{\"type\":\"mesh3d\",\"colorbar\":{\"outlinewidth\":0,\"ticks\":\"\"}}],\"scatter\":[{\"fillpattern\":{\"fillmode\":\"overlay\",\"size\":10,\"solidity\":0.2},\"type\":\"scatter\"}],\"parcoords\":[{\"type\":\"parcoords\",\"line\":{\"colorbar\":{\"outlinewidth\":0,\"ticks\":\"\"}}}],\"scatterpolargl\":[{\"type\":\"scatterpolargl\",\"marker\":{\"colorbar\":{\"outlinewidth\":0,\"ticks\":\"\"}}}],\"bar\":[{\"error_x\":{\"color\":\"#2a3f5f\"},\"error_y\":{\"color\":\"#2a3f5f\"},\"marker\":{\"line\":{\"color\":\"#E5ECF6\",\"width\":0.5},\"pattern\":{\"fillmode\":\"overlay\",\"size\":10,\"solidity\":0.2}},\"type\":\"bar\"}],\"scattergeo\":[{\"type\":\"scattergeo\",\"marker\":{\"colorbar\":{\"outlinewidth\":0,\"ticks\":\"\"}}}],\"scatterpolar\":[{\"type\":\"scatterpolar\",\"marker\":{\"colorbar\":{\"outlinewidth\":0,\"ticks\":\"\"}}}],\"histogram\":[{\"marker\":{\"pattern\":{\"fillmode\":\"overlay\",\"size\":10,\"solidity\":0.2}},\"type\":\"histogram\"}],\"scattergl\":[{\"type\":\"scattergl\",\"marker\":{\"colorbar\":{\"outlinewidth\":0,\"ticks\":\"\"}}}],\"scatter3d\":[{\"type\":\"scatter3d\",\"line\":{\"colorbar\":{\"outlinewidth\":0,\"ticks\":\"\"}},\"marker\":{\"colorbar\":{\"outlinewidth\":0,\"ticks\":\"\"}}}],\"scattermapbox\":[{\"type\":\"scattermapbox\",\"marker\":{\"colorbar\":{\"outlinewidth\":0,\"ticks\":\"\"}}}],\"scatterternary\":[{\"type\":\"scatterternary\",\"marker\":{\"colorbar\":{\"outlinewidth\":0,\"ticks\":\"\"}}}],\"scattercarpet\":[{\"type\":\"scattercarpet\",\"marker\":{\"colorbar\":{\"outlinewidth\":0,\"ticks\":\"\"}}}],\"carpet\":[{\"aaxis\":{\"endlinecolor\":\"#2a3f5f\",\"gridcolor\":\"white\",\"linecolor\":\"white\",\"minorgridcolor\":\"white\",\"startlinecolor\":\"#2a3f5f\"},\"baxis\":{\"endlinecolor\":\"#2a3f5f\",\"gridcolor\":\"white\",\"linecolor\":\"white\",\"minorgridcolor\":\"white\",\"startlinecolor\":\"#2a3f5f\"},\"type\":\"carpet\"}],\"table\":[{\"cells\":{\"fill\":{\"color\":\"#EBF0F8\"},\"line\":{\"color\":\"white\"}},\"header\":{\"fill\":{\"color\":\"#C8D4E3\"},\"line\":{\"color\":\"white\"}},\"type\":\"table\"}],\"barpolar\":[{\"marker\":{\"line\":{\"color\":\"#E5ECF6\",\"width\":0.5},\"pattern\":{\"fillmode\":\"overlay\",\"size\":10,\"solidity\":0.2}},\"type\":\"barpolar\"}],\"pie\":[{\"automargin\":true,\"type\":\"pie\"}]},\"layout\":{\"autotypenumbers\":\"strict\",\"colorway\":[\"#636efa\",\"#EF553B\",\"#00cc96\",\"#ab63fa\",\"#FFA15A\",\"#19d3f3\",\"#FF6692\",\"#B6E880\",\"#FF97FF\",\"#FECB52\"],\"font\":{\"color\":\"#2a3f5f\"},\"hovermode\":\"closest\",\"hoverlabel\":{\"align\":\"left\"},\"paper_bgcolor\":\"white\",\"plot_bgcolor\":\"#E5ECF6\",\"polar\":{\"bgcolor\":\"#E5ECF6\",\"angularaxis\":{\"gridcolor\":\"white\",\"linecolor\":\"white\",\"ticks\":\"\"},\"radialaxis\":{\"gridcolor\":\"white\",\"linecolor\":\"white\",\"ticks\":\"\"}},\"ternary\":{\"bgcolor\":\"#E5ECF6\",\"aaxis\":{\"gridcolor\":\"white\",\"linecolor\":\"white\",\"ticks\":\"\"},\"baxis\":{\"gridcolor\":\"white\",\"linecolor\":\"white\",\"ticks\":\"\"},\"caxis\":{\"gridcolor\":\"white\",\"linecolor\":\"white\",\"ticks\":\"\"}},\"coloraxis\":{\"colorbar\":{\"outlinewidth\":0,\"ticks\":\"\"}},\"colorscale\":{\"sequential\":[[0.0,\"#0d0887\"],[0.1111111111111111,\"#46039f\"],[0.2222222222222222,\"#7201a8\"],[0.3333333333333333,\"#9c179e\"],[0.4444444444444444,\"#bd3786\"],[0.5555555555555556,\"#d8576b\"],[0.6666666666666666,\"#ed7953\"],[0.7777777777777778,\"#fb9f3a\"],[0.8888888888888888,\"#fdca26\"],[1.0,\"#f0f921\"]],\"sequentialminus\":[[0.0,\"#0d0887\"],[0.1111111111111111,\"#46039f\"],[0.2222222222222222,\"#7201a8\"],[0.3333333333333333,\"#9c179e\"],[0.4444444444444444,\"#bd3786\"],[0.5555555555555556,\"#d8576b\"],[0.6666666666666666,\"#ed7953\"],[0.7777777777777778,\"#fb9f3a\"],[0.8888888888888888,\"#fdca26\"],[1.0,\"#f0f921\"]],\"diverging\":[[0,\"#8e0152\"],[0.1,\"#c51b7d\"],[0.2,\"#de77ae\"],[0.3,\"#f1b6da\"],[0.4,\"#fde0ef\"],[0.5,\"#f7f7f7\"],[0.6,\"#e6f5d0\"],[0.7,\"#b8e186\"],[0.8,\"#7fbc41\"],[0.9,\"#4d9221\"],[1,\"#276419\"]]},\"xaxis\":{\"gridcolor\":\"white\",\"linecolor\":\"white\",\"ticks\":\"\",\"title\":{\"standoff\":15},\"zerolinecolor\":\"white\",\"automargin\":true,\"zerolinewidth\":2},\"yaxis\":{\"gridcolor\":\"white\",\"linecolor\":\"white\",\"ticks\":\"\",\"title\":{\"standoff\":15},\"zerolinecolor\":\"white\",\"automargin\":true,\"zerolinewidth\":2},\"scene\":{\"xaxis\":{\"backgroundcolor\":\"#E5ECF6\",\"gridcolor\":\"white\",\"linecolor\":\"white\",\"showbackground\":true,\"ticks\":\"\",\"zerolinecolor\":\"white\",\"gridwidth\":2},\"yaxis\":{\"backgroundcolor\":\"#E5ECF6\",\"gridcolor\":\"white\",\"linecolor\":\"white\",\"showbackground\":true,\"ticks\":\"\",\"zerolinecolor\":\"white\",\"gridwidth\":2},\"zaxis\":{\"backgroundcolor\":\"#E5ECF6\",\"gridcolor\":\"white\",\"linecolor\":\"white\",\"showbackground\":true,\"ticks\":\"\",\"zerolinecolor\":\"white\",\"gridwidth\":2}},\"shapedefaults\":{\"line\":{\"color\":\"#2a3f5f\"}},\"annotationdefaults\":{\"arrowcolor\":\"#2a3f5f\",\"arrowhead\":0,\"arrowwidth\":1},\"geo\":{\"bgcolor\":\"white\",\"landcolor\":\"#E5ECF6\",\"subunitcolor\":\"white\",\"showland\":true,\"showlakes\":true,\"lakecolor\":\"white\"},\"title\":{\"x\":0.05},\"mapbox\":{\"style\":\"light\"}}},\"xaxis\":{\"anchor\":\"y\",\"domain\":[0.0,1.0],\"title\":{\"text\":\"Vessel Type\"}},\"yaxis\":{\"anchor\":\"x\",\"domain\":[0.625,1.0],\"title\":{\"text\":\"Top 1 Accuracy\"},\"tickformat\":\".0%\"},\"xaxis2\":{\"anchor\":\"y2\",\"domain\":[0.0,1.0],\"title\":{\"text\":\"Product Family\"}},\"yaxis2\":{\"anchor\":\"x2\",\"domain\":[0.0,0.375],\"title\":{\"text\":\"Top 1 Accuracy\"},\"tickformat\":\".0%\"},\"annotations\":[{\"font\":{\"size\":16},\"showarrow\":false,\"text\":\"Top 1 Accuracy by Vessel Type\",\"x\":0.5,\"xanchor\":\"center\",\"xref\":\"paper\",\"y\":1.0,\"yanchor\":\"bottom\",\"yref\":\"paper\"},{\"font\":{\"size\":16},\"showarrow\":false,\"text\":\"Top 1 Accuracy by Product Family\",\"x\":0.5,\"xanchor\":\"center\",\"xref\":\"paper\",\"y\":0.375,\"yanchor\":\"bottom\",\"yref\":\"paper\"}],\"title\":{\"text\":\"Top 1 Accuracy by Vessel Type and Product Family\"},\"height\":800},                        {\"responsive\": true}                    ).then(function(){\n",
              "                            \n",
              "var gd = document.getElementById('b09d8c1d-6f30-4e41-beff-120eff7cc30e');\n",
              "var x = new MutationObserver(function (mutations, observer) {{\n",
              "        var display = window.getComputedStyle(gd).display;\n",
              "        if (!display || display === 'none') {{\n",
              "            console.log([gd, 'removed!']);\n",
              "            Plotly.purge(gd);\n",
              "            observer.disconnect();\n",
              "        }}\n",
              "}});\n",
              "\n",
              "// Listen for the removal of the full notebook cells\n",
              "var notebookContainer = gd.closest('#notebook-container');\n",
              "if (notebookContainer) {{\n",
              "    x.observe(notebookContainer, {childList: true});\n",
              "}}\n",
              "\n",
              "// Listen for the clearing of the current output cell\n",
              "var outputEl = gd.closest('.output');\n",
              "if (outputEl) {{\n",
              "    x.observe(outputEl, {childList: true});\n",
              "}}\n",
              "\n",
              "                        })                };                            </script>        </div>\n",
              "</body>\n",
              "</html>"
            ]
          },
          "metadata": {}
        }
      ]
    },
    {
      "cell_type": "code",
      "source": [],
      "metadata": {
        "id": "JqnfiJG3J26f"
      },
      "id": "JqnfiJG3J26f",
      "execution_count": null,
      "outputs": []
    }
  ],
  "metadata": {
    "kernelspec": {
      "display_name": "Python 3 (ipykernel)",
      "language": "python",
      "name": "python3"
    },
    "language_info": {
      "codemirror_mode": {
        "name": "ipython",
        "version": 3
      },
      "file_extension": ".py",
      "mimetype": "text/x-python",
      "name": "python",
      "nbconvert_exporter": "python",
      "pygments_lexer": "ipython3",
      "version": "3.9.6"
    },
    "colab": {
      "provenance": [],
      "include_colab_link": true
    }
  },
  "nbformat": 4,
  "nbformat_minor": 5
}