{
  "cells": [
    {
      "cell_type": "markdown",
      "metadata": {
        "id": "view-in-github",
        "colab_type": "text"
      },
      "source": [
        "<a href=\"https://colab.research.google.com/github/adadoun/KplerNextDestination/blob/main/lgbmDestinationProbability.ipynb\" target=\"_parent\"><img src=\"https://colab.research.google.com/assets/colab-badge.svg\" alt=\"Open In Colab\"/></a>"
      ]
    },
    {
      "cell_type": "markdown",
      "source": [
        "## Download Needed Libraries"
      ],
      "metadata": {
        "id": "unBU-od_Khqd"
      },
      "id": "unBU-od_Khqd"
    },
    {
      "cell_type": "code",
      "source": [
        "!pip install category_encoders"
      ],
      "metadata": {
        "colab": {
          "base_uri": "https://localhost:8080/"
        },
        "id": "w4KHTaARvfYH",
        "outputId": "18542d1b-f162-404f-9db2-212ca7ad6aa6"
      },
      "id": "w4KHTaARvfYH",
      "execution_count": 1,
      "outputs": [
        {
          "output_type": "stream",
          "name": "stdout",
          "text": [
            "Collecting category_encoders\n",
            "  Downloading category_encoders-2.6.3-py2.py3-none-any.whl.metadata (8.0 kB)\n",
            "Requirement already satisfied: numpy>=1.14.0 in /usr/local/lib/python3.10/dist-packages (from category_encoders) (1.26.4)\n",
            "Requirement already satisfied: scikit-learn>=0.20.0 in /usr/local/lib/python3.10/dist-packages (from category_encoders) (1.3.2)\n",
            "Requirement already satisfied: scipy>=1.0.0 in /usr/local/lib/python3.10/dist-packages (from category_encoders) (1.13.1)\n",
            "Requirement already satisfied: statsmodels>=0.9.0 in /usr/local/lib/python3.10/dist-packages (from category_encoders) (0.14.2)\n",
            "Requirement already satisfied: pandas>=1.0.5 in /usr/local/lib/python3.10/dist-packages (from category_encoders) (2.1.4)\n",
            "Requirement already satisfied: patsy>=0.5.1 in /usr/local/lib/python3.10/dist-packages (from category_encoders) (0.5.6)\n",
            "Requirement already satisfied: python-dateutil>=2.8.2 in /usr/local/lib/python3.10/dist-packages (from pandas>=1.0.5->category_encoders) (2.8.2)\n",
            "Requirement already satisfied: pytz>=2020.1 in /usr/local/lib/python3.10/dist-packages (from pandas>=1.0.5->category_encoders) (2024.1)\n",
            "Requirement already satisfied: tzdata>=2022.1 in /usr/local/lib/python3.10/dist-packages (from pandas>=1.0.5->category_encoders) (2024.1)\n",
            "Requirement already satisfied: six in /usr/local/lib/python3.10/dist-packages (from patsy>=0.5.1->category_encoders) (1.16.0)\n",
            "Requirement already satisfied: joblib>=1.1.1 in /usr/local/lib/python3.10/dist-packages (from scikit-learn>=0.20.0->category_encoders) (1.4.2)\n",
            "Requirement already satisfied: threadpoolctl>=2.0.0 in /usr/local/lib/python3.10/dist-packages (from scikit-learn>=0.20.0->category_encoders) (3.5.0)\n",
            "Requirement already satisfied: packaging>=21.3 in /usr/local/lib/python3.10/dist-packages (from statsmodels>=0.9.0->category_encoders) (24.1)\n",
            "Downloading category_encoders-2.6.3-py2.py3-none-any.whl (81 kB)\n",
            "\u001b[2K   \u001b[90m━━━━━━━━━━━━━━━━━━━━━━━━━━━━━━━━━━━━━━━━\u001b[0m \u001b[32m81.9/81.9 kB\u001b[0m \u001b[31m2.8 MB/s\u001b[0m eta \u001b[36m0:00:00\u001b[0m\n",
            "\u001b[?25hInstalling collected packages: category_encoders\n",
            "Successfully installed category_encoders-2.6.3\n"
          ]
        }
      ]
    },
    {
      "cell_type": "code",
      "source": [
        "from google.colab import drive\n",
        "drive.mount('/content/drive')"
      ],
      "metadata": {
        "colab": {
          "base_uri": "https://localhost:8080/"
        },
        "id": "0OORgFycvkcj",
        "outputId": "43a040fa-1534-4a98-b2fe-a72fcf7ffdaa"
      },
      "id": "0OORgFycvkcj",
      "execution_count": 2,
      "outputs": [
        {
          "output_type": "stream",
          "name": "stdout",
          "text": [
            "Mounted at /content/drive\n"
          ]
        }
      ]
    },
    {
      "cell_type": "markdown",
      "source": [
        "## Import Libraries & Load Data"
      ],
      "metadata": {
        "id": "zvjM8-OGKoLm"
      },
      "id": "zvjM8-OGKoLm"
    },
    {
      "cell_type": "code",
      "execution_count": 20,
      "id": "39100c73-afc3-419a-9964-a1e36beddc84",
      "metadata": {
        "id": "39100c73-afc3-419a-9964-a1e36beddc84"
      },
      "outputs": [],
      "source": [
        "import pandas as pd\n",
        "import numpy as np\n",
        "from sklearn.model_selection import train_test_split, TimeSeriesSplit\n",
        "from sklearn.preprocessing import LabelEncoder, OneHotEncoder\n",
        "from sklearn.metrics import accuracy_score, roc_auc_score, precision_score, recall_score, f1_score\n",
        "from sklearn.model_selection import RandomizedSearchCV\n",
        "from category_encoders import TargetEncoder\n",
        "import lightgbm as lgb\n",
        "import plotly.graph_objects as go\n",
        "import plotly.express as px\n",
        "from plotly.subplots import make_subplots\n",
        "from typing import List, Tuple, Dict, Any\n",
        "import warnings\n",
        "warnings.filterwarnings('ignore')"
      ]
    },
    {
      "cell_type": "code",
      "execution_count": 4,
      "id": "2b89afd3-f244-40b6-9dfe-b13dba678799",
      "metadata": {
        "id": "2b89afd3-f244-40b6-9dfe-b13dba678799",
        "colab": {
          "base_uri": "https://localhost:8080/"
        },
        "outputId": "e544ce1b-396a-4a66-e78c-2dff4f783d78"
      },
      "outputs": [
        {
          "output_type": "stream",
          "name": "stdout",
          "text": [
            "Loading data...\n"
          ]
        }
      ],
      "source": [
        "# Load data\n",
        "print(\"Loading data...\")\n",
        "train_df = pd.read_csv('drive/MyDrive/Collab_DATA/KplerData/train_trades_csv_prepared.csv')\n",
        "test_df = pd.read_csv('drive/MyDrive/Collab_DATA/KplerData/test_trades_csv_prepared.csv')"
      ]
    },
    {
      "cell_type": "markdown",
      "source": [
        "## Train/Val Split: We use a temporal split due to the nature of the data"
      ],
      "metadata": {
        "id": "Q2dd24ecLPnI"
      },
      "id": "Q2dd24ecLPnI"
    },
    {
      "cell_type": "code",
      "execution_count": 5,
      "id": "704d1955-c239-423e-8592-5c6256e3d1c8",
      "metadata": {
        "colab": {
          "base_uri": "https://localhost:8080/"
        },
        "id": "704d1955-c239-423e-8592-5c6256e3d1c8",
        "outputId": "db08c531-5967-4d54-9ae1-cbe70e29065a"
      },
      "outputs": [
        {
          "output_type": "stream",
          "name": "stdout",
          "text": [
            "Training set size: 565715\n",
            "Validation set size: 29775\n",
            "Training data date range: 2023-01-01T00:35:13.000Z to 2023-10-07T04:39:12.000Z\n",
            "Validation data date range: 2023-10-07T04:39:12.000Z to 2023-10-30T18:35:58.000Z\n"
          ]
        }
      ],
      "source": [
        "cat_features = ['vessel_id',\n",
        "                'origin', 'destination',\n",
        "                'origin_h3_res2_index', 'destination_h3_res2_index',\n",
        "                'product_family', 'vessel_type',\n",
        "                'products',\n",
        "               'flag_name', 'origin_country_code', 'destination_country_code',\n",
        "               'previous_visited_port_1', 'previous_visited_port_2', 'previous_visited_port_3',\n",
        "               'probability_level'\n",
        "               ]\n",
        "num_features = ['day_of_week', 'month', 'traded_volume',\n",
        "               'dead_weight', 'vessel_age', 'origin_draught_change', 'destination_draught_change',\n",
        "                'origin_cargo_volume', 'destination_cargo_volume', 'od_distance', 'p1_destination_probability',\n",
        "                'p2_destination_probability', 'p3_destination_probability',\n",
        "                'p4_destination_probability', 'merged_destination_probability'\n",
        "               ]\n",
        "\n",
        "# Split the data\n",
        "# Sort the dataframe by end_date_time\n",
        "df_sorted = train_df.sort_values('start_date_time')\n",
        "\n",
        "# Determine the split point (90% train, 10% validation)\n",
        "split_index = int(len(df_sorted) * 0.95)\n",
        "\n",
        "# Split the data\n",
        "train_df = df_sorted.iloc[:split_index]\n",
        "val_df = df_sorted.iloc[split_index:]\n",
        "\n",
        "# Separate features and target\n",
        "X_train = train_df[cat_features + num_features]  # Replace feature_columns with your actual feature column names\n",
        "y_train = train_df['is_visit']    # Replace target_column with your actual target column name\n",
        "\n",
        "X_val = val_df[cat_features + num_features]\n",
        "y_val = val_df['is_visit']\n",
        "\n",
        "# Print some information about the split\n",
        "print(f\"Training set size: {len(X_train)}\")\n",
        "print(f\"Validation set size: {len(X_val)}\")\n",
        "print(f\"Training data date range: {train_df['start_date_time'].min()} to {train_df['start_date_time'].max()}\")\n",
        "print(f\"Validation data date range: {val_df['start_date_time'].min()} to {val_df['start_date_time'].max()}\")\n",
        "\n",
        "# If you need to reset index\n",
        "X_train = X_train.reset_index(drop=True)\n",
        "X_val = X_val.reset_index(drop=True)\n",
        "y_train = y_train.reset_index(drop=True)\n",
        "y_val = y_val.reset_index(drop=True)"
      ]
    },
    {
      "cell_type": "markdown",
      "source": [
        "## Data Preparation for Model Training"
      ],
      "metadata": {
        "id": "hqfVpNPSLija"
      },
      "id": "hqfVpNPSLija"
    },
    {
      "cell_type": "code",
      "execution_count": 6,
      "id": "f64a84e6-9cdb-40ee-931a-743099abcf20",
      "metadata": {
        "colab": {
          "base_uri": "https://localhost:8080/"
        },
        "id": "f64a84e6-9cdb-40ee-931a-743099abcf20",
        "outputId": "432d5d7e-603f-4028-f1d7-1163d67aff2b"
      },
      "outputs": [
        {
          "output_type": "stream",
          "name": "stdout",
          "text": [
            "Preprocessing data...\n"
          ]
        }
      ],
      "source": [
        "# Preprocess categorical features\n",
        "print(\"Preprocessing data...\")\n",
        "high_cardinality_features = ['vessel_id',\n",
        "                            'origin', 'destination',\n",
        "                            'origin_h3_res2_index', 'destination_h3_res2_index',\n",
        "                             'products', 'flag_name', 'origin_country_code', 'destination_country_code',\n",
        "               'previous_visited_port_1', 'previous_visited_port_2', 'previous_visited_port_3',]\n",
        "low_cardinality_features = [f for f in cat_features if f not in high_cardinality_features]\n"
      ]
    },
    {
      "cell_type": "code",
      "execution_count": 7,
      "id": "b0a6aa2a-b702-495c-ad5f-801d9099bb7b",
      "metadata": {
        "id": "b0a6aa2a-b702-495c-ad5f-801d9099bb7b"
      },
      "outputs": [],
      "source": [
        "# Target encoding for high cardinality features\n",
        "te = TargetEncoder()\n",
        "X_train_te = te.fit_transform(X_train[high_cardinality_features], y_train)\n",
        "X_val_te = te.transform(X_val[high_cardinality_features])\n"
      ]
    },
    {
      "cell_type": "code",
      "execution_count": 8,
      "id": "598ae8c5-03ff-475d-8c15-4073fd7934bf",
      "metadata": {
        "id": "598ae8c5-03ff-475d-8c15-4073fd7934bf"
      },
      "outputs": [],
      "source": [
        "# One-hot encoding for low cardinality features\n",
        "ohe = OneHotEncoder(sparse_output=False, handle_unknown='ignore')\n",
        "X_train_ohe = ohe.fit_transform(X_train[low_cardinality_features])\n",
        "X_val_ohe = ohe.transform(X_val[low_cardinality_features])\n"
      ]
    },
    {
      "cell_type": "code",
      "execution_count": 9,
      "id": "2eafddb1-ba3e-4db0-bb27-d24367448585",
      "metadata": {
        "id": "2eafddb1-ba3e-4db0-bb27-d24367448585"
      },
      "outputs": [],
      "source": [
        "# Combine encoded features with numerical features\n",
        "X_train_encoded = np.hstack([X_train_te, X_train_ohe, X_train[num_features]])\n",
        "X_val_encoded = np.hstack([X_val_te, X_val_ohe, X_val[num_features]])\n",
        "\n",
        "# Prepare LightGBM datasets\n",
        "train_data = lgb.Dataset(X_train_encoded, label=y_train)\n",
        "val_data = lgb.Dataset(X_val_encoded, label=y_val, reference=train_data)"
      ]
    },
    {
      "cell_type": "markdown",
      "source": [
        "## Hyper-parameter Tuning"
      ],
      "metadata": {
        "id": "2HcnaHBrNw8s"
      },
      "id": "2HcnaHBrNw8s"
    },
    {
      "cell_type": "code",
      "source": [
        "# Define the parameter grid for randomized search\n",
        "param_grid = {\n",
        "    'num_leaves': [31, 63, 127],\n",
        "    'learning_rate': [0.01, 0.1],\n",
        "    'feature_fraction': [0.8, 0.9],\n",
        "    'n_estimators': [100, 150 , 200],\n",
        "    'max_depth': [-1, 5, 10, 15, 20],\n",
        "    'min_data_in_leaf': [100, 500, 1000],\n",
        "}\n",
        "\n",
        "# Define the base model\n",
        "base_model = lgb.LGBMClassifier(objective='binary', metric='binary_logloss', random_state=42)\n",
        "\n",
        "# Set up Time Series cross-validation\n",
        "tscv = TimeSeriesSplit(n_splits=3)\n",
        "\n",
        "# Custom scoring function that respects time-based splits\n",
        "def time_based_cv_score(estimator, X, y):\n",
        "    scores = []\n",
        "    for train_index, test_index in tscv.split(X):\n",
        "        X_train, X_test = X.iloc[train_index], X.iloc[test_index]\n",
        "        y_train, y_test = y.iloc[train_index], y.iloc[test_index]\n",
        "        estimator.fit(X_train, y_train)\n",
        "        scores.append(estimator.score(X_test, y_test))\n",
        "    return np.mean(scores)\n",
        "\n",
        "# Perform randomized search with time-based cross-validation\n",
        "print(\"Performing hyperparameter optimization...\")\n",
        "random_search = RandomizedSearchCV(\n",
        "    estimator=base_model,\n",
        "    param_distributions=param_grid,\n",
        "    n_iter=10,  # number of parameter settings that are sampled\n",
        "    cv=tscv,\n",
        "    scoring=time_based_cv_score,\n",
        "    verbose=1,\n",
        "    random_state=42,\n",
        "    n_jobs=-1  # use all available cores\n",
        ")\n",
        "\n",
        "# Fit the random search model\n",
        "random_search.fit(X_train_encoded, y_train)\n",
        "\n",
        "# Print the best parameters and score\n",
        "print(\"Best parameters found:\")\n",
        "print(random_search.best_params_)\n",
        "print(f\"Best cross-validation score: {random_search.best_score_:.4f}\")\n",
        "\n",
        "# Get the best parameters\n",
        "best_params = random_search.best_params_\n"
      ],
      "metadata": {
        "colab": {
          "base_uri": "https://localhost:8080/"
        },
        "id": "Wq7NxyXMMs8N",
        "outputId": "dbaf37d6-1905-46bb-fc28-baaf1126aa6c"
      },
      "id": "Wq7NxyXMMs8N",
      "execution_count": 16,
      "outputs": [
        {
          "output_type": "stream",
          "name": "stdout",
          "text": [
            "Performing hyperparameter optimization...\n",
            "Fitting 3 folds for each of 10 candidates, totalling 30 fits\n"
          ]
        },
        {
          "output_type": "stream",
          "name": "stderr",
          "text": [
            "/usr/local/lib/python3.10/dist-packages/sklearn/model_selection/_search.py:979: UserWarning: One or more of the test scores are non-finite: [nan nan nan nan nan nan nan nan nan nan]\n",
            "  warnings.warn(\n"
          ]
        },
        {
          "output_type": "stream",
          "name": "stdout",
          "text": [
            "[LightGBM] [Warning] min_data_in_leaf is set=100, min_child_samples=20 will be ignored. Current value: min_data_in_leaf=100\n",
            "[LightGBM] [Warning] feature_fraction is set=0.9, colsample_bytree=1.0 will be ignored. Current value: feature_fraction=0.9\n",
            "[LightGBM] [Warning] min_data_in_leaf is set=100, min_child_samples=20 will be ignored. Current value: min_data_in_leaf=100\n",
            "[LightGBM] [Warning] feature_fraction is set=0.9, colsample_bytree=1.0 will be ignored. Current value: feature_fraction=0.9\n",
            "[LightGBM] [Info] Number of positive: 110502, number of negative: 455213\n",
            "[LightGBM] [Info] Auto-choosing row-wise multi-threading, the overhead of testing was 0.109591 seconds.\n",
            "You can set `force_row_wise=true` to remove the overhead.\n",
            "And if memory is not enough, you can set `force_col_wise=true`.\n",
            "[LightGBM] [Info] Total Bins 5521\n",
            "[LightGBM] [Info] Number of data points in the train set: 565715, number of used features: 45\n",
            "[LightGBM] [Info] [binary:BoostFromScore]: pavg=0.195332 -> initscore=-1.415732\n",
            "[LightGBM] [Info] Start training from score -1.415732\n",
            "Best parameters found:\n",
            "{'num_leaves': 127, 'n_estimators': 200, 'min_data_in_leaf': 100, 'max_depth': 10, 'learning_rate': 0.01, 'feature_fraction': 0.9}\n",
            "Best cross-validation score: nan\n"
          ]
        }
      ]
    },
    {
      "cell_type": "markdown",
      "source": [
        "## Model Training with optimal hyperparameters"
      ],
      "metadata": {
        "id": "3gYziAl7N39l"
      },
      "id": "3gYziAl7N39l"
    },
    {
      "cell_type": "code",
      "execution_count": 49,
      "id": "b4d2e9bc-c077-4ed8-a91e-e8e3b1a1d9af",
      "metadata": {
        "colab": {
          "base_uri": "https://localhost:8080/"
        },
        "id": "b4d2e9bc-c077-4ed8-a91e-e8e3b1a1d9af",
        "outputId": "3f5ac95f-2c12-4998-c40d-0599084423b5"
      },
      "outputs": [
        {
          "output_type": "stream",
          "name": "stdout",
          "text": [
            "Training final LightGBM model with best parameters...\n",
            "Training LightGBM model...\n",
            "[LightGBM] [Info] Number of positive: 110502, number of negative: 455213\n",
            "[LightGBM] [Info] Auto-choosing row-wise multi-threading, the overhead of testing was 0.094900 seconds.\n",
            "You can set `force_row_wise=true` to remove the overhead.\n",
            "And if memory is not enough, you can set `force_col_wise=true`.\n",
            "[LightGBM] [Info] Total Bins 5545\n",
            "[LightGBM] [Info] Number of data points in the train set: 565715, number of used features: 45\n",
            "[LightGBM] [Info] [binary:BoostFromScore]: pavg=0.195332 -> initscore=-1.415732\n",
            "[LightGBM] [Info] Start training from score -1.415732\n",
            "Training until validation scores don't improve for 50 rounds\n",
            "[100]\ttraining's binary_logloss: 0.203089\tvalid_1's binary_logloss: 0.170658\n",
            "[200]\ttraining's binary_logloss: 0.187996\tvalid_1's binary_logloss: 0.159452\n",
            "[300]\ttraining's binary_logloss: 0.177915\tvalid_1's binary_logloss: 0.153024\n",
            "[400]\ttraining's binary_logloss: 0.165906\tvalid_1's binary_logloss: 0.145395\n",
            "[500]\ttraining's binary_logloss: 0.157533\tvalid_1's binary_logloss: 0.140361\n",
            "[600]\ttraining's binary_logloss: 0.150952\tvalid_1's binary_logloss: 0.136585\n",
            "[700]\ttraining's binary_logloss: 0.144782\tvalid_1's binary_logloss: 0.132609\n",
            "[800]\ttraining's binary_logloss: 0.139335\tvalid_1's binary_logloss: 0.129064\n",
            "[900]\ttraining's binary_logloss: 0.133244\tvalid_1's binary_logloss: 0.125091\n",
            "[1000]\ttraining's binary_logloss: 0.128147\tvalid_1's binary_logloss: 0.12192\n",
            "Did not meet early stopping. Best iteration is:\n",
            "[1000]\ttraining's binary_logloss: 0.128147\tvalid_1's binary_logloss: 0.12192\n",
            "Validation metrics:\n",
            "Accuracy: 0.9568\n",
            "AUC: 0.9823\n",
            "Precision: 0.9054\n",
            "Recall: 0.8551\n",
            "F1 Score: 0.8796\n"
          ]
        }
      ],
      "source": [
        "# Train the final model with best parameters\n",
        "params = {\n",
        "    'objective': 'binary',\n",
        "    'metric': 'binary_logloss',\n",
        "    'num_leaves': 31,\n",
        "    'learning_rate': 0.05,\n",
        "    'feature_fraction': 0.9,\n",
        "}\n",
        "\n",
        "print(\"Training final LightGBM model with best parameters...\")\n",
        "# Set callback parameters\n",
        "callbacks = [\n",
        "    lgb.early_stopping(stopping_rounds=50, verbose=True),\n",
        "    lgb.log_evaluation(period=100)\n",
        "]\n",
        "\n",
        "# Train the model\n",
        "print(\"Training LightGBM model...\")\n",
        "lgbm_model = lgb.train(\n",
        "    params,\n",
        "    train_data,\n",
        "    num_boost_round=1000,\n",
        "    valid_sets=[train_data, val_data],\n",
        "    callbacks=callbacks\n",
        ")\n",
        "# Make predictions on validation set\n",
        "val_preds = lgbm_model.predict(X_val_encoded)\n",
        "val_preds_binary = (val_preds > 0.5).astype(int)\n",
        "\n",
        "# Calculate metrics for validation set\n",
        "val_accuracy = accuracy_score(y_val, val_preds_binary)\n",
        "val_auc = roc_auc_score(y_val, val_preds)\n",
        "val_precision = precision_score(y_val, val_preds_binary)\n",
        "val_recall = recall_score(y_val, val_preds_binary)\n",
        "val_f1 = f1_score(y_val, val_preds_binary)\n",
        "\n",
        "print(\"Validation metrics:\")\n",
        "print(f\"Accuracy: {val_accuracy:.4f}\")\n",
        "print(f\"AUC: {val_auc:.4f}\")\n",
        "print(f\"Precision: {val_precision:.4f}\")\n",
        "print(f\"Recall: {val_recall:.4f}\")\n",
        "print(f\"F1 Score: {val_f1:.4f}\")"
      ]
    },
    {
      "cell_type": "markdown",
      "source": [
        "## LGBM Model Evaluation"
      ],
      "metadata": {
        "id": "5miEJuz2OZk0"
      },
      "id": "5miEJuz2OZk0"
    },
    {
      "cell_type": "markdown",
      "source": [
        "### Score Test Data"
      ],
      "metadata": {
        "id": "gglcSr1JOeHi"
      },
      "id": "gglcSr1JOeHi"
    },
    {
      "cell_type": "code",
      "execution_count": 50,
      "id": "5a060996-f77e-429a-ab4a-6d9cb136b04f",
      "metadata": {
        "colab": {
          "base_uri": "https://localhost:8080/"
        },
        "id": "5a060996-f77e-429a-ab4a-6d9cb136b04f",
        "outputId": "052b7b77-a2c2-4def-c8be-cfd45ec450a0"
      },
      "outputs": [
        {
          "output_type": "stream",
          "name": "stdout",
          "text": [
            "Preparing test data and making predictions...\n"
          ]
        }
      ],
      "source": [
        "# Prepare test data\n",
        "print(\"Preparing test data and making predictions...\")\n",
        "X_test = test_df[cat_features + num_features]\n",
        "X_test_te = te.transform(X_test[high_cardinality_features])\n",
        "X_test_ohe = ohe.transform(X_test[low_cardinality_features])\n",
        "X_test_encoded = np.hstack([X_test_te, X_test_ohe, X_test[num_features]])\n",
        "\n",
        "# Make predictions on test set\n",
        "test_preds = lgbm_model.predict(X_test_encoded)"
      ]
    },
    {
      "cell_type": "markdown",
      "source": [
        "### Build Ranked Destinations list for each vessel"
      ],
      "metadata": {
        "id": "ZPN7BVQZOlV4"
      },
      "id": "ZPN7BVQZOlV4"
    },
    {
      "cell_type": "code",
      "source": [
        "# Create a DataFrame with predictions\n",
        "ranked_destinations = test_df[['vessel_id', 'destination', 'is_visit', 'vessel_type', 'product_family']].copy()\n",
        "ranked_destinations['predicted_probability'] = test_preds\n",
        "\n",
        "# Filter predictions (is_visit = 0) and actual destinations (is_visit = 1)\n",
        "ranked_destinations_filtered = ranked_destinations[ranked_destinations['is_visit'] == 0]\n",
        "test_df_sample = ranked_destinations[ranked_destinations['is_visit'] == 1]\n",
        "\n",
        "# Create a dictionary of actual destinations\n",
        "actual_destinations = test_df_sample.set_index('vessel_id')['destination'].to_dict()"
      ],
      "metadata": {
        "id": "d4ujaPxGKi_7"
      },
      "id": "d4ujaPxGKi_7",
      "execution_count": 51,
      "outputs": []
    },
    {
      "cell_type": "markdown",
      "source": [
        "### Create utilities functions for Model Evaluation"
      ],
      "metadata": {
        "id": "Y8aX3ktZOqIU"
      },
      "id": "Y8aX3ktZOqIU"
    },
    {
      "cell_type": "code",
      "source": [
        "def get_top_n_predictions(group: pd.DataFrame, n: int) -> List[str]:\n",
        "    \"\"\"\n",
        "    Get the top N predictions for a group based on predicted probability.\n",
        "\n",
        "    Args:\n",
        "        group (pd.DataFrame): DataFrame containing predictions for a single vessel.\n",
        "        n (int): Number of top predictions to return.\n",
        "\n",
        "    Returns:\n",
        "        List[str]: List of top N predicted destinations.\n",
        "    \"\"\"\n",
        "    # Return the top N destinations with highest predicted probabilities\n",
        "    return group.nlargest(n, 'predicted_probability')['destination'].tolist()\n",
        "\n",
        "def calculate_accuracy_and_ranks(n: int) -> Tuple[float, List[float]]:\n",
        "    \"\"\"\n",
        "    Calculate accuracy and get ranks for Mean Reciprocal Rank (MRR) calculation.\n",
        "\n",
        "    Args:\n",
        "        n (int): Number of top predictions to consider.\n",
        "\n",
        "    Returns:\n",
        "        Tuple[float, List[float]]: Tuple containing accuracy and list of ranks.\n",
        "    \"\"\"\n",
        "    # Get top N predictions for each vessel\n",
        "    top_n_predictions = ranked_destinations_filtered.groupby('vessel_id').apply(lambda x: get_top_n_predictions(x, n))\n",
        "\n",
        "    accuracies = []\n",
        "    ranks = []\n",
        "    for vessel_id, preds in top_n_predictions.items():\n",
        "        actual_dest = actual_destinations.get(vessel_id)\n",
        "        if actual_dest in preds:\n",
        "            accuracies.append(1)\n",
        "            ranks.append(1 / (preds.index(actual_dest) + 1))\n",
        "        else:\n",
        "            accuracies.append(0)\n",
        "            ranks.append(0)\n",
        "\n",
        "    # Return mean accuracy and list of ranks\n",
        "    return np.mean(accuracies), ranks\n",
        "\n",
        "def calculate_accuracy_for_top_n(n: int) -> float:\n",
        "    \"\"\"\n",
        "    Calculate accuracy for top N predictions.\n",
        "\n",
        "    Args:\n",
        "        n (int): Number of top predictions to consider.\n",
        "\n",
        "    Returns:\n",
        "        float: Accuracy of top N predictions.\n",
        "    \"\"\"\n",
        "    # Get top N predictions for each vessel\n",
        "    top_n_predictions = ranked_destinations_filtered.groupby('vessel_id').apply(lambda x: get_top_n_predictions(x, n))\n",
        "\n",
        "    # Calculate accuracy\n",
        "    accuracy = sum(actual_destinations.get(vessel_id) in preds for vessel_id, preds in top_n_predictions.items()) / len(actual_destinations)\n",
        "\n",
        "    return accuracy\n",
        "\n",
        "def calculate_mrr() -> float:\n",
        "    \"\"\"\n",
        "    Calculate Mean Reciprocal Rank (MRR) for all predictions.\n",
        "\n",
        "    Returns:\n",
        "        float: Mean Reciprocal Rank.\n",
        "    \"\"\"\n",
        "    def get_reciprocal_rank(group: pd.DataFrame) -> float:\n",
        "        \"\"\"\n",
        "        Calculate reciprocal rank for a single vessel's predictions.\n",
        "\n",
        "        Args:\n",
        "            group (pd.DataFrame): DataFrame containing predictions for a single vessel.\n",
        "\n",
        "        Returns:\n",
        "            float: Reciprocal rank for the vessel.\n",
        "        \"\"\"\n",
        "        vessel_id = group.name\n",
        "        actual_dest = actual_destinations.get(vessel_id)\n",
        "        if actual_dest is None:\n",
        "            return 0\n",
        "\n",
        "        # Sort predictions by probability in descending order\n",
        "        sorted_predictions = group.sort_values('predicted_probability', ascending=False).reset_index(drop=True)\n",
        "\n",
        "        # Find the rank of the actual destination\n",
        "        rank = sorted_predictions[sorted_predictions['destination'] == actual_dest].index.min()\n",
        "        if pd.isna(rank):\n",
        "            return 0\n",
        "\n",
        "        # Calculate reciprocal rank (add 1 to rank because indexing starts at 0)\n",
        "        return 1 / (rank + 1)\n",
        "\n",
        "    # Calculate reciprocal rank for each vessel\n",
        "    reciprocal_ranks = ranked_destinations_filtered.groupby('vessel_id').apply(get_reciprocal_rank)\n",
        "\n",
        "    # Print debug information\n",
        "    print(f\"Number of vessels: {len(reciprocal_ranks)}\")\n",
        "    print(f\"Number of non-zero ranks: {(reciprocal_ranks > 0).sum()}\")\n",
        "    print(f\"Average reciprocal rank: {reciprocal_ranks.mean():.4f}\")\n",
        "\n",
        "    # Return mean reciprocal rank\n",
        "    return reciprocal_ranks.mean()"
      ],
      "metadata": {
        "id": "6XiJZqrqOCN4"
      },
      "id": "6XiJZqrqOCN4",
      "execution_count": 52,
      "outputs": []
    },
    {
      "cell_type": "markdown",
      "source": [
        "### Compute accuracies and MRR metrics"
      ],
      "metadata": {
        "id": "eDZosm4PPZ6j"
      },
      "id": "eDZosm4PPZ6j"
    },
    {
      "cell_type": "code",
      "source": [
        "# Calculate Top 1, Top 3, and Top 10 Accuracies\n",
        "top_1_accuracy, ranks_1 = calculate_accuracy_and_ranks(1)\n",
        "top_3_accuracy, _ = calculate_accuracy_and_ranks(3)\n",
        "top_10_accuracy, _ = calculate_accuracy_and_ranks(10)\n",
        "\n",
        "# Calculate Mean Reciprocal Rank\n",
        "mrr = calculate_mrr()\n",
        "\n",
        "# Print the results\n",
        "print(f\"Top 1 Accuracy: {top_1_accuracy:.4f}\")\n",
        "print(f\"Top 3 Accuracy: {top_3_accuracy:.4f}\")\n",
        "print(f\"Top 10 Accuracy: {top_10_accuracy:.4f}\")\n",
        "print(f\"Mean Reciprocal Rank (MRR): {mrr:.4f}\")"
      ],
      "metadata": {
        "colab": {
          "base_uri": "https://localhost:8080/"
        },
        "id": "0kan4ElzODaL",
        "outputId": "f7119244-41a1-4196-bcea-8930b813e603"
      },
      "id": "0kan4ElzODaL",
      "execution_count": 53,
      "outputs": [
        {
          "output_type": "stream",
          "name": "stdout",
          "text": [
            "Number of vessels: 6246\n",
            "Number of non-zero ranks: 5038\n",
            "Average reciprocal rank: 0.5062\n",
            "Top 1 Accuracy: 0.4075\n",
            "Top 3 Accuracy: 0.5751\n",
            "Top 10 Accuracy: 0.6820\n",
            "Mean Reciprocal Rank (MRR): 0.5062\n"
          ]
        }
      ]
    },
    {
      "cell_type": "markdown",
      "source": [
        "### Plot Accuracy evolution for different top-k predictions"
      ],
      "metadata": {
        "id": "_gYP_oOOQBTn"
      },
      "id": "_gYP_oOOQBTn"
    },
    {
      "cell_type": "code",
      "execution_count": 54,
      "id": "2214d62b-4692-4de4-8426-4d385c9e5750",
      "metadata": {
        "colab": {
          "base_uri": "https://localhost:8080/",
          "height": 542
        },
        "id": "2214d62b-4692-4de4-8426-4d385c9e5750",
        "outputId": "631e7178-7046-4f4f-d8e4-0bf17abb2eee"
      },
      "outputs": [
        {
          "output_type": "display_data",
          "data": {
            "text/html": [
              "<html>\n",
              "<head><meta charset=\"utf-8\" /></head>\n",
              "<body>\n",
              "    <div>            <script src=\"https://cdnjs.cloudflare.com/ajax/libs/mathjax/2.7.5/MathJax.js?config=TeX-AMS-MML_SVG\"></script><script type=\"text/javascript\">if (window.MathJax && window.MathJax.Hub && window.MathJax.Hub.Config) {window.MathJax.Hub.Config({SVG: {font: \"STIX-Web\"}});}</script>                <script type=\"text/javascript\">window.PlotlyConfig = {MathJaxConfig: 'local'};</script>\n",
              "        <script charset=\"utf-8\" src=\"https://cdn.plot.ly/plotly-2.24.1.min.js\"></script>                <div id=\"7fc564b2-02b2-49fd-8215-270ece9fec6e\" class=\"plotly-graph-div\" style=\"height:525px; width:100%;\"></div>            <script type=\"text/javascript\">                                    window.PLOTLYENV=window.PLOTLYENV || {};                                    if (document.getElementById(\"7fc564b2-02b2-49fd-8215-270ece9fec6e\")) {                    Plotly.newPlot(                        \"7fc564b2-02b2-49fd-8215-270ece9fec6e\",                        [{\"mode\":\"lines+markers+text\",\"text\":[\"40.34%\",\"51.24%\",\"56.93%\",\"59.95%\",\"62.20%\",\"63.86%\",\"65.07%\",\"65.99%\",\"66.81%\",\"67.52%\"],\"textposition\":\"top center\",\"x\":[1,2,3,4,5,6,7,8,9,10],\"y\":[0.40339197971152324,0.5124425423997464,0.569345379616421,0.5994610873355524,0.6219686162624821,0.6386115073704232,0.6506577904580758,0.6598510064986527,0.6680932001902045,0.6752258678078935],\"type\":\"scatter\"}],                        {\"template\":{\"data\":{\"histogram2dcontour\":[{\"type\":\"histogram2dcontour\",\"colorbar\":{\"outlinewidth\":0,\"ticks\":\"\"},\"colorscale\":[[0.0,\"#0d0887\"],[0.1111111111111111,\"#46039f\"],[0.2222222222222222,\"#7201a8\"],[0.3333333333333333,\"#9c179e\"],[0.4444444444444444,\"#bd3786\"],[0.5555555555555556,\"#d8576b\"],[0.6666666666666666,\"#ed7953\"],[0.7777777777777778,\"#fb9f3a\"],[0.8888888888888888,\"#fdca26\"],[1.0,\"#f0f921\"]]}],\"choropleth\":[{\"type\":\"choropleth\",\"colorbar\":{\"outlinewidth\":0,\"ticks\":\"\"}}],\"histogram2d\":[{\"type\":\"histogram2d\",\"colorbar\":{\"outlinewidth\":0,\"ticks\":\"\"},\"colorscale\":[[0.0,\"#0d0887\"],[0.1111111111111111,\"#46039f\"],[0.2222222222222222,\"#7201a8\"],[0.3333333333333333,\"#9c179e\"],[0.4444444444444444,\"#bd3786\"],[0.5555555555555556,\"#d8576b\"],[0.6666666666666666,\"#ed7953\"],[0.7777777777777778,\"#fb9f3a\"],[0.8888888888888888,\"#fdca26\"],[1.0,\"#f0f921\"]]}],\"heatmap\":[{\"type\":\"heatmap\",\"colorbar\":{\"outlinewidth\":0,\"ticks\":\"\"},\"colorscale\":[[0.0,\"#0d0887\"],[0.1111111111111111,\"#46039f\"],[0.2222222222222222,\"#7201a8\"],[0.3333333333333333,\"#9c179e\"],[0.4444444444444444,\"#bd3786\"],[0.5555555555555556,\"#d8576b\"],[0.6666666666666666,\"#ed7953\"],[0.7777777777777778,\"#fb9f3a\"],[0.8888888888888888,\"#fdca26\"],[1.0,\"#f0f921\"]]}],\"heatmapgl\":[{\"type\":\"heatmapgl\",\"colorbar\":{\"outlinewidth\":0,\"ticks\":\"\"},\"colorscale\":[[0.0,\"#0d0887\"],[0.1111111111111111,\"#46039f\"],[0.2222222222222222,\"#7201a8\"],[0.3333333333333333,\"#9c179e\"],[0.4444444444444444,\"#bd3786\"],[0.5555555555555556,\"#d8576b\"],[0.6666666666666666,\"#ed7953\"],[0.7777777777777778,\"#fb9f3a\"],[0.8888888888888888,\"#fdca26\"],[1.0,\"#f0f921\"]]}],\"contourcarpet\":[{\"type\":\"contourcarpet\",\"colorbar\":{\"outlinewidth\":0,\"ticks\":\"\"}}],\"contour\":[{\"type\":\"contour\",\"colorbar\":{\"outlinewidth\":0,\"ticks\":\"\"},\"colorscale\":[[0.0,\"#0d0887\"],[0.1111111111111111,\"#46039f\"],[0.2222222222222222,\"#7201a8\"],[0.3333333333333333,\"#9c179e\"],[0.4444444444444444,\"#bd3786\"],[0.5555555555555556,\"#d8576b\"],[0.6666666666666666,\"#ed7953\"],[0.7777777777777778,\"#fb9f3a\"],[0.8888888888888888,\"#fdca26\"],[1.0,\"#f0f921\"]]}],\"surface\":[{\"type\":\"surface\",\"colorbar\":{\"outlinewidth\":0,\"ticks\":\"\"},\"colorscale\":[[0.0,\"#0d0887\"],[0.1111111111111111,\"#46039f\"],[0.2222222222222222,\"#7201a8\"],[0.3333333333333333,\"#9c179e\"],[0.4444444444444444,\"#bd3786\"],[0.5555555555555556,\"#d8576b\"],[0.6666666666666666,\"#ed7953\"],[0.7777777777777778,\"#fb9f3a\"],[0.8888888888888888,\"#fdca26\"],[1.0,\"#f0f921\"]]}],\"mesh3d\":[{\"type\":\"mesh3d\",\"colorbar\":{\"outlinewidth\":0,\"ticks\":\"\"}}],\"scatter\":[{\"fillpattern\":{\"fillmode\":\"overlay\",\"size\":10,\"solidity\":0.2},\"type\":\"scatter\"}],\"parcoords\":[{\"type\":\"parcoords\",\"line\":{\"colorbar\":{\"outlinewidth\":0,\"ticks\":\"\"}}}],\"scatterpolargl\":[{\"type\":\"scatterpolargl\",\"marker\":{\"colorbar\":{\"outlinewidth\":0,\"ticks\":\"\"}}}],\"bar\":[{\"error_x\":{\"color\":\"#2a3f5f\"},\"error_y\":{\"color\":\"#2a3f5f\"},\"marker\":{\"line\":{\"color\":\"#E5ECF6\",\"width\":0.5},\"pattern\":{\"fillmode\":\"overlay\",\"size\":10,\"solidity\":0.2}},\"type\":\"bar\"}],\"scattergeo\":[{\"type\":\"scattergeo\",\"marker\":{\"colorbar\":{\"outlinewidth\":0,\"ticks\":\"\"}}}],\"scatterpolar\":[{\"type\":\"scatterpolar\",\"marker\":{\"colorbar\":{\"outlinewidth\":0,\"ticks\":\"\"}}}],\"histogram\":[{\"marker\":{\"pattern\":{\"fillmode\":\"overlay\",\"size\":10,\"solidity\":0.2}},\"type\":\"histogram\"}],\"scattergl\":[{\"type\":\"scattergl\",\"marker\":{\"colorbar\":{\"outlinewidth\":0,\"ticks\":\"\"}}}],\"scatter3d\":[{\"type\":\"scatter3d\",\"line\":{\"colorbar\":{\"outlinewidth\":0,\"ticks\":\"\"}},\"marker\":{\"colorbar\":{\"outlinewidth\":0,\"ticks\":\"\"}}}],\"scattermapbox\":[{\"type\":\"scattermapbox\",\"marker\":{\"colorbar\":{\"outlinewidth\":0,\"ticks\":\"\"}}}],\"scatterternary\":[{\"type\":\"scatterternary\",\"marker\":{\"colorbar\":{\"outlinewidth\":0,\"ticks\":\"\"}}}],\"scattercarpet\":[{\"type\":\"scattercarpet\",\"marker\":{\"colorbar\":{\"outlinewidth\":0,\"ticks\":\"\"}}}],\"carpet\":[{\"aaxis\":{\"endlinecolor\":\"#2a3f5f\",\"gridcolor\":\"white\",\"linecolor\":\"white\",\"minorgridcolor\":\"white\",\"startlinecolor\":\"#2a3f5f\"},\"baxis\":{\"endlinecolor\":\"#2a3f5f\",\"gridcolor\":\"white\",\"linecolor\":\"white\",\"minorgridcolor\":\"white\",\"startlinecolor\":\"#2a3f5f\"},\"type\":\"carpet\"}],\"table\":[{\"cells\":{\"fill\":{\"color\":\"#EBF0F8\"},\"line\":{\"color\":\"white\"}},\"header\":{\"fill\":{\"color\":\"#C8D4E3\"},\"line\":{\"color\":\"white\"}},\"type\":\"table\"}],\"barpolar\":[{\"marker\":{\"line\":{\"color\":\"#E5ECF6\",\"width\":0.5},\"pattern\":{\"fillmode\":\"overlay\",\"size\":10,\"solidity\":0.2}},\"type\":\"barpolar\"}],\"pie\":[{\"automargin\":true,\"type\":\"pie\"}]},\"layout\":{\"autotypenumbers\":\"strict\",\"colorway\":[\"#636efa\",\"#EF553B\",\"#00cc96\",\"#ab63fa\",\"#FFA15A\",\"#19d3f3\",\"#FF6692\",\"#B6E880\",\"#FF97FF\",\"#FECB52\"],\"font\":{\"color\":\"#2a3f5f\"},\"hovermode\":\"closest\",\"hoverlabel\":{\"align\":\"left\"},\"paper_bgcolor\":\"white\",\"plot_bgcolor\":\"#E5ECF6\",\"polar\":{\"bgcolor\":\"#E5ECF6\",\"angularaxis\":{\"gridcolor\":\"white\",\"linecolor\":\"white\",\"ticks\":\"\"},\"radialaxis\":{\"gridcolor\":\"white\",\"linecolor\":\"white\",\"ticks\":\"\"}},\"ternary\":{\"bgcolor\":\"#E5ECF6\",\"aaxis\":{\"gridcolor\":\"white\",\"linecolor\":\"white\",\"ticks\":\"\"},\"baxis\":{\"gridcolor\":\"white\",\"linecolor\":\"white\",\"ticks\":\"\"},\"caxis\":{\"gridcolor\":\"white\",\"linecolor\":\"white\",\"ticks\":\"\"}},\"coloraxis\":{\"colorbar\":{\"outlinewidth\":0,\"ticks\":\"\"}},\"colorscale\":{\"sequential\":[[0.0,\"#0d0887\"],[0.1111111111111111,\"#46039f\"],[0.2222222222222222,\"#7201a8\"],[0.3333333333333333,\"#9c179e\"],[0.4444444444444444,\"#bd3786\"],[0.5555555555555556,\"#d8576b\"],[0.6666666666666666,\"#ed7953\"],[0.7777777777777778,\"#fb9f3a\"],[0.8888888888888888,\"#fdca26\"],[1.0,\"#f0f921\"]],\"sequentialminus\":[[0.0,\"#0d0887\"],[0.1111111111111111,\"#46039f\"],[0.2222222222222222,\"#7201a8\"],[0.3333333333333333,\"#9c179e\"],[0.4444444444444444,\"#bd3786\"],[0.5555555555555556,\"#d8576b\"],[0.6666666666666666,\"#ed7953\"],[0.7777777777777778,\"#fb9f3a\"],[0.8888888888888888,\"#fdca26\"],[1.0,\"#f0f921\"]],\"diverging\":[[0,\"#8e0152\"],[0.1,\"#c51b7d\"],[0.2,\"#de77ae\"],[0.3,\"#f1b6da\"],[0.4,\"#fde0ef\"],[0.5,\"#f7f7f7\"],[0.6,\"#e6f5d0\"],[0.7,\"#b8e186\"],[0.8,\"#7fbc41\"],[0.9,\"#4d9221\"],[1,\"#276419\"]]},\"xaxis\":{\"gridcolor\":\"white\",\"linecolor\":\"white\",\"ticks\":\"\",\"title\":{\"standoff\":15},\"zerolinecolor\":\"white\",\"automargin\":true,\"zerolinewidth\":2},\"yaxis\":{\"gridcolor\":\"white\",\"linecolor\":\"white\",\"ticks\":\"\",\"title\":{\"standoff\":15},\"zerolinecolor\":\"white\",\"automargin\":true,\"zerolinewidth\":2},\"scene\":{\"xaxis\":{\"backgroundcolor\":\"#E5ECF6\",\"gridcolor\":\"white\",\"linecolor\":\"white\",\"showbackground\":true,\"ticks\":\"\",\"zerolinecolor\":\"white\",\"gridwidth\":2},\"yaxis\":{\"backgroundcolor\":\"#E5ECF6\",\"gridcolor\":\"white\",\"linecolor\":\"white\",\"showbackground\":true,\"ticks\":\"\",\"zerolinecolor\":\"white\",\"gridwidth\":2},\"zaxis\":{\"backgroundcolor\":\"#E5ECF6\",\"gridcolor\":\"white\",\"linecolor\":\"white\",\"showbackground\":true,\"ticks\":\"\",\"zerolinecolor\":\"white\",\"gridwidth\":2}},\"shapedefaults\":{\"line\":{\"color\":\"#2a3f5f\"}},\"annotationdefaults\":{\"arrowcolor\":\"#2a3f5f\",\"arrowhead\":0,\"arrowwidth\":1},\"geo\":{\"bgcolor\":\"white\",\"landcolor\":\"#E5ECF6\",\"subunitcolor\":\"white\",\"showland\":true,\"showlakes\":true,\"lakecolor\":\"white\"},\"title\":{\"x\":0.05},\"mapbox\":{\"style\":\"light\"}}},\"yaxis\":{\"title\":{\"text\":\"Accuracy\"},\"tickformat\":\".0%\"},\"xaxis\":{\"title\":{\"text\":\"Top N Predictions\"},\"tickmode\":\"linear\",\"tick0\":1,\"dtick\":1},\"title\":{\"text\":\"Accuracy Evolution: Top 1 to Top 10\"}},                        {\"responsive\": true}                    ).then(function(){\n",
              "                            \n",
              "var gd = document.getElementById('7fc564b2-02b2-49fd-8215-270ece9fec6e');\n",
              "var x = new MutationObserver(function (mutations, observer) {{\n",
              "        var display = window.getComputedStyle(gd).display;\n",
              "        if (!display || display === 'none') {{\n",
              "            console.log([gd, 'removed!']);\n",
              "            Plotly.purge(gd);\n",
              "            observer.disconnect();\n",
              "        }}\n",
              "}});\n",
              "\n",
              "// Listen for the removal of the full notebook cells\n",
              "var notebookContainer = gd.closest('#notebook-container');\n",
              "if (notebookContainer) {{\n",
              "    x.observe(notebookContainer, {childList: true});\n",
              "}}\n",
              "\n",
              "// Listen for the clearing of the current output cell\n",
              "var outputEl = gd.closest('.output');\n",
              "if (outputEl) {{\n",
              "    x.observe(outputEl, {childList: true});\n",
              "}}\n",
              "\n",
              "                        })                };                            </script>        </div>\n",
              "</body>\n",
              "</html>"
            ]
          },
          "metadata": {}
        }
      ],
      "source": [
        "# Calculate accuracies for top 1 to top 10\n",
        "accuracies = [calculate_accuracy_for_top_n(i) for i in range(1, 11)]\n",
        "\n",
        "# 1. Plot accuracy evolution from top 1 to top 10\n",
        "fig1 = go.Figure(data=go.Scatter(\n",
        "    x=list(range(1, 11)),\n",
        "    y=accuracies,\n",
        "    mode='lines+markers+text',\n",
        "    text=[f'{acc:.2%}' for acc in accuracies],\n",
        "    textposition='top center'\n",
        "))\n",
        "fig1.update_layout(\n",
        "    title='Accuracy Evolution: Top 1 to Top 10',\n",
        "    xaxis_title='Top N Predictions',\n",
        "    yaxis_title='Accuracy',\n",
        "    yaxis_tickformat='.0%',\n",
        "    xaxis=dict(tickmode='linear', tick0=1, dtick=1)\n",
        ")\n",
        "fig1.show()"
      ]
    },
    {
      "cell_type": "code",
      "source": [
        "def calculate_top_1_accuracy(group: pd.DataFrame) -> bool:\n",
        "    \"\"\"\n",
        "    Calculate the top 1 accuracy for a group of predictions.\n",
        "\n",
        "    Args:\n",
        "        group (pd.DataFrame): A group of predictions for a single vessel.\n",
        "\n",
        "    Returns:\n",
        "        bool: True if the top predicted destination matches the actual destination, False otherwise.\n",
        "    \"\"\"\n",
        "    return actual_destinations.get(group.name) == group.nlargest(1, 'predicted_probability')['destination'].iloc[0]\n",
        "\n",
        "# Count the number of potential predictions per vessel\n",
        "ranked_destinations['num_potential_predictions'] = ranked_destinations.groupby('vessel_id')['vessel_id'].transform('count')\n",
        "\n",
        "# Calculate top 1 accuracy for each vessel\n",
        "ranked_destinations['top_1_accuracy'] = ranked_destinations.groupby('vessel_id').apply(calculate_top_1_accuracy)\n",
        "\n",
        "# Filter to include only up to 1000 potential predictions\n",
        "ranked_destinations = ranked_destinations[ranked_destinations['num_potential_predictions'] <= 1000]\n",
        "\n",
        "# Define bin parameters\n",
        "bin_size = 100\n",
        "max_samples = 1000\n",
        "bins = range(0, max_samples + bin_size, bin_size)\n",
        "\n",
        "# Group accuracy data into bins and calculate mean accuracy and count for each bin\n",
        "accuracy_by_bin = ranked_destinations.groupby(pd.cut(ranked_destinations['num_potential_predictions'], bins=bins))['top_1_accuracy'].agg(['mean', 'count']).reset_index()\n",
        "accuracy_by_bin['bin_midpoint'] = accuracy_by_bin['num_potential_predictions'].apply(lambda x: x.mid)\n",
        "\n",
        "# Create subplots: line plot and histogram\n",
        "fig = make_subplots(rows=2, cols=1,\n",
        "                    subplot_titles=(\"Line Plot: Top 1 Accuracy vs Number of Potential Predictions (up to 1000)\",\n",
        "                                    \"Histogram: Distribution of Potential Predictions (up to 1000)\"),\n",
        "                    vertical_spacing=0.1)\n",
        "\n",
        "# Add line plot for accuracy\n",
        "fig.add_trace(\n",
        "    go.Scatter(x=accuracy_by_bin['bin_midpoint'], y=accuracy_by_bin['mean'], mode='lines+markers',\n",
        "               name='Top 1 Accuracy', text=[f'{acc:.2%}' for acc in accuracy_by_bin['mean']],\n",
        "               hovertemplate='Potential Predictions: %{x}<br>Accuracy: %{text}<br>Count: %{customdata}',\n",
        "               customdata=accuracy_by_bin['count']),\n",
        "    row=1, col=1\n",
        ")\n",
        "\n",
        "# Add histogram for distribution of potential predictions\n",
        "fig.add_trace(\n",
        "    go.Bar(x=accuracy_by_bin['bin_midpoint'], y=accuracy_by_bin['count'],\n",
        "           name='Sample Count', hovertemplate='Potential Predictions: %{x}<br>Count: %{y}'),\n",
        "    row=2, col=1\n",
        ")\n",
        "\n",
        "# Update layout\n",
        "fig.update_layout(height=800, title_text=\"Top 1 Accuracy vs Number of Potential Predictions (up to 1000)\")\n",
        "fig.update_xaxes(title_text=\"Number of Potential Predictions\", row=1, col=1, tickmode='array', tickvals=list(range(0, 1001, 100)))\n",
        "fig.update_xaxes(title_text=\"Number of Potential Predictions\", row=2, col=1, tickmode='array', tickvals=list(range(0, 1001, 100)))\n",
        "fig.update_yaxes(title_text=\"Top 1 Accuracy\", tickformat='.0%', row=1, col=1)\n",
        "fig.update_yaxes(title_text=\"Count\", row=2, col=1)\n",
        "\n",
        "# Display the figure\n",
        "fig.show()\n",
        "\n",
        "# Print statistics\n",
        "print(f\"Total number of vessels (up to 1000 potential predictions): {len(ranked_destinations['vessel_id'].unique())}\")\n",
        "print(f\"Average number of potential predictions per vessel: {ranked_destinations['num_potential_predictions'].mean():.2f}\")\n",
        "print(f\"Median number of potential predictions per vessel: {ranked_destinations['num_potential_predictions'].median():.2f}\")\n",
        "print(f\"Range of potential predictions: {ranked_destinations['num_potential_predictions'].min()} to {ranked_destinations['num_potential_predictions'].max()}\")\n",
        "print(f\"Overall Top 1 Accuracy: {ranked_destinations['top_1_accuracy'].mean():.2%}\")\n",
        "print(f\"Correlation between number of potential predictions and accuracy: {accuracy_by_bin['bin_midpoint'].corr(accuracy_by_bin['mean']):.4f}\")\n",
        "\n",
        "# Additional statistics for vessels with more than 1000 potential predictions\n",
        "vessels_over_1000 = ranked_destinations[ranked_destinations['num_potential_predictions'] > 1000]\n",
        "print(f\"\\nNumber of vessels with more than 1000 potential predictions: {len(vessels_over_1000['vessel_id'].unique())}\")\n",
        "if not vessels_over_1000.empty:\n",
        "    print(f\"Average accuracy for vessels with >1000 potential predictions: {vessels_over_1000['top_1_accuracy'].mean():.2%}\")\n"
      ],
      "metadata": {
        "colab": {
          "base_uri": "https://localhost:8080/",
          "height": 956
        },
        "id": "0ysYZ_HA1gd3",
        "outputId": "98d027d8-ba8f-4380-aaae-faa54432ba77"
      },
      "id": "0ysYZ_HA1gd3",
      "execution_count": 55,
      "outputs": [
        {
          "output_type": "display_data",
          "data": {
            "text/html": [
              "<html>\n",
              "<head><meta charset=\"utf-8\" /></head>\n",
              "<body>\n",
              "    <div>            <script src=\"https://cdnjs.cloudflare.com/ajax/libs/mathjax/2.7.5/MathJax.js?config=TeX-AMS-MML_SVG\"></script><script type=\"text/javascript\">if (window.MathJax && window.MathJax.Hub && window.MathJax.Hub.Config) {window.MathJax.Hub.Config({SVG: {font: \"STIX-Web\"}});}</script>                <script type=\"text/javascript\">window.PlotlyConfig = {MathJaxConfig: 'local'};</script>\n",
              "        <script charset=\"utf-8\" src=\"https://cdn.plot.ly/plotly-2.24.1.min.js\"></script>                <div id=\"d6ebf46a-36b0-41e4-8b1d-17cd991ab856\" class=\"plotly-graph-div\" style=\"height:800px; width:100%;\"></div>            <script type=\"text/javascript\">                                    window.PLOTLYENV=window.PLOTLYENV || {};                                    if (document.getElementById(\"d6ebf46a-36b0-41e4-8b1d-17cd991ab856\")) {                    Plotly.newPlot(                        \"d6ebf46a-36b0-41e4-8b1d-17cd991ab856\",                        [{\"customdata\":[81,438,767,845,1494,1188,749,470,153,84],\"hovertemplate\":\"Potential Predictions: %{x}\\u003cbr\\u003eAccuracy: %{text}\\u003cbr\\u003eCount: %{customdata}\",\"mode\":\"lines+markers\",\"name\":\"Top 1 Accuracy\",\"text\":[\"43.21%\",\"51.60%\",\"50.85%\",\"53.14%\",\"53.41%\",\"51.68%\",\"48.20%\",\"52.77%\",\"50.33%\",\"50.00%\"],\"x\":[50.0,150.0,250.0,350.0,450.0,550.0,650.0,750.0,850.0,950.0],\"y\":[0.43209876543209874,0.5159817351598174,0.5084745762711864,0.5313609467455621,0.5341365461847389,0.5168350168350169,0.4819759679572764,0.5276595744680851,0.5032679738562091,0.5],\"type\":\"scatter\",\"xaxis\":\"x\",\"yaxis\":\"y\"},{\"hovertemplate\":\"Potential Predictions: %{x}\\u003cbr\\u003eCount: %{y}\",\"name\":\"Sample Count\",\"x\":[50.0,150.0,250.0,350.0,450.0,550.0,650.0,750.0,850.0,950.0],\"y\":[81,438,767,845,1494,1188,749,470,153,84],\"type\":\"bar\",\"xaxis\":\"x2\",\"yaxis\":\"y2\"}],                        {\"template\":{\"data\":{\"histogram2dcontour\":[{\"type\":\"histogram2dcontour\",\"colorbar\":{\"outlinewidth\":0,\"ticks\":\"\"},\"colorscale\":[[0.0,\"#0d0887\"],[0.1111111111111111,\"#46039f\"],[0.2222222222222222,\"#7201a8\"],[0.3333333333333333,\"#9c179e\"],[0.4444444444444444,\"#bd3786\"],[0.5555555555555556,\"#d8576b\"],[0.6666666666666666,\"#ed7953\"],[0.7777777777777778,\"#fb9f3a\"],[0.8888888888888888,\"#fdca26\"],[1.0,\"#f0f921\"]]}],\"choropleth\":[{\"type\":\"choropleth\",\"colorbar\":{\"outlinewidth\":0,\"ticks\":\"\"}}],\"histogram2d\":[{\"type\":\"histogram2d\",\"colorbar\":{\"outlinewidth\":0,\"ticks\":\"\"},\"colorscale\":[[0.0,\"#0d0887\"],[0.1111111111111111,\"#46039f\"],[0.2222222222222222,\"#7201a8\"],[0.3333333333333333,\"#9c179e\"],[0.4444444444444444,\"#bd3786\"],[0.5555555555555556,\"#d8576b\"],[0.6666666666666666,\"#ed7953\"],[0.7777777777777778,\"#fb9f3a\"],[0.8888888888888888,\"#fdca26\"],[1.0,\"#f0f921\"]]}],\"heatmap\":[{\"type\":\"heatmap\",\"colorbar\":{\"outlinewidth\":0,\"ticks\":\"\"},\"colorscale\":[[0.0,\"#0d0887\"],[0.1111111111111111,\"#46039f\"],[0.2222222222222222,\"#7201a8\"],[0.3333333333333333,\"#9c179e\"],[0.4444444444444444,\"#bd3786\"],[0.5555555555555556,\"#d8576b\"],[0.6666666666666666,\"#ed7953\"],[0.7777777777777778,\"#fb9f3a\"],[0.8888888888888888,\"#fdca26\"],[1.0,\"#f0f921\"]]}],\"heatmapgl\":[{\"type\":\"heatmapgl\",\"colorbar\":{\"outlinewidth\":0,\"ticks\":\"\"},\"colorscale\":[[0.0,\"#0d0887\"],[0.1111111111111111,\"#46039f\"],[0.2222222222222222,\"#7201a8\"],[0.3333333333333333,\"#9c179e\"],[0.4444444444444444,\"#bd3786\"],[0.5555555555555556,\"#d8576b\"],[0.6666666666666666,\"#ed7953\"],[0.7777777777777778,\"#fb9f3a\"],[0.8888888888888888,\"#fdca26\"],[1.0,\"#f0f921\"]]}],\"contourcarpet\":[{\"type\":\"contourcarpet\",\"colorbar\":{\"outlinewidth\":0,\"ticks\":\"\"}}],\"contour\":[{\"type\":\"contour\",\"colorbar\":{\"outlinewidth\":0,\"ticks\":\"\"},\"colorscale\":[[0.0,\"#0d0887\"],[0.1111111111111111,\"#46039f\"],[0.2222222222222222,\"#7201a8\"],[0.3333333333333333,\"#9c179e\"],[0.4444444444444444,\"#bd3786\"],[0.5555555555555556,\"#d8576b\"],[0.6666666666666666,\"#ed7953\"],[0.7777777777777778,\"#fb9f3a\"],[0.8888888888888888,\"#fdca26\"],[1.0,\"#f0f921\"]]}],\"surface\":[{\"type\":\"surface\",\"colorbar\":{\"outlinewidth\":0,\"ticks\":\"\"},\"colorscale\":[[0.0,\"#0d0887\"],[0.1111111111111111,\"#46039f\"],[0.2222222222222222,\"#7201a8\"],[0.3333333333333333,\"#9c179e\"],[0.4444444444444444,\"#bd3786\"],[0.5555555555555556,\"#d8576b\"],[0.6666666666666666,\"#ed7953\"],[0.7777777777777778,\"#fb9f3a\"],[0.8888888888888888,\"#fdca26\"],[1.0,\"#f0f921\"]]}],\"mesh3d\":[{\"type\":\"mesh3d\",\"colorbar\":{\"outlinewidth\":0,\"ticks\":\"\"}}],\"scatter\":[{\"fillpattern\":{\"fillmode\":\"overlay\",\"size\":10,\"solidity\":0.2},\"type\":\"scatter\"}],\"parcoords\":[{\"type\":\"parcoords\",\"line\":{\"colorbar\":{\"outlinewidth\":0,\"ticks\":\"\"}}}],\"scatterpolargl\":[{\"type\":\"scatterpolargl\",\"marker\":{\"colorbar\":{\"outlinewidth\":0,\"ticks\":\"\"}}}],\"bar\":[{\"error_x\":{\"color\":\"#2a3f5f\"},\"error_y\":{\"color\":\"#2a3f5f\"},\"marker\":{\"line\":{\"color\":\"#E5ECF6\",\"width\":0.5},\"pattern\":{\"fillmode\":\"overlay\",\"size\":10,\"solidity\":0.2}},\"type\":\"bar\"}],\"scattergeo\":[{\"type\":\"scattergeo\",\"marker\":{\"colorbar\":{\"outlinewidth\":0,\"ticks\":\"\"}}}],\"scatterpolar\":[{\"type\":\"scatterpolar\",\"marker\":{\"colorbar\":{\"outlinewidth\":0,\"ticks\":\"\"}}}],\"histogram\":[{\"marker\":{\"pattern\":{\"fillmode\":\"overlay\",\"size\":10,\"solidity\":0.2}},\"type\":\"histogram\"}],\"scattergl\":[{\"type\":\"scattergl\",\"marker\":{\"colorbar\":{\"outlinewidth\":0,\"ticks\":\"\"}}}],\"scatter3d\":[{\"type\":\"scatter3d\",\"line\":{\"colorbar\":{\"outlinewidth\":0,\"ticks\":\"\"}},\"marker\":{\"colorbar\":{\"outlinewidth\":0,\"ticks\":\"\"}}}],\"scattermapbox\":[{\"type\":\"scattermapbox\",\"marker\":{\"colorbar\":{\"outlinewidth\":0,\"ticks\":\"\"}}}],\"scatterternary\":[{\"type\":\"scatterternary\",\"marker\":{\"colorbar\":{\"outlinewidth\":0,\"ticks\":\"\"}}}],\"scattercarpet\":[{\"type\":\"scattercarpet\",\"marker\":{\"colorbar\":{\"outlinewidth\":0,\"ticks\":\"\"}}}],\"carpet\":[{\"aaxis\":{\"endlinecolor\":\"#2a3f5f\",\"gridcolor\":\"white\",\"linecolor\":\"white\",\"minorgridcolor\":\"white\",\"startlinecolor\":\"#2a3f5f\"},\"baxis\":{\"endlinecolor\":\"#2a3f5f\",\"gridcolor\":\"white\",\"linecolor\":\"white\",\"minorgridcolor\":\"white\",\"startlinecolor\":\"#2a3f5f\"},\"type\":\"carpet\"}],\"table\":[{\"cells\":{\"fill\":{\"color\":\"#EBF0F8\"},\"line\":{\"color\":\"white\"}},\"header\":{\"fill\":{\"color\":\"#C8D4E3\"},\"line\":{\"color\":\"white\"}},\"type\":\"table\"}],\"barpolar\":[{\"marker\":{\"line\":{\"color\":\"#E5ECF6\",\"width\":0.5},\"pattern\":{\"fillmode\":\"overlay\",\"size\":10,\"solidity\":0.2}},\"type\":\"barpolar\"}],\"pie\":[{\"automargin\":true,\"type\":\"pie\"}]},\"layout\":{\"autotypenumbers\":\"strict\",\"colorway\":[\"#636efa\",\"#EF553B\",\"#00cc96\",\"#ab63fa\",\"#FFA15A\",\"#19d3f3\",\"#FF6692\",\"#B6E880\",\"#FF97FF\",\"#FECB52\"],\"font\":{\"color\":\"#2a3f5f\"},\"hovermode\":\"closest\",\"hoverlabel\":{\"align\":\"left\"},\"paper_bgcolor\":\"white\",\"plot_bgcolor\":\"#E5ECF6\",\"polar\":{\"bgcolor\":\"#E5ECF6\",\"angularaxis\":{\"gridcolor\":\"white\",\"linecolor\":\"white\",\"ticks\":\"\"},\"radialaxis\":{\"gridcolor\":\"white\",\"linecolor\":\"white\",\"ticks\":\"\"}},\"ternary\":{\"bgcolor\":\"#E5ECF6\",\"aaxis\":{\"gridcolor\":\"white\",\"linecolor\":\"white\",\"ticks\":\"\"},\"baxis\":{\"gridcolor\":\"white\",\"linecolor\":\"white\",\"ticks\":\"\"},\"caxis\":{\"gridcolor\":\"white\",\"linecolor\":\"white\",\"ticks\":\"\"}},\"coloraxis\":{\"colorbar\":{\"outlinewidth\":0,\"ticks\":\"\"}},\"colorscale\":{\"sequential\":[[0.0,\"#0d0887\"],[0.1111111111111111,\"#46039f\"],[0.2222222222222222,\"#7201a8\"],[0.3333333333333333,\"#9c179e\"],[0.4444444444444444,\"#bd3786\"],[0.5555555555555556,\"#d8576b\"],[0.6666666666666666,\"#ed7953\"],[0.7777777777777778,\"#fb9f3a\"],[0.8888888888888888,\"#fdca26\"],[1.0,\"#f0f921\"]],\"sequentialminus\":[[0.0,\"#0d0887\"],[0.1111111111111111,\"#46039f\"],[0.2222222222222222,\"#7201a8\"],[0.3333333333333333,\"#9c179e\"],[0.4444444444444444,\"#bd3786\"],[0.5555555555555556,\"#d8576b\"],[0.6666666666666666,\"#ed7953\"],[0.7777777777777778,\"#fb9f3a\"],[0.8888888888888888,\"#fdca26\"],[1.0,\"#f0f921\"]],\"diverging\":[[0,\"#8e0152\"],[0.1,\"#c51b7d\"],[0.2,\"#de77ae\"],[0.3,\"#f1b6da\"],[0.4,\"#fde0ef\"],[0.5,\"#f7f7f7\"],[0.6,\"#e6f5d0\"],[0.7,\"#b8e186\"],[0.8,\"#7fbc41\"],[0.9,\"#4d9221\"],[1,\"#276419\"]]},\"xaxis\":{\"gridcolor\":\"white\",\"linecolor\":\"white\",\"ticks\":\"\",\"title\":{\"standoff\":15},\"zerolinecolor\":\"white\",\"automargin\":true,\"zerolinewidth\":2},\"yaxis\":{\"gridcolor\":\"white\",\"linecolor\":\"white\",\"ticks\":\"\",\"title\":{\"standoff\":15},\"zerolinecolor\":\"white\",\"automargin\":true,\"zerolinewidth\":2},\"scene\":{\"xaxis\":{\"backgroundcolor\":\"#E5ECF6\",\"gridcolor\":\"white\",\"linecolor\":\"white\",\"showbackground\":true,\"ticks\":\"\",\"zerolinecolor\":\"white\",\"gridwidth\":2},\"yaxis\":{\"backgroundcolor\":\"#E5ECF6\",\"gridcolor\":\"white\",\"linecolor\":\"white\",\"showbackground\":true,\"ticks\":\"\",\"zerolinecolor\":\"white\",\"gridwidth\":2},\"zaxis\":{\"backgroundcolor\":\"#E5ECF6\",\"gridcolor\":\"white\",\"linecolor\":\"white\",\"showbackground\":true,\"ticks\":\"\",\"zerolinecolor\":\"white\",\"gridwidth\":2}},\"shapedefaults\":{\"line\":{\"color\":\"#2a3f5f\"}},\"annotationdefaults\":{\"arrowcolor\":\"#2a3f5f\",\"arrowhead\":0,\"arrowwidth\":1},\"geo\":{\"bgcolor\":\"white\",\"landcolor\":\"#E5ECF6\",\"subunitcolor\":\"white\",\"showland\":true,\"showlakes\":true,\"lakecolor\":\"white\"},\"title\":{\"x\":0.05},\"mapbox\":{\"style\":\"light\"}}},\"xaxis\":{\"anchor\":\"y\",\"domain\":[0.0,1.0],\"title\":{\"text\":\"Number of Potential Predictions\"},\"tickmode\":\"array\",\"tickvals\":[0,100,200,300,400,500,600,700,800,900,1000]},\"yaxis\":{\"anchor\":\"x\",\"domain\":[0.55,1.0],\"title\":{\"text\":\"Top 1 Accuracy\"},\"tickformat\":\".0%\"},\"xaxis2\":{\"anchor\":\"y2\",\"domain\":[0.0,1.0],\"title\":{\"text\":\"Number of Potential Predictions\"},\"tickmode\":\"array\",\"tickvals\":[0,100,200,300,400,500,600,700,800,900,1000]},\"yaxis2\":{\"anchor\":\"x2\",\"domain\":[0.0,0.45],\"title\":{\"text\":\"Count\"}},\"annotations\":[{\"font\":{\"size\":16},\"showarrow\":false,\"text\":\"Line Plot: Top 1 Accuracy vs Number of Potential Predictions (up to 1000)\",\"x\":0.5,\"xanchor\":\"center\",\"xref\":\"paper\",\"y\":1.0,\"yanchor\":\"bottom\",\"yref\":\"paper\"},{\"font\":{\"size\":16},\"showarrow\":false,\"text\":\"Histogram: Distribution of Potential Predictions (up to 1000)\",\"x\":0.5,\"xanchor\":\"center\",\"xref\":\"paper\",\"y\":0.45,\"yanchor\":\"bottom\",\"yref\":\"paper\"}],\"title\":{\"text\":\"Top 1 Accuracy vs Number of Potential Predictions (up to 1000)\"},\"height\":800},                        {\"responsive\": true}                    ).then(function(){\n",
              "                            \n",
              "var gd = document.getElementById('d6ebf46a-36b0-41e4-8b1d-17cd991ab856');\n",
              "var x = new MutationObserver(function (mutations, observer) {{\n",
              "        var display = window.getComputedStyle(gd).display;\n",
              "        if (!display || display === 'none') {{\n",
              "            console.log([gd, 'removed!']);\n",
              "            Plotly.purge(gd);\n",
              "            observer.disconnect();\n",
              "        }}\n",
              "}});\n",
              "\n",
              "// Listen for the removal of the full notebook cells\n",
              "var notebookContainer = gd.closest('#notebook-container');\n",
              "if (notebookContainer) {{\n",
              "    x.observe(notebookContainer, {childList: true});\n",
              "}}\n",
              "\n",
              "// Listen for the clearing of the current output cell\n",
              "var outputEl = gd.closest('.output');\n",
              "if (outputEl) {{\n",
              "    x.observe(outputEl, {childList: true});\n",
              "}}\n",
              "\n",
              "                        })                };                            </script>        </div>\n",
              "</body>\n",
              "</html>"
            ]
          },
          "metadata": {}
        },
        {
          "output_type": "stream",
          "name": "stdout",
          "text": [
            "Total number of vessels (up to 1000 potential predictions): 6299\n",
            "Average number of potential predictions per vessel: 446.24\n",
            "Median number of potential predictions per vessel: 449.00\n",
            "Range of potential predictions: 1 to 992\n",
            "Overall Top 1 Accuracy: 51.68%\n",
            "Correlation between number of potential predictions and accuracy: 0.2751\n",
            "\n",
            "Number of vessels with more than 1000 potential predictions: 0\n"
          ]
        }
      ]
    },
    {
      "cell_type": "code",
      "source": [
        "def compute_top_1_accuracy_by_dimension(dimension: str, top_n: int) -> pd.Series:\n",
        "    \"\"\"\n",
        "    Compute top 1 accuracy for different categories within a specified dimension.\n",
        "\n",
        "    Args:\n",
        "        dimension (str): The column name of the dimension to analyze.\n",
        "        top_n (int): The number of top categories to consider.\n",
        "\n",
        "    Returns:\n",
        "        pd.Series: A series containing the top 1 accuracy for each category.\n",
        "    \"\"\"\n",
        "    # Get the top N categories for the specified dimension\n",
        "    top_categories = ranked_destinations[dimension].value_counts().nlargest(top_n).index\n",
        "\n",
        "    accuracies = {}\n",
        "    for category in top_categories:\n",
        "        # Filter the dataset for the current category\n",
        "        subset = ranked_destinations[ranked_destinations[dimension] == category]\n",
        "        # Compute and store the mean accuracy for this category\n",
        "        accuracies[category] = subset.groupby('vessel_id').apply(calculate_top_1_accuracy).mean()\n",
        "\n",
        "    return pd.Series(accuracies)\n",
        "\n",
        "# Compute top 1 accuracy for top 4 vessel types\n",
        "vessel_type_accuracy = compute_top_1_accuracy_by_dimension('vessel_type', 4)\n",
        "\n",
        "# Compute top 1 accuracy for top 5 product families\n",
        "product_family_accuracy = compute_top_1_accuracy_by_dimension('product_family', 5)\n",
        "\n",
        "# Create a subplot figure with two rows\n",
        "fig3 = make_subplots(rows=2, cols=1, subplot_titles=('Top 1 Accuracy by Vessel Type', 'Top 1 Accuracy by Product Family'))\n",
        "\n",
        "# Add bar chart for vessel type accuracy\n",
        "fig3.add_trace(go.Bar(\n",
        "    x=vessel_type_accuracy.index,\n",
        "    y=vessel_type_accuracy.values,\n",
        "    text=[f'{acc:.2%}' for acc in vessel_type_accuracy.values],\n",
        "    textposition='auto'\n",
        "), row=1, col=1)\n",
        "\n",
        "# Add bar chart for product family accuracy\n",
        "fig3.add_trace(go.Bar(\n",
        "    x=product_family_accuracy.index,\n",
        "    y=product_family_accuracy.values,\n",
        "    text=[f'{acc:.2%}' for acc in product_family_accuracy.values],\n",
        "    textposition='auto'\n",
        "), row=2, col=1)\n",
        "\n",
        "# Update layout of the figure\n",
        "fig3.update_layout(height=800, title_text=\"Top 1 Accuracy by Vessel Type and Product Family\")\n",
        "\n",
        "# Update x-axis labels\n",
        "fig3.update_xaxes(title_text=\"Vessel Type\", row=1, col=1)\n",
        "fig3.update_xaxes(title_text=\"Product Family\", row=2, col=1)\n",
        "\n",
        "# Update y-axis labels and format\n",
        "fig3.update_yaxes(title_text=\"Top 1 Accuracy\", tickformat='.0%', row=1, col=1)\n",
        "fig3.update_yaxes(title_text=\"Top 1 Accuracy\", tickformat='.0%', row=2, col=1)\n",
        "\n",
        "# Display the figure\n",
        "fig3.show()\n"
      ],
      "metadata": {
        "colab": {
          "base_uri": "https://localhost:8080/",
          "height": 817
        },
        "id": "7953_4of14vD",
        "outputId": "f9d47b75-bd68-418b-c5f7-f400c85f5acc"
      },
      "id": "7953_4of14vD",
      "execution_count": 56,
      "outputs": [
        {
          "output_type": "display_data",
          "data": {
            "text/html": [
              "<html>\n",
              "<head><meta charset=\"utf-8\" /></head>\n",
              "<body>\n",
              "    <div>            <script src=\"https://cdnjs.cloudflare.com/ajax/libs/mathjax/2.7.5/MathJax.js?config=TeX-AMS-MML_SVG\"></script><script type=\"text/javascript\">if (window.MathJax && window.MathJax.Hub && window.MathJax.Hub.Config) {window.MathJax.Hub.Config({SVG: {font: \"STIX-Web\"}});}</script>                <script type=\"text/javascript\">window.PlotlyConfig = {MathJaxConfig: 'local'};</script>\n",
              "        <script charset=\"utf-8\" src=\"https://cdn.plot.ly/plotly-2.24.1.min.js\"></script>                <div id=\"e68e05ce-a704-4589-9af5-77c96dcc2ba9\" class=\"plotly-graph-div\" style=\"height:800px; width:100%;\"></div>            <script type=\"text/javascript\">                                    window.PLOTLYENV=window.PLOTLYENV || {};                                    if (document.getElementById(\"e68e05ce-a704-4589-9af5-77c96dcc2ba9\")) {                    Plotly.newPlot(                        \"e68e05ce-a704-4589-9af5-77c96dcc2ba9\",                        [{\"text\":[\"52.76%\",\"46.57%\",\"49.44%\",\"62.90%\"],\"textposition\":\"auto\",\"x\":[\"Crude\\u002fOil Products Tanker\",\"Chemical\\u002fOil Products Tanker\",\"Products Tanker\",\"Crude Oil Tanker\"],\"y\":[0.5276157804459691,0.46568627450980393,0.49443882709807885,0.6289855072463768],\"type\":\"bar\",\"xaxis\":\"x\",\"yaxis\":\"y\"},{\"text\":[\"48.14%\",\"47.53%\",\"64.43%\",\"48.92%\",\"50.00%\"],\"textposition\":\"auto\",\"x\":[\"clean petroleum products\",\"chem\\u002fbio\",\"crude oil\\u002fcondensate\",\"dirty petroleum products\",\"minor bulks\"],\"y\":[0.48142229324810226,0.4753004005340454,0.6442658875091307,0.48917748917748916,0.5],\"type\":\"bar\",\"xaxis\":\"x2\",\"yaxis\":\"y2\"}],                        {\"template\":{\"data\":{\"histogram2dcontour\":[{\"type\":\"histogram2dcontour\",\"colorbar\":{\"outlinewidth\":0,\"ticks\":\"\"},\"colorscale\":[[0.0,\"#0d0887\"],[0.1111111111111111,\"#46039f\"],[0.2222222222222222,\"#7201a8\"],[0.3333333333333333,\"#9c179e\"],[0.4444444444444444,\"#bd3786\"],[0.5555555555555556,\"#d8576b\"],[0.6666666666666666,\"#ed7953\"],[0.7777777777777778,\"#fb9f3a\"],[0.8888888888888888,\"#fdca26\"],[1.0,\"#f0f921\"]]}],\"choropleth\":[{\"type\":\"choropleth\",\"colorbar\":{\"outlinewidth\":0,\"ticks\":\"\"}}],\"histogram2d\":[{\"type\":\"histogram2d\",\"colorbar\":{\"outlinewidth\":0,\"ticks\":\"\"},\"colorscale\":[[0.0,\"#0d0887\"],[0.1111111111111111,\"#46039f\"],[0.2222222222222222,\"#7201a8\"],[0.3333333333333333,\"#9c179e\"],[0.4444444444444444,\"#bd3786\"],[0.5555555555555556,\"#d8576b\"],[0.6666666666666666,\"#ed7953\"],[0.7777777777777778,\"#fb9f3a\"],[0.8888888888888888,\"#fdca26\"],[1.0,\"#f0f921\"]]}],\"heatmap\":[{\"type\":\"heatmap\",\"colorbar\":{\"outlinewidth\":0,\"ticks\":\"\"},\"colorscale\":[[0.0,\"#0d0887\"],[0.1111111111111111,\"#46039f\"],[0.2222222222222222,\"#7201a8\"],[0.3333333333333333,\"#9c179e\"],[0.4444444444444444,\"#bd3786\"],[0.5555555555555556,\"#d8576b\"],[0.6666666666666666,\"#ed7953\"],[0.7777777777777778,\"#fb9f3a\"],[0.8888888888888888,\"#fdca26\"],[1.0,\"#f0f921\"]]}],\"heatmapgl\":[{\"type\":\"heatmapgl\",\"colorbar\":{\"outlinewidth\":0,\"ticks\":\"\"},\"colorscale\":[[0.0,\"#0d0887\"],[0.1111111111111111,\"#46039f\"],[0.2222222222222222,\"#7201a8\"],[0.3333333333333333,\"#9c179e\"],[0.4444444444444444,\"#bd3786\"],[0.5555555555555556,\"#d8576b\"],[0.6666666666666666,\"#ed7953\"],[0.7777777777777778,\"#fb9f3a\"],[0.8888888888888888,\"#fdca26\"],[1.0,\"#f0f921\"]]}],\"contourcarpet\":[{\"type\":\"contourcarpet\",\"colorbar\":{\"outlinewidth\":0,\"ticks\":\"\"}}],\"contour\":[{\"type\":\"contour\",\"colorbar\":{\"outlinewidth\":0,\"ticks\":\"\"},\"colorscale\":[[0.0,\"#0d0887\"],[0.1111111111111111,\"#46039f\"],[0.2222222222222222,\"#7201a8\"],[0.3333333333333333,\"#9c179e\"],[0.4444444444444444,\"#bd3786\"],[0.5555555555555556,\"#d8576b\"],[0.6666666666666666,\"#ed7953\"],[0.7777777777777778,\"#fb9f3a\"],[0.8888888888888888,\"#fdca26\"],[1.0,\"#f0f921\"]]}],\"surface\":[{\"type\":\"surface\",\"colorbar\":{\"outlinewidth\":0,\"ticks\":\"\"},\"colorscale\":[[0.0,\"#0d0887\"],[0.1111111111111111,\"#46039f\"],[0.2222222222222222,\"#7201a8\"],[0.3333333333333333,\"#9c179e\"],[0.4444444444444444,\"#bd3786\"],[0.5555555555555556,\"#d8576b\"],[0.6666666666666666,\"#ed7953\"],[0.7777777777777778,\"#fb9f3a\"],[0.8888888888888888,\"#fdca26\"],[1.0,\"#f0f921\"]]}],\"mesh3d\":[{\"type\":\"mesh3d\",\"colorbar\":{\"outlinewidth\":0,\"ticks\":\"\"}}],\"scatter\":[{\"fillpattern\":{\"fillmode\":\"overlay\",\"size\":10,\"solidity\":0.2},\"type\":\"scatter\"}],\"parcoords\":[{\"type\":\"parcoords\",\"line\":{\"colorbar\":{\"outlinewidth\":0,\"ticks\":\"\"}}}],\"scatterpolargl\":[{\"type\":\"scatterpolargl\",\"marker\":{\"colorbar\":{\"outlinewidth\":0,\"ticks\":\"\"}}}],\"bar\":[{\"error_x\":{\"color\":\"#2a3f5f\"},\"error_y\":{\"color\":\"#2a3f5f\"},\"marker\":{\"line\":{\"color\":\"#E5ECF6\",\"width\":0.5},\"pattern\":{\"fillmode\":\"overlay\",\"size\":10,\"solidity\":0.2}},\"type\":\"bar\"}],\"scattergeo\":[{\"type\":\"scattergeo\",\"marker\":{\"colorbar\":{\"outlinewidth\":0,\"ticks\":\"\"}}}],\"scatterpolar\":[{\"type\":\"scatterpolar\",\"marker\":{\"colorbar\":{\"outlinewidth\":0,\"ticks\":\"\"}}}],\"histogram\":[{\"marker\":{\"pattern\":{\"fillmode\":\"overlay\",\"size\":10,\"solidity\":0.2}},\"type\":\"histogram\"}],\"scattergl\":[{\"type\":\"scattergl\",\"marker\":{\"colorbar\":{\"outlinewidth\":0,\"ticks\":\"\"}}}],\"scatter3d\":[{\"type\":\"scatter3d\",\"line\":{\"colorbar\":{\"outlinewidth\":0,\"ticks\":\"\"}},\"marker\":{\"colorbar\":{\"outlinewidth\":0,\"ticks\":\"\"}}}],\"scattermapbox\":[{\"type\":\"scattermapbox\",\"marker\":{\"colorbar\":{\"outlinewidth\":0,\"ticks\":\"\"}}}],\"scatterternary\":[{\"type\":\"scatterternary\",\"marker\":{\"colorbar\":{\"outlinewidth\":0,\"ticks\":\"\"}}}],\"scattercarpet\":[{\"type\":\"scattercarpet\",\"marker\":{\"colorbar\":{\"outlinewidth\":0,\"ticks\":\"\"}}}],\"carpet\":[{\"aaxis\":{\"endlinecolor\":\"#2a3f5f\",\"gridcolor\":\"white\",\"linecolor\":\"white\",\"minorgridcolor\":\"white\",\"startlinecolor\":\"#2a3f5f\"},\"baxis\":{\"endlinecolor\":\"#2a3f5f\",\"gridcolor\":\"white\",\"linecolor\":\"white\",\"minorgridcolor\":\"white\",\"startlinecolor\":\"#2a3f5f\"},\"type\":\"carpet\"}],\"table\":[{\"cells\":{\"fill\":{\"color\":\"#EBF0F8\"},\"line\":{\"color\":\"white\"}},\"header\":{\"fill\":{\"color\":\"#C8D4E3\"},\"line\":{\"color\":\"white\"}},\"type\":\"table\"}],\"barpolar\":[{\"marker\":{\"line\":{\"color\":\"#E5ECF6\",\"width\":0.5},\"pattern\":{\"fillmode\":\"overlay\",\"size\":10,\"solidity\":0.2}},\"type\":\"barpolar\"}],\"pie\":[{\"automargin\":true,\"type\":\"pie\"}]},\"layout\":{\"autotypenumbers\":\"strict\",\"colorway\":[\"#636efa\",\"#EF553B\",\"#00cc96\",\"#ab63fa\",\"#FFA15A\",\"#19d3f3\",\"#FF6692\",\"#B6E880\",\"#FF97FF\",\"#FECB52\"],\"font\":{\"color\":\"#2a3f5f\"},\"hovermode\":\"closest\",\"hoverlabel\":{\"align\":\"left\"},\"paper_bgcolor\":\"white\",\"plot_bgcolor\":\"#E5ECF6\",\"polar\":{\"bgcolor\":\"#E5ECF6\",\"angularaxis\":{\"gridcolor\":\"white\",\"linecolor\":\"white\",\"ticks\":\"\"},\"radialaxis\":{\"gridcolor\":\"white\",\"linecolor\":\"white\",\"ticks\":\"\"}},\"ternary\":{\"bgcolor\":\"#E5ECF6\",\"aaxis\":{\"gridcolor\":\"white\",\"linecolor\":\"white\",\"ticks\":\"\"},\"baxis\":{\"gridcolor\":\"white\",\"linecolor\":\"white\",\"ticks\":\"\"},\"caxis\":{\"gridcolor\":\"white\",\"linecolor\":\"white\",\"ticks\":\"\"}},\"coloraxis\":{\"colorbar\":{\"outlinewidth\":0,\"ticks\":\"\"}},\"colorscale\":{\"sequential\":[[0.0,\"#0d0887\"],[0.1111111111111111,\"#46039f\"],[0.2222222222222222,\"#7201a8\"],[0.3333333333333333,\"#9c179e\"],[0.4444444444444444,\"#bd3786\"],[0.5555555555555556,\"#d8576b\"],[0.6666666666666666,\"#ed7953\"],[0.7777777777777778,\"#fb9f3a\"],[0.8888888888888888,\"#fdca26\"],[1.0,\"#f0f921\"]],\"sequentialminus\":[[0.0,\"#0d0887\"],[0.1111111111111111,\"#46039f\"],[0.2222222222222222,\"#7201a8\"],[0.3333333333333333,\"#9c179e\"],[0.4444444444444444,\"#bd3786\"],[0.5555555555555556,\"#d8576b\"],[0.6666666666666666,\"#ed7953\"],[0.7777777777777778,\"#fb9f3a\"],[0.8888888888888888,\"#fdca26\"],[1.0,\"#f0f921\"]],\"diverging\":[[0,\"#8e0152\"],[0.1,\"#c51b7d\"],[0.2,\"#de77ae\"],[0.3,\"#f1b6da\"],[0.4,\"#fde0ef\"],[0.5,\"#f7f7f7\"],[0.6,\"#e6f5d0\"],[0.7,\"#b8e186\"],[0.8,\"#7fbc41\"],[0.9,\"#4d9221\"],[1,\"#276419\"]]},\"xaxis\":{\"gridcolor\":\"white\",\"linecolor\":\"white\",\"ticks\":\"\",\"title\":{\"standoff\":15},\"zerolinecolor\":\"white\",\"automargin\":true,\"zerolinewidth\":2},\"yaxis\":{\"gridcolor\":\"white\",\"linecolor\":\"white\",\"ticks\":\"\",\"title\":{\"standoff\":15},\"zerolinecolor\":\"white\",\"automargin\":true,\"zerolinewidth\":2},\"scene\":{\"xaxis\":{\"backgroundcolor\":\"#E5ECF6\",\"gridcolor\":\"white\",\"linecolor\":\"white\",\"showbackground\":true,\"ticks\":\"\",\"zerolinecolor\":\"white\",\"gridwidth\":2},\"yaxis\":{\"backgroundcolor\":\"#E5ECF6\",\"gridcolor\":\"white\",\"linecolor\":\"white\",\"showbackground\":true,\"ticks\":\"\",\"zerolinecolor\":\"white\",\"gridwidth\":2},\"zaxis\":{\"backgroundcolor\":\"#E5ECF6\",\"gridcolor\":\"white\",\"linecolor\":\"white\",\"showbackground\":true,\"ticks\":\"\",\"zerolinecolor\":\"white\",\"gridwidth\":2}},\"shapedefaults\":{\"line\":{\"color\":\"#2a3f5f\"}},\"annotationdefaults\":{\"arrowcolor\":\"#2a3f5f\",\"arrowhead\":0,\"arrowwidth\":1},\"geo\":{\"bgcolor\":\"white\",\"landcolor\":\"#E5ECF6\",\"subunitcolor\":\"white\",\"showland\":true,\"showlakes\":true,\"lakecolor\":\"white\"},\"title\":{\"x\":0.05},\"mapbox\":{\"style\":\"light\"}}},\"xaxis\":{\"anchor\":\"y\",\"domain\":[0.0,1.0],\"title\":{\"text\":\"Vessel Type\"}},\"yaxis\":{\"anchor\":\"x\",\"domain\":[0.625,1.0],\"title\":{\"text\":\"Top 1 Accuracy\"},\"tickformat\":\".0%\"},\"xaxis2\":{\"anchor\":\"y2\",\"domain\":[0.0,1.0],\"title\":{\"text\":\"Product Family\"}},\"yaxis2\":{\"anchor\":\"x2\",\"domain\":[0.0,0.375],\"title\":{\"text\":\"Top 1 Accuracy\"},\"tickformat\":\".0%\"},\"annotations\":[{\"font\":{\"size\":16},\"showarrow\":false,\"text\":\"Top 1 Accuracy by Vessel Type\",\"x\":0.5,\"xanchor\":\"center\",\"xref\":\"paper\",\"y\":1.0,\"yanchor\":\"bottom\",\"yref\":\"paper\"},{\"font\":{\"size\":16},\"showarrow\":false,\"text\":\"Top 1 Accuracy by Product Family\",\"x\":0.5,\"xanchor\":\"center\",\"xref\":\"paper\",\"y\":0.375,\"yanchor\":\"bottom\",\"yref\":\"paper\"}],\"title\":{\"text\":\"Top 1 Accuracy by Vessel Type and Product Family\"},\"height\":800},                        {\"responsive\": true}                    ).then(function(){\n",
              "                            \n",
              "var gd = document.getElementById('e68e05ce-a704-4589-9af5-77c96dcc2ba9');\n",
              "var x = new MutationObserver(function (mutations, observer) {{\n",
              "        var display = window.getComputedStyle(gd).display;\n",
              "        if (!display || display === 'none') {{\n",
              "            console.log([gd, 'removed!']);\n",
              "            Plotly.purge(gd);\n",
              "            observer.disconnect();\n",
              "        }}\n",
              "}});\n",
              "\n",
              "// Listen for the removal of the full notebook cells\n",
              "var notebookContainer = gd.closest('#notebook-container');\n",
              "if (notebookContainer) {{\n",
              "    x.observe(notebookContainer, {childList: true});\n",
              "}}\n",
              "\n",
              "// Listen for the clearing of the current output cell\n",
              "var outputEl = gd.closest('.output');\n",
              "if (outputEl) {{\n",
              "    x.observe(outputEl, {childList: true});\n",
              "}}\n",
              "\n",
              "                        })                };                            </script>        </div>\n",
              "</body>\n",
              "</html>"
            ]
          },
          "metadata": {}
        }
      ]
    },
    {
      "cell_type": "code",
      "source": [],
      "metadata": {
        "id": "Uqx6wtI086HB"
      },
      "id": "Uqx6wtI086HB",
      "execution_count": 56,
      "outputs": []
    }
  ],
  "metadata": {
    "kernelspec": {
      "display_name": "Python 3 (ipykernel)",
      "language": "python",
      "name": "python3"
    },
    "language_info": {
      "codemirror_mode": {
        "name": "ipython",
        "version": 3
      },
      "file_extension": ".py",
      "mimetype": "text/x-python",
      "name": "python",
      "nbconvert_exporter": "python",
      "pygments_lexer": "ipython3",
      "version": "3.9.6"
    },
    "colab": {
      "provenance": [],
      "toc_visible": true,
      "include_colab_link": true
    }
  },
  "nbformat": 4,
  "nbformat_minor": 5
}