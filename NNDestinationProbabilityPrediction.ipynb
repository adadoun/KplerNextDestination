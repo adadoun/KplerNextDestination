{
  "cells": [
    {
      "cell_type": "markdown",
      "metadata": {
        "id": "view-in-github",
        "colab_type": "text"
      },
      "source": [
        "<a href=\"https://colab.research.google.com/github/adadoun/KplerNextDestination/blob/main/NNDestinationProbabilityPrediction.ipynb\" target=\"_parent\"><img src=\"https://colab.research.google.com/assets/colab-badge.svg\" alt=\"Open In Colab\"/></a>"
      ]
    },
    {
      "cell_type": "markdown",
      "id": "ac724e400bf56f2b",
      "metadata": {
        "collapsed": false,
        "id": "ac724e400bf56f2b"
      },
      "source": [
        "## Import Libraries"
      ]
    },
    {
      "cell_type": "code",
      "execution_count": 1,
      "id": "VytWJK_eq_gn",
      "metadata": {
        "colab": {
          "base_uri": "https://localhost:8080/"
        },
        "id": "VytWJK_eq_gn",
        "outputId": "1bc00cd4-b65b-4ce8-88bb-794154f65549"
      },
      "outputs": [
        {
          "output_type": "stream",
          "name": "stdout",
          "text": [
            "Collecting category_encoders\n",
            "  Downloading category_encoders-2.6.3-py2.py3-none-any.whl.metadata (8.0 kB)\n",
            "Requirement already satisfied: numpy>=1.14.0 in /usr/local/lib/python3.10/dist-packages (from category_encoders) (1.26.4)\n",
            "Requirement already satisfied: scikit-learn>=0.20.0 in /usr/local/lib/python3.10/dist-packages (from category_encoders) (1.3.2)\n",
            "Requirement already satisfied: scipy>=1.0.0 in /usr/local/lib/python3.10/dist-packages (from category_encoders) (1.13.1)\n",
            "Requirement already satisfied: statsmodels>=0.9.0 in /usr/local/lib/python3.10/dist-packages (from category_encoders) (0.14.2)\n",
            "Requirement already satisfied: pandas>=1.0.5 in /usr/local/lib/python3.10/dist-packages (from category_encoders) (2.1.4)\n",
            "Requirement already satisfied: patsy>=0.5.1 in /usr/local/lib/python3.10/dist-packages (from category_encoders) (0.5.6)\n",
            "Requirement already satisfied: python-dateutil>=2.8.2 in /usr/local/lib/python3.10/dist-packages (from pandas>=1.0.5->category_encoders) (2.8.2)\n",
            "Requirement already satisfied: pytz>=2020.1 in /usr/local/lib/python3.10/dist-packages (from pandas>=1.0.5->category_encoders) (2024.1)\n",
            "Requirement already satisfied: tzdata>=2022.1 in /usr/local/lib/python3.10/dist-packages (from pandas>=1.0.5->category_encoders) (2024.1)\n",
            "Requirement already satisfied: six in /usr/local/lib/python3.10/dist-packages (from patsy>=0.5.1->category_encoders) (1.16.0)\n",
            "Requirement already satisfied: joblib>=1.1.1 in /usr/local/lib/python3.10/dist-packages (from scikit-learn>=0.20.0->category_encoders) (1.4.2)\n",
            "Requirement already satisfied: threadpoolctl>=2.0.0 in /usr/local/lib/python3.10/dist-packages (from scikit-learn>=0.20.0->category_encoders) (3.5.0)\n",
            "Requirement already satisfied: packaging>=21.3 in /usr/local/lib/python3.10/dist-packages (from statsmodels>=0.9.0->category_encoders) (24.1)\n",
            "Downloading category_encoders-2.6.3-py2.py3-none-any.whl (81 kB)\n",
            "\u001b[2K   \u001b[90m━━━━━━━━━━━━━━━━━━━━━━━━━━━━━━━━━━━━━━━━\u001b[0m \u001b[32m81.9/81.9 kB\u001b[0m \u001b[31m1.7 MB/s\u001b[0m eta \u001b[36m0:00:00\u001b[0m\n",
            "\u001b[?25hInstalling collected packages: category_encoders\n",
            "Successfully installed category_encoders-2.6.3\n"
          ]
        }
      ],
      "source": [
        "!pip install category_encoders"
      ]
    },
    {
      "cell_type": "code",
      "source": [
        "from google.colab import drive\n",
        "drive.mount('/content/drive')"
      ],
      "metadata": {
        "id": "-A_Lm456sGoZ",
        "colab": {
          "base_uri": "https://localhost:8080/"
        },
        "outputId": "063740fc-ae35-43bc-9f8c-aacb982dbcf3"
      },
      "id": "-A_Lm456sGoZ",
      "execution_count": 2,
      "outputs": [
        {
          "output_type": "stream",
          "name": "stdout",
          "text": [
            "Mounted at /content/drive\n"
          ]
        }
      ]
    },
    {
      "cell_type": "code",
      "execution_count": 4,
      "id": "initial_id",
      "metadata": {
        "id": "initial_id"
      },
      "outputs": [],
      "source": [
        "import pandas as pd\n",
        "import numpy as np\n",
        "from collections import defaultdict\n",
        "from sklearn.model_selection import train_test_split\n",
        "from sklearn.preprocessing import LabelEncoder, OneHotEncoder, StandardScaler\n",
        "from sklearn.metrics import accuracy_score, roc_auc_score, precision_score, recall_score, f1_score\n",
        "from category_encoders import TargetEncoder\n",
        "import lightgbm as lgb\n",
        "import plotly.graph_objects as go\n",
        "from plotly.subplots import make_subplots\n",
        "# PyTorch imports\n",
        "import torch\n",
        "import torch.nn as nn\n",
        "import torch.optim as optim\n",
        "from torch.utils.data import Dataset, DataLoader\n",
        "from typing import List, Tuple, Dict, Any\n",
        "import warnings\n",
        "warnings.filterwarnings('ignore')"
      ]
    },
    {
      "cell_type": "markdown",
      "source": [
        "## Load train/test data"
      ],
      "metadata": {
        "id": "XpCTrvZ_R5q5"
      },
      "id": "XpCTrvZ_R5q5"
    },
    {
      "cell_type": "code",
      "source": [
        "# Load Data\n",
        "train_df = pd.read_csv('drive/MyDrive/Collab_DATA/KplerData/train_trades_csv_prepared.csv')\n",
        "test_df = pd.read_csv('drive/MyDrive/Collab_DATA/KplerData/test_trades_csv_prepared.csv')"
      ],
      "metadata": {
        "id": "5sX4oEHCRpFk"
      },
      "id": "5sX4oEHCRpFk",
      "execution_count": 5,
      "outputs": []
    },
    {
      "cell_type": "markdown",
      "id": "55310f2f0d91d8c8",
      "metadata": {
        "collapsed": false,
        "id": "55310f2f0d91d8c8"
      },
      "source": [
        "## Define Utilities functions\n",
        "\n",
        " 1. torch.nn.Module: This is the base class for all neural network modules in PyTorch.\n",
        "\n",
        " 2. torch.utils.data.Dataset: This is an abstract class representing a dataset.\n",
        "    Custom datasets should subclass this and implement __len__ and __getitem__.\n",
        "\n",
        " 3. torch.nn.Embedding: This layer is used to learn dense vector representations of discrete variables.\n",
        "\n",
        " 4. torch.nn.Sequential: This is a container that allows for easy sequential composition of layers.\n",
        "\n",
        " 5. model.train() and model.eval(): These methods set the mode of the model, which affects\n",
        "    the behavior of certain layers (like Dropout and BatchNorm) during training and inference.\n",
        "\n",
        " 6. optimizer.zero_grad(): This resets the gradients of all parameters to zero before the backward pass.\n",
        "\n",
        " 7. loss.backward(): This computes the gradient of the loss with respect to the parameters.\n",
        "\n",
        " 8. optimizer.step(): This updates the parameters based on the computed gradients.\n",
        "\n",
        " 9. torch.no_grad(): This context manager disables gradient calculation, which reduces memory usage\n",
        "    and speeds up computations when you don't need gradients (like during validation/testing).\n"
      ]
    },
    {
      "cell_type": "code",
      "execution_count": 6,
      "id": "fd6537a7088df188",
      "metadata": {
        "colab": {
          "base_uri": "https://localhost:8080/"
        },
        "id": "fd6537a7088df188",
        "outputId": "c08d2d68-f4b1-4cf4-d4ee-87177d9f5116"
      },
      "outputs": [
        {
          "output_type": "stream",
          "name": "stdout",
          "text": [
            "Libraries imported and functions defined successfully.\n"
          ]
        }
      ],
      "source": [
        "# Preprocessing function\n",
        "def preprocess_data(df: pd.DataFrame, is_train: bool = True, cat_encodings: dict = None, scaler: StandardScaler = None) -> tuple:\n",
        "    \"\"\"\n",
        "    Preprocess the data by encoding categorical variables and scaling numerical variables.\n",
        "\n",
        "    Args:\n",
        "        df (pd.DataFrame): Input dataframe\n",
        "        is_train (bool): Flag to indicate if this is training data\n",
        "        cat_encodings (dict): Dictionary of categorical encodings (if not training)\n",
        "        scaler (StandardScaler): Fitted StandardScaler object (if not training)\n",
        "\n",
        "    Returns:\n",
        "        tuple: Processed dataframe, categorical encodings, scaler, categorical column names, numerical column names\n",
        "    \"\"\"\n",
        "    # Define categorical and numerical columns\n",
        "    cat_cols = ['vessel_id', 'origin', 'destination', 'origin_h3_res2_index', 'destination_h3_res2_index',\n",
        "                'product_family', 'vessel_type', 'products', 'flag_name', 'origin_country_code',\n",
        "                'destination_country_code', 'previous_visited_port_1', 'previous_visited_port_2',\n",
        "                'previous_visited_port_3', 'probability_level']\n",
        "    num_cols = ['day_of_week', 'month', 'traded_volume', 'dead_weight', 'vessel_age',\n",
        "                'origin_draught_change', 'destination_draught_change', 'origin_cargo_volume',\n",
        "                'destination_cargo_volume', 'od_distance', 'p1_destination_probability',\n",
        "                'p2_destination_probability', 'p3_destination_probability', 'p4_destination_probability',\n",
        "                'merged_destination_probability']\n",
        "\n",
        "    if is_train:\n",
        "        # Create categorical encodings for training data\n",
        "        cat_encodings = {col: defaultdict(lambda: 0, {val: i + 1 for i, val in enumerate(df[col].unique())}) for col in cat_cols}\n",
        "        for col in cat_encodings:\n",
        "            cat_encodings[col]['<unknown>'] = len(cat_encodings[col])\n",
        "        # Fit and transform numerical columns\n",
        "        scaler = StandardScaler()\n",
        "        df[num_cols] = scaler.fit_transform(df[num_cols].fillna(0))\n",
        "    else:\n",
        "        # Transform numerical columns using pre-fitted scaler\n",
        "        df[num_cols] = scaler.transform(df[num_cols].fillna(0))\n",
        "\n",
        "    # Encode categorical columns\n",
        "    for col in cat_cols:\n",
        "        df[col] = df[col].map(lambda x: cat_encodings[col][x] if x in cat_encodings[col] else cat_encodings[col]['<unknown>'])\n",
        "\n",
        "    return df, cat_encodings, scaler, cat_cols, num_cols\n",
        "\n",
        "# Dataset class\n",
        "class VesselDataset(Dataset):\n",
        "    \"\"\"\n",
        "    Custom Dataset class for vessel data.\n",
        "\n",
        "    Attributes:\n",
        "        features (pd.DataFrame): Feature data\n",
        "        labels (pd.Series): Labels (optional)\n",
        "    \"\"\"\n",
        "\n",
        "    def __init__(self, features: pd.DataFrame, labels: pd.Series = None):\n",
        "        \"\"\"\n",
        "        Initialize the dataset.\n",
        "\n",
        "        Args:\n",
        "            features (pd.DataFrame): Feature data\n",
        "            labels (pd.Series, optional): Labels\n",
        "        \"\"\"\n",
        "        self.features = features\n",
        "        self.labels = labels\n",
        "\n",
        "    def __len__(self) -> int:\n",
        "        \"\"\"\n",
        "        Get the length of the dataset.\n",
        "\n",
        "        Returns:\n",
        "            int: Number of samples in the dataset\n",
        "        \"\"\"\n",
        "        return len(self.features)\n",
        "\n",
        "    def __getitem__(self, idx: int) -> tuple:\n",
        "        \"\"\"\n",
        "        Get a sample from the dataset.\n",
        "\n",
        "        Args:\n",
        "            idx (int): Index of the sample\n",
        "\n",
        "        Returns:\n",
        "            tuple: Features and label (if available) for the sample\n",
        "        \"\"\"\n",
        "        if self.labels is not None:\n",
        "            return torch.tensor(self.features.iloc[idx].values, dtype=torch.float), torch.tensor(self.labels.iloc[idx], dtype=torch.float)\n",
        "        return torch.tensor(self.features.iloc[idx].values, dtype=torch.float)\n",
        "\n",
        "# Model definition\n",
        "class VesselDestinationModel(nn.Module):\n",
        "    \"\"\"\n",
        "    Neural network model for vessel destination prediction.\n",
        "\n",
        "    Attributes:\n",
        "        embeddings (nn.ModuleList): List of embedding layers for categorical features\n",
        "        main_network (nn.Sequential): Main network layers\n",
        "        final_layer (nn.Linear): Final linear layer\n",
        "        activation (nn.Sigmoid): Sigmoid activation function\n",
        "    \"\"\"\n",
        "\n",
        "    def __init__(self, cat_dims: list, num_dims: int, embedding_dims: list = [128, 128, 128, 64, 64, 10, 10, 10, 10, 10, 10, 128, 128, 128, 1],\n",
        "                 hidden_dims: list = [1024, 512, 256, 128, 64, 32]):\n",
        "        \"\"\"\n",
        "        Initialize the model.\n",
        "\n",
        "        Args:\n",
        "            cat_dims (list): Dimensions of categorical features\n",
        "            num_dims (int): Number of numerical features\n",
        "            embedding_dims (list): Dimensions for embeddings\n",
        "            hidden_dims (list): Dimensions of hidden layers\n",
        "        \"\"\"\n",
        "        super(VesselDestinationModel, self).__init__()\n",
        "\n",
        "        # Create embedding layers for each categorical feature\n",
        "        self.embeddings = nn.ModuleList([nn.Embedding(dim, embedding_dims[i]) for i, dim in enumerate(cat_dims)])\n",
        "\n",
        "        total_embedding_dim = sum(embedding_dims)\n",
        "        self.num_features = num_dims\n",
        "        total_input_dim = total_embedding_dim + self.num_features\n",
        "\n",
        "        # Create main network layers\n",
        "        layers = []\n",
        "        input_dim = total_input_dim\n",
        "        for hidden_dim in hidden_dims:\n",
        "            layers.append(nn.Linear(input_dim, hidden_dim))\n",
        "            layers.append(nn.ReLU())\n",
        "            input_dim = hidden_dim\n",
        "\n",
        "        layers.append(nn.Linear(hidden_dims[-1], 1))\n",
        "\n",
        "        self.main_network = nn.Sequential(*layers)\n",
        "\n",
        "        # Final layer for combining main output and element-wise products\n",
        "        self.final_layer = nn.Linear(3, 1)\n",
        "        self.activation = nn.Sigmoid()\n",
        "\n",
        "    def forward(self, x: torch.Tensor) -> torch.Tensor:\n",
        "        \"\"\"\n",
        "        Forward pass of the model.\n",
        "\n",
        "        Args:\n",
        "            x (torch.Tensor): Input tensor\n",
        "\n",
        "        Returns:\n",
        "            torch.Tensor: Output predictions\n",
        "        \"\"\"\n",
        "        # Split input into categorical and numerical features\n",
        "        cat_features = x[:, :len(self.embeddings)].long()\n",
        "        num_features = x[:, len(self.embeddings):]\n",
        "\n",
        "        # Apply embeddings to categorical features\n",
        "        embedded = [emb(cat_features[:, i]) for i, emb in enumerate(self.embeddings)]\n",
        "\n",
        "        # Extract specific embeddings\n",
        "        vessel_id_emb = embedded[0]\n",
        "        origin_emb = embedded[1]\n",
        "        destination_emb = embedded[2]\n",
        "\n",
        "        # Compute element-wise products\n",
        "        origin_dest_product = (origin_emb * destination_emb).sum(dim=1, keepdim=True)\n",
        "        vessel_dest_product = (vessel_id_emb * destination_emb).sum(dim=1, keepdim=True)\n",
        "\n",
        "        # Concatenate all embeddings\n",
        "        embedded = torch.cat(embedded, dim=1)\n",
        "\n",
        "        # Concatenate embeddings with numerical features\n",
        "        x = torch.cat([embedded, num_features], dim=1)\n",
        "\n",
        "        # Pass through main network\n",
        "        main_output = self.main_network(x)\n",
        "\n",
        "        # Concatenate main output with element-wise products\n",
        "        final_input = torch.cat([main_output, origin_dest_product, vessel_dest_product], dim=1)\n",
        "\n",
        "        # Final layer and activation\n",
        "        output = self.activation(self.final_layer(final_input))\n",
        "\n",
        "        return output.squeeze()\n",
        "\n",
        "# Training function\n",
        "def train_model(model: nn.Module, train_loader: torch.utils.data.DataLoader, val_loader: torch.utils.data.DataLoader,\n",
        "                criterion: nn.Module, optimizer: torch.optim.Optimizer, num_epochs: int, device: torch.device) -> None:\n",
        "    \"\"\"\n",
        "    Train the model.\n",
        "\n",
        "    Args:\n",
        "        model (nn.Module): The model to train\n",
        "        train_loader (DataLoader): DataLoader for training data\n",
        "        val_loader (DataLoader): DataLoader for validation data\n",
        "        criterion (nn.Module): Loss function\n",
        "        optimizer (torch.optim.Optimizer): Optimizer\n",
        "        num_epochs (int): Number of epochs to train\n",
        "        device (torch.device): Device to train on (CPU or GPU)\n",
        "\n",
        "    Returns:\n",
        "        None\n",
        "    \"\"\"\n",
        "    for epoch in range(num_epochs):\n",
        "        model.train()  # Set model to training mode\n",
        "        train_loss = 0\n",
        "        train_correct = 0\n",
        "        train_total = 0\n",
        "\n",
        "        for features, labels in train_loader:\n",
        "            features, labels = features.to(device), labels.to(device)\n",
        "\n",
        "            optimizer.zero_grad()  # Zero the parameter gradients\n",
        "            outputs = model(features)  # Forward pass\n",
        "            loss = criterion(outputs, labels)  # Compute loss\n",
        "            loss.backward()  # Backward pass\n",
        "            optimizer.step()  # Update weights\n",
        "\n",
        "            train_loss += loss.item()\n",
        "            predicted = (outputs > 0.5).float()  # Binary classification threshold\n",
        "            train_total += labels.size(0)\n",
        "            train_correct += (predicted == labels).sum().item()\n",
        "\n",
        "        train_loss /= len(train_loader)\n",
        "        train_accuracy = 100 * train_correct / train_total\n",
        "\n",
        "        # Validation\n",
        "        model.eval()  # Set model to evaluation mode\n",
        "        val_loss = 0\n",
        "        val_correct = 0\n",
        "        val_total = 0\n",
        "\n",
        "        with torch.no_grad():  # Disable gradient computation\n",
        "            for features, labels in val_loader:\n",
        "                features, labels = features.to(device), labels.to(device)\n",
        "                outputs = model(features)\n",
        "                loss = criterion(outputs, labels)\n",
        "\n",
        "                val_loss += loss.item()\n",
        "                predicted = (outputs > 0.5).float()\n",
        "                val_total += labels.size(0)\n",
        "                val_correct += (predicted == labels).sum().item()\n",
        "\n",
        "        val_loss /= len(val_loader)\n",
        "        val_accuracy = 100 * val_correct / val_total\n",
        "\n",
        "        # Print epoch results\n",
        "        print(f'Epoch {epoch+1}/{num_epochs}:')\n",
        "        print(f'Train Loss: {train_loss:.4f}, Train Accuracy: {train_accuracy:.2f}%')\n",
        "        print(f'Val Loss: {val_loss:.4f}, Val Accuracy: {val_accuracy:.2f}%')\n",
        "        print()\n",
        "\n",
        "print(\"Libraries imported and functions defined successfully.\")"
      ]
    },
    {
      "cell_type": "markdown",
      "source": [
        "## Train/Val Split using temporale split as we are using time series data"
      ],
      "metadata": {
        "id": "OFlbD3EgTKp-"
      },
      "id": "OFlbD3EgTKp-"
    },
    {
      "cell_type": "code",
      "execution_count": 7,
      "id": "485c716188e0bc3",
      "metadata": {
        "colab": {
          "base_uri": "https://localhost:8080/"
        },
        "id": "485c716188e0bc3",
        "outputId": "196e129c-bc80-4f1a-99e6-49b271eb87c4"
      },
      "outputs": [
        {
          "output_type": "stream",
          "name": "stdout",
          "text": [
            "Training data preprocessed and split.\n",
            "Shape of training data: (476392, 33)\n",
            "Shape of validation data: (119098, 33)\n",
            "Training data date range: 2023-01-01T00:35:13.000Z to 2023-10-07T04:39:12.000Z\n",
            "Validation data date range: 2023-10-07T04:39:12.000Z to 2023-10-30T18:35:58.000Z\n",
            "Datasets and DataLoaders created.\n",
            "Number of batches in train_loader: 1861\n",
            "Number of batches in val_loader: 466\n"
          ]
        }
      ],
      "source": [
        "# Preprocess training data\n",
        "train_df, cat_encodings, scaler, cat_cols, num_cols = preprocess_data(train_df, is_train=True)\n",
        "\n",
        "# Split into train and validation sets\n",
        "train_data, val_data = train_test_split(train_df, test_size=0.2, random_state=42)\n",
        "\n",
        "# Split the data\n",
        "# Sort the dataframe by end_date_time\n",
        "df_sorted = train_df.sort_values('start_date_time')\n",
        "\n",
        "# Determine the split point (90% train, 10% validation)\n",
        "split_index = int(len(df_sorted) * 0.95)\n",
        "\n",
        "# Split the data\n",
        "train_df = df_sorted.iloc[:split_index]\n",
        "val_df = df_sorted.iloc[split_index:]\n",
        "\n",
        "\n",
        "\n",
        "print(\"Training data preprocessed and split.\")\n",
        "print(f\"Shape of training data: {train_data.shape}\")\n",
        "print(f\"Shape of validation data: {val_data.shape}\")\n",
        "print(f\"Training data date range: {train_df['start_date_time'].min()} to {train_df['start_date_time'].max()}\")\n",
        "print(f\"Validation data date range: {val_df['start_date_time'].min()} to {val_df['start_date_time'].max()}\")\n",
        "\n",
        "\n",
        "# Create datasets and dataloaders\n",
        "train_dataset = VesselDataset(train_data[cat_cols + num_cols], train_data['is_visit'])\n",
        "val_dataset = VesselDataset(val_data[cat_cols + num_cols], val_data['is_visit'])\n",
        "train_loader = DataLoader(train_dataset, batch_size=256, shuffle=True)\n",
        "val_loader = DataLoader(val_dataset, batch_size=256)\n",
        "\n",
        "print(\"Datasets and DataLoaders created.\")\n",
        "print(f\"Number of batches in train_loader: {len(train_loader)}\")\n",
        "print(f\"Number of batches in val_loader: {len(val_loader)}\")\n"
      ]
    },
    {
      "cell_type": "markdown",
      "source": [
        "## Define and print the model"
      ],
      "metadata": {
        "id": "WhR0KCpVTSOo"
      },
      "id": "WhR0KCpVTSOo"
    },
    {
      "cell_type": "code",
      "execution_count": 9,
      "id": "7f205a84df6739a",
      "metadata": {
        "id": "7f205a84df6739a",
        "outputId": "865502b1-af10-41fa-fa16-1a0fb79d02e8",
        "colab": {
          "base_uri": "https://localhost:8080/"
        }
      },
      "outputs": [
        {
          "output_type": "stream",
          "name": "stdout",
          "text": [
            "Model initialized. Using device: cuda\n",
            "VesselDestinationModel(\n",
            "  (embeddings): ModuleList(\n",
            "    (0): Embedding(8394, 128)\n",
            "    (1): Embedding(1343, 128)\n",
            "    (2): Embedding(1549, 128)\n",
            "    (3): Embedding(501, 64)\n",
            "    (4): Embedding(601, 64)\n",
            "    (5): Embedding(12, 10)\n",
            "    (6): Embedding(13, 10)\n",
            "    (7): Embedding(2299, 10)\n",
            "    (8): Embedding(94, 10)\n",
            "    (9): Embedding(132, 10)\n",
            "    (10): Embedding(152, 10)\n",
            "    (11): Embedding(1535, 128)\n",
            "    (12): Embedding(1512, 128)\n",
            "    (13): Embedding(1490, 128)\n",
            "    (14): Embedding(6, 1)\n",
            "  )\n",
            "  (main_network): Sequential(\n",
            "    (0): Linear(in_features=972, out_features=1024, bias=True)\n",
            "    (1): ReLU()\n",
            "    (2): Linear(in_features=1024, out_features=512, bias=True)\n",
            "    (3): ReLU()\n",
            "    (4): Linear(in_features=512, out_features=256, bias=True)\n",
            "    (5): ReLU()\n",
            "    (6): Linear(in_features=256, out_features=128, bias=True)\n",
            "    (7): ReLU()\n",
            "    (8): Linear(in_features=128, out_features=64, bias=True)\n",
            "    (9): ReLU()\n",
            "    (10): Linear(in_features=64, out_features=32, bias=True)\n",
            "    (11): ReLU()\n",
            "    (12): Linear(in_features=32, out_features=1, bias=True)\n",
            "  )\n",
            "  (final_layer): Linear(in_features=3, out_features=1, bias=True)\n",
            "  (activation): Sigmoid()\n",
            ")\n"
          ]
        }
      ],
      "source": [
        "# Initialize the model\n",
        "cat_dims = [len(cat_encodings[col]) for col in cat_cols]\n",
        "num_dims = len(num_cols)\n",
        "model = VesselDestinationModel(cat_dims, num_dims)\n",
        "\n",
        "# Training setup\n",
        "criterion = nn.BCELoss()\n",
        "optimizer = optim.Adam(model.parameters(), lr=0.001)\n",
        "device = torch.device(\"cuda\" if torch.cuda.is_available() else \"cpu\")\n",
        "model.to(device)\n",
        "\n",
        "print(f\"Model initialized. Using device: {device}\")\n",
        "print(model)"
      ]
    },
    {
      "cell_type": "markdown",
      "id": "3bd7e9fb5709da6",
      "metadata": {
        "collapsed": false,
        "id": "3bd7e9fb5709da6"
      },
      "source": [
        "## Train the model using predefined hyper-parameters (no hyper optimization is performed for this POC)"
      ]
    },
    {
      "cell_type": "code",
      "execution_count": 10,
      "id": "591005e9a69cf449",
      "metadata": {
        "id": "591005e9a69cf449",
        "colab": {
          "base_uri": "https://localhost:8080/"
        },
        "outputId": "07672200-f6ef-438f-923c-fbee5a863e2f"
      },
      "outputs": [
        {
          "output_type": "stream",
          "name": "stdout",
          "text": [
            "Epoch 1/3:\n",
            "Train Loss: 0.3293, Train Accuracy: 90.49%\n",
            "Val Loss: 0.1198, Val Accuracy: 95.55%\n",
            "\n",
            "Epoch 2/3:\n",
            "Train Loss: 0.0800, Train Accuracy: 97.17%\n",
            "Val Loss: 0.0791, Val Accuracy: 97.18%\n",
            "\n",
            "Epoch 3/3:\n",
            "Train Loss: 0.0449, Train Accuracy: 98.38%\n",
            "Val Loss: 0.0726, Val Accuracy: 97.51%\n",
            "\n",
            "Model training completed.\n"
          ]
        }
      ],
      "source": [
        "num_epochs = 3\n",
        "train_model(model, train_loader, val_loader, criterion, optimizer, num_epochs, device)\n",
        "\n",
        "print(\"Model training completed.\")"
      ]
    },
    {
      "cell_type": "markdown",
      "id": "aab34cca27bf12a7",
      "metadata": {
        "collapsed": false,
        "id": "aab34cca27bf12a7"
      },
      "source": [
        "## Model Evaluation"
      ]
    },
    {
      "cell_type": "markdown",
      "source": [
        "### Preprocess and score the model on test data"
      ],
      "metadata": {
        "id": "ys9QuBQ6Ucpd"
      },
      "id": "ys9QuBQ6Ucpd"
    },
    {
      "cell_type": "code",
      "execution_count": 12,
      "id": "3796737a287b85ec",
      "metadata": {
        "id": "3796737a287b85ec",
        "outputId": "ca90f5dc-2497-4045-f549-3917dc8f0619",
        "colab": {
          "base_uri": "https://localhost:8080/"
        }
      },
      "outputs": [
        {
          "output_type": "stream",
          "name": "stdout",
          "text": [
            "Test data preprocessed.\n",
            "Shape of preprocessed test data: (2191050, 33)\n"
          ]
        }
      ],
      "source": [
        "# Preprocess the sampled test data\n",
        "test_df_sample, _, _, _, _ = preprocess_data(test_df, is_train=False, cat_encodings=cat_encodings, scaler=scaler)\n",
        "\n",
        "# Create test dataset and dataloader\n",
        "test_dataset = VesselDataset(test_df_sample[cat_cols + num_cols])\n",
        "test_loader = DataLoader(test_dataset, batch_size=256, shuffle=False)\n",
        "\n",
        "print(\"Test data preprocessed.\")\n",
        "print(f\"Shape of preprocessed test data: {test_df_sample.shape}\")"
      ]
    },
    {
      "cell_type": "code",
      "execution_count": 13,
      "id": "5adb995694cebbb1",
      "metadata": {
        "id": "5adb995694cebbb1"
      },
      "outputs": [],
      "source": [
        "model.eval()\n",
        "predictions = []\n",
        "with torch.no_grad():\n",
        "    for features in test_loader:\n",
        "        features = features.to(device)\n",
        "        outputs = model(features)\n",
        "        predictions.extend(outputs.cpu().numpy())\n",
        "\n",
        "# Add predictions to test_df_sample\n",
        "test_df_sample['predicted_probability'] = predictions\n"
      ]
    },
    {
      "cell_type": "markdown",
      "source": [
        "### Build Ranked Destinations list for each vessel"
      ],
      "metadata": {
        "id": "6P2Nen0hUjsO"
      },
      "id": "6P2Nen0hUjsO"
    },
    {
      "cell_type": "code",
      "source": [
        "# Step 1: Prepare the data\n",
        "ranked_destinations = test_df_sample[test_df_sample.is_visit == 0].groupby('vessel_id').apply(\n",
        "    lambda x: x.sort_values('predicted_probability', ascending=False)\n",
        ").reset_index(drop=True)\n",
        "\n",
        "actual_destinations = test_df_sample[test_df_sample['is_visit'] == 1].set_index('vessel_id')['destination'].to_dict()\n"
      ],
      "metadata": {
        "id": "x79L_Tq7Kw8z"
      },
      "id": "x79L_Tq7Kw8z",
      "execution_count": 14,
      "outputs": []
    },
    {
      "cell_type": "markdown",
      "source": [
        "### Define utilities functions for evaluation"
      ],
      "metadata": {
        "id": "OAm898IeU_eU"
      },
      "id": "OAm898IeU_eU"
    },
    {
      "cell_type": "code",
      "source": [
        "def calculate_reciprocal_rank(group: pd.DataFrame) -> float:\n",
        "    \"\"\"\n",
        "    Calculate the reciprocal rank for a group of predictions for a single vessel.\n",
        "\n",
        "    The reciprocal rank is 1/rank if the actual destination is in the predictions,\n",
        "    or 0 if it's not present.\n",
        "\n",
        "    Args:\n",
        "        group (pd.DataFrame): A DataFrame containing predictions for a single vessel,\n",
        "                              sorted by prediction probability in descending order.\n",
        "\n",
        "    Returns:\n",
        "        float: The reciprocal rank of the actual destination in the predictions.\n",
        "    \"\"\"\n",
        "    # Get the vessel ID from the first row of the group\n",
        "    vessel_id = group['vessel_id'].iloc[0]\n",
        "\n",
        "    # Get the actual destination for this vessel from a pre-defined dictionary\n",
        "    actual_dest = actual_destinations.get(vessel_id)\n",
        "\n",
        "    # If there's no actual destination for this vessel, return 0\n",
        "    if actual_dest is None:\n",
        "        return 0\n",
        "\n",
        "    # Find the rows where the predicted destination matches the actual destination\n",
        "    actual_dest_rows = group[group['destination'] == actual_dest]\n",
        "\n",
        "    # If the actual destination is not in the predictions, return 0\n",
        "    if actual_dest_rows.empty:\n",
        "        return 0\n",
        "\n",
        "    # Get the rank of the actual destination (adding 1 because index starts at 0)\n",
        "    rank = group.index.get_loc(actual_dest_rows.index[0]) + 1\n",
        "\n",
        "    # Return the reciprocal of the rank\n",
        "    return 1 / rank\n",
        "\n",
        "def is_in_top_n(group: pd.DataFrame, n: int) -> bool:\n",
        "    \"\"\"\n",
        "    Check if the actual destination is in the top N predictions for a vessel.\n",
        "\n",
        "    Args:\n",
        "        group (pd.DataFrame): A DataFrame containing predictions for a single vessel,\n",
        "                              sorted by prediction probability in descending order.\n",
        "        n (int): The number of top predictions to consider.\n",
        "\n",
        "    Returns:\n",
        "        bool: True if the actual destination is in the top N predictions, False otherwise.\n",
        "    \"\"\"\n",
        "    # Calculate the reciprocal rank for this group\n",
        "    reciprocal_rank = calculate_reciprocal_rank(group)\n",
        "\n",
        "    # Check if the reciprocal rank is greater than or equal to 1/n\n",
        "    # This is equivalent to checking if the rank is less than or equal to n\n",
        "    return reciprocal_rank >= 1/n if reciprocal_rank > 0 else False"
      ],
      "metadata": {
        "id": "c-qtdkmtKwAb"
      },
      "id": "c-qtdkmtKwAb",
      "execution_count": 15,
      "outputs": []
    },
    {
      "cell_type": "markdown",
      "source": [
        "### Compute accuracies and MRR metrics"
      ],
      "metadata": {
        "id": "1BcketHfVGRe"
      },
      "id": "1BcketHfVGRe"
    },
    {
      "cell_type": "code",
      "source": [
        "# Step 3: Calculate metrics\n",
        "mrr = ranked_destinations.groupby('vessel_id').apply(calculate_reciprocal_rank).mean()\n",
        "top_1_accuracy = ranked_destinations.groupby('vessel_id').apply(lambda x: is_in_top_n(x, 1)).mean()\n",
        "top_3_accuracy = ranked_destinations.groupby('vessel_id').apply(lambda x: is_in_top_n(x, 3)).mean()\n",
        "top_10_accuracy = ranked_destinations.groupby('vessel_id').apply(lambda x: is_in_top_n(x, 10)).mean()\n",
        "\n",
        "print(f\"Mean Reciprocal Rank (MRR): {mrr:.4f}\")\n",
        "print(f\"Top 1 Accuracy: {top_1_accuracy:.4f}\")\n",
        "print(f\"Top 3 Accuracy: {top_3_accuracy:.4f}\")\n",
        "print(f\"Top 10 Accuracy: {top_10_accuracy:.4f}\")\n"
      ],
      "metadata": {
        "colab": {
          "base_uri": "https://localhost:8080/"
        },
        "id": "l0h1Iqs1K2OB",
        "outputId": "3df70112-1805-4f85-f74f-a2e73b7d1331"
      },
      "id": "l0h1Iqs1K2OB",
      "execution_count": 16,
      "outputs": [
        {
          "output_type": "stream",
          "name": "stdout",
          "text": [
            "Mean Reciprocal Rank (MRR): 0.6560\n",
            "Top 1 Accuracy: 0.5668\n",
            "Top 3 Accuracy: 0.7386\n",
            "Top 10 Accuracy: 0.7888\n"
          ]
        }
      ]
    },
    {
      "cell_type": "markdown",
      "source": [
        "### Plot Accuracy evolution for different top-k predictions"
      ],
      "metadata": {
        "id": "kZYwnsYLVJP4"
      },
      "id": "kZYwnsYLVJP4"
    },
    {
      "cell_type": "code",
      "source": [
        "# Step 4: Plot accuracy evolution from top 1 to top 10\n",
        "accuracies = [ranked_destinations.groupby('vessel_id').apply(lambda x: is_in_top_n(x, i)).mean() for i in range(1, 11)]\n",
        "\n",
        "fig1 = go.Figure(data=go.Scatter(\n",
        "    x=list(range(1, 11)),\n",
        "    y=accuracies,\n",
        "    mode='lines+markers+text',\n",
        "    text=[f'{acc:.2%}' for acc in accuracies],\n",
        "    textposition='top center'\n",
        "))\n",
        "fig1.update_layout(\n",
        "    title='Accuracy Evolution: Top 1 to Top 10',\n",
        "    xaxis_title='Top N Predictions',\n",
        "    yaxis_title='Accuracy',\n",
        "    yaxis_tickformat='.0%',\n",
        "    xaxis=dict(tickmode='linear', tick0=1, dtick=1)\n",
        ")\n",
        "fig1.show()\n"
      ],
      "metadata": {
        "colab": {
          "base_uri": "https://localhost:8080/",
          "height": 542
        },
        "id": "a4LQpR74K_Nu",
        "outputId": "a5c7966b-0b6e-4cd4-f6a3-8369cd7678c8"
      },
      "id": "a4LQpR74K_Nu",
      "execution_count": 17,
      "outputs": [
        {
          "output_type": "display_data",
          "data": {
            "text/html": [
              "<html>\n",
              "<head><meta charset=\"utf-8\" /></head>\n",
              "<body>\n",
              "    <div>            <script src=\"https://cdnjs.cloudflare.com/ajax/libs/mathjax/2.7.5/MathJax.js?config=TeX-AMS-MML_SVG\"></script><script type=\"text/javascript\">if (window.MathJax && window.MathJax.Hub && window.MathJax.Hub.Config) {window.MathJax.Hub.Config({SVG: {font: \"STIX-Web\"}});}</script>                <script type=\"text/javascript\">window.PlotlyConfig = {MathJaxConfig: 'local'};</script>\n",
              "        <script charset=\"utf-8\" src=\"https://cdn.plot.ly/plotly-2.24.1.min.js\"></script>                <div id=\"5464d1f3-21aa-40ae-8318-de1bcb0a232f\" class=\"plotly-graph-div\" style=\"height:525px; width:100%;\"></div>            <script type=\"text/javascript\">                                    window.PLOTLYENV=window.PLOTLYENV || {};                                    if (document.getElementById(\"5464d1f3-21aa-40ae-8318-de1bcb0a232f\")) {                    Plotly.newPlot(                        \"5464d1f3-21aa-40ae-8318-de1bcb0a232f\",                        [{\"mode\":\"lines+markers+text\",\"text\":[\"56.68%\",\"69.58%\",\"73.86%\",\"75.62%\",\"76.64%\",\"77.39%\",\"77.92%\",\"78.43%\",\"78.69%\",\"78.88%\"],\"textposition\":\"top center\",\"x\":[1,2,3,4,5,6,7,8,9,10],\"y\":[0.5667627281460135,0.6958053154018572,0.7385526737111752,0.7561639449247518,0.7664105027217419,0.7739353186039065,0.7792186999679795,0.7843419788664745,0.7869036183157221,0.7888248479026577],\"type\":\"scatter\"}],                        {\"template\":{\"data\":{\"histogram2dcontour\":[{\"type\":\"histogram2dcontour\",\"colorbar\":{\"outlinewidth\":0,\"ticks\":\"\"},\"colorscale\":[[0.0,\"#0d0887\"],[0.1111111111111111,\"#46039f\"],[0.2222222222222222,\"#7201a8\"],[0.3333333333333333,\"#9c179e\"],[0.4444444444444444,\"#bd3786\"],[0.5555555555555556,\"#d8576b\"],[0.6666666666666666,\"#ed7953\"],[0.7777777777777778,\"#fb9f3a\"],[0.8888888888888888,\"#fdca26\"],[1.0,\"#f0f921\"]]}],\"choropleth\":[{\"type\":\"choropleth\",\"colorbar\":{\"outlinewidth\":0,\"ticks\":\"\"}}],\"histogram2d\":[{\"type\":\"histogram2d\",\"colorbar\":{\"outlinewidth\":0,\"ticks\":\"\"},\"colorscale\":[[0.0,\"#0d0887\"],[0.1111111111111111,\"#46039f\"],[0.2222222222222222,\"#7201a8\"],[0.3333333333333333,\"#9c179e\"],[0.4444444444444444,\"#bd3786\"],[0.5555555555555556,\"#d8576b\"],[0.6666666666666666,\"#ed7953\"],[0.7777777777777778,\"#fb9f3a\"],[0.8888888888888888,\"#fdca26\"],[1.0,\"#f0f921\"]]}],\"heatmap\":[{\"type\":\"heatmap\",\"colorbar\":{\"outlinewidth\":0,\"ticks\":\"\"},\"colorscale\":[[0.0,\"#0d0887\"],[0.1111111111111111,\"#46039f\"],[0.2222222222222222,\"#7201a8\"],[0.3333333333333333,\"#9c179e\"],[0.4444444444444444,\"#bd3786\"],[0.5555555555555556,\"#d8576b\"],[0.6666666666666666,\"#ed7953\"],[0.7777777777777778,\"#fb9f3a\"],[0.8888888888888888,\"#fdca26\"],[1.0,\"#f0f921\"]]}],\"heatmapgl\":[{\"type\":\"heatmapgl\",\"colorbar\":{\"outlinewidth\":0,\"ticks\":\"\"},\"colorscale\":[[0.0,\"#0d0887\"],[0.1111111111111111,\"#46039f\"],[0.2222222222222222,\"#7201a8\"],[0.3333333333333333,\"#9c179e\"],[0.4444444444444444,\"#bd3786\"],[0.5555555555555556,\"#d8576b\"],[0.6666666666666666,\"#ed7953\"],[0.7777777777777778,\"#fb9f3a\"],[0.8888888888888888,\"#fdca26\"],[1.0,\"#f0f921\"]]}],\"contourcarpet\":[{\"type\":\"contourcarpet\",\"colorbar\":{\"outlinewidth\":0,\"ticks\":\"\"}}],\"contour\":[{\"type\":\"contour\",\"colorbar\":{\"outlinewidth\":0,\"ticks\":\"\"},\"colorscale\":[[0.0,\"#0d0887\"],[0.1111111111111111,\"#46039f\"],[0.2222222222222222,\"#7201a8\"],[0.3333333333333333,\"#9c179e\"],[0.4444444444444444,\"#bd3786\"],[0.5555555555555556,\"#d8576b\"],[0.6666666666666666,\"#ed7953\"],[0.7777777777777778,\"#fb9f3a\"],[0.8888888888888888,\"#fdca26\"],[1.0,\"#f0f921\"]]}],\"surface\":[{\"type\":\"surface\",\"colorbar\":{\"outlinewidth\":0,\"ticks\":\"\"},\"colorscale\":[[0.0,\"#0d0887\"],[0.1111111111111111,\"#46039f\"],[0.2222222222222222,\"#7201a8\"],[0.3333333333333333,\"#9c179e\"],[0.4444444444444444,\"#bd3786\"],[0.5555555555555556,\"#d8576b\"],[0.6666666666666666,\"#ed7953\"],[0.7777777777777778,\"#fb9f3a\"],[0.8888888888888888,\"#fdca26\"],[1.0,\"#f0f921\"]]}],\"mesh3d\":[{\"type\":\"mesh3d\",\"colorbar\":{\"outlinewidth\":0,\"ticks\":\"\"}}],\"scatter\":[{\"fillpattern\":{\"fillmode\":\"overlay\",\"size\":10,\"solidity\":0.2},\"type\":\"scatter\"}],\"parcoords\":[{\"type\":\"parcoords\",\"line\":{\"colorbar\":{\"outlinewidth\":0,\"ticks\":\"\"}}}],\"scatterpolargl\":[{\"type\":\"scatterpolargl\",\"marker\":{\"colorbar\":{\"outlinewidth\":0,\"ticks\":\"\"}}}],\"bar\":[{\"error_x\":{\"color\":\"#2a3f5f\"},\"error_y\":{\"color\":\"#2a3f5f\"},\"marker\":{\"line\":{\"color\":\"#E5ECF6\",\"width\":0.5},\"pattern\":{\"fillmode\":\"overlay\",\"size\":10,\"solidity\":0.2}},\"type\":\"bar\"}],\"scattergeo\":[{\"type\":\"scattergeo\",\"marker\":{\"colorbar\":{\"outlinewidth\":0,\"ticks\":\"\"}}}],\"scatterpolar\":[{\"type\":\"scatterpolar\",\"marker\":{\"colorbar\":{\"outlinewidth\":0,\"ticks\":\"\"}}}],\"histogram\":[{\"marker\":{\"pattern\":{\"fillmode\":\"overlay\",\"size\":10,\"solidity\":0.2}},\"type\":\"histogram\"}],\"scattergl\":[{\"type\":\"scattergl\",\"marker\":{\"colorbar\":{\"outlinewidth\":0,\"ticks\":\"\"}}}],\"scatter3d\":[{\"type\":\"scatter3d\",\"line\":{\"colorbar\":{\"outlinewidth\":0,\"ticks\":\"\"}},\"marker\":{\"colorbar\":{\"outlinewidth\":0,\"ticks\":\"\"}}}],\"scattermapbox\":[{\"type\":\"scattermapbox\",\"marker\":{\"colorbar\":{\"outlinewidth\":0,\"ticks\":\"\"}}}],\"scatterternary\":[{\"type\":\"scatterternary\",\"marker\":{\"colorbar\":{\"outlinewidth\":0,\"ticks\":\"\"}}}],\"scattercarpet\":[{\"type\":\"scattercarpet\",\"marker\":{\"colorbar\":{\"outlinewidth\":0,\"ticks\":\"\"}}}],\"carpet\":[{\"aaxis\":{\"endlinecolor\":\"#2a3f5f\",\"gridcolor\":\"white\",\"linecolor\":\"white\",\"minorgridcolor\":\"white\",\"startlinecolor\":\"#2a3f5f\"},\"baxis\":{\"endlinecolor\":\"#2a3f5f\",\"gridcolor\":\"white\",\"linecolor\":\"white\",\"minorgridcolor\":\"white\",\"startlinecolor\":\"#2a3f5f\"},\"type\":\"carpet\"}],\"table\":[{\"cells\":{\"fill\":{\"color\":\"#EBF0F8\"},\"line\":{\"color\":\"white\"}},\"header\":{\"fill\":{\"color\":\"#C8D4E3\"},\"line\":{\"color\":\"white\"}},\"type\":\"table\"}],\"barpolar\":[{\"marker\":{\"line\":{\"color\":\"#E5ECF6\",\"width\":0.5},\"pattern\":{\"fillmode\":\"overlay\",\"size\":10,\"solidity\":0.2}},\"type\":\"barpolar\"}],\"pie\":[{\"automargin\":true,\"type\":\"pie\"}]},\"layout\":{\"autotypenumbers\":\"strict\",\"colorway\":[\"#636efa\",\"#EF553B\",\"#00cc96\",\"#ab63fa\",\"#FFA15A\",\"#19d3f3\",\"#FF6692\",\"#B6E880\",\"#FF97FF\",\"#FECB52\"],\"font\":{\"color\":\"#2a3f5f\"},\"hovermode\":\"closest\",\"hoverlabel\":{\"align\":\"left\"},\"paper_bgcolor\":\"white\",\"plot_bgcolor\":\"#E5ECF6\",\"polar\":{\"bgcolor\":\"#E5ECF6\",\"angularaxis\":{\"gridcolor\":\"white\",\"linecolor\":\"white\",\"ticks\":\"\"},\"radialaxis\":{\"gridcolor\":\"white\",\"linecolor\":\"white\",\"ticks\":\"\"}},\"ternary\":{\"bgcolor\":\"#E5ECF6\",\"aaxis\":{\"gridcolor\":\"white\",\"linecolor\":\"white\",\"ticks\":\"\"},\"baxis\":{\"gridcolor\":\"white\",\"linecolor\":\"white\",\"ticks\":\"\"},\"caxis\":{\"gridcolor\":\"white\",\"linecolor\":\"white\",\"ticks\":\"\"}},\"coloraxis\":{\"colorbar\":{\"outlinewidth\":0,\"ticks\":\"\"}},\"colorscale\":{\"sequential\":[[0.0,\"#0d0887\"],[0.1111111111111111,\"#46039f\"],[0.2222222222222222,\"#7201a8\"],[0.3333333333333333,\"#9c179e\"],[0.4444444444444444,\"#bd3786\"],[0.5555555555555556,\"#d8576b\"],[0.6666666666666666,\"#ed7953\"],[0.7777777777777778,\"#fb9f3a\"],[0.8888888888888888,\"#fdca26\"],[1.0,\"#f0f921\"]],\"sequentialminus\":[[0.0,\"#0d0887\"],[0.1111111111111111,\"#46039f\"],[0.2222222222222222,\"#7201a8\"],[0.3333333333333333,\"#9c179e\"],[0.4444444444444444,\"#bd3786\"],[0.5555555555555556,\"#d8576b\"],[0.6666666666666666,\"#ed7953\"],[0.7777777777777778,\"#fb9f3a\"],[0.8888888888888888,\"#fdca26\"],[1.0,\"#f0f921\"]],\"diverging\":[[0,\"#8e0152\"],[0.1,\"#c51b7d\"],[0.2,\"#de77ae\"],[0.3,\"#f1b6da\"],[0.4,\"#fde0ef\"],[0.5,\"#f7f7f7\"],[0.6,\"#e6f5d0\"],[0.7,\"#b8e186\"],[0.8,\"#7fbc41\"],[0.9,\"#4d9221\"],[1,\"#276419\"]]},\"xaxis\":{\"gridcolor\":\"white\",\"linecolor\":\"white\",\"ticks\":\"\",\"title\":{\"standoff\":15},\"zerolinecolor\":\"white\",\"automargin\":true,\"zerolinewidth\":2},\"yaxis\":{\"gridcolor\":\"white\",\"linecolor\":\"white\",\"ticks\":\"\",\"title\":{\"standoff\":15},\"zerolinecolor\":\"white\",\"automargin\":true,\"zerolinewidth\":2},\"scene\":{\"xaxis\":{\"backgroundcolor\":\"#E5ECF6\",\"gridcolor\":\"white\",\"linecolor\":\"white\",\"showbackground\":true,\"ticks\":\"\",\"zerolinecolor\":\"white\",\"gridwidth\":2},\"yaxis\":{\"backgroundcolor\":\"#E5ECF6\",\"gridcolor\":\"white\",\"linecolor\":\"white\",\"showbackground\":true,\"ticks\":\"\",\"zerolinecolor\":\"white\",\"gridwidth\":2},\"zaxis\":{\"backgroundcolor\":\"#E5ECF6\",\"gridcolor\":\"white\",\"linecolor\":\"white\",\"showbackground\":true,\"ticks\":\"\",\"zerolinecolor\":\"white\",\"gridwidth\":2}},\"shapedefaults\":{\"line\":{\"color\":\"#2a3f5f\"}},\"annotationdefaults\":{\"arrowcolor\":\"#2a3f5f\",\"arrowhead\":0,\"arrowwidth\":1},\"geo\":{\"bgcolor\":\"white\",\"landcolor\":\"#E5ECF6\",\"subunitcolor\":\"white\",\"showland\":true,\"showlakes\":true,\"lakecolor\":\"white\"},\"title\":{\"x\":0.05},\"mapbox\":{\"style\":\"light\"}}},\"yaxis\":{\"title\":{\"text\":\"Accuracy\"},\"tickformat\":\".0%\"},\"xaxis\":{\"title\":{\"text\":\"Top N Predictions\"},\"tickmode\":\"linear\",\"tick0\":1,\"dtick\":1},\"title\":{\"text\":\"Accuracy Evolution: Top 1 to Top 10\"}},                        {\"responsive\": true}                    ).then(function(){\n",
              "                            \n",
              "var gd = document.getElementById('5464d1f3-21aa-40ae-8318-de1bcb0a232f');\n",
              "var x = new MutationObserver(function (mutations, observer) {{\n",
              "        var display = window.getComputedStyle(gd).display;\n",
              "        if (!display || display === 'none') {{\n",
              "            console.log([gd, 'removed!']);\n",
              "            Plotly.purge(gd);\n",
              "            observer.disconnect();\n",
              "        }}\n",
              "}});\n",
              "\n",
              "// Listen for the removal of the full notebook cells\n",
              "var notebookContainer = gd.closest('#notebook-container');\n",
              "if (notebookContainer) {{\n",
              "    x.observe(notebookContainer, {childList: true});\n",
              "}}\n",
              "\n",
              "// Listen for the clearing of the current output cell\n",
              "var outputEl = gd.closest('.output');\n",
              "if (outputEl) {{\n",
              "    x.observe(outputEl, {childList: true});\n",
              "}}\n",
              "\n",
              "                        })                };                            </script>        </div>\n",
              "</body>\n",
              "</html>"
            ]
          },
          "metadata": {}
        }
      ]
    },
    {
      "cell_type": "markdown",
      "source": [
        "### Plot accuracy evolution over the number of past trips"
      ],
      "metadata": {
        "id": "LWJpPB0mVQPt"
      },
      "id": "LWJpPB0mVQPt"
    },
    {
      "cell_type": "code",
      "source": [
        "# Step 6: Accuracy evolution by number of past trips\n",
        "train_trips = train_df[train_df['is_visit'] == 1]['vessel_id'].value_counts().reset_index()\n",
        "train_trips.columns = ['vessel_id', 'num_past_trips']\n",
        "\n",
        "combined_data = pd.merge(ranked_destinations, train_trips, on='vessel_id', how='left')\n",
        "combined_data = combined_data[combined_data['num_past_trips'] <= 40]\n",
        "\n",
        "accuracy_by_past_trips = combined_data.groupby(['num_past_trips', 'vessel_id']).apply(lambda x: is_in_top_n(x, 1)).groupby('num_past_trips').mean().reset_index()\n",
        "accuracy_by_past_trips.columns = ['num_past_trips', 'top_1_accuracy']\n",
        "\n",
        "fig3 = go.Figure()\n",
        "\n",
        "fig3.add_trace(go.Scatter(\n",
        "    x=accuracy_by_past_trips['num_past_trips'],\n",
        "    y=accuracy_by_past_trips['top_1_accuracy'],\n",
        "    mode='lines+markers+text',\n",
        "    name='Top 1 Accuracy',\n",
        "    text=[f'{acc:.2%}' for acc in accuracy_by_past_trips['top_1_accuracy']],\n",
        "    textposition='top center'\n",
        "))\n",
        "\n",
        "fig3.update_layout(\n",
        "    title='Evolution of Top 1 Accuracy by Number of Past Trips (Up to 40 trips)',\n",
        "    xaxis_title='Number of Past Trips',\n",
        "    yaxis_title='Top 1 Accuracy',\n",
        "    yaxis_tickformat='.0%',\n",
        "    xaxis=dict(tickmode='linear', tick0=0, dtick=1)\n",
        ")\n",
        "\n",
        "fig3.show()\n",
        "\n"
      ],
      "metadata": {
        "colab": {
          "base_uri": "https://localhost:8080/",
          "height": 542
        },
        "id": "0tgdk9LQLV7g",
        "outputId": "de9e3139-0619-4bcc-e6cf-f5696e0836ae"
      },
      "id": "0tgdk9LQLV7g",
      "execution_count": 18,
      "outputs": [
        {
          "output_type": "display_data",
          "data": {
            "text/html": [
              "<html>\n",
              "<head><meta charset=\"utf-8\" /></head>\n",
              "<body>\n",
              "    <div>            <script src=\"https://cdnjs.cloudflare.com/ajax/libs/mathjax/2.7.5/MathJax.js?config=TeX-AMS-MML_SVG\"></script><script type=\"text/javascript\">if (window.MathJax && window.MathJax.Hub && window.MathJax.Hub.Config) {window.MathJax.Hub.Config({SVG: {font: \"STIX-Web\"}});}</script>                <script type=\"text/javascript\">window.PlotlyConfig = {MathJaxConfig: 'local'};</script>\n",
              "        <script charset=\"utf-8\" src=\"https://cdn.plot.ly/plotly-2.24.1.min.js\"></script>                <div id=\"ad7980ed-0b96-4459-b749-4f562158592f\" class=\"plotly-graph-div\" style=\"height:525px; width:100%;\"></div>            <script type=\"text/javascript\">                                    window.PLOTLYENV=window.PLOTLYENV || {};                                    if (document.getElementById(\"ad7980ed-0b96-4459-b749-4f562158592f\")) {                    Plotly.newPlot(                        \"ad7980ed-0b96-4459-b749-4f562158592f\",                        [{\"mode\":\"lines+markers+text\",\"name\":\"Top 1 Accuracy\",\"text\":[\"42.86%\",\"40.62%\",\"46.03%\",\"49.17%\",\"52.45%\",\"47.23%\",\"52.45%\",\"48.55%\",\"54.12%\",\"50.53%\",\"53.39%\",\"55.81%\",\"58.33%\",\"55.27%\",\"58.72%\",\"56.35%\",\"59.88%\",\"64.63%\",\"65.33%\",\"61.24%\",\"72.73%\",\"67.68%\",\"65.66%\",\"72.53%\",\"66.67%\",\"62.82%\",\"60.00%\",\"62.86%\",\"58.46%\",\"65.62%\",\"73.58%\",\"73.21%\",\"77.50%\",\"65.00%\",\"61.11%\",\"73.81%\",\"50.00%\",\"54.17%\",\"45.00%\",\"50.00%\"],\"textposition\":\"top center\",\"x\":[1.0,2.0,3.0,4.0,5.0,6.0,7.0,8.0,9.0,10.0,11.0,12.0,13.0,14.0,15.0,16.0,17.0,18.0,19.0,20.0,21.0,22.0,23.0,24.0,25.0,26.0,27.0,28.0,29.0,30.0,31.0,32.0,33.0,34.0,35.0,36.0,37.0,38.0,39.0,40.0],\"y\":[0.42857142857142855,0.40625,0.4603174603174603,0.49171270718232046,0.5244755244755245,0.47230320699708456,0.5244565217391305,0.48546511627906974,0.5412371134020618,0.5052631578947369,0.5338983050847458,0.5580645161290323,0.5833333333333334,0.5527426160337553,0.5872340425531914,0.5634517766497462,0.5988023952095808,0.6463414634146342,0.6533333333333333,0.6124031007751938,0.7272727272727273,0.6767676767676768,0.6565656565656566,0.7252747252747253,0.6666666666666666,0.6282051282051282,0.6,0.6285714285714286,0.5846153846153846,0.65625,0.7358490566037735,0.7321428571428571,0.775,0.65,0.6111111111111112,0.7380952380952381,0.5,0.5416666666666666,0.45,0.5],\"type\":\"scatter\"}],                        {\"template\":{\"data\":{\"histogram2dcontour\":[{\"type\":\"histogram2dcontour\",\"colorbar\":{\"outlinewidth\":0,\"ticks\":\"\"},\"colorscale\":[[0.0,\"#0d0887\"],[0.1111111111111111,\"#46039f\"],[0.2222222222222222,\"#7201a8\"],[0.3333333333333333,\"#9c179e\"],[0.4444444444444444,\"#bd3786\"],[0.5555555555555556,\"#d8576b\"],[0.6666666666666666,\"#ed7953\"],[0.7777777777777778,\"#fb9f3a\"],[0.8888888888888888,\"#fdca26\"],[1.0,\"#f0f921\"]]}],\"choropleth\":[{\"type\":\"choropleth\",\"colorbar\":{\"outlinewidth\":0,\"ticks\":\"\"}}],\"histogram2d\":[{\"type\":\"histogram2d\",\"colorbar\":{\"outlinewidth\":0,\"ticks\":\"\"},\"colorscale\":[[0.0,\"#0d0887\"],[0.1111111111111111,\"#46039f\"],[0.2222222222222222,\"#7201a8\"],[0.3333333333333333,\"#9c179e\"],[0.4444444444444444,\"#bd3786\"],[0.5555555555555556,\"#d8576b\"],[0.6666666666666666,\"#ed7953\"],[0.7777777777777778,\"#fb9f3a\"],[0.8888888888888888,\"#fdca26\"],[1.0,\"#f0f921\"]]}],\"heatmap\":[{\"type\":\"heatmap\",\"colorbar\":{\"outlinewidth\":0,\"ticks\":\"\"},\"colorscale\":[[0.0,\"#0d0887\"],[0.1111111111111111,\"#46039f\"],[0.2222222222222222,\"#7201a8\"],[0.3333333333333333,\"#9c179e\"],[0.4444444444444444,\"#bd3786\"],[0.5555555555555556,\"#d8576b\"],[0.6666666666666666,\"#ed7953\"],[0.7777777777777778,\"#fb9f3a\"],[0.8888888888888888,\"#fdca26\"],[1.0,\"#f0f921\"]]}],\"heatmapgl\":[{\"type\":\"heatmapgl\",\"colorbar\":{\"outlinewidth\":0,\"ticks\":\"\"},\"colorscale\":[[0.0,\"#0d0887\"],[0.1111111111111111,\"#46039f\"],[0.2222222222222222,\"#7201a8\"],[0.3333333333333333,\"#9c179e\"],[0.4444444444444444,\"#bd3786\"],[0.5555555555555556,\"#d8576b\"],[0.6666666666666666,\"#ed7953\"],[0.7777777777777778,\"#fb9f3a\"],[0.8888888888888888,\"#fdca26\"],[1.0,\"#f0f921\"]]}],\"contourcarpet\":[{\"type\":\"contourcarpet\",\"colorbar\":{\"outlinewidth\":0,\"ticks\":\"\"}}],\"contour\":[{\"type\":\"contour\",\"colorbar\":{\"outlinewidth\":0,\"ticks\":\"\"},\"colorscale\":[[0.0,\"#0d0887\"],[0.1111111111111111,\"#46039f\"],[0.2222222222222222,\"#7201a8\"],[0.3333333333333333,\"#9c179e\"],[0.4444444444444444,\"#bd3786\"],[0.5555555555555556,\"#d8576b\"],[0.6666666666666666,\"#ed7953\"],[0.7777777777777778,\"#fb9f3a\"],[0.8888888888888888,\"#fdca26\"],[1.0,\"#f0f921\"]]}],\"surface\":[{\"type\":\"surface\",\"colorbar\":{\"outlinewidth\":0,\"ticks\":\"\"},\"colorscale\":[[0.0,\"#0d0887\"],[0.1111111111111111,\"#46039f\"],[0.2222222222222222,\"#7201a8\"],[0.3333333333333333,\"#9c179e\"],[0.4444444444444444,\"#bd3786\"],[0.5555555555555556,\"#d8576b\"],[0.6666666666666666,\"#ed7953\"],[0.7777777777777778,\"#fb9f3a\"],[0.8888888888888888,\"#fdca26\"],[1.0,\"#f0f921\"]]}],\"mesh3d\":[{\"type\":\"mesh3d\",\"colorbar\":{\"outlinewidth\":0,\"ticks\":\"\"}}],\"scatter\":[{\"fillpattern\":{\"fillmode\":\"overlay\",\"size\":10,\"solidity\":0.2},\"type\":\"scatter\"}],\"parcoords\":[{\"type\":\"parcoords\",\"line\":{\"colorbar\":{\"outlinewidth\":0,\"ticks\":\"\"}}}],\"scatterpolargl\":[{\"type\":\"scatterpolargl\",\"marker\":{\"colorbar\":{\"outlinewidth\":0,\"ticks\":\"\"}}}],\"bar\":[{\"error_x\":{\"color\":\"#2a3f5f\"},\"error_y\":{\"color\":\"#2a3f5f\"},\"marker\":{\"line\":{\"color\":\"#E5ECF6\",\"width\":0.5},\"pattern\":{\"fillmode\":\"overlay\",\"size\":10,\"solidity\":0.2}},\"type\":\"bar\"}],\"scattergeo\":[{\"type\":\"scattergeo\",\"marker\":{\"colorbar\":{\"outlinewidth\":0,\"ticks\":\"\"}}}],\"scatterpolar\":[{\"type\":\"scatterpolar\",\"marker\":{\"colorbar\":{\"outlinewidth\":0,\"ticks\":\"\"}}}],\"histogram\":[{\"marker\":{\"pattern\":{\"fillmode\":\"overlay\",\"size\":10,\"solidity\":0.2}},\"type\":\"histogram\"}],\"scattergl\":[{\"type\":\"scattergl\",\"marker\":{\"colorbar\":{\"outlinewidth\":0,\"ticks\":\"\"}}}],\"scatter3d\":[{\"type\":\"scatter3d\",\"line\":{\"colorbar\":{\"outlinewidth\":0,\"ticks\":\"\"}},\"marker\":{\"colorbar\":{\"outlinewidth\":0,\"ticks\":\"\"}}}],\"scattermapbox\":[{\"type\":\"scattermapbox\",\"marker\":{\"colorbar\":{\"outlinewidth\":0,\"ticks\":\"\"}}}],\"scatterternary\":[{\"type\":\"scatterternary\",\"marker\":{\"colorbar\":{\"outlinewidth\":0,\"ticks\":\"\"}}}],\"scattercarpet\":[{\"type\":\"scattercarpet\",\"marker\":{\"colorbar\":{\"outlinewidth\":0,\"ticks\":\"\"}}}],\"carpet\":[{\"aaxis\":{\"endlinecolor\":\"#2a3f5f\",\"gridcolor\":\"white\",\"linecolor\":\"white\",\"minorgridcolor\":\"white\",\"startlinecolor\":\"#2a3f5f\"},\"baxis\":{\"endlinecolor\":\"#2a3f5f\",\"gridcolor\":\"white\",\"linecolor\":\"white\",\"minorgridcolor\":\"white\",\"startlinecolor\":\"#2a3f5f\"},\"type\":\"carpet\"}],\"table\":[{\"cells\":{\"fill\":{\"color\":\"#EBF0F8\"},\"line\":{\"color\":\"white\"}},\"header\":{\"fill\":{\"color\":\"#C8D4E3\"},\"line\":{\"color\":\"white\"}},\"type\":\"table\"}],\"barpolar\":[{\"marker\":{\"line\":{\"color\":\"#E5ECF6\",\"width\":0.5},\"pattern\":{\"fillmode\":\"overlay\",\"size\":10,\"solidity\":0.2}},\"type\":\"barpolar\"}],\"pie\":[{\"automargin\":true,\"type\":\"pie\"}]},\"layout\":{\"autotypenumbers\":\"strict\",\"colorway\":[\"#636efa\",\"#EF553B\",\"#00cc96\",\"#ab63fa\",\"#FFA15A\",\"#19d3f3\",\"#FF6692\",\"#B6E880\",\"#FF97FF\",\"#FECB52\"],\"font\":{\"color\":\"#2a3f5f\"},\"hovermode\":\"closest\",\"hoverlabel\":{\"align\":\"left\"},\"paper_bgcolor\":\"white\",\"plot_bgcolor\":\"#E5ECF6\",\"polar\":{\"bgcolor\":\"#E5ECF6\",\"angularaxis\":{\"gridcolor\":\"white\",\"linecolor\":\"white\",\"ticks\":\"\"},\"radialaxis\":{\"gridcolor\":\"white\",\"linecolor\":\"white\",\"ticks\":\"\"}},\"ternary\":{\"bgcolor\":\"#E5ECF6\",\"aaxis\":{\"gridcolor\":\"white\",\"linecolor\":\"white\",\"ticks\":\"\"},\"baxis\":{\"gridcolor\":\"white\",\"linecolor\":\"white\",\"ticks\":\"\"},\"caxis\":{\"gridcolor\":\"white\",\"linecolor\":\"white\",\"ticks\":\"\"}},\"coloraxis\":{\"colorbar\":{\"outlinewidth\":0,\"ticks\":\"\"}},\"colorscale\":{\"sequential\":[[0.0,\"#0d0887\"],[0.1111111111111111,\"#46039f\"],[0.2222222222222222,\"#7201a8\"],[0.3333333333333333,\"#9c179e\"],[0.4444444444444444,\"#bd3786\"],[0.5555555555555556,\"#d8576b\"],[0.6666666666666666,\"#ed7953\"],[0.7777777777777778,\"#fb9f3a\"],[0.8888888888888888,\"#fdca26\"],[1.0,\"#f0f921\"]],\"sequentialminus\":[[0.0,\"#0d0887\"],[0.1111111111111111,\"#46039f\"],[0.2222222222222222,\"#7201a8\"],[0.3333333333333333,\"#9c179e\"],[0.4444444444444444,\"#bd3786\"],[0.5555555555555556,\"#d8576b\"],[0.6666666666666666,\"#ed7953\"],[0.7777777777777778,\"#fb9f3a\"],[0.8888888888888888,\"#fdca26\"],[1.0,\"#f0f921\"]],\"diverging\":[[0,\"#8e0152\"],[0.1,\"#c51b7d\"],[0.2,\"#de77ae\"],[0.3,\"#f1b6da\"],[0.4,\"#fde0ef\"],[0.5,\"#f7f7f7\"],[0.6,\"#e6f5d0\"],[0.7,\"#b8e186\"],[0.8,\"#7fbc41\"],[0.9,\"#4d9221\"],[1,\"#276419\"]]},\"xaxis\":{\"gridcolor\":\"white\",\"linecolor\":\"white\",\"ticks\":\"\",\"title\":{\"standoff\":15},\"zerolinecolor\":\"white\",\"automargin\":true,\"zerolinewidth\":2},\"yaxis\":{\"gridcolor\":\"white\",\"linecolor\":\"white\",\"ticks\":\"\",\"title\":{\"standoff\":15},\"zerolinecolor\":\"white\",\"automargin\":true,\"zerolinewidth\":2},\"scene\":{\"xaxis\":{\"backgroundcolor\":\"#E5ECF6\",\"gridcolor\":\"white\",\"linecolor\":\"white\",\"showbackground\":true,\"ticks\":\"\",\"zerolinecolor\":\"white\",\"gridwidth\":2},\"yaxis\":{\"backgroundcolor\":\"#E5ECF6\",\"gridcolor\":\"white\",\"linecolor\":\"white\",\"showbackground\":true,\"ticks\":\"\",\"zerolinecolor\":\"white\",\"gridwidth\":2},\"zaxis\":{\"backgroundcolor\":\"#E5ECF6\",\"gridcolor\":\"white\",\"linecolor\":\"white\",\"showbackground\":true,\"ticks\":\"\",\"zerolinecolor\":\"white\",\"gridwidth\":2}},\"shapedefaults\":{\"line\":{\"color\":\"#2a3f5f\"}},\"annotationdefaults\":{\"arrowcolor\":\"#2a3f5f\",\"arrowhead\":0,\"arrowwidth\":1},\"geo\":{\"bgcolor\":\"white\",\"landcolor\":\"#E5ECF6\",\"subunitcolor\":\"white\",\"showland\":true,\"showlakes\":true,\"lakecolor\":\"white\"},\"title\":{\"x\":0.05},\"mapbox\":{\"style\":\"light\"}}},\"yaxis\":{\"title\":{\"text\":\"Top 1 Accuracy\"},\"tickformat\":\".0%\"},\"xaxis\":{\"title\":{\"text\":\"Number of Past Trips\"},\"tickmode\":\"linear\",\"tick0\":0,\"dtick\":1},\"title\":{\"text\":\"Evolution of Top 1 Accuracy by Number of Past Trips (Up to 40 trips)\"}},                        {\"responsive\": true}                    ).then(function(){\n",
              "                            \n",
              "var gd = document.getElementById('ad7980ed-0b96-4459-b749-4f562158592f');\n",
              "var x = new MutationObserver(function (mutations, observer) {{\n",
              "        var display = window.getComputedStyle(gd).display;\n",
              "        if (!display || display === 'none') {{\n",
              "            console.log([gd, 'removed!']);\n",
              "            Plotly.purge(gd);\n",
              "            observer.disconnect();\n",
              "        }}\n",
              "}});\n",
              "\n",
              "// Listen for the removal of the full notebook cells\n",
              "var notebookContainer = gd.closest('#notebook-container');\n",
              "if (notebookContainer) {{\n",
              "    x.observe(notebookContainer, {childList: true});\n",
              "}}\n",
              "\n",
              "// Listen for the clearing of the current output cell\n",
              "var outputEl = gd.closest('.output');\n",
              "if (outputEl) {{\n",
              "    x.observe(outputEl, {childList: true});\n",
              "}}\n",
              "\n",
              "                        })                };                            </script>        </div>\n",
              "</body>\n",
              "</html>"
            ]
          },
          "metadata": {}
        }
      ]
    },
    {
      "cell_type": "markdown",
      "source": [],
      "metadata": {
        "id": "ptN9FEIeVao5"
      },
      "id": "ptN9FEIeVao5"
    },
    {
      "cell_type": "code",
      "source": [
        "def get_original_labels(encoded_values: Dict[Any, int], encoding_dict: Dict[Any, int]) -> Dict[int, Any]:\n",
        "    \"\"\"\n",
        "    Reverse the encoding dictionary to get original labels.\n",
        "\n",
        "    Args:\n",
        "        encoded_values (Dict[Any, int]): Dictionary of encoded values.\n",
        "        encoding_dict (Dict[Any, int]): Original encoding dictionary.\n",
        "\n",
        "    Returns:\n",
        "        Dict[int, Any]: Dictionary mapping encoded values back to original labels.\n",
        "    \"\"\"\n",
        "    return {v: k for k, v in encoding_dict.items()}\n",
        "\n",
        "# Get original labels for vessel types\n",
        "vessel_type_labels = get_original_labels(cat_encodings['vessel_type'], cat_encodings['vessel_type'])\n",
        "# Get original labels for product families\n",
        "product_family_labels = get_original_labels(cat_encodings['product_family'], cat_encodings['product_family'])\n",
        "\n",
        "def compute_top_1_accuracy_by_dimension(dimension: str, top_n: int, label_dict: Dict[int, Any]) -> pd.Series:\n",
        "    \"\"\"\n",
        "    Compute top 1 accuracy for different categories within a specified dimension.\n",
        "\n",
        "    Args:\n",
        "        dimension (str): The column name of the dimension to analyze.\n",
        "        top_n (int): The number of top categories to consider.\n",
        "        label_dict (Dict[int, Any]): Dictionary to map encoded values back to original labels.\n",
        "\n",
        "    Returns:\n",
        "        pd.Series: A series containing the top 1 accuracy for each category.\n",
        "    \"\"\"\n",
        "    # Get the top N categories for the specified dimension\n",
        "    top_categories = ranked_destinations[dimension].value_counts().nlargest(top_n).index\n",
        "\n",
        "    accuracies = {}\n",
        "    for category in top_categories:\n",
        "        # Filter the dataset for the current category\n",
        "        subset = ranked_destinations[ranked_destinations[dimension] == category]\n",
        "        # Compute accuracy for this category\n",
        "        accuracy = subset.groupby('vessel_id').apply(lambda x: is_in_top_n(x, 1)).mean()\n",
        "        # Get the original label for this category\n",
        "        label = label_dict.get(category, f\"Unknown ({category})\")\n",
        "        accuracies[label] = accuracy\n",
        "\n",
        "    return pd.Series(accuracies)\n",
        "\n",
        "# Compute top 1 accuracy for top 4 vessel types\n",
        "vessel_type_accuracy = compute_top_1_accuracy_by_dimension('vessel_type', 4, vessel_type_labels)\n",
        "# Compute top 1 accuracy for top 5 product families\n",
        "product_family_accuracy = compute_top_1_accuracy_by_dimension('product_family', 5, product_family_labels)\n",
        "\n",
        "# Create a subplot figure with two rows\n",
        "fig = make_subplots(rows=2, cols=1,\n",
        "                    subplot_titles=('Top 1 Accuracy by Vessel Type', 'Top 1 Accuracy by Product Family'),\n",
        "                    vertical_spacing=0.3)  # Increase vertical spacing between subplots\n",
        "\n",
        "# Add bar chart for vessel type accuracy\n",
        "fig.add_trace(go.Bar(\n",
        "    x=vessel_type_accuracy.index,\n",
        "    y=vessel_type_accuracy.values,\n",
        "    text=[f'{acc:.2%}' for acc in vessel_type_accuracy.values],\n",
        "    textposition='auto',\n",
        "    marker_color='royalblue'\n",
        "), row=1, col=1)\n",
        "\n",
        "# Add bar chart for product family accuracy\n",
        "fig.add_trace(go.Bar(\n",
        "    x=product_family_accuracy.index,\n",
        "    y=product_family_accuracy.values,\n",
        "    text=[f'{acc:.2%}' for acc in product_family_accuracy.values],\n",
        "    textposition='auto',\n",
        "    marker_color='lightsalmon'\n",
        "), row=2, col=1)\n",
        "\n",
        "# Update layout of the figure\n",
        "fig.update_layout(\n",
        "    height=1000,  # Increase overall height of the figure\n",
        "    title_text=\"Top 1 Accuracy by Vessel Type and Product Family\",\n",
        "    showlegend=False\n",
        ")\n",
        "\n",
        "# Update x-axis labels\n",
        "fig.update_xaxes(title_text=\"Vessel Type\", row=1, col=1, tickangle=45)\n",
        "fig.update_xaxes(title_text=\"Product Family\", row=2, col=1, tickangle=45)\n",
        "\n",
        "# Update y-axis labels and format\n",
        "fig.update_yaxes(title_text=\"Top 1 Accuracy\", tickformat='.0%', range=[0, 1], row=1, col=1)\n",
        "fig.update_yaxes(title_text=\"Top 1 Accuracy\", tickformat='.0%', range=[0, 1], row=2, col=1)\n",
        "\n",
        "# Ensure y-axis starts at 0 and ends at 100%\n",
        "fig.update_yaxes(range=[0, 1])\n",
        "\n",
        "# Display the figure\n",
        "fig.show()\n",
        "\n",
        "# Print additional statistics\n",
        "print(\"\\nTop 1 Accuracy by Vessel Type:\")\n",
        "print(vessel_type_accuracy)\n",
        "print(\"\\nTop 1 Accuracy by Product Family:\")\n",
        "print(product_family_accuracy)\n",
        "\n",
        "# Calculate and print overall statistics\n",
        "print(\"\\nOverall Statistics:\")\n",
        "print(f\"Average Top 1 Accuracy across Vessel Types: {vessel_type_accuracy.mean():.2%}\")\n",
        "print(f\"Average Top 1 Accuracy across Product Families: {product_family_accuracy.mean():.2%}\")\n",
        "print(f\"Vessel Type with highest accuracy: {vessel_type_accuracy.idxmax()} ({vessel_type_accuracy.max():.2%})\")\n",
        "print(f\"Product Family with highest accuracy: {product_family_accuracy.idxmax()} ({product_family_accuracy.max():.2%})\")"
      ],
      "metadata": {
        "colab": {
          "base_uri": "https://localhost:8080/",
          "height": 1000
        },
        "id": "VUT_2v1aCzKm",
        "outputId": "b878ddfa-efcf-47a5-97da-db281baf62d5"
      },
      "id": "VUT_2v1aCzKm",
      "execution_count": 20,
      "outputs": [
        {
          "output_type": "display_data",
          "data": {
            "text/html": [
              "<html>\n",
              "<head><meta charset=\"utf-8\" /></head>\n",
              "<body>\n",
              "    <div>            <script src=\"https://cdnjs.cloudflare.com/ajax/libs/mathjax/2.7.5/MathJax.js?config=TeX-AMS-MML_SVG\"></script><script type=\"text/javascript\">if (window.MathJax && window.MathJax.Hub && window.MathJax.Hub.Config) {window.MathJax.Hub.Config({SVG: {font: \"STIX-Web\"}});}</script>                <script type=\"text/javascript\">window.PlotlyConfig = {MathJaxConfig: 'local'};</script>\n",
              "        <script charset=\"utf-8\" src=\"https://cdn.plot.ly/plotly-2.24.1.min.js\"></script>                <div id=\"9902336f-1eac-4d58-8865-5fe69d2b2419\" class=\"plotly-graph-div\" style=\"height:1000px; width:100%;\"></div>            <script type=\"text/javascript\">                                    window.PLOTLYENV=window.PLOTLYENV || {};                                    if (document.getElementById(\"9902336f-1eac-4d58-8865-5fe69d2b2419\")) {                    Plotly.newPlot(                        \"9902336f-1eac-4d58-8865-5fe69d2b2419\",                        [{\"marker\":{\"color\":\"royalblue\"},\"text\":[\"58.18%\",\"52.46%\",\"57.38%\",\"59.44%\"],\"textposition\":\"auto\",\"x\":[\"Crude\\u002fOil Products Tanker\",\"Chemical\\u002fOil Products Tanker\",\"Products Tanker\",\"Crude Oil Tanker\"],\"y\":[0.5817869415807561,0.5245551601423487,0.5737704918032787,0.5944363103953147],\"type\":\"bar\",\"xaxis\":\"x\",\"yaxis\":\"y\"},{\"marker\":{\"color\":\"lightsalmon\"},\"text\":[\"54.26%\",\"55.09%\",\"63.43%\",\"55.92%\",\"50.00%\"],\"textposition\":\"auto\",\"x\":[\"clean petroleum products\",\"chem\\u002fbio\",\"crude oil\\u002fcondensate\",\"dirty petroleum products\",\"minor bulks\"],\"y\":[0.5425574828559904,0.5509383378016086,0.6342899190581309,0.5592105263157895,0.5],\"type\":\"bar\",\"xaxis\":\"x2\",\"yaxis\":\"y2\"}],                        {\"template\":{\"data\":{\"histogram2dcontour\":[{\"type\":\"histogram2dcontour\",\"colorbar\":{\"outlinewidth\":0,\"ticks\":\"\"},\"colorscale\":[[0.0,\"#0d0887\"],[0.1111111111111111,\"#46039f\"],[0.2222222222222222,\"#7201a8\"],[0.3333333333333333,\"#9c179e\"],[0.4444444444444444,\"#bd3786\"],[0.5555555555555556,\"#d8576b\"],[0.6666666666666666,\"#ed7953\"],[0.7777777777777778,\"#fb9f3a\"],[0.8888888888888888,\"#fdca26\"],[1.0,\"#f0f921\"]]}],\"choropleth\":[{\"type\":\"choropleth\",\"colorbar\":{\"outlinewidth\":0,\"ticks\":\"\"}}],\"histogram2d\":[{\"type\":\"histogram2d\",\"colorbar\":{\"outlinewidth\":0,\"ticks\":\"\"},\"colorscale\":[[0.0,\"#0d0887\"],[0.1111111111111111,\"#46039f\"],[0.2222222222222222,\"#7201a8\"],[0.3333333333333333,\"#9c179e\"],[0.4444444444444444,\"#bd3786\"],[0.5555555555555556,\"#d8576b\"],[0.6666666666666666,\"#ed7953\"],[0.7777777777777778,\"#fb9f3a\"],[0.8888888888888888,\"#fdca26\"],[1.0,\"#f0f921\"]]}],\"heatmap\":[{\"type\":\"heatmap\",\"colorbar\":{\"outlinewidth\":0,\"ticks\":\"\"},\"colorscale\":[[0.0,\"#0d0887\"],[0.1111111111111111,\"#46039f\"],[0.2222222222222222,\"#7201a8\"],[0.3333333333333333,\"#9c179e\"],[0.4444444444444444,\"#bd3786\"],[0.5555555555555556,\"#d8576b\"],[0.6666666666666666,\"#ed7953\"],[0.7777777777777778,\"#fb9f3a\"],[0.8888888888888888,\"#fdca26\"],[1.0,\"#f0f921\"]]}],\"heatmapgl\":[{\"type\":\"heatmapgl\",\"colorbar\":{\"outlinewidth\":0,\"ticks\":\"\"},\"colorscale\":[[0.0,\"#0d0887\"],[0.1111111111111111,\"#46039f\"],[0.2222222222222222,\"#7201a8\"],[0.3333333333333333,\"#9c179e\"],[0.4444444444444444,\"#bd3786\"],[0.5555555555555556,\"#d8576b\"],[0.6666666666666666,\"#ed7953\"],[0.7777777777777778,\"#fb9f3a\"],[0.8888888888888888,\"#fdca26\"],[1.0,\"#f0f921\"]]}],\"contourcarpet\":[{\"type\":\"contourcarpet\",\"colorbar\":{\"outlinewidth\":0,\"ticks\":\"\"}}],\"contour\":[{\"type\":\"contour\",\"colorbar\":{\"outlinewidth\":0,\"ticks\":\"\"},\"colorscale\":[[0.0,\"#0d0887\"],[0.1111111111111111,\"#46039f\"],[0.2222222222222222,\"#7201a8\"],[0.3333333333333333,\"#9c179e\"],[0.4444444444444444,\"#bd3786\"],[0.5555555555555556,\"#d8576b\"],[0.6666666666666666,\"#ed7953\"],[0.7777777777777778,\"#fb9f3a\"],[0.8888888888888888,\"#fdca26\"],[1.0,\"#f0f921\"]]}],\"surface\":[{\"type\":\"surface\",\"colorbar\":{\"outlinewidth\":0,\"ticks\":\"\"},\"colorscale\":[[0.0,\"#0d0887\"],[0.1111111111111111,\"#46039f\"],[0.2222222222222222,\"#7201a8\"],[0.3333333333333333,\"#9c179e\"],[0.4444444444444444,\"#bd3786\"],[0.5555555555555556,\"#d8576b\"],[0.6666666666666666,\"#ed7953\"],[0.7777777777777778,\"#fb9f3a\"],[0.8888888888888888,\"#fdca26\"],[1.0,\"#f0f921\"]]}],\"mesh3d\":[{\"type\":\"mesh3d\",\"colorbar\":{\"outlinewidth\":0,\"ticks\":\"\"}}],\"scatter\":[{\"fillpattern\":{\"fillmode\":\"overlay\",\"size\":10,\"solidity\":0.2},\"type\":\"scatter\"}],\"parcoords\":[{\"type\":\"parcoords\",\"line\":{\"colorbar\":{\"outlinewidth\":0,\"ticks\":\"\"}}}],\"scatterpolargl\":[{\"type\":\"scatterpolargl\",\"marker\":{\"colorbar\":{\"outlinewidth\":0,\"ticks\":\"\"}}}],\"bar\":[{\"error_x\":{\"color\":\"#2a3f5f\"},\"error_y\":{\"color\":\"#2a3f5f\"},\"marker\":{\"line\":{\"color\":\"#E5ECF6\",\"width\":0.5},\"pattern\":{\"fillmode\":\"overlay\",\"size\":10,\"solidity\":0.2}},\"type\":\"bar\"}],\"scattergeo\":[{\"type\":\"scattergeo\",\"marker\":{\"colorbar\":{\"outlinewidth\":0,\"ticks\":\"\"}}}],\"scatterpolar\":[{\"type\":\"scatterpolar\",\"marker\":{\"colorbar\":{\"outlinewidth\":0,\"ticks\":\"\"}}}],\"histogram\":[{\"marker\":{\"pattern\":{\"fillmode\":\"overlay\",\"size\":10,\"solidity\":0.2}},\"type\":\"histogram\"}],\"scattergl\":[{\"type\":\"scattergl\",\"marker\":{\"colorbar\":{\"outlinewidth\":0,\"ticks\":\"\"}}}],\"scatter3d\":[{\"type\":\"scatter3d\",\"line\":{\"colorbar\":{\"outlinewidth\":0,\"ticks\":\"\"}},\"marker\":{\"colorbar\":{\"outlinewidth\":0,\"ticks\":\"\"}}}],\"scattermapbox\":[{\"type\":\"scattermapbox\",\"marker\":{\"colorbar\":{\"outlinewidth\":0,\"ticks\":\"\"}}}],\"scatterternary\":[{\"type\":\"scatterternary\",\"marker\":{\"colorbar\":{\"outlinewidth\":0,\"ticks\":\"\"}}}],\"scattercarpet\":[{\"type\":\"scattercarpet\",\"marker\":{\"colorbar\":{\"outlinewidth\":0,\"ticks\":\"\"}}}],\"carpet\":[{\"aaxis\":{\"endlinecolor\":\"#2a3f5f\",\"gridcolor\":\"white\",\"linecolor\":\"white\",\"minorgridcolor\":\"white\",\"startlinecolor\":\"#2a3f5f\"},\"baxis\":{\"endlinecolor\":\"#2a3f5f\",\"gridcolor\":\"white\",\"linecolor\":\"white\",\"minorgridcolor\":\"white\",\"startlinecolor\":\"#2a3f5f\"},\"type\":\"carpet\"}],\"table\":[{\"cells\":{\"fill\":{\"color\":\"#EBF0F8\"},\"line\":{\"color\":\"white\"}},\"header\":{\"fill\":{\"color\":\"#C8D4E3\"},\"line\":{\"color\":\"white\"}},\"type\":\"table\"}],\"barpolar\":[{\"marker\":{\"line\":{\"color\":\"#E5ECF6\",\"width\":0.5},\"pattern\":{\"fillmode\":\"overlay\",\"size\":10,\"solidity\":0.2}},\"type\":\"barpolar\"}],\"pie\":[{\"automargin\":true,\"type\":\"pie\"}]},\"layout\":{\"autotypenumbers\":\"strict\",\"colorway\":[\"#636efa\",\"#EF553B\",\"#00cc96\",\"#ab63fa\",\"#FFA15A\",\"#19d3f3\",\"#FF6692\",\"#B6E880\",\"#FF97FF\",\"#FECB52\"],\"font\":{\"color\":\"#2a3f5f\"},\"hovermode\":\"closest\",\"hoverlabel\":{\"align\":\"left\"},\"paper_bgcolor\":\"white\",\"plot_bgcolor\":\"#E5ECF6\",\"polar\":{\"bgcolor\":\"#E5ECF6\",\"angularaxis\":{\"gridcolor\":\"white\",\"linecolor\":\"white\",\"ticks\":\"\"},\"radialaxis\":{\"gridcolor\":\"white\",\"linecolor\":\"white\",\"ticks\":\"\"}},\"ternary\":{\"bgcolor\":\"#E5ECF6\",\"aaxis\":{\"gridcolor\":\"white\",\"linecolor\":\"white\",\"ticks\":\"\"},\"baxis\":{\"gridcolor\":\"white\",\"linecolor\":\"white\",\"ticks\":\"\"},\"caxis\":{\"gridcolor\":\"white\",\"linecolor\":\"white\",\"ticks\":\"\"}},\"coloraxis\":{\"colorbar\":{\"outlinewidth\":0,\"ticks\":\"\"}},\"colorscale\":{\"sequential\":[[0.0,\"#0d0887\"],[0.1111111111111111,\"#46039f\"],[0.2222222222222222,\"#7201a8\"],[0.3333333333333333,\"#9c179e\"],[0.4444444444444444,\"#bd3786\"],[0.5555555555555556,\"#d8576b\"],[0.6666666666666666,\"#ed7953\"],[0.7777777777777778,\"#fb9f3a\"],[0.8888888888888888,\"#fdca26\"],[1.0,\"#f0f921\"]],\"sequentialminus\":[[0.0,\"#0d0887\"],[0.1111111111111111,\"#46039f\"],[0.2222222222222222,\"#7201a8\"],[0.3333333333333333,\"#9c179e\"],[0.4444444444444444,\"#bd3786\"],[0.5555555555555556,\"#d8576b\"],[0.6666666666666666,\"#ed7953\"],[0.7777777777777778,\"#fb9f3a\"],[0.8888888888888888,\"#fdca26\"],[1.0,\"#f0f921\"]],\"diverging\":[[0,\"#8e0152\"],[0.1,\"#c51b7d\"],[0.2,\"#de77ae\"],[0.3,\"#f1b6da\"],[0.4,\"#fde0ef\"],[0.5,\"#f7f7f7\"],[0.6,\"#e6f5d0\"],[0.7,\"#b8e186\"],[0.8,\"#7fbc41\"],[0.9,\"#4d9221\"],[1,\"#276419\"]]},\"xaxis\":{\"gridcolor\":\"white\",\"linecolor\":\"white\",\"ticks\":\"\",\"title\":{\"standoff\":15},\"zerolinecolor\":\"white\",\"automargin\":true,\"zerolinewidth\":2},\"yaxis\":{\"gridcolor\":\"white\",\"linecolor\":\"white\",\"ticks\":\"\",\"title\":{\"standoff\":15},\"zerolinecolor\":\"white\",\"automargin\":true,\"zerolinewidth\":2},\"scene\":{\"xaxis\":{\"backgroundcolor\":\"#E5ECF6\",\"gridcolor\":\"white\",\"linecolor\":\"white\",\"showbackground\":true,\"ticks\":\"\",\"zerolinecolor\":\"white\",\"gridwidth\":2},\"yaxis\":{\"backgroundcolor\":\"#E5ECF6\",\"gridcolor\":\"white\",\"linecolor\":\"white\",\"showbackground\":true,\"ticks\":\"\",\"zerolinecolor\":\"white\",\"gridwidth\":2},\"zaxis\":{\"backgroundcolor\":\"#E5ECF6\",\"gridcolor\":\"white\",\"linecolor\":\"white\",\"showbackground\":true,\"ticks\":\"\",\"zerolinecolor\":\"white\",\"gridwidth\":2}},\"shapedefaults\":{\"line\":{\"color\":\"#2a3f5f\"}},\"annotationdefaults\":{\"arrowcolor\":\"#2a3f5f\",\"arrowhead\":0,\"arrowwidth\":1},\"geo\":{\"bgcolor\":\"white\",\"landcolor\":\"#E5ECF6\",\"subunitcolor\":\"white\",\"showland\":true,\"showlakes\":true,\"lakecolor\":\"white\"},\"title\":{\"x\":0.05},\"mapbox\":{\"style\":\"light\"}}},\"xaxis\":{\"anchor\":\"y\",\"domain\":[0.0,1.0],\"title\":{\"text\":\"Vessel Type\"},\"tickangle\":45},\"yaxis\":{\"anchor\":\"x\",\"domain\":[0.6499999999999999,0.9999999999999999],\"title\":{\"text\":\"Top 1 Accuracy\"},\"tickformat\":\".0%\",\"range\":[0,1]},\"xaxis2\":{\"anchor\":\"y2\",\"domain\":[0.0,1.0],\"title\":{\"text\":\"Product Family\"},\"tickangle\":45},\"yaxis2\":{\"anchor\":\"x2\",\"domain\":[0.0,0.35],\"title\":{\"text\":\"Top 1 Accuracy\"},\"tickformat\":\".0%\",\"range\":[0,1]},\"annotations\":[{\"font\":{\"size\":16},\"showarrow\":false,\"text\":\"Top 1 Accuracy by Vessel Type\",\"x\":0.5,\"xanchor\":\"center\",\"xref\":\"paper\",\"y\":0.9999999999999999,\"yanchor\":\"bottom\",\"yref\":\"paper\"},{\"font\":{\"size\":16},\"showarrow\":false,\"text\":\"Top 1 Accuracy by Product Family\",\"x\":0.5,\"xanchor\":\"center\",\"xref\":\"paper\",\"y\":0.35,\"yanchor\":\"bottom\",\"yref\":\"paper\"}],\"title\":{\"text\":\"Top 1 Accuracy by Vessel Type and Product Family\"},\"height\":1000,\"showlegend\":false},                        {\"responsive\": true}                    ).then(function(){\n",
              "                            \n",
              "var gd = document.getElementById('9902336f-1eac-4d58-8865-5fe69d2b2419');\n",
              "var x = new MutationObserver(function (mutations, observer) {{\n",
              "        var display = window.getComputedStyle(gd).display;\n",
              "        if (!display || display === 'none') {{\n",
              "            console.log([gd, 'removed!']);\n",
              "            Plotly.purge(gd);\n",
              "            observer.disconnect();\n",
              "        }}\n",
              "}});\n",
              "\n",
              "// Listen for the removal of the full notebook cells\n",
              "var notebookContainer = gd.closest('#notebook-container');\n",
              "if (notebookContainer) {{\n",
              "    x.observe(notebookContainer, {childList: true});\n",
              "}}\n",
              "\n",
              "// Listen for the clearing of the current output cell\n",
              "var outputEl = gd.closest('.output');\n",
              "if (outputEl) {{\n",
              "    x.observe(outputEl, {childList: true});\n",
              "}}\n",
              "\n",
              "                        })                };                            </script>        </div>\n",
              "</body>\n",
              "</html>"
            ]
          },
          "metadata": {}
        },
        {
          "output_type": "stream",
          "name": "stdout",
          "text": [
            "\n",
            "Top 1 Accuracy by Vessel Type:\n",
            "Crude/Oil Products Tanker       0.581787\n",
            "Chemical/Oil Products Tanker    0.524555\n",
            "Products Tanker                 0.573770\n",
            "Crude Oil Tanker                0.594436\n",
            "dtype: float64\n",
            "\n",
            "Top 1 Accuracy by Product Family:\n",
            "clean petroleum products    0.542557\n",
            "chem/bio                    0.550938\n",
            "crude oil/condensate        0.634290\n",
            "dirty petroleum products    0.559211\n",
            "minor bulks                 0.500000\n",
            "dtype: float64\n",
            "\n",
            "Overall Statistics:\n",
            "Average Top 1 Accuracy across Vessel Types: 56.86%\n",
            "Average Top 1 Accuracy across Product Families: 55.74%\n",
            "Vessel Type with highest accuracy: Crude Oil Tanker (59.44%)\n",
            "Product Family with highest accuracy: crude oil/condensate (63.43%)\n"
          ]
        }
      ]
    },
    {
      "cell_type": "code",
      "source": [],
      "metadata": {
        "id": "SngNFcX3G8tt"
      },
      "id": "SngNFcX3G8tt",
      "execution_count": null,
      "outputs": []
    }
  ],
  "metadata": {
    "colab": {
      "provenance": [],
      "toc_visible": true,
      "gpuType": "T4",
      "include_colab_link": true
    },
    "kernelspec": {
      "display_name": "Python 3",
      "name": "python3"
    },
    "language_info": {
      "codemirror_mode": {
        "name": "ipython",
        "version": 3
      },
      "file_extension": ".py",
      "mimetype": "text/x-python",
      "name": "python",
      "nbconvert_exporter": "python",
      "pygments_lexer": "ipython3",
      "version": "3.9.6"
    },
    "accelerator": "GPU"
  },
  "nbformat": 4,
  "nbformat_minor": 5
}