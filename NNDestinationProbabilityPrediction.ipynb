{
  "cells": [
    {
      "cell_type": "markdown",
      "metadata": {
        "id": "view-in-github",
        "colab_type": "text"
      },
      "source": [
        "<a href=\"https://colab.research.google.com/github/adadoun/KplerNextDestination/blob/main/NNDestinationProbabilityPrediction.ipynb\" target=\"_parent\"><img src=\"https://colab.research.google.com/assets/colab-badge.svg\" alt=\"Open In Colab\"/></a>"
      ]
    },
    {
      "cell_type": "markdown",
      "id": "ac724e400bf56f2b",
      "metadata": {
        "collapsed": false,
        "id": "ac724e400bf56f2b"
      },
      "source": [
        "# Vessel Destination Prediction\n",
        "\n",
        "## 1. Import Libraries"
      ]
    },
    {
      "cell_type": "code",
      "execution_count": 2,
      "id": "VytWJK_eq_gn",
      "metadata": {
        "colab": {
          "base_uri": "https://localhost:8080/"
        },
        "id": "VytWJK_eq_gn",
        "outputId": "1ce020ce-b158-427b-a702-2f6edeb1f90f"
      },
      "outputs": [
        {
          "output_type": "stream",
          "name": "stdout",
          "text": [
            "Collecting category_encoders\n",
            "  Downloading category_encoders-2.6.3-py2.py3-none-any.whl.metadata (8.0 kB)\n",
            "Requirement already satisfied: numpy>=1.14.0 in /usr/local/lib/python3.10/dist-packages (from category_encoders) (1.26.4)\n",
            "Requirement already satisfied: scikit-learn>=0.20.0 in /usr/local/lib/python3.10/dist-packages (from category_encoders) (1.3.2)\n",
            "Requirement already satisfied: scipy>=1.0.0 in /usr/local/lib/python3.10/dist-packages (from category_encoders) (1.13.1)\n",
            "Requirement already satisfied: statsmodels>=0.9.0 in /usr/local/lib/python3.10/dist-packages (from category_encoders) (0.14.2)\n",
            "Requirement already satisfied: pandas>=1.0.5 in /usr/local/lib/python3.10/dist-packages (from category_encoders) (2.1.4)\n",
            "Requirement already satisfied: patsy>=0.5.1 in /usr/local/lib/python3.10/dist-packages (from category_encoders) (0.5.6)\n",
            "Requirement already satisfied: python-dateutil>=2.8.2 in /usr/local/lib/python3.10/dist-packages (from pandas>=1.0.5->category_encoders) (2.8.2)\n",
            "Requirement already satisfied: pytz>=2020.1 in /usr/local/lib/python3.10/dist-packages (from pandas>=1.0.5->category_encoders) (2024.1)\n",
            "Requirement already satisfied: tzdata>=2022.1 in /usr/local/lib/python3.10/dist-packages (from pandas>=1.0.5->category_encoders) (2024.1)\n",
            "Requirement already satisfied: six in /usr/local/lib/python3.10/dist-packages (from patsy>=0.5.1->category_encoders) (1.16.0)\n",
            "Requirement already satisfied: joblib>=1.1.1 in /usr/local/lib/python3.10/dist-packages (from scikit-learn>=0.20.0->category_encoders) (1.4.2)\n",
            "Requirement already satisfied: threadpoolctl>=2.0.0 in /usr/local/lib/python3.10/dist-packages (from scikit-learn>=0.20.0->category_encoders) (3.5.0)\n",
            "Requirement already satisfied: packaging>=21.3 in /usr/local/lib/python3.10/dist-packages (from statsmodels>=0.9.0->category_encoders) (24.1)\n",
            "Downloading category_encoders-2.6.3-py2.py3-none-any.whl (81 kB)\n",
            "\u001b[2K   \u001b[90m━━━━━━━━━━━━━━━━━━━━━━━━━━━━━━━━━━━━━━━━\u001b[0m \u001b[32m81.9/81.9 kB\u001b[0m \u001b[31m3.6 MB/s\u001b[0m eta \u001b[36m0:00:00\u001b[0m\n",
            "\u001b[?25hInstalling collected packages: category_encoders\n",
            "Successfully installed category_encoders-2.6.3\n"
          ]
        }
      ],
      "source": [
        "!pip install category_encoders"
      ]
    },
    {
      "cell_type": "code",
      "source": [
        "from google.colab import drive\n",
        "drive.mount('/content/drive')"
      ],
      "metadata": {
        "id": "-A_Lm456sGoZ",
        "colab": {
          "base_uri": "https://localhost:8080/"
        },
        "outputId": "2265f189-8ae3-498f-c430-c238f1757cda"
      },
      "id": "-A_Lm456sGoZ",
      "execution_count": 3,
      "outputs": [
        {
          "output_type": "stream",
          "name": "stdout",
          "text": [
            "Mounted at /content/drive\n"
          ]
        }
      ]
    },
    {
      "cell_type": "code",
      "execution_count": 23,
      "id": "initial_id",
      "metadata": {
        "id": "initial_id"
      },
      "outputs": [],
      "source": [
        "import pandas as pd\n",
        "import numpy as np\n",
        "from collections import defaultdict\n",
        "from sklearn.model_selection import train_test_split\n",
        "from sklearn.preprocessing import LabelEncoder, OneHotEncoder, StandardScaler\n",
        "from sklearn.metrics import accuracy_score, roc_auc_score, precision_score, recall_score, f1_score\n",
        "from category_encoders import TargetEncoder\n",
        "import lightgbm as lgb\n",
        "import plotly.graph_objects as go\n",
        "from plotly.subplots import make_subplots\n",
        "# PyTorch imports\n",
        "import torch\n",
        "import torch.nn as nn\n",
        "import torch.optim as optim\n",
        "from torch.utils.data import Dataset, DataLoader"
      ]
    },
    {
      "cell_type": "markdown",
      "id": "55310f2f0d91d8c8",
      "metadata": {
        "collapsed": false,
        "id": "55310f2f0d91d8c8"
      },
      "source": [
        "## 2. Data Preprocessing\n",
        "\n",
        "### 2.1 Define Preprocessing Function\n"
      ]
    },
    {
      "cell_type": "code",
      "execution_count": 5,
      "id": "fd6537a7088df188",
      "metadata": {
        "colab": {
          "base_uri": "https://localhost:8080/"
        },
        "id": "fd6537a7088df188",
        "outputId": "f060fa9b-e1b9-4b1e-c3a2-5ab78c29afd1"
      },
      "outputs": [
        {
          "output_type": "stream",
          "name": "stdout",
          "text": [
            "Libraries imported and functions defined successfully.\n"
          ]
        }
      ],
      "source": [
        "# Preprocessing function\n",
        "def preprocess_data(df, is_train=True, cat_encodings=None, scaler=None):\n",
        "    cat_cols = ['vessel_id',\n",
        "                'origin', 'destination',\n",
        "                'origin_h3_res2_index', 'destination_h3_res2_index',\n",
        "                'product_family', 'vessel_type',\n",
        "                'products',\n",
        "               'flag_name', 'origin_country_code', 'destination_country_code',\n",
        "               'previous_visited_port_1', 'previous_visited_port_2', 'previous_visited_port_3',\n",
        "               'probability_level'\n",
        "               ]\n",
        "    num_cols = ['day_of_week', 'month', 'traded_volume',\n",
        "               'dead_weight', 'vessel_age', 'origin_draught_change', 'destination_draught_change',\n",
        "                'origin_cargo_volume', 'destination_cargo_volume', 'od_distance', 'p1_destination_probability',\n",
        "                'p2_destination_probability', 'p3_destination_probability',\n",
        "                'p4_destination_probability', 'merged_destination_probability'\n",
        "               ]\n",
        "\n",
        "    if is_train:\n",
        "        cat_encodings = {col: defaultdict(lambda: 0, {val: i + 1 for i, val in enumerate(df[col].unique())}) for col in cat_cols}\n",
        "        for col in cat_encodings:\n",
        "            cat_encodings[col]['<unknown>'] = len(cat_encodings[col])\n",
        "        scaler = StandardScaler()\n",
        "        df[num_cols] = scaler.fit_transform(df[num_cols].fillna(0))\n",
        "    else:\n",
        "        df[num_cols] = scaler.transform(df[num_cols].fillna(0))\n",
        "\n",
        "    for col in cat_cols:\n",
        "        df[col] = df[col].map(lambda x: cat_encodings[col][x] if x in cat_encodings[col] else cat_encodings[col]['<unknown>'])\n",
        "\n",
        "    return df, cat_encodings, scaler, cat_cols, num_cols\n",
        "\n",
        "# Dataset class\n",
        "class VesselDataset(Dataset):\n",
        "    def __init__(self, features, labels=None):\n",
        "        self.features = features\n",
        "        self.labels = labels\n",
        "\n",
        "    def __len__(self):\n",
        "        return len(self.features)\n",
        "\n",
        "    def __getitem__(self, idx):\n",
        "        if self.labels is not None:\n",
        "            return torch.tensor(self.features.iloc[idx].values, dtype=torch.float), torch.tensor(self.labels.iloc[idx], dtype=torch.float)\n",
        "        return torch.tensor(self.features.iloc[idx].values, dtype=torch.float)\n",
        "\n",
        "# Model definition\n",
        "class VesselDestinationModel(nn.Module):\n",
        "    def __init__(self, cat_dims, num_dims, embedding_dims=[128,\n",
        "                                                           128, 128,\n",
        "                                                           64, 64,\n",
        "                                                           10, 10, 10, 10, 10, 10,\n",
        "                                                           128, 128, 128,\n",
        "                                                           1],\n",
        "                                             hidden_dims=[1024, 512, 256, 128, 64, 32]):\n",
        "        super(VesselDestinationModel, self).__init__()\n",
        "\n",
        "        self.embeddings = nn.ModuleList([nn.Embedding(dim, embedding_dims[i]) for i, dim in enumerate(cat_dims)])\n",
        "\n",
        "        total_embedding_dim = sum(embedding_dims)\n",
        "        self.num_features = num_dims\n",
        "        total_input_dim = total_embedding_dim + self.num_features\n",
        "\n",
        "        layers = []\n",
        "        input_dim = total_input_dim\n",
        "        for hidden_dim in hidden_dims:\n",
        "            layers.append(nn.Linear(input_dim, hidden_dim))\n",
        "            layers.append(nn.ReLU())\n",
        "            input_dim = hidden_dim\n",
        "\n",
        "        layers.append(nn.Linear(hidden_dims[-1], 1))\n",
        "\n",
        "        self.main_network = nn.Sequential(*layers)\n",
        "\n",
        "\n",
        "        # The element-wise products will result in two scalar values\n",
        "        self.final_layer = nn.Linear(3, 1)\n",
        "        self.activation = nn.Sigmoid()\n",
        "\n",
        "    def forward(self, x):\n",
        "        cat_features = x[:, :len(self.embeddings)].long()\n",
        "        num_features = x[:, len(self.embeddings):]\n",
        "\n",
        "        embedded = [emb(cat_features[:, i]) for i, emb in enumerate(self.embeddings)]\n",
        "\n",
        "        # Extract specific embeddings\n",
        "        vessel_id_emb = embedded[0]\n",
        "        origin_emb = embedded[1]\n",
        "        destination_emb = embedded[2]\n",
        "\n",
        "        # Compute element-wise products\n",
        "        origin_dest_product = (origin_emb * destination_emb).sum(dim=1, keepdim=True)\n",
        "        vessel_dest_product = (vessel_id_emb * destination_emb).sum(dim=1, keepdim=True)\n",
        "\n",
        "        # Concatenate all embeddings\n",
        "        embedded = torch.cat(embedded, dim=1)\n",
        "\n",
        "        # Concatenate embeddings with numerical features\n",
        "        x = torch.cat([embedded, num_features], dim=1)\n",
        "\n",
        "        # Pass through main network\n",
        "        main_output = self.main_network(x)\n",
        "\n",
        "        # Concatenate main output with element-wise products\n",
        "        final_input = torch.cat([main_output, origin_dest_product, vessel_dest_product], dim=1)\n",
        "\n",
        "        # Final layer and activation\n",
        "        output = self.activation(self.final_layer(final_input))\n",
        "\n",
        "        return output.squeeze()\n",
        "\n",
        "\n",
        "# Training function\n",
        "def train_model(model, train_loader, val_loader, criterion, optimizer, num_epochs, device):\n",
        "    for epoch in range(num_epochs):\n",
        "        model.train()\n",
        "        train_loss = 0\n",
        "        train_correct = 0\n",
        "        train_total = 0\n",
        "\n",
        "        for features, labels in train_loader:\n",
        "            features, labels = features.to(device), labels.to(device)\n",
        "\n",
        "            optimizer.zero_grad()\n",
        "            outputs = model(features)\n",
        "            loss = criterion(outputs, labels)\n",
        "            loss.backward()\n",
        "            optimizer.step()\n",
        "\n",
        "            train_loss += loss.item()\n",
        "            predicted = (outputs > 0.5).float()\n",
        "            train_total += labels.size(0)\n",
        "            train_correct += (predicted == labels).sum().item()\n",
        "\n",
        "        train_loss /= len(train_loader)\n",
        "        train_accuracy = 100 * train_correct / train_total\n",
        "\n",
        "        # Validation\n",
        "        model.eval()\n",
        "        val_loss = 0\n",
        "        val_correct = 0\n",
        "        val_total = 0\n",
        "\n",
        "        with torch.no_grad():\n",
        "            for features, labels in val_loader:\n",
        "                features, labels = features.to(device), labels.to(device)\n",
        "                outputs = model(features)\n",
        "                loss = criterion(outputs, labels)\n",
        "\n",
        "                val_loss += loss.item()\n",
        "                predicted = (outputs > 0.5).float()\n",
        "                val_total += labels.size(0)\n",
        "                val_correct += (predicted == labels).sum().item()\n",
        "\n",
        "        val_loss /= len(val_loader)\n",
        "        val_accuracy = 100 * val_correct / val_total\n",
        "\n",
        "        print(f'Epoch {epoch+1}/{num_epochs}:')\n",
        "        print(f'Train Loss: {train_loss:.4f}, Train Accuracy: {train_accuracy:.2f}%')\n",
        "        print(f'Val Loss: {val_loss:.4f}, Val Accuracy: {val_accuracy:.2f}%')\n",
        "        print()\n",
        "\n",
        "print(\"Libraries imported and functions defined successfully.\")"
      ]
    },
    {
      "cell_type": "code",
      "execution_count": 6,
      "id": "485c716188e0bc3",
      "metadata": {
        "colab": {
          "base_uri": "https://localhost:8080/"
        },
        "id": "485c716188e0bc3",
        "outputId": "b60db356-701a-47de-b5e7-fd7e1026adfb"
      },
      "outputs": [
        {
          "output_type": "stream",
          "name": "stdout",
          "text": [
            "Training data preprocessed and split.\n",
            "Shape of training data: (476392, 33)\n",
            "Shape of validation data: (119098, 33)\n",
            "Training data date range: 2023-01-01T00:35:13.000Z to 2023-10-07T04:39:12.000Z\n",
            "Validation data date range: 2023-10-07T04:39:12.000Z to 2023-10-30T18:35:58.000Z\n",
            "Datasets and DataLoaders created.\n",
            "Number of batches in train_loader: 1861\n",
            "Number of batches in val_loader: 466\n"
          ]
        }
      ],
      "source": [
        "# Load and preprocess training data\n",
        "train_df = pd.read_csv('drive/MyDrive/Collab_DATA/train_trades_csv_prepared.csv')\n",
        "train_df, cat_encodings, scaler, cat_cols, num_cols = preprocess_data(train_df, is_train=True)\n",
        "\n",
        "# Split into train and validation sets\n",
        "train_data, val_data = train_test_split(train_df, test_size=0.2, random_state=42)\n",
        "\n",
        "# Split the data\n",
        "# Sort the dataframe by end_date_time\n",
        "df_sorted = train_df.sort_values('start_date_time')\n",
        "\n",
        "# Determine the split point (90% train, 10% validation)\n",
        "split_index = int(len(df_sorted) * 0.95)\n",
        "\n",
        "# Split the data\n",
        "train_df = df_sorted.iloc[:split_index]\n",
        "val_df = df_sorted.iloc[split_index:]\n",
        "\n",
        "\n",
        "\n",
        "print(\"Training data preprocessed and split.\")\n",
        "print(f\"Shape of training data: {train_data.shape}\")\n",
        "print(f\"Shape of validation data: {val_data.shape}\")\n",
        "print(f\"Training data date range: {train_df['start_date_time'].min()} to {train_df['start_date_time'].max()}\")\n",
        "print(f\"Validation data date range: {val_df['start_date_time'].min()} to {val_df['start_date_time'].max()}\")\n",
        "\n",
        "\n",
        "# Create datasets and dataloaders\n",
        "train_dataset = VesselDataset(train_data[cat_cols + num_cols], train_data['is_visit'])\n",
        "val_dataset = VesselDataset(val_data[cat_cols + num_cols], val_data['is_visit'])\n",
        "train_loader = DataLoader(train_dataset, batch_size=256, shuffle=True)\n",
        "val_loader = DataLoader(val_dataset, batch_size=256)\n",
        "\n",
        "print(\"Datasets and DataLoaders created.\")\n",
        "print(f\"Number of batches in train_loader: {len(train_loader)}\")\n",
        "print(f\"Number of batches in val_loader: {len(val_loader)}\")\n"
      ]
    },
    {
      "cell_type": "code",
      "execution_count": 7,
      "id": "7f205a84df6739a",
      "metadata": {
        "id": "7f205a84df6739a",
        "outputId": "9526e4c8-49e7-48ea-9832-6560a5faa255",
        "colab": {
          "base_uri": "https://localhost:8080/"
        }
      },
      "outputs": [
        {
          "output_type": "stream",
          "name": "stdout",
          "text": [
            "Model initialized. Using device: cuda\n",
            "VesselDestinationModel(\n",
            "  (embeddings): ModuleList(\n",
            "    (0): Embedding(8394, 128)\n",
            "    (1): Embedding(1343, 128)\n",
            "    (2): Embedding(1549, 128)\n",
            "    (3): Embedding(501, 64)\n",
            "    (4): Embedding(601, 64)\n",
            "    (5): Embedding(12, 10)\n",
            "    (6): Embedding(13, 10)\n",
            "    (7): Embedding(2299, 10)\n",
            "    (8): Embedding(94, 10)\n",
            "    (9): Embedding(132, 10)\n",
            "    (10): Embedding(152, 10)\n",
            "    (11): Embedding(1535, 128)\n",
            "    (12): Embedding(1512, 128)\n",
            "    (13): Embedding(1490, 128)\n",
            "    (14): Embedding(6, 1)\n",
            "  )\n",
            "  (main_network): Sequential(\n",
            "    (0): Linear(in_features=972, out_features=1024, bias=True)\n",
            "    (1): ReLU()\n",
            "    (2): Linear(in_features=1024, out_features=512, bias=True)\n",
            "    (3): ReLU()\n",
            "    (4): Linear(in_features=512, out_features=256, bias=True)\n",
            "    (5): ReLU()\n",
            "    (6): Linear(in_features=256, out_features=128, bias=True)\n",
            "    (7): ReLU()\n",
            "    (8): Linear(in_features=128, out_features=64, bias=True)\n",
            "    (9): ReLU()\n",
            "    (10): Linear(in_features=64, out_features=32, bias=True)\n",
            "    (11): ReLU()\n",
            "    (12): Linear(in_features=32, out_features=1, bias=True)\n",
            "  )\n",
            "  (final_layer): Linear(in_features=3, out_features=1, bias=True)\n",
            "  (activation): Sigmoid()\n",
            ")\n"
          ]
        }
      ],
      "source": [
        "# Initialize the model\n",
        "cat_dims = [len(cat_encodings[col]) for col in cat_cols]\n",
        "num_dims = len(num_cols)\n",
        "model = VesselDestinationModel(cat_dims, num_dims)\n",
        "\n",
        "# Training setup\n",
        "criterion = nn.BCELoss()\n",
        "optimizer = optim.Adam(model.parameters(), lr=0.001)\n",
        "device = torch.device(\"cuda\" if torch.cuda.is_available() else \"cpu\")\n",
        "model.to(device)\n",
        "\n",
        "print(f\"Model initialized. Using device: {device}\")\n",
        "print(model)"
      ]
    },
    {
      "cell_type": "markdown",
      "id": "3bd7e9fb5709da6",
      "metadata": {
        "collapsed": false,
        "id": "3bd7e9fb5709da6"
      },
      "source": [
        "## 3. Define PyTorch Dataset and Model\n",
        "\n",
        "### 3.1 PyTorch Dataset"
      ]
    },
    {
      "cell_type": "code",
      "execution_count": 8,
      "id": "591005e9a69cf449",
      "metadata": {
        "id": "591005e9a69cf449",
        "colab": {
          "base_uri": "https://localhost:8080/"
        },
        "outputId": "64cee9a7-a2e2-4562-f474-14b1a41c1d68"
      },
      "outputs": [
        {
          "output_type": "stream",
          "name": "stdout",
          "text": [
            "Epoch 1/3:\n",
            "Train Loss: 0.4442, Train Accuracy: 89.60%\n",
            "Val Loss: 0.1270, Val Accuracy: 95.43%\n",
            "\n",
            "Epoch 2/3:\n",
            "Train Loss: 0.0858, Train Accuracy: 96.97%\n",
            "Val Loss: 0.0830, Val Accuracy: 97.10%\n",
            "\n",
            "Epoch 3/3:\n",
            "Train Loss: 0.0473, Train Accuracy: 98.30%\n",
            "Val Loss: 0.0750, Val Accuracy: 97.30%\n",
            "\n",
            "Model training completed.\n"
          ]
        }
      ],
      "source": [
        "num_epochs = 3\n",
        "train_model(model, train_loader, val_loader, criterion, optimizer, num_epochs, device)\n",
        "\n",
        "print(\"Model training completed.\")"
      ]
    },
    {
      "cell_type": "markdown",
      "id": "aab34cca27bf12a7",
      "metadata": {
        "collapsed": false,
        "id": "aab34cca27bf12a7"
      },
      "source": [
        "### 3.2 Model Definition"
      ]
    },
    {
      "cell_type": "code",
      "execution_count": 36,
      "id": "9c3c95447d8f228",
      "metadata": {
        "id": "9c3c95447d8f228"
      },
      "outputs": [],
      "source": [
        "# Load test data\n",
        "test_df = pd.read_csv('drive/MyDrive/Collab_DATA/test_trades_csv_prepared.csv')"
      ]
    },
    {
      "cell_type": "code",
      "execution_count": 38,
      "id": "275f32bcf5f059ff",
      "metadata": {
        "id": "275f32bcf5f059ff"
      },
      "outputs": [],
      "source": [
        "import random\n",
        "# Select 100 random unique vessel_ids\n",
        "random_vessels = random.sample(test_df['vessel_id'].unique().tolist(), 6000)\n",
        "\n",
        "# Filter test_df to include only the selected vessels\n",
        "test_df_sample = test_df[test_df['vessel_id'].isin(random_vessels)]\n"
      ]
    },
    {
      "cell_type": "code",
      "execution_count": 39,
      "id": "3796737a287b85ec",
      "metadata": {
        "id": "3796737a287b85ec",
        "outputId": "de52bad7-94cd-4da9-e59b-e8b03223c61f",
        "colab": {
          "base_uri": "https://localhost:8080/"
        }
      },
      "outputs": [
        {
          "output_type": "stream",
          "name": "stderr",
          "text": [
            "<ipython-input-5-594fc7e770b7>:26: SettingWithCopyWarning:\n",
            "\n",
            "\n",
            "A value is trying to be set on a copy of a slice from a DataFrame.\n",
            "Try using .loc[row_indexer,col_indexer] = value instead\n",
            "\n",
            "See the caveats in the documentation: https://pandas.pydata.org/pandas-docs/stable/user_guide/indexing.html#returning-a-view-versus-a-copy\n",
            "\n",
            "<ipython-input-5-594fc7e770b7>:29: SettingWithCopyWarning:\n",
            "\n",
            "\n",
            "A value is trying to be set on a copy of a slice from a DataFrame.\n",
            "Try using .loc[row_indexer,col_indexer] = value instead\n",
            "\n",
            "See the caveats in the documentation: https://pandas.pydata.org/pandas-docs/stable/user_guide/indexing.html#returning-a-view-versus-a-copy\n",
            "\n"
          ]
        },
        {
          "output_type": "stream",
          "name": "stdout",
          "text": [
            "Test data preprocessed.\n",
            "Number of vessels in sample: 6000\n",
            "Shape of preprocessed test data: (2081521, 33)\n"
          ]
        }
      ],
      "source": [
        "# Preprocess the sampled test data\n",
        "test_df_sample, _, _, _, _ = preprocess_data(test_df_sample, is_train=False, cat_encodings=cat_encodings, scaler=scaler)\n",
        "\n",
        "# Create test dataset and dataloader\n",
        "test_dataset = VesselDataset(test_df_sample[cat_cols + num_cols])\n",
        "test_loader = DataLoader(test_dataset, batch_size=256, shuffle=False)\n",
        "\n",
        "print(\"Test data preprocessed.\")\n",
        "print(f\"Number of vessels in sample: {len(random_vessels)}\")\n",
        "print(f\"Shape of preprocessed test data: {test_df_sample.shape}\")"
      ]
    },
    {
      "cell_type": "code",
      "execution_count": 40,
      "id": "5adb995694cebbb1",
      "metadata": {
        "id": "5adb995694cebbb1",
        "outputId": "6afaac0a-404f-4186-fd52-357d8981517b",
        "colab": {
          "base_uri": "https://localhost:8080/"
        }
      },
      "outputs": [
        {
          "output_type": "stream",
          "name": "stderr",
          "text": [
            "<ipython-input-40-8a817d8c0cb9>:10: SettingWithCopyWarning:\n",
            "\n",
            "\n",
            "A value is trying to be set on a copy of a slice from a DataFrame.\n",
            "Try using .loc[row_indexer,col_indexer] = value instead\n",
            "\n",
            "See the caveats in the documentation: https://pandas.pydata.org/pandas-docs/stable/user_guide/indexing.html#returning-a-view-versus-a-copy\n",
            "\n"
          ]
        }
      ],
      "source": [
        "model.eval()\n",
        "predictions = []\n",
        "with torch.no_grad():\n",
        "    for features in test_loader:\n",
        "        features = features.to(device)\n",
        "        outputs = model(features)\n",
        "        predictions.extend(outputs.cpu().numpy())\n",
        "\n",
        "# Add predictions to test_df_sample\n",
        "test_df_sample['predicted_probability'] = predictions\n"
      ]
    },
    {
      "cell_type": "code",
      "source": [
        "# Step 1: Prepare the data\n",
        "ranked_destinations = test_df_sample[test_df_sample.is_visit == 0].groupby('vessel_id').apply(\n",
        "    lambda x: x.sort_values('predicted_probability', ascending=False)\n",
        ").reset_index(drop=True)\n",
        "\n",
        "actual_destinations = test_df_sample[test_df_sample['is_visit'] == 1].set_index('vessel_id')['destination'].to_dict()\n"
      ],
      "metadata": {
        "id": "x79L_Tq7Kw8z"
      },
      "id": "x79L_Tq7Kw8z",
      "execution_count": 41,
      "outputs": []
    },
    {
      "cell_type": "code",
      "source": [
        "# Step 2: Define utility functions\n",
        "def calculate_reciprocal_rank(group):\n",
        "    vessel_id = group['vessel_id'].iloc[0]\n",
        "    actual_dest = actual_destinations.get(vessel_id)\n",
        "    if actual_dest is None:\n",
        "        return 0\n",
        "    actual_dest_rows = group[group['destination'] == actual_dest]\n",
        "    if actual_dest_rows.empty:\n",
        "        return 0\n",
        "    rank = group.index.get_loc(actual_dest_rows.index[0]) + 1\n",
        "    return 1 / rank\n",
        "\n",
        "def is_in_top_n(group, n):\n",
        "    reciprocal_rank = calculate_reciprocal_rank(group)\n",
        "    return reciprocal_rank >= 1/n if reciprocal_rank > 0 else False\n"
      ],
      "metadata": {
        "id": "c-qtdkmtKwAb"
      },
      "id": "c-qtdkmtKwAb",
      "execution_count": 42,
      "outputs": []
    },
    {
      "cell_type": "code",
      "source": [
        "# Step 3: Calculate metrics\n",
        "mrr = ranked_destinations.groupby('vessel_id').apply(calculate_reciprocal_rank).mean()\n",
        "top_1_accuracy = ranked_destinations.groupby('vessel_id').apply(lambda x: is_in_top_n(x, 1)).mean()\n",
        "top_3_accuracy = ranked_destinations.groupby('vessel_id').apply(lambda x: is_in_top_n(x, 3)).mean()\n",
        "top_10_accuracy = ranked_destinations.groupby('vessel_id').apply(lambda x: is_in_top_n(x, 10)).mean()\n",
        "\n",
        "print(f\"Mean Reciprocal Rank (MRR): {mrr:.4f}\")\n",
        "print(f\"Top 1 Accuracy: {top_1_accuracy:.4f}\")\n",
        "print(f\"Top 3 Accuracy: {top_3_accuracy:.4f}\")\n",
        "print(f\"Top 10 Accuracy: {top_10_accuracy:.4f}\")\n"
      ],
      "metadata": {
        "colab": {
          "base_uri": "https://localhost:8080/"
        },
        "id": "l0h1Iqs1K2OB",
        "outputId": "65c1cde9-0d68-42e5-a75c-9967e643283a"
      },
      "id": "l0h1Iqs1K2OB",
      "execution_count": 43,
      "outputs": [
        {
          "output_type": "stream",
          "name": "stdout",
          "text": [
            "Mean Reciprocal Rank (MRR): 0.6547\n",
            "Top 1 Accuracy: 0.5684\n",
            "Top 3 Accuracy: 0.7323\n",
            "Top 10 Accuracy: 0.7850\n"
          ]
        }
      ]
    },
    {
      "cell_type": "code",
      "source": [
        "# Step 4: Plot accuracy evolution from top 1 to top 10\n",
        "accuracies = [ranked_destinations.groupby('vessel_id').apply(lambda x: is_in_top_n(x, i)).mean() for i in range(1, 11)]\n",
        "\n",
        "fig1 = go.Figure(data=go.Scatter(\n",
        "    x=list(range(1, 11)),\n",
        "    y=accuracies,\n",
        "    mode='lines+markers+text',\n",
        "    text=[f'{acc:.2%}' for acc in accuracies],\n",
        "    textposition='top center'\n",
        "))\n",
        "fig1.update_layout(\n",
        "    title='Accuracy Evolution: Top 1 to Top 10',\n",
        "    xaxis_title='Top N Predictions',\n",
        "    yaxis_title='Accuracy',\n",
        "    yaxis_tickformat='.0%',\n",
        "    xaxis=dict(tickmode='linear', tick0=1, dtick=1)\n",
        ")\n",
        "fig1.show()\n"
      ],
      "metadata": {
        "colab": {
          "base_uri": "https://localhost:8080/",
          "height": 542
        },
        "id": "a4LQpR74K_Nu",
        "outputId": "d82dbc3b-2415-48b5-fef6-20eccfd93695"
      },
      "id": "a4LQpR74K_Nu",
      "execution_count": 44,
      "outputs": [
        {
          "output_type": "display_data",
          "data": {
            "text/html": [
              "<html>\n",
              "<head><meta charset=\"utf-8\" /></head>\n",
              "<body>\n",
              "    <div>            <script src=\"https://cdnjs.cloudflare.com/ajax/libs/mathjax/2.7.5/MathJax.js?config=TeX-AMS-MML_SVG\"></script><script type=\"text/javascript\">if (window.MathJax && window.MathJax.Hub && window.MathJax.Hub.Config) {window.MathJax.Hub.Config({SVG: {font: \"STIX-Web\"}});}</script>                <script type=\"text/javascript\">window.PlotlyConfig = {MathJaxConfig: 'local'};</script>\n",
              "        <script charset=\"utf-8\" src=\"https://cdn.plot.ly/plotly-2.24.1.min.js\"></script>                <div id=\"96a2d09a-0277-4fd7-a978-a4924514f3ce\" class=\"plotly-graph-div\" style=\"height:525px; width:100%;\"></div>            <script type=\"text/javascript\">                                    window.PLOTLYENV=window.PLOTLYENV || {};                                    if (document.getElementById(\"96a2d09a-0277-4fd7-a978-a4924514f3ce\")) {                    Plotly.newPlot(                        \"96a2d09a-0277-4fd7-a978-a4924514f3ce\",                        [{\"mode\":\"lines+markers+text\",\"text\":[\"56.84%\",\"69.10%\",\"73.23%\",\"75.42%\",\"76.28%\",\"76.98%\",\"77.59%\",\"77.98%\",\"78.31%\",\"78.50%\"],\"textposition\":\"top center\",\"x\":[1,2,3,4,5,6,7,8,9,10],\"y\":[0.5684458663074592,0.6910254251557502,0.7322781613066173,0.7541673682438121,0.7627546725037885,0.7698265701296515,0.7758881966661054,0.7797609025088399,0.7831284728068698,0.7849806364707863],\"type\":\"scatter\"}],                        {\"template\":{\"data\":{\"histogram2dcontour\":[{\"type\":\"histogram2dcontour\",\"colorbar\":{\"outlinewidth\":0,\"ticks\":\"\"},\"colorscale\":[[0.0,\"#0d0887\"],[0.1111111111111111,\"#46039f\"],[0.2222222222222222,\"#7201a8\"],[0.3333333333333333,\"#9c179e\"],[0.4444444444444444,\"#bd3786\"],[0.5555555555555556,\"#d8576b\"],[0.6666666666666666,\"#ed7953\"],[0.7777777777777778,\"#fb9f3a\"],[0.8888888888888888,\"#fdca26\"],[1.0,\"#f0f921\"]]}],\"choropleth\":[{\"type\":\"choropleth\",\"colorbar\":{\"outlinewidth\":0,\"ticks\":\"\"}}],\"histogram2d\":[{\"type\":\"histogram2d\",\"colorbar\":{\"outlinewidth\":0,\"ticks\":\"\"},\"colorscale\":[[0.0,\"#0d0887\"],[0.1111111111111111,\"#46039f\"],[0.2222222222222222,\"#7201a8\"],[0.3333333333333333,\"#9c179e\"],[0.4444444444444444,\"#bd3786\"],[0.5555555555555556,\"#d8576b\"],[0.6666666666666666,\"#ed7953\"],[0.7777777777777778,\"#fb9f3a\"],[0.8888888888888888,\"#fdca26\"],[1.0,\"#f0f921\"]]}],\"heatmap\":[{\"type\":\"heatmap\",\"colorbar\":{\"outlinewidth\":0,\"ticks\":\"\"},\"colorscale\":[[0.0,\"#0d0887\"],[0.1111111111111111,\"#46039f\"],[0.2222222222222222,\"#7201a8\"],[0.3333333333333333,\"#9c179e\"],[0.4444444444444444,\"#bd3786\"],[0.5555555555555556,\"#d8576b\"],[0.6666666666666666,\"#ed7953\"],[0.7777777777777778,\"#fb9f3a\"],[0.8888888888888888,\"#fdca26\"],[1.0,\"#f0f921\"]]}],\"heatmapgl\":[{\"type\":\"heatmapgl\",\"colorbar\":{\"outlinewidth\":0,\"ticks\":\"\"},\"colorscale\":[[0.0,\"#0d0887\"],[0.1111111111111111,\"#46039f\"],[0.2222222222222222,\"#7201a8\"],[0.3333333333333333,\"#9c179e\"],[0.4444444444444444,\"#bd3786\"],[0.5555555555555556,\"#d8576b\"],[0.6666666666666666,\"#ed7953\"],[0.7777777777777778,\"#fb9f3a\"],[0.8888888888888888,\"#fdca26\"],[1.0,\"#f0f921\"]]}],\"contourcarpet\":[{\"type\":\"contourcarpet\",\"colorbar\":{\"outlinewidth\":0,\"ticks\":\"\"}}],\"contour\":[{\"type\":\"contour\",\"colorbar\":{\"outlinewidth\":0,\"ticks\":\"\"},\"colorscale\":[[0.0,\"#0d0887\"],[0.1111111111111111,\"#46039f\"],[0.2222222222222222,\"#7201a8\"],[0.3333333333333333,\"#9c179e\"],[0.4444444444444444,\"#bd3786\"],[0.5555555555555556,\"#d8576b\"],[0.6666666666666666,\"#ed7953\"],[0.7777777777777778,\"#fb9f3a\"],[0.8888888888888888,\"#fdca26\"],[1.0,\"#f0f921\"]]}],\"surface\":[{\"type\":\"surface\",\"colorbar\":{\"outlinewidth\":0,\"ticks\":\"\"},\"colorscale\":[[0.0,\"#0d0887\"],[0.1111111111111111,\"#46039f\"],[0.2222222222222222,\"#7201a8\"],[0.3333333333333333,\"#9c179e\"],[0.4444444444444444,\"#bd3786\"],[0.5555555555555556,\"#d8576b\"],[0.6666666666666666,\"#ed7953\"],[0.7777777777777778,\"#fb9f3a\"],[0.8888888888888888,\"#fdca26\"],[1.0,\"#f0f921\"]]}],\"mesh3d\":[{\"type\":\"mesh3d\",\"colorbar\":{\"outlinewidth\":0,\"ticks\":\"\"}}],\"scatter\":[{\"fillpattern\":{\"fillmode\":\"overlay\",\"size\":10,\"solidity\":0.2},\"type\":\"scatter\"}],\"parcoords\":[{\"type\":\"parcoords\",\"line\":{\"colorbar\":{\"outlinewidth\":0,\"ticks\":\"\"}}}],\"scatterpolargl\":[{\"type\":\"scatterpolargl\",\"marker\":{\"colorbar\":{\"outlinewidth\":0,\"ticks\":\"\"}}}],\"bar\":[{\"error_x\":{\"color\":\"#2a3f5f\"},\"error_y\":{\"color\":\"#2a3f5f\"},\"marker\":{\"line\":{\"color\":\"#E5ECF6\",\"width\":0.5},\"pattern\":{\"fillmode\":\"overlay\",\"size\":10,\"solidity\":0.2}},\"type\":\"bar\"}],\"scattergeo\":[{\"type\":\"scattergeo\",\"marker\":{\"colorbar\":{\"outlinewidth\":0,\"ticks\":\"\"}}}],\"scatterpolar\":[{\"type\":\"scatterpolar\",\"marker\":{\"colorbar\":{\"outlinewidth\":0,\"ticks\":\"\"}}}],\"histogram\":[{\"marker\":{\"pattern\":{\"fillmode\":\"overlay\",\"size\":10,\"solidity\":0.2}},\"type\":\"histogram\"}],\"scattergl\":[{\"type\":\"scattergl\",\"marker\":{\"colorbar\":{\"outlinewidth\":0,\"ticks\":\"\"}}}],\"scatter3d\":[{\"type\":\"scatter3d\",\"line\":{\"colorbar\":{\"outlinewidth\":0,\"ticks\":\"\"}},\"marker\":{\"colorbar\":{\"outlinewidth\":0,\"ticks\":\"\"}}}],\"scattermapbox\":[{\"type\":\"scattermapbox\",\"marker\":{\"colorbar\":{\"outlinewidth\":0,\"ticks\":\"\"}}}],\"scatterternary\":[{\"type\":\"scatterternary\",\"marker\":{\"colorbar\":{\"outlinewidth\":0,\"ticks\":\"\"}}}],\"scattercarpet\":[{\"type\":\"scattercarpet\",\"marker\":{\"colorbar\":{\"outlinewidth\":0,\"ticks\":\"\"}}}],\"carpet\":[{\"aaxis\":{\"endlinecolor\":\"#2a3f5f\",\"gridcolor\":\"white\",\"linecolor\":\"white\",\"minorgridcolor\":\"white\",\"startlinecolor\":\"#2a3f5f\"},\"baxis\":{\"endlinecolor\":\"#2a3f5f\",\"gridcolor\":\"white\",\"linecolor\":\"white\",\"minorgridcolor\":\"white\",\"startlinecolor\":\"#2a3f5f\"},\"type\":\"carpet\"}],\"table\":[{\"cells\":{\"fill\":{\"color\":\"#EBF0F8\"},\"line\":{\"color\":\"white\"}},\"header\":{\"fill\":{\"color\":\"#C8D4E3\"},\"line\":{\"color\":\"white\"}},\"type\":\"table\"}],\"barpolar\":[{\"marker\":{\"line\":{\"color\":\"#E5ECF6\",\"width\":0.5},\"pattern\":{\"fillmode\":\"overlay\",\"size\":10,\"solidity\":0.2}},\"type\":\"barpolar\"}],\"pie\":[{\"automargin\":true,\"type\":\"pie\"}]},\"layout\":{\"autotypenumbers\":\"strict\",\"colorway\":[\"#636efa\",\"#EF553B\",\"#00cc96\",\"#ab63fa\",\"#FFA15A\",\"#19d3f3\",\"#FF6692\",\"#B6E880\",\"#FF97FF\",\"#FECB52\"],\"font\":{\"color\":\"#2a3f5f\"},\"hovermode\":\"closest\",\"hoverlabel\":{\"align\":\"left\"},\"paper_bgcolor\":\"white\",\"plot_bgcolor\":\"#E5ECF6\",\"polar\":{\"bgcolor\":\"#E5ECF6\",\"angularaxis\":{\"gridcolor\":\"white\",\"linecolor\":\"white\",\"ticks\":\"\"},\"radialaxis\":{\"gridcolor\":\"white\",\"linecolor\":\"white\",\"ticks\":\"\"}},\"ternary\":{\"bgcolor\":\"#E5ECF6\",\"aaxis\":{\"gridcolor\":\"white\",\"linecolor\":\"white\",\"ticks\":\"\"},\"baxis\":{\"gridcolor\":\"white\",\"linecolor\":\"white\",\"ticks\":\"\"},\"caxis\":{\"gridcolor\":\"white\",\"linecolor\":\"white\",\"ticks\":\"\"}},\"coloraxis\":{\"colorbar\":{\"outlinewidth\":0,\"ticks\":\"\"}},\"colorscale\":{\"sequential\":[[0.0,\"#0d0887\"],[0.1111111111111111,\"#46039f\"],[0.2222222222222222,\"#7201a8\"],[0.3333333333333333,\"#9c179e\"],[0.4444444444444444,\"#bd3786\"],[0.5555555555555556,\"#d8576b\"],[0.6666666666666666,\"#ed7953\"],[0.7777777777777778,\"#fb9f3a\"],[0.8888888888888888,\"#fdca26\"],[1.0,\"#f0f921\"]],\"sequentialminus\":[[0.0,\"#0d0887\"],[0.1111111111111111,\"#46039f\"],[0.2222222222222222,\"#7201a8\"],[0.3333333333333333,\"#9c179e\"],[0.4444444444444444,\"#bd3786\"],[0.5555555555555556,\"#d8576b\"],[0.6666666666666666,\"#ed7953\"],[0.7777777777777778,\"#fb9f3a\"],[0.8888888888888888,\"#fdca26\"],[1.0,\"#f0f921\"]],\"diverging\":[[0,\"#8e0152\"],[0.1,\"#c51b7d\"],[0.2,\"#de77ae\"],[0.3,\"#f1b6da\"],[0.4,\"#fde0ef\"],[0.5,\"#f7f7f7\"],[0.6,\"#e6f5d0\"],[0.7,\"#b8e186\"],[0.8,\"#7fbc41\"],[0.9,\"#4d9221\"],[1,\"#276419\"]]},\"xaxis\":{\"gridcolor\":\"white\",\"linecolor\":\"white\",\"ticks\":\"\",\"title\":{\"standoff\":15},\"zerolinecolor\":\"white\",\"automargin\":true,\"zerolinewidth\":2},\"yaxis\":{\"gridcolor\":\"white\",\"linecolor\":\"white\",\"ticks\":\"\",\"title\":{\"standoff\":15},\"zerolinecolor\":\"white\",\"automargin\":true,\"zerolinewidth\":2},\"scene\":{\"xaxis\":{\"backgroundcolor\":\"#E5ECF6\",\"gridcolor\":\"white\",\"linecolor\":\"white\",\"showbackground\":true,\"ticks\":\"\",\"zerolinecolor\":\"white\",\"gridwidth\":2},\"yaxis\":{\"backgroundcolor\":\"#E5ECF6\",\"gridcolor\":\"white\",\"linecolor\":\"white\",\"showbackground\":true,\"ticks\":\"\",\"zerolinecolor\":\"white\",\"gridwidth\":2},\"zaxis\":{\"backgroundcolor\":\"#E5ECF6\",\"gridcolor\":\"white\",\"linecolor\":\"white\",\"showbackground\":true,\"ticks\":\"\",\"zerolinecolor\":\"white\",\"gridwidth\":2}},\"shapedefaults\":{\"line\":{\"color\":\"#2a3f5f\"}},\"annotationdefaults\":{\"arrowcolor\":\"#2a3f5f\",\"arrowhead\":0,\"arrowwidth\":1},\"geo\":{\"bgcolor\":\"white\",\"landcolor\":\"#E5ECF6\",\"subunitcolor\":\"white\",\"showland\":true,\"showlakes\":true,\"lakecolor\":\"white\"},\"title\":{\"x\":0.05},\"mapbox\":{\"style\":\"light\"}}},\"yaxis\":{\"title\":{\"text\":\"Accuracy\"},\"tickformat\":\".0%\"},\"xaxis\":{\"title\":{\"text\":\"Top N Predictions\"},\"tickmode\":\"linear\",\"tick0\":1,\"dtick\":1},\"title\":{\"text\":\"Accuracy Evolution: Top 1 to Top 10\"}},                        {\"responsive\": true}                    ).then(function(){\n",
              "                            \n",
              "var gd = document.getElementById('96a2d09a-0277-4fd7-a978-a4924514f3ce');\n",
              "var x = new MutationObserver(function (mutations, observer) {{\n",
              "        var display = window.getComputedStyle(gd).display;\n",
              "        if (!display || display === 'none') {{\n",
              "            console.log([gd, 'removed!']);\n",
              "            Plotly.purge(gd);\n",
              "            observer.disconnect();\n",
              "        }}\n",
              "}});\n",
              "\n",
              "// Listen for the removal of the full notebook cells\n",
              "var notebookContainer = gd.closest('#notebook-container');\n",
              "if (notebookContainer) {{\n",
              "    x.observe(notebookContainer, {childList: true});\n",
              "}}\n",
              "\n",
              "// Listen for the clearing of the current output cell\n",
              "var outputEl = gd.closest('.output');\n",
              "if (outputEl) {{\n",
              "    x.observe(outputEl, {childList: true});\n",
              "}}\n",
              "\n",
              "                        })                };                            </script>        </div>\n",
              "</body>\n",
              "</html>"
            ]
          },
          "metadata": {}
        }
      ]
    },
    {
      "cell_type": "code",
      "source": [
        "# Step 6: Accuracy evolution by number of past trips\n",
        "train_trips = train_df[train_df['is_visit'] == 1]['vessel_id'].value_counts().reset_index()\n",
        "train_trips.columns = ['vessel_id', 'num_past_trips']\n",
        "\n",
        "combined_data = pd.merge(ranked_destinations, train_trips, on='vessel_id', how='left')\n",
        "combined_data = combined_data[combined_data['num_past_trips'] <= 40]\n",
        "\n",
        "accuracy_by_past_trips = combined_data.groupby(['num_past_trips', 'vessel_id']).apply(lambda x: is_in_top_n(x, 1)).groupby('num_past_trips').mean().reset_index()\n",
        "accuracy_by_past_trips.columns = ['num_past_trips', 'top_1_accuracy']\n",
        "\n",
        "fig3 = go.Figure()\n",
        "\n",
        "fig3.add_trace(go.Scatter(\n",
        "    x=accuracy_by_past_trips['num_past_trips'],\n",
        "    y=accuracy_by_past_trips['top_1_accuracy'],\n",
        "    mode='lines+markers+text',\n",
        "    name='Top 1 Accuracy',\n",
        "    text=[f'{acc:.2%}' for acc in accuracy_by_past_trips['top_1_accuracy']],\n",
        "    textposition='top center'\n",
        "))\n",
        "\n",
        "fig3.update_layout(\n",
        "    title='Evolution of Top 1 Accuracy by Number of Past Trips (Up to 40 trips)',\n",
        "    xaxis_title='Number of Past Trips',\n",
        "    yaxis_title='Top 1 Accuracy',\n",
        "    yaxis_tickformat='.0%',\n",
        "    xaxis=dict(tickmode='linear', tick0=0, dtick=1)\n",
        ")\n",
        "\n",
        "fig3.show()\n",
        "\n"
      ],
      "metadata": {
        "colab": {
          "base_uri": "https://localhost:8080/",
          "height": 542
        },
        "id": "0tgdk9LQLV7g",
        "outputId": "b432fa88-d694-44b9-ca66-2e7fd9877888"
      },
      "id": "0tgdk9LQLV7g",
      "execution_count": 46,
      "outputs": [
        {
          "output_type": "display_data",
          "data": {
            "text/html": [
              "<html>\n",
              "<head><meta charset=\"utf-8\" /></head>\n",
              "<body>\n",
              "    <div>            <script src=\"https://cdnjs.cloudflare.com/ajax/libs/mathjax/2.7.5/MathJax.js?config=TeX-AMS-MML_SVG\"></script><script type=\"text/javascript\">if (window.MathJax && window.MathJax.Hub && window.MathJax.Hub.Config) {window.MathJax.Hub.Config({SVG: {font: \"STIX-Web\"}});}</script>                <script type=\"text/javascript\">window.PlotlyConfig = {MathJaxConfig: 'local'};</script>\n",
              "        <script charset=\"utf-8\" src=\"https://cdn.plot.ly/plotly-2.24.1.min.js\"></script>                <div id=\"19a1bad4-4c0b-495c-8069-d151a9df7a0c\" class=\"plotly-graph-div\" style=\"height:525px; width:100%;\"></div>            <script type=\"text/javascript\">                                    window.PLOTLYENV=window.PLOTLYENV || {};                                    if (document.getElementById(\"19a1bad4-4c0b-495c-8069-d151a9df7a0c\")) {                    Plotly.newPlot(                        \"19a1bad4-4c0b-495c-8069-d151a9df7a0c\",                        [{\"mode\":\"lines+markers+text\",\"name\":\"Top 1 Accuracy\",\"text\":[\"44.44%\",\"42.86%\",\"48.74%\",\"48.86%\",\"52.75%\",\"48.48%\",\"52.54%\",\"48.49%\",\"52.19%\",\"51.91%\",\"52.51%\",\"52.38%\",\"59.74%\",\"56.14%\",\"57.53%\",\"55.61%\",\"60.39%\",\"68.63%\",\"61.38%\",\"66.39%\",\"72.00%\",\"69.15%\",\"67.37%\",\"76.47%\",\"67.09%\",\"65.79%\",\"66.25%\",\"63.64%\",\"62.30%\",\"60.00%\",\"70.59%\",\"72.55%\",\"73.53%\",\"62.16%\",\"66.67%\",\"81.08%\",\"61.90%\",\"52.17%\",\"36.84%\",\"54.17%\"],\"textposition\":\"top center\",\"x\":[1.0,2.0,3.0,4.0,5.0,6.0,7.0,8.0,9.0,10.0,11.0,12.0,13.0,14.0,15.0,16.0,17.0,18.0,19.0,20.0,21.0,22.0,23.0,24.0,25.0,26.0,27.0,28.0,29.0,30.0,31.0,32.0,33.0,34.0,35.0,36.0,37.0,38.0,39.0,40.0],\"y\":[0.4444444444444444,0.42857142857142855,0.48739495798319327,0.48863636363636365,0.5274725274725275,0.4847560975609756,0.5254237288135594,0.48493975903614456,0.5218579234972678,0.5191256830601093,0.5250737463126843,0.5238095238095238,0.5974025974025974,0.5614035087719298,0.5753424657534246,0.5561497326203209,0.6038961038961039,0.6862745098039216,0.6137931034482759,0.6638655462184874,0.72,0.6914893617021277,0.6736842105263158,0.7647058823529411,0.6708860759493671,0.6578947368421053,0.6625,0.6363636363636364,0.6229508196721312,0.6,0.7058823529411765,0.7254901960784313,0.7352941176470589,0.6216216216216216,0.6666666666666666,0.8108108108108109,0.6190476190476191,0.5217391304347826,0.3684210526315789,0.5416666666666666],\"type\":\"scatter\"}],                        {\"template\":{\"data\":{\"histogram2dcontour\":[{\"type\":\"histogram2dcontour\",\"colorbar\":{\"outlinewidth\":0,\"ticks\":\"\"},\"colorscale\":[[0.0,\"#0d0887\"],[0.1111111111111111,\"#46039f\"],[0.2222222222222222,\"#7201a8\"],[0.3333333333333333,\"#9c179e\"],[0.4444444444444444,\"#bd3786\"],[0.5555555555555556,\"#d8576b\"],[0.6666666666666666,\"#ed7953\"],[0.7777777777777778,\"#fb9f3a\"],[0.8888888888888888,\"#fdca26\"],[1.0,\"#f0f921\"]]}],\"choropleth\":[{\"type\":\"choropleth\",\"colorbar\":{\"outlinewidth\":0,\"ticks\":\"\"}}],\"histogram2d\":[{\"type\":\"histogram2d\",\"colorbar\":{\"outlinewidth\":0,\"ticks\":\"\"},\"colorscale\":[[0.0,\"#0d0887\"],[0.1111111111111111,\"#46039f\"],[0.2222222222222222,\"#7201a8\"],[0.3333333333333333,\"#9c179e\"],[0.4444444444444444,\"#bd3786\"],[0.5555555555555556,\"#d8576b\"],[0.6666666666666666,\"#ed7953\"],[0.7777777777777778,\"#fb9f3a\"],[0.8888888888888888,\"#fdca26\"],[1.0,\"#f0f921\"]]}],\"heatmap\":[{\"type\":\"heatmap\",\"colorbar\":{\"outlinewidth\":0,\"ticks\":\"\"},\"colorscale\":[[0.0,\"#0d0887\"],[0.1111111111111111,\"#46039f\"],[0.2222222222222222,\"#7201a8\"],[0.3333333333333333,\"#9c179e\"],[0.4444444444444444,\"#bd3786\"],[0.5555555555555556,\"#d8576b\"],[0.6666666666666666,\"#ed7953\"],[0.7777777777777778,\"#fb9f3a\"],[0.8888888888888888,\"#fdca26\"],[1.0,\"#f0f921\"]]}],\"heatmapgl\":[{\"type\":\"heatmapgl\",\"colorbar\":{\"outlinewidth\":0,\"ticks\":\"\"},\"colorscale\":[[0.0,\"#0d0887\"],[0.1111111111111111,\"#46039f\"],[0.2222222222222222,\"#7201a8\"],[0.3333333333333333,\"#9c179e\"],[0.4444444444444444,\"#bd3786\"],[0.5555555555555556,\"#d8576b\"],[0.6666666666666666,\"#ed7953\"],[0.7777777777777778,\"#fb9f3a\"],[0.8888888888888888,\"#fdca26\"],[1.0,\"#f0f921\"]]}],\"contourcarpet\":[{\"type\":\"contourcarpet\",\"colorbar\":{\"outlinewidth\":0,\"ticks\":\"\"}}],\"contour\":[{\"type\":\"contour\",\"colorbar\":{\"outlinewidth\":0,\"ticks\":\"\"},\"colorscale\":[[0.0,\"#0d0887\"],[0.1111111111111111,\"#46039f\"],[0.2222222222222222,\"#7201a8\"],[0.3333333333333333,\"#9c179e\"],[0.4444444444444444,\"#bd3786\"],[0.5555555555555556,\"#d8576b\"],[0.6666666666666666,\"#ed7953\"],[0.7777777777777778,\"#fb9f3a\"],[0.8888888888888888,\"#fdca26\"],[1.0,\"#f0f921\"]]}],\"surface\":[{\"type\":\"surface\",\"colorbar\":{\"outlinewidth\":0,\"ticks\":\"\"},\"colorscale\":[[0.0,\"#0d0887\"],[0.1111111111111111,\"#46039f\"],[0.2222222222222222,\"#7201a8\"],[0.3333333333333333,\"#9c179e\"],[0.4444444444444444,\"#bd3786\"],[0.5555555555555556,\"#d8576b\"],[0.6666666666666666,\"#ed7953\"],[0.7777777777777778,\"#fb9f3a\"],[0.8888888888888888,\"#fdca26\"],[1.0,\"#f0f921\"]]}],\"mesh3d\":[{\"type\":\"mesh3d\",\"colorbar\":{\"outlinewidth\":0,\"ticks\":\"\"}}],\"scatter\":[{\"fillpattern\":{\"fillmode\":\"overlay\",\"size\":10,\"solidity\":0.2},\"type\":\"scatter\"}],\"parcoords\":[{\"type\":\"parcoords\",\"line\":{\"colorbar\":{\"outlinewidth\":0,\"ticks\":\"\"}}}],\"scatterpolargl\":[{\"type\":\"scatterpolargl\",\"marker\":{\"colorbar\":{\"outlinewidth\":0,\"ticks\":\"\"}}}],\"bar\":[{\"error_x\":{\"color\":\"#2a3f5f\"},\"error_y\":{\"color\":\"#2a3f5f\"},\"marker\":{\"line\":{\"color\":\"#E5ECF6\",\"width\":0.5},\"pattern\":{\"fillmode\":\"overlay\",\"size\":10,\"solidity\":0.2}},\"type\":\"bar\"}],\"scattergeo\":[{\"type\":\"scattergeo\",\"marker\":{\"colorbar\":{\"outlinewidth\":0,\"ticks\":\"\"}}}],\"scatterpolar\":[{\"type\":\"scatterpolar\",\"marker\":{\"colorbar\":{\"outlinewidth\":0,\"ticks\":\"\"}}}],\"histogram\":[{\"marker\":{\"pattern\":{\"fillmode\":\"overlay\",\"size\":10,\"solidity\":0.2}},\"type\":\"histogram\"}],\"scattergl\":[{\"type\":\"scattergl\",\"marker\":{\"colorbar\":{\"outlinewidth\":0,\"ticks\":\"\"}}}],\"scatter3d\":[{\"type\":\"scatter3d\",\"line\":{\"colorbar\":{\"outlinewidth\":0,\"ticks\":\"\"}},\"marker\":{\"colorbar\":{\"outlinewidth\":0,\"ticks\":\"\"}}}],\"scattermapbox\":[{\"type\":\"scattermapbox\",\"marker\":{\"colorbar\":{\"outlinewidth\":0,\"ticks\":\"\"}}}],\"scatterternary\":[{\"type\":\"scatterternary\",\"marker\":{\"colorbar\":{\"outlinewidth\":0,\"ticks\":\"\"}}}],\"scattercarpet\":[{\"type\":\"scattercarpet\",\"marker\":{\"colorbar\":{\"outlinewidth\":0,\"ticks\":\"\"}}}],\"carpet\":[{\"aaxis\":{\"endlinecolor\":\"#2a3f5f\",\"gridcolor\":\"white\",\"linecolor\":\"white\",\"minorgridcolor\":\"white\",\"startlinecolor\":\"#2a3f5f\"},\"baxis\":{\"endlinecolor\":\"#2a3f5f\",\"gridcolor\":\"white\",\"linecolor\":\"white\",\"minorgridcolor\":\"white\",\"startlinecolor\":\"#2a3f5f\"},\"type\":\"carpet\"}],\"table\":[{\"cells\":{\"fill\":{\"color\":\"#EBF0F8\"},\"line\":{\"color\":\"white\"}},\"header\":{\"fill\":{\"color\":\"#C8D4E3\"},\"line\":{\"color\":\"white\"}},\"type\":\"table\"}],\"barpolar\":[{\"marker\":{\"line\":{\"color\":\"#E5ECF6\",\"width\":0.5},\"pattern\":{\"fillmode\":\"overlay\",\"size\":10,\"solidity\":0.2}},\"type\":\"barpolar\"}],\"pie\":[{\"automargin\":true,\"type\":\"pie\"}]},\"layout\":{\"autotypenumbers\":\"strict\",\"colorway\":[\"#636efa\",\"#EF553B\",\"#00cc96\",\"#ab63fa\",\"#FFA15A\",\"#19d3f3\",\"#FF6692\",\"#B6E880\",\"#FF97FF\",\"#FECB52\"],\"font\":{\"color\":\"#2a3f5f\"},\"hovermode\":\"closest\",\"hoverlabel\":{\"align\":\"left\"},\"paper_bgcolor\":\"white\",\"plot_bgcolor\":\"#E5ECF6\",\"polar\":{\"bgcolor\":\"#E5ECF6\",\"angularaxis\":{\"gridcolor\":\"white\",\"linecolor\":\"white\",\"ticks\":\"\"},\"radialaxis\":{\"gridcolor\":\"white\",\"linecolor\":\"white\",\"ticks\":\"\"}},\"ternary\":{\"bgcolor\":\"#E5ECF6\",\"aaxis\":{\"gridcolor\":\"white\",\"linecolor\":\"white\",\"ticks\":\"\"},\"baxis\":{\"gridcolor\":\"white\",\"linecolor\":\"white\",\"ticks\":\"\"},\"caxis\":{\"gridcolor\":\"white\",\"linecolor\":\"white\",\"ticks\":\"\"}},\"coloraxis\":{\"colorbar\":{\"outlinewidth\":0,\"ticks\":\"\"}},\"colorscale\":{\"sequential\":[[0.0,\"#0d0887\"],[0.1111111111111111,\"#46039f\"],[0.2222222222222222,\"#7201a8\"],[0.3333333333333333,\"#9c179e\"],[0.4444444444444444,\"#bd3786\"],[0.5555555555555556,\"#d8576b\"],[0.6666666666666666,\"#ed7953\"],[0.7777777777777778,\"#fb9f3a\"],[0.8888888888888888,\"#fdca26\"],[1.0,\"#f0f921\"]],\"sequentialminus\":[[0.0,\"#0d0887\"],[0.1111111111111111,\"#46039f\"],[0.2222222222222222,\"#7201a8\"],[0.3333333333333333,\"#9c179e\"],[0.4444444444444444,\"#bd3786\"],[0.5555555555555556,\"#d8576b\"],[0.6666666666666666,\"#ed7953\"],[0.7777777777777778,\"#fb9f3a\"],[0.8888888888888888,\"#fdca26\"],[1.0,\"#f0f921\"]],\"diverging\":[[0,\"#8e0152\"],[0.1,\"#c51b7d\"],[0.2,\"#de77ae\"],[0.3,\"#f1b6da\"],[0.4,\"#fde0ef\"],[0.5,\"#f7f7f7\"],[0.6,\"#e6f5d0\"],[0.7,\"#b8e186\"],[0.8,\"#7fbc41\"],[0.9,\"#4d9221\"],[1,\"#276419\"]]},\"xaxis\":{\"gridcolor\":\"white\",\"linecolor\":\"white\",\"ticks\":\"\",\"title\":{\"standoff\":15},\"zerolinecolor\":\"white\",\"automargin\":true,\"zerolinewidth\":2},\"yaxis\":{\"gridcolor\":\"white\",\"linecolor\":\"white\",\"ticks\":\"\",\"title\":{\"standoff\":15},\"zerolinecolor\":\"white\",\"automargin\":true,\"zerolinewidth\":2},\"scene\":{\"xaxis\":{\"backgroundcolor\":\"#E5ECF6\",\"gridcolor\":\"white\",\"linecolor\":\"white\",\"showbackground\":true,\"ticks\":\"\",\"zerolinecolor\":\"white\",\"gridwidth\":2},\"yaxis\":{\"backgroundcolor\":\"#E5ECF6\",\"gridcolor\":\"white\",\"linecolor\":\"white\",\"showbackground\":true,\"ticks\":\"\",\"zerolinecolor\":\"white\",\"gridwidth\":2},\"zaxis\":{\"backgroundcolor\":\"#E5ECF6\",\"gridcolor\":\"white\",\"linecolor\":\"white\",\"showbackground\":true,\"ticks\":\"\",\"zerolinecolor\":\"white\",\"gridwidth\":2}},\"shapedefaults\":{\"line\":{\"color\":\"#2a3f5f\"}},\"annotationdefaults\":{\"arrowcolor\":\"#2a3f5f\",\"arrowhead\":0,\"arrowwidth\":1},\"geo\":{\"bgcolor\":\"white\",\"landcolor\":\"#E5ECF6\",\"subunitcolor\":\"white\",\"showland\":true,\"showlakes\":true,\"lakecolor\":\"white\"},\"title\":{\"x\":0.05},\"mapbox\":{\"style\":\"light\"}}},\"yaxis\":{\"title\":{\"text\":\"Top 1 Accuracy\"},\"tickformat\":\".0%\"},\"xaxis\":{\"title\":{\"text\":\"Number of Past Trips\"},\"tickmode\":\"linear\",\"tick0\":0,\"dtick\":1},\"title\":{\"text\":\"Evolution of Top 1 Accuracy by Number of Past Trips (Up to 40 trips)\"}},                        {\"responsive\": true}                    ).then(function(){\n",
              "                            \n",
              "var gd = document.getElementById('19a1bad4-4c0b-495c-8069-d151a9df7a0c');\n",
              "var x = new MutationObserver(function (mutations, observer) {{\n",
              "        var display = window.getComputedStyle(gd).display;\n",
              "        if (!display || display === 'none') {{\n",
              "            console.log([gd, 'removed!']);\n",
              "            Plotly.purge(gd);\n",
              "            observer.disconnect();\n",
              "        }}\n",
              "}});\n",
              "\n",
              "// Listen for the removal of the full notebook cells\n",
              "var notebookContainer = gd.closest('#notebook-container');\n",
              "if (notebookContainer) {{\n",
              "    x.observe(notebookContainer, {childList: true});\n",
              "}}\n",
              "\n",
              "// Listen for the clearing of the current output cell\n",
              "var outputEl = gd.closest('.output');\n",
              "if (outputEl) {{\n",
              "    x.observe(outputEl, {childList: true});\n",
              "}}\n",
              "\n",
              "                        })                };                            </script>        </div>\n",
              "</body>\n",
              "</html>"
            ]
          },
          "metadata": {}
        }
      ]
    },
    {
      "cell_type": "code",
      "source": [
        "# Print additional statistics\n",
        "print(\"\\nAdditional Statistics:\")\n",
        "print(f\"Total number of vessels: {len(ranked_destinations['vessel_id'].unique())}\")\n",
        "print(f\"Average number of potential destinations per vessel: {ranked_destinations['num_potential_destinations'].mean():.2f}\")\n",
        "print(f\"Median number of potential destinations per vessel: {ranked_destinations['num_potential_destinations'].median():.2f}\")\n",
        "print(f\"Range of potential destinations: {ranked_destinations['num_potential_destinations'].min()} to {ranked_destinations['num_potential_destinations'].max()}\")\n",
        "print(f\"Correlation between number of potential destinations and accuracy: {accuracy_by_bin['bin_midpoint'].corr(accuracy_by_bin['mean']):.4f}\")\n",
        "\n",
        "# Statistics for vessels with more than 1000 potential destinations\n",
        "vessels_over_1000 = ranked_destinations[ranked_destinations['num_potential_destinations'] > 1000]\n",
        "print(f\"\\nNumber of vessels with more than 1000 potential destinations: {len(vessels_over_1000['vessel_id'].unique())}\")\n",
        "if not vessels_over_1000.empty:\n",
        "    print(f\"Average accuracy for vessels with >1000 potential destinations: {vessels_over_1000['top_1_accuracy'].mean():.2%}\")\n",
        "\n",
        "# Correlation between past trips and accuracy\n",
        "correlation = accuracy_by_past_trips['num_past_trips'].corr(accuracy_by_past_trips['top_1_accuracy'])\n",
        "print(f\"\\nCorrelation between number of past trips and accuracy: {correlation:.4f}\")\n"
      ],
      "metadata": {
        "colab": {
          "base_uri": "https://localhost:8080/"
        },
        "id": "zJFPgWFELV-O",
        "outputId": "70cb6d4e-384b-4185-cc4a-a67100e8c5d4"
      },
      "id": "zJFPgWFELV-O",
      "execution_count": 47,
      "outputs": [
        {
          "output_type": "stream",
          "name": "stdout",
          "text": [
            "\n",
            "Additional Statistics:\n",
            "Total number of vessels: 5939\n",
            "Average number of potential destinations per vessel: 448.43\n",
            "Median number of potential destinations per vessel: 450.00\n",
            "Range of potential destinations: 19 to 1142\n",
            "Correlation between number of potential destinations and accuracy: 0.3524\n",
            "\n",
            "Number of vessels with more than 1000 potential destinations: 9\n",
            "Average accuracy for vessels with >1000 potential destinations: nan%\n",
            "\n",
            "Correlation between number of past trips and accuracy: 0.5191\n"
          ]
        }
      ]
    },
    {
      "cell_type": "code",
      "source": [
        "def get_original_labels(encoded_values, encoding_dict):\n",
        "    return {v: k for k, v in encoding_dict.items()}\n",
        "\n",
        "vessel_type_labels = get_original_labels(cat_encodings['vessel_type'], cat_encodings['vessel_type'])\n",
        "# Pass the encoding dictionary for product family\n",
        "product_family_labels = get_original_labels(cat_encodings['product_family'], cat_encodings['product_family'])\n",
        "\n",
        "\n",
        "def compute_top_1_accuracy_by_dimension(dimension, top_n, label_dict):\n",
        "    top_categories = ranked_destinations[dimension].value_counts().nlargest(top_n).index\n",
        "    accuracies = {}\n",
        "    for category in top_categories:\n",
        "        subset = ranked_destinations[ranked_destinations[dimension] == category]\n",
        "        accuracy = subset.groupby('vessel_id').apply(lambda x: is_in_top_n(x, 1)).mean()\n",
        "        label = label_dict.get(category, f\"Unknown ({category})\")\n",
        "        accuracies[label] = accuracy\n",
        "    return pd.Series(accuracies)\n",
        "\n",
        "vessel_type_accuracy = compute_top_1_accuracy_by_dimension('vessel_type', 4, vessel_type_labels)\n",
        "product_family_accuracy = compute_top_1_accuracy_by_dimension('product_family', 5, product_family_labels)\n",
        "\n",
        "fig = make_subplots(rows=2, cols=1,\n",
        "                    subplot_titles=('Top 1 Accuracy by Vessel Type', 'Top 1 Accuracy by Product Family'),\n",
        "                    vertical_spacing=0.3)  # Increase vertical spacing between subplots\n",
        "\n",
        "fig.add_trace(go.Bar(\n",
        "    x=vessel_type_accuracy.index,\n",
        "    y=vessel_type_accuracy.values,\n",
        "    text=[f'{acc:.2%}' for acc in vessel_type_accuracy.values],\n",
        "    textposition='auto',\n",
        "    marker_color='royalblue'\n",
        "), row=1, col=1)\n",
        "\n",
        "fig.add_trace(go.Bar(\n",
        "    x=product_family_accuracy.index,\n",
        "    y=product_family_accuracy.values,\n",
        "    text=[f'{acc:.2%}' for acc in product_family_accuracy.values],\n",
        "    textposition='auto',\n",
        "    marker_color='lightsalmon'\n",
        "), row=2, col=1)\n",
        "\n",
        "fig.update_layout(\n",
        "    height=1000,  # Increase overall height of the figure\n",
        "    title_text=\"Top 1 Accuracy by Vessel Type and Product Family\",\n",
        "    showlegend=False\n",
        ")\n",
        "\n",
        "fig.update_xaxes(title_text=\"Vessel Type\", row=1, col=1, tickangle=45)\n",
        "fig.update_xaxes(title_text=\"Product Family\", row=2, col=1, tickangle=45)\n",
        "fig.update_yaxes(title_text=\"Top 1 Accuracy\", tickformat='.0%', range=[0, 1], row=1, col=1)\n",
        "fig.update_yaxes(title_text=\"Top 1 Accuracy\", tickformat='.0%', range=[0, 1], row=2, col=1)\n",
        "\n",
        "# Ensure y-axis starts at 0 and ends at 100%\n",
        "fig.update_yaxes(range=[0, 1])\n",
        "\n",
        "fig.show()\n",
        "\n",
        "# Print additional statistics\n",
        "print(\"\\nTop 1 Accuracy by Vessel Type:\")\n",
        "print(vessel_type_accuracy)\n",
        "print(\"\\nTop 1 Accuracy by Product Family:\")\n",
        "print(product_family_accuracy)\n",
        "\n",
        "# Calculate overall statistics\n",
        "print(\"\\nOverall Statistics:\")\n",
        "print(f\"Average Top 1 Accuracy across Vessel Types: {vessel_type_accuracy.mean():.2%}\")\n",
        "print(f\"Average Top 1 Accuracy across Product Families: {product_family_accuracy.mean():.2%}\")\n",
        "print(f\"Vessel Type with highest accuracy: {vessel_type_accuracy.idxmax()} ({vessel_type_accuracy.max():.2%})\")\n",
        "print(f\"Product Family with highest accuracy: {product_family_accuracy.idxmax()} ({product_family_accuracy.max():.2%})\")"
      ],
      "metadata": {
        "colab": {
          "base_uri": "https://localhost:8080/",
          "height": 1000
        },
        "id": "VUT_2v1aCzKm",
        "outputId": "8b3ca9ed-5ec7-4396-ed1e-0a301467e6ec"
      },
      "id": "VUT_2v1aCzKm",
      "execution_count": 48,
      "outputs": [
        {
          "output_type": "display_data",
          "data": {
            "text/html": [
              "<html>\n",
              "<head><meta charset=\"utf-8\" /></head>\n",
              "<body>\n",
              "    <div>            <script src=\"https://cdnjs.cloudflare.com/ajax/libs/mathjax/2.7.5/MathJax.js?config=TeX-AMS-MML_SVG\"></script><script type=\"text/javascript\">if (window.MathJax && window.MathJax.Hub && window.MathJax.Hub.Config) {window.MathJax.Hub.Config({SVG: {font: \"STIX-Web\"}});}</script>                <script type=\"text/javascript\">window.PlotlyConfig = {MathJaxConfig: 'local'};</script>\n",
              "        <script charset=\"utf-8\" src=\"https://cdn.plot.ly/plotly-2.24.1.min.js\"></script>                <div id=\"4e32814a-9150-441a-a5a3-ae237737c95e\" class=\"plotly-graph-div\" style=\"height:1000px; width:100%;\"></div>            <script type=\"text/javascript\">                                    window.PLOTLYENV=window.PLOTLYENV || {};                                    if (document.getElementById(\"4e32814a-9150-441a-a5a3-ae237737c95e\")) {                    Plotly.newPlot(                        \"4e32814a-9150-441a-a5a3-ae237737c95e\",                        [{\"marker\":{\"color\":\"royalblue\"},\"text\":[\"57.46%\",\"53.23%\",\"56.94%\",\"60.74%\"],\"textposition\":\"auto\",\"x\":[\"Crude\\u002fOil Products Tanker\",\"Chemical\\u002fOil Products Tanker\",\"Products Tanker\",\"Crude Oil Tanker\"],\"y\":[0.5746295627032888,0.5323308270676692,0.5694294940796556,0.6073619631901841],\"type\":\"bar\",\"xaxis\":\"x\",\"yaxis\":\"y\"},{\"marker\":{\"color\":\"lightsalmon\"},\"text\":[\"54.36%\",\"55.60%\",\"63.55%\",\"55.68%\",\"50.00%\"],\"textposition\":\"auto\",\"x\":[\"clean petroleum products\",\"chem\\u002fbio\",\"crude oil\\u002fcondensate\",\"dirty petroleum products\",\"minor bulks\"],\"y\":[0.5436440677966101,0.5560283687943263,0.6354566385264774,0.5568445475638051,0.5],\"type\":\"bar\",\"xaxis\":\"x2\",\"yaxis\":\"y2\"}],                        {\"template\":{\"data\":{\"histogram2dcontour\":[{\"type\":\"histogram2dcontour\",\"colorbar\":{\"outlinewidth\":0,\"ticks\":\"\"},\"colorscale\":[[0.0,\"#0d0887\"],[0.1111111111111111,\"#46039f\"],[0.2222222222222222,\"#7201a8\"],[0.3333333333333333,\"#9c179e\"],[0.4444444444444444,\"#bd3786\"],[0.5555555555555556,\"#d8576b\"],[0.6666666666666666,\"#ed7953\"],[0.7777777777777778,\"#fb9f3a\"],[0.8888888888888888,\"#fdca26\"],[1.0,\"#f0f921\"]]}],\"choropleth\":[{\"type\":\"choropleth\",\"colorbar\":{\"outlinewidth\":0,\"ticks\":\"\"}}],\"histogram2d\":[{\"type\":\"histogram2d\",\"colorbar\":{\"outlinewidth\":0,\"ticks\":\"\"},\"colorscale\":[[0.0,\"#0d0887\"],[0.1111111111111111,\"#46039f\"],[0.2222222222222222,\"#7201a8\"],[0.3333333333333333,\"#9c179e\"],[0.4444444444444444,\"#bd3786\"],[0.5555555555555556,\"#d8576b\"],[0.6666666666666666,\"#ed7953\"],[0.7777777777777778,\"#fb9f3a\"],[0.8888888888888888,\"#fdca26\"],[1.0,\"#f0f921\"]]}],\"heatmap\":[{\"type\":\"heatmap\",\"colorbar\":{\"outlinewidth\":0,\"ticks\":\"\"},\"colorscale\":[[0.0,\"#0d0887\"],[0.1111111111111111,\"#46039f\"],[0.2222222222222222,\"#7201a8\"],[0.3333333333333333,\"#9c179e\"],[0.4444444444444444,\"#bd3786\"],[0.5555555555555556,\"#d8576b\"],[0.6666666666666666,\"#ed7953\"],[0.7777777777777778,\"#fb9f3a\"],[0.8888888888888888,\"#fdca26\"],[1.0,\"#f0f921\"]]}],\"heatmapgl\":[{\"type\":\"heatmapgl\",\"colorbar\":{\"outlinewidth\":0,\"ticks\":\"\"},\"colorscale\":[[0.0,\"#0d0887\"],[0.1111111111111111,\"#46039f\"],[0.2222222222222222,\"#7201a8\"],[0.3333333333333333,\"#9c179e\"],[0.4444444444444444,\"#bd3786\"],[0.5555555555555556,\"#d8576b\"],[0.6666666666666666,\"#ed7953\"],[0.7777777777777778,\"#fb9f3a\"],[0.8888888888888888,\"#fdca26\"],[1.0,\"#f0f921\"]]}],\"contourcarpet\":[{\"type\":\"contourcarpet\",\"colorbar\":{\"outlinewidth\":0,\"ticks\":\"\"}}],\"contour\":[{\"type\":\"contour\",\"colorbar\":{\"outlinewidth\":0,\"ticks\":\"\"},\"colorscale\":[[0.0,\"#0d0887\"],[0.1111111111111111,\"#46039f\"],[0.2222222222222222,\"#7201a8\"],[0.3333333333333333,\"#9c179e\"],[0.4444444444444444,\"#bd3786\"],[0.5555555555555556,\"#d8576b\"],[0.6666666666666666,\"#ed7953\"],[0.7777777777777778,\"#fb9f3a\"],[0.8888888888888888,\"#fdca26\"],[1.0,\"#f0f921\"]]}],\"surface\":[{\"type\":\"surface\",\"colorbar\":{\"outlinewidth\":0,\"ticks\":\"\"},\"colorscale\":[[0.0,\"#0d0887\"],[0.1111111111111111,\"#46039f\"],[0.2222222222222222,\"#7201a8\"],[0.3333333333333333,\"#9c179e\"],[0.4444444444444444,\"#bd3786\"],[0.5555555555555556,\"#d8576b\"],[0.6666666666666666,\"#ed7953\"],[0.7777777777777778,\"#fb9f3a\"],[0.8888888888888888,\"#fdca26\"],[1.0,\"#f0f921\"]]}],\"mesh3d\":[{\"type\":\"mesh3d\",\"colorbar\":{\"outlinewidth\":0,\"ticks\":\"\"}}],\"scatter\":[{\"fillpattern\":{\"fillmode\":\"overlay\",\"size\":10,\"solidity\":0.2},\"type\":\"scatter\"}],\"parcoords\":[{\"type\":\"parcoords\",\"line\":{\"colorbar\":{\"outlinewidth\":0,\"ticks\":\"\"}}}],\"scatterpolargl\":[{\"type\":\"scatterpolargl\",\"marker\":{\"colorbar\":{\"outlinewidth\":0,\"ticks\":\"\"}}}],\"bar\":[{\"error_x\":{\"color\":\"#2a3f5f\"},\"error_y\":{\"color\":\"#2a3f5f\"},\"marker\":{\"line\":{\"color\":\"#E5ECF6\",\"width\":0.5},\"pattern\":{\"fillmode\":\"overlay\",\"size\":10,\"solidity\":0.2}},\"type\":\"bar\"}],\"scattergeo\":[{\"type\":\"scattergeo\",\"marker\":{\"colorbar\":{\"outlinewidth\":0,\"ticks\":\"\"}}}],\"scatterpolar\":[{\"type\":\"scatterpolar\",\"marker\":{\"colorbar\":{\"outlinewidth\":0,\"ticks\":\"\"}}}],\"histogram\":[{\"marker\":{\"pattern\":{\"fillmode\":\"overlay\",\"size\":10,\"solidity\":0.2}},\"type\":\"histogram\"}],\"scattergl\":[{\"type\":\"scattergl\",\"marker\":{\"colorbar\":{\"outlinewidth\":0,\"ticks\":\"\"}}}],\"scatter3d\":[{\"type\":\"scatter3d\",\"line\":{\"colorbar\":{\"outlinewidth\":0,\"ticks\":\"\"}},\"marker\":{\"colorbar\":{\"outlinewidth\":0,\"ticks\":\"\"}}}],\"scattermapbox\":[{\"type\":\"scattermapbox\",\"marker\":{\"colorbar\":{\"outlinewidth\":0,\"ticks\":\"\"}}}],\"scatterternary\":[{\"type\":\"scatterternary\",\"marker\":{\"colorbar\":{\"outlinewidth\":0,\"ticks\":\"\"}}}],\"scattercarpet\":[{\"type\":\"scattercarpet\",\"marker\":{\"colorbar\":{\"outlinewidth\":0,\"ticks\":\"\"}}}],\"carpet\":[{\"aaxis\":{\"endlinecolor\":\"#2a3f5f\",\"gridcolor\":\"white\",\"linecolor\":\"white\",\"minorgridcolor\":\"white\",\"startlinecolor\":\"#2a3f5f\"},\"baxis\":{\"endlinecolor\":\"#2a3f5f\",\"gridcolor\":\"white\",\"linecolor\":\"white\",\"minorgridcolor\":\"white\",\"startlinecolor\":\"#2a3f5f\"},\"type\":\"carpet\"}],\"table\":[{\"cells\":{\"fill\":{\"color\":\"#EBF0F8\"},\"line\":{\"color\":\"white\"}},\"header\":{\"fill\":{\"color\":\"#C8D4E3\"},\"line\":{\"color\":\"white\"}},\"type\":\"table\"}],\"barpolar\":[{\"marker\":{\"line\":{\"color\":\"#E5ECF6\",\"width\":0.5},\"pattern\":{\"fillmode\":\"overlay\",\"size\":10,\"solidity\":0.2}},\"type\":\"barpolar\"}],\"pie\":[{\"automargin\":true,\"type\":\"pie\"}]},\"layout\":{\"autotypenumbers\":\"strict\",\"colorway\":[\"#636efa\",\"#EF553B\",\"#00cc96\",\"#ab63fa\",\"#FFA15A\",\"#19d3f3\",\"#FF6692\",\"#B6E880\",\"#FF97FF\",\"#FECB52\"],\"font\":{\"color\":\"#2a3f5f\"},\"hovermode\":\"closest\",\"hoverlabel\":{\"align\":\"left\"},\"paper_bgcolor\":\"white\",\"plot_bgcolor\":\"#E5ECF6\",\"polar\":{\"bgcolor\":\"#E5ECF6\",\"angularaxis\":{\"gridcolor\":\"white\",\"linecolor\":\"white\",\"ticks\":\"\"},\"radialaxis\":{\"gridcolor\":\"white\",\"linecolor\":\"white\",\"ticks\":\"\"}},\"ternary\":{\"bgcolor\":\"#E5ECF6\",\"aaxis\":{\"gridcolor\":\"white\",\"linecolor\":\"white\",\"ticks\":\"\"},\"baxis\":{\"gridcolor\":\"white\",\"linecolor\":\"white\",\"ticks\":\"\"},\"caxis\":{\"gridcolor\":\"white\",\"linecolor\":\"white\",\"ticks\":\"\"}},\"coloraxis\":{\"colorbar\":{\"outlinewidth\":0,\"ticks\":\"\"}},\"colorscale\":{\"sequential\":[[0.0,\"#0d0887\"],[0.1111111111111111,\"#46039f\"],[0.2222222222222222,\"#7201a8\"],[0.3333333333333333,\"#9c179e\"],[0.4444444444444444,\"#bd3786\"],[0.5555555555555556,\"#d8576b\"],[0.6666666666666666,\"#ed7953\"],[0.7777777777777778,\"#fb9f3a\"],[0.8888888888888888,\"#fdca26\"],[1.0,\"#f0f921\"]],\"sequentialminus\":[[0.0,\"#0d0887\"],[0.1111111111111111,\"#46039f\"],[0.2222222222222222,\"#7201a8\"],[0.3333333333333333,\"#9c179e\"],[0.4444444444444444,\"#bd3786\"],[0.5555555555555556,\"#d8576b\"],[0.6666666666666666,\"#ed7953\"],[0.7777777777777778,\"#fb9f3a\"],[0.8888888888888888,\"#fdca26\"],[1.0,\"#f0f921\"]],\"diverging\":[[0,\"#8e0152\"],[0.1,\"#c51b7d\"],[0.2,\"#de77ae\"],[0.3,\"#f1b6da\"],[0.4,\"#fde0ef\"],[0.5,\"#f7f7f7\"],[0.6,\"#e6f5d0\"],[0.7,\"#b8e186\"],[0.8,\"#7fbc41\"],[0.9,\"#4d9221\"],[1,\"#276419\"]]},\"xaxis\":{\"gridcolor\":\"white\",\"linecolor\":\"white\",\"ticks\":\"\",\"title\":{\"standoff\":15},\"zerolinecolor\":\"white\",\"automargin\":true,\"zerolinewidth\":2},\"yaxis\":{\"gridcolor\":\"white\",\"linecolor\":\"white\",\"ticks\":\"\",\"title\":{\"standoff\":15},\"zerolinecolor\":\"white\",\"automargin\":true,\"zerolinewidth\":2},\"scene\":{\"xaxis\":{\"backgroundcolor\":\"#E5ECF6\",\"gridcolor\":\"white\",\"linecolor\":\"white\",\"showbackground\":true,\"ticks\":\"\",\"zerolinecolor\":\"white\",\"gridwidth\":2},\"yaxis\":{\"backgroundcolor\":\"#E5ECF6\",\"gridcolor\":\"white\",\"linecolor\":\"white\",\"showbackground\":true,\"ticks\":\"\",\"zerolinecolor\":\"white\",\"gridwidth\":2},\"zaxis\":{\"backgroundcolor\":\"#E5ECF6\",\"gridcolor\":\"white\",\"linecolor\":\"white\",\"showbackground\":true,\"ticks\":\"\",\"zerolinecolor\":\"white\",\"gridwidth\":2}},\"shapedefaults\":{\"line\":{\"color\":\"#2a3f5f\"}},\"annotationdefaults\":{\"arrowcolor\":\"#2a3f5f\",\"arrowhead\":0,\"arrowwidth\":1},\"geo\":{\"bgcolor\":\"white\",\"landcolor\":\"#E5ECF6\",\"subunitcolor\":\"white\",\"showland\":true,\"showlakes\":true,\"lakecolor\":\"white\"},\"title\":{\"x\":0.05},\"mapbox\":{\"style\":\"light\"}}},\"xaxis\":{\"anchor\":\"y\",\"domain\":[0.0,1.0],\"title\":{\"text\":\"Vessel Type\"},\"tickangle\":45},\"yaxis\":{\"anchor\":\"x\",\"domain\":[0.6499999999999999,0.9999999999999999],\"title\":{\"text\":\"Top 1 Accuracy\"},\"tickformat\":\".0%\",\"range\":[0,1]},\"xaxis2\":{\"anchor\":\"y2\",\"domain\":[0.0,1.0],\"title\":{\"text\":\"Product Family\"},\"tickangle\":45},\"yaxis2\":{\"anchor\":\"x2\",\"domain\":[0.0,0.35],\"title\":{\"text\":\"Top 1 Accuracy\"},\"tickformat\":\".0%\",\"range\":[0,1]},\"annotations\":[{\"font\":{\"size\":16},\"showarrow\":false,\"text\":\"Top 1 Accuracy by Vessel Type\",\"x\":0.5,\"xanchor\":\"center\",\"xref\":\"paper\",\"y\":0.9999999999999999,\"yanchor\":\"bottom\",\"yref\":\"paper\"},{\"font\":{\"size\":16},\"showarrow\":false,\"text\":\"Top 1 Accuracy by Product Family\",\"x\":0.5,\"xanchor\":\"center\",\"xref\":\"paper\",\"y\":0.35,\"yanchor\":\"bottom\",\"yref\":\"paper\"}],\"title\":{\"text\":\"Top 1 Accuracy by Vessel Type and Product Family\"},\"height\":1000,\"showlegend\":false},                        {\"responsive\": true}                    ).then(function(){\n",
              "                            \n",
              "var gd = document.getElementById('4e32814a-9150-441a-a5a3-ae237737c95e');\n",
              "var x = new MutationObserver(function (mutations, observer) {{\n",
              "        var display = window.getComputedStyle(gd).display;\n",
              "        if (!display || display === 'none') {{\n",
              "            console.log([gd, 'removed!']);\n",
              "            Plotly.purge(gd);\n",
              "            observer.disconnect();\n",
              "        }}\n",
              "}});\n",
              "\n",
              "// Listen for the removal of the full notebook cells\n",
              "var notebookContainer = gd.closest('#notebook-container');\n",
              "if (notebookContainer) {{\n",
              "    x.observe(notebookContainer, {childList: true});\n",
              "}}\n",
              "\n",
              "// Listen for the clearing of the current output cell\n",
              "var outputEl = gd.closest('.output');\n",
              "if (outputEl) {{\n",
              "    x.observe(outputEl, {childList: true});\n",
              "}}\n",
              "\n",
              "                        })                };                            </script>        </div>\n",
              "</body>\n",
              "</html>"
            ]
          },
          "metadata": {}
        },
        {
          "output_type": "stream",
          "name": "stdout",
          "text": [
            "\n",
            "Top 1 Accuracy by Vessel Type:\n",
            "Crude/Oil Products Tanker       0.574630\n",
            "Chemical/Oil Products Tanker    0.532331\n",
            "Products Tanker                 0.569429\n",
            "Crude Oil Tanker                0.607362\n",
            "dtype: float64\n",
            "\n",
            "Top 1 Accuracy by Product Family:\n",
            "clean petroleum products    0.543644\n",
            "chem/bio                    0.556028\n",
            "crude oil/condensate        0.635457\n",
            "dirty petroleum products    0.556845\n",
            "minor bulks                 0.500000\n",
            "dtype: float64\n",
            "\n",
            "Overall Statistics:\n",
            "Average Top 1 Accuracy across Vessel Types: 57.09%\n",
            "Average Top 1 Accuracy across Product Families: 55.84%\n",
            "Vessel Type with highest accuracy: Crude Oil Tanker (60.74%)\n",
            "Product Family with highest accuracy: crude oil/condensate (63.55%)\n"
          ]
        }
      ]
    },
    {
      "cell_type": "code",
      "source": [],
      "metadata": {
        "id": "SngNFcX3G8tt"
      },
      "id": "SngNFcX3G8tt",
      "execution_count": 48,
      "outputs": []
    }
  ],
  "metadata": {
    "colab": {
      "provenance": [],
      "toc_visible": true,
      "gpuType": "T4",
      "include_colab_link": true
    },
    "kernelspec": {
      "display_name": "Python 3",
      "name": "python3"
    },
    "language_info": {
      "codemirror_mode": {
        "name": "ipython",
        "version": 3
      },
      "file_extension": ".py",
      "mimetype": "text/x-python",
      "name": "python",
      "nbconvert_exporter": "python",
      "pygments_lexer": "ipython3",
      "version": "3.9.6"
    },
    "accelerator": "GPU"
  },
  "nbformat": 4,
  "nbformat_minor": 5
}