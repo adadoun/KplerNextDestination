{
  "cells": [
    {
      "cell_type": "markdown",
      "metadata": {
        "id": "view-in-github",
        "colab_type": "text"
      },
      "source": [
        "<a href=\"https://colab.research.google.com/github/adadoun/KplerNextDestination/blob/main/lgbmDestinationProbability.ipynb\" target=\"_parent\"><img src=\"https://colab.research.google.com/assets/colab-badge.svg\" alt=\"Open In Colab\"/></a>"
      ]
    },
    {
      "cell_type": "code",
      "source": [
        "!pip install category_encoders"
      ],
      "metadata": {
        "colab": {
          "base_uri": "https://localhost:8080/"
        },
        "id": "w4KHTaARvfYH",
        "outputId": "4d3b1eba-8ba1-4c4e-e143-6616bdf833da"
      },
      "id": "w4KHTaARvfYH",
      "execution_count": 2,
      "outputs": [
        {
          "output_type": "stream",
          "name": "stdout",
          "text": [
            "Collecting category_encoders\n",
            "  Downloading category_encoders-2.6.3-py2.py3-none-any.whl.metadata (8.0 kB)\n",
            "Requirement already satisfied: numpy>=1.14.0 in /usr/local/lib/python3.10/dist-packages (from category_encoders) (1.26.4)\n",
            "Requirement already satisfied: scikit-learn>=0.20.0 in /usr/local/lib/python3.10/dist-packages (from category_encoders) (1.3.2)\n",
            "Requirement already satisfied: scipy>=1.0.0 in /usr/local/lib/python3.10/dist-packages (from category_encoders) (1.13.1)\n",
            "Requirement already satisfied: statsmodels>=0.9.0 in /usr/local/lib/python3.10/dist-packages (from category_encoders) (0.14.2)\n",
            "Requirement already satisfied: pandas>=1.0.5 in /usr/local/lib/python3.10/dist-packages (from category_encoders) (2.1.4)\n",
            "Requirement already satisfied: patsy>=0.5.1 in /usr/local/lib/python3.10/dist-packages (from category_encoders) (0.5.6)\n",
            "Requirement already satisfied: python-dateutil>=2.8.2 in /usr/local/lib/python3.10/dist-packages (from pandas>=1.0.5->category_encoders) (2.8.2)\n",
            "Requirement already satisfied: pytz>=2020.1 in /usr/local/lib/python3.10/dist-packages (from pandas>=1.0.5->category_encoders) (2024.1)\n",
            "Requirement already satisfied: tzdata>=2022.1 in /usr/local/lib/python3.10/dist-packages (from pandas>=1.0.5->category_encoders) (2024.1)\n",
            "Requirement already satisfied: six in /usr/local/lib/python3.10/dist-packages (from patsy>=0.5.1->category_encoders) (1.16.0)\n",
            "Requirement already satisfied: joblib>=1.1.1 in /usr/local/lib/python3.10/dist-packages (from scikit-learn>=0.20.0->category_encoders) (1.4.2)\n",
            "Requirement already satisfied: threadpoolctl>=2.0.0 in /usr/local/lib/python3.10/dist-packages (from scikit-learn>=0.20.0->category_encoders) (3.5.0)\n",
            "Requirement already satisfied: packaging>=21.3 in /usr/local/lib/python3.10/dist-packages (from statsmodels>=0.9.0->category_encoders) (24.1)\n",
            "Downloading category_encoders-2.6.3-py2.py3-none-any.whl (81 kB)\n",
            "\u001b[2K   \u001b[90m━━━━━━━━━━━━━━━━━━━━━━━━━━━━━━━━━━━━━━━━\u001b[0m \u001b[32m81.9/81.9 kB\u001b[0m \u001b[31m5.1 MB/s\u001b[0m eta \u001b[36m0:00:00\u001b[0m\n",
            "\u001b[?25hInstalling collected packages: category_encoders\n",
            "Successfully installed category_encoders-2.6.3\n"
          ]
        }
      ]
    },
    {
      "cell_type": "code",
      "source": [
        "from google.colab import drive\n",
        "drive.mount('/content/drive')"
      ],
      "metadata": {
        "colab": {
          "base_uri": "https://localhost:8080/"
        },
        "id": "0OORgFycvkcj",
        "outputId": "4d5aab2a-051f-456b-acbe-e0f8a35be2ee"
      },
      "id": "0OORgFycvkcj",
      "execution_count": 4,
      "outputs": [
        {
          "output_type": "stream",
          "name": "stdout",
          "text": [
            "Mounted at /content/drive\n"
          ]
        }
      ]
    },
    {
      "cell_type": "code",
      "execution_count": 15,
      "id": "39100c73-afc3-419a-9964-a1e36beddc84",
      "metadata": {
        "id": "39100c73-afc3-419a-9964-a1e36beddc84"
      },
      "outputs": [],
      "source": [
        "import pandas as pd\n",
        "import numpy as np\n",
        "from sklearn.model_selection import train_test_split\n",
        "from sklearn.preprocessing import LabelEncoder, OneHotEncoder\n",
        "from sklearn.metrics import accuracy_score, roc_auc_score, precision_score, recall_score, f1_score\n",
        "from category_encoders import TargetEncoder\n",
        "import lightgbm as lgb\n",
        "import plotly.graph_objects as go\n",
        "import plotly.express as px\n",
        "from plotly.subplots import make_subplots"
      ]
    },
    {
      "cell_type": "code",
      "execution_count": 106,
      "id": "2b89afd3-f244-40b6-9dfe-b13dba678799",
      "metadata": {
        "id": "2b89afd3-f244-40b6-9dfe-b13dba678799"
      },
      "outputs": [],
      "source": [
        "# Load data\n",
        "print(\"Loading data...\")\n",
        "train_df = pd.read_csv('drive/MyDrive/Collab_DATA/train_trades_csv_prepared.csv')\n",
        "test_df = pd.read_csv('drive/MyDrive/Collab_DATA/test_trades_csv_prepared.csv')"
      ]
    },
    {
      "cell_type": "code",
      "execution_count": 52,
      "id": "704d1955-c239-423e-8592-5c6256e3d1c8",
      "metadata": {
        "colab": {
          "base_uri": "https://localhost:8080/"
        },
        "id": "704d1955-c239-423e-8592-5c6256e3d1c8",
        "outputId": "0c4e8f35-c266-4c57-c626-0893a5c35863"
      },
      "outputs": [
        {
          "output_type": "stream",
          "name": "stdout",
          "text": [
            "Training set size: 509143\n",
            "Validation set size: 26798\n",
            "Training data date range: 2023-01-01T00:35:13.000Z to 2023-09-08T02:25:46.000Z\n",
            "Validation data date range: 2023-09-08T02:25:46.000Z to 2023-09-21T13:30:00.000Z\n"
          ]
        }
      ],
      "source": [
        "cat_features = ['vessel_id',\n",
        "                'origin', 'destination',\n",
        "                'origin_h3_res2_index', 'destination_h3_res2_index',\n",
        "                'product_family', 'vessel_type',\n",
        "                'products',\n",
        "               'flag_name', 'origin_country_code', 'destination_country_code',\n",
        "               'previous_visited_port_1', 'previous_visited_port_2', 'previous_visited_port_3',\n",
        "               'probability_level'\n",
        "               ]\n",
        "num_features = ['day_of_week', 'month', 'traded_volume',\n",
        "               'dead_weight', 'vessel_age', 'origin_draught_change', 'destination_draught_change',\n",
        "                'origin_cargo_volume', 'destination_cargo_volume', 'od_distance', 'p1_destination_probability',\n",
        "                'p2_destination_probability', 'p3_destination_probability',\n",
        "                'p4_destination_probability', 'merged_destination_probability'\n",
        "               ]\n",
        "\n",
        "# Split the data\n",
        "# Sort the dataframe by end_date_time\n",
        "df_sorted = train_df.sort_values('start_date_time')\n",
        "\n",
        "# Determine the split point (90% train, 10% validation)\n",
        "split_index = int(len(df_sorted) * 0.95)\n",
        "\n",
        "# Split the data\n",
        "train_df = df_sorted.iloc[:split_index]\n",
        "val_df = df_sorted.iloc[split_index:]\n",
        "\n",
        "# Separate features and target\n",
        "X_train = train_df[cat_features + num_features]  # Replace feature_columns with your actual feature column names\n",
        "y_train = train_df['is_visit']    # Replace target_column with your actual target column name\n",
        "\n",
        "X_val = val_df[cat_features + num_features]\n",
        "y_val = val_df['is_visit']\n",
        "\n",
        "# Print some information about the split\n",
        "print(f\"Training set size: {len(X_train)}\")\n",
        "print(f\"Validation set size: {len(X_val)}\")\n",
        "print(f\"Training data date range: {train_df['start_date_time'].min()} to {train_df['start_date_time'].max()}\")\n",
        "print(f\"Validation data date range: {val_df['start_date_time'].min()} to {val_df['start_date_time'].max()}\")\n",
        "\n",
        "# If you need to reset index\n",
        "X_train = X_train.reset_index(drop=True)\n",
        "X_val = X_val.reset_index(drop=True)\n",
        "y_train = y_train.reset_index(drop=True)\n",
        "y_val = y_val.reset_index(drop=True)"
      ]
    },
    {
      "cell_type": "code",
      "execution_count": 54,
      "id": "f64a84e6-9cdb-40ee-931a-743099abcf20",
      "metadata": {
        "colab": {
          "base_uri": "https://localhost:8080/"
        },
        "id": "f64a84e6-9cdb-40ee-931a-743099abcf20",
        "outputId": "18a76499-0ecb-46b1-d116-a4186bde70fc"
      },
      "outputs": [
        {
          "output_type": "stream",
          "name": "stdout",
          "text": [
            "Preprocessing data...\n"
          ]
        }
      ],
      "source": [
        "# Preprocess categorical features\n",
        "print(\"Preprocessing data...\")\n",
        "high_cardinality_features = ['vessel_id',\n",
        "                            'origin', 'destination',\n",
        "                            'origin_h3_res2_index', 'destination_h3_res2_index',\n",
        "                             'products', 'flag_name', 'origin_country_code', 'destination_country_code',\n",
        "               'previous_visited_port_1', 'previous_visited_port_2', 'previous_visited_port_3',]\n",
        "low_cardinality_features = [f for f in cat_features if f not in high_cardinality_features]\n"
      ]
    },
    {
      "cell_type": "code",
      "execution_count": 55,
      "id": "b0a6aa2a-b702-495c-ad5f-801d9099bb7b",
      "metadata": {
        "id": "b0a6aa2a-b702-495c-ad5f-801d9099bb7b"
      },
      "outputs": [],
      "source": [
        "# Target encoding for high cardinality features\n",
        "te = TargetEncoder()\n",
        "X_train_te = te.fit_transform(X_train[high_cardinality_features], y_train)\n",
        "X_val_te = te.transform(X_val[high_cardinality_features])\n"
      ]
    },
    {
      "cell_type": "code",
      "execution_count": 56,
      "id": "598ae8c5-03ff-475d-8c15-4073fd7934bf",
      "metadata": {
        "id": "598ae8c5-03ff-475d-8c15-4073fd7934bf"
      },
      "outputs": [],
      "source": [
        "# One-hot encoding for low cardinality features\n",
        "ohe = OneHotEncoder(sparse_output=False, handle_unknown='ignore')\n",
        "X_train_ohe = ohe.fit_transform(X_train[low_cardinality_features])\n",
        "X_val_ohe = ohe.transform(X_val[low_cardinality_features])\n"
      ]
    },
    {
      "cell_type": "code",
      "execution_count": 57,
      "id": "2eafddb1-ba3e-4db0-bb27-d24367448585",
      "metadata": {
        "id": "2eafddb1-ba3e-4db0-bb27-d24367448585"
      },
      "outputs": [],
      "source": [
        "# Combine encoded features with numerical features\n",
        "X_train_encoded = np.hstack([X_train_te, X_train_ohe, X_train[num_features]])\n",
        "X_val_encoded = np.hstack([X_val_te, X_val_ohe, X_val[num_features]])\n",
        "\n",
        "# Prepare LightGBM datasets\n",
        "train_data = lgb.Dataset(X_train_encoded, label=y_train)\n",
        "val_data = lgb.Dataset(X_val_encoded, label=y_val, reference=train_data)\n",
        "\n"
      ]
    },
    {
      "cell_type": "code",
      "execution_count": 58,
      "id": "b4d2e9bc-c077-4ed8-a91e-e8e3b1a1d9af",
      "metadata": {
        "colab": {
          "base_uri": "https://localhost:8080/"
        },
        "id": "b4d2e9bc-c077-4ed8-a91e-e8e3b1a1d9af",
        "outputId": "c4a70ee6-81fa-49da-b797-40e64b9910cf"
      },
      "outputs": [
        {
          "output_type": "stream",
          "name": "stdout",
          "text": [
            "Training LightGBM model...\n",
            "[LightGBM] [Info] Number of positive: 99573, number of negative: 409570\n",
            "[LightGBM] [Info] Auto-choosing row-wise multi-threading, the overhead of testing was 0.106319 seconds.\n",
            "You can set `force_row_wise=true` to remove the overhead.\n",
            "And if memory is not enough, you can set `force_col_wise=true`.\n",
            "[LightGBM] [Info] Total Bins 5504\n",
            "[LightGBM] [Info] Number of data points in the train set: 509143, number of used features: 51\n",
            "[LightGBM] [Info] [binary:BoostFromScore]: pavg=0.195570 -> initscore=-1.414217\n",
            "[LightGBM] [Info] Start training from score -1.414217\n",
            "Training until validation scores don't improve for 50 rounds\n",
            "[100]\ttraining's binary_logloss: 0.206322\tvalid_1's binary_logloss: 0.191758\n",
            "[200]\ttraining's binary_logloss: 0.190622\tvalid_1's binary_logloss: 0.178449\n",
            "[300]\ttraining's binary_logloss: 0.179029\tvalid_1's binary_logloss: 0.169716\n",
            "[400]\ttraining's binary_logloss: 0.168679\tvalid_1's binary_logloss: 0.161624\n",
            "[500]\ttraining's binary_logloss: 0.1611\tvalid_1's binary_logloss: 0.155996\n",
            "[600]\ttraining's binary_logloss: 0.154181\tvalid_1's binary_logloss: 0.151293\n",
            "[700]\ttraining's binary_logloss: 0.147936\tvalid_1's binary_logloss: 0.146647\n",
            "[800]\ttraining's binary_logloss: 0.14018\tvalid_1's binary_logloss: 0.140382\n",
            "[900]\ttraining's binary_logloss: 0.134776\tvalid_1's binary_logloss: 0.136383\n",
            "[1000]\ttraining's binary_logloss: 0.129343\tvalid_1's binary_logloss: 0.132121\n",
            "Did not meet early stopping. Best iteration is:\n",
            "[1000]\ttraining's binary_logloss: 0.129343\tvalid_1's binary_logloss: 0.132121\n",
            "Validation Accuracy: 0.9529\n",
            "Validation AUC: 0.9822\n",
            "Validation Precision: 0.9019\n",
            "Validation Recall: 0.8509\n",
            "Validation F1 Score: 0.8757\n"
          ]
        }
      ],
      "source": [
        "# Set model parameters\n",
        "params = {\n",
        "    'objective': 'binary',\n",
        "    'metric': 'binary_logloss',\n",
        "    'num_leaves': 31,\n",
        "    'learning_rate': 0.05,\n",
        "    'feature_fraction': 0.9,\n",
        "}\n",
        "\n",
        "# Set callback parameters\n",
        "callbacks = [\n",
        "    lgb.early_stopping(stopping_rounds=50, verbose=True),\n",
        "    lgb.log_evaluation(period=100)\n",
        "]\n",
        "\n",
        "# Train the model\n",
        "print(\"Training LightGBM model...\")\n",
        "model = lgb.train(\n",
        "    params,\n",
        "    train_data,\n",
        "    num_boost_round=1000,\n",
        "    valid_sets=[train_data, val_data],\n",
        "    callbacks=callbacks\n",
        ")\n",
        "\n",
        "# Make predictions on validation set\n",
        "val_preds = model.predict(X_val_encoded)\n",
        "val_preds_binary = (val_preds > 0.5).astype(int)\n",
        "\n",
        "# Calculate metrics for validation set\n",
        "val_accuracy = accuracy_score(y_val, val_preds_binary)\n",
        "val_auc = roc_auc_score(y_val, val_preds)\n",
        "val_precision = precision_score(y_val, val_preds_binary)\n",
        "val_recall = recall_score(y_val, val_preds_binary)\n",
        "val_f1 = f1_score(y_val, val_preds_binary)\n",
        "\n",
        "print(f\"Validation Accuracy: {val_accuracy:.4f}\")\n",
        "print(f\"Validation AUC: {val_auc:.4f}\")\n",
        "print(f\"Validation Precision: {val_precision:.4f}\")\n",
        "print(f\"Validation Recall: {val_recall:.4f}\")\n",
        "print(f\"Validation F1 Score: {val_f1:.4f}\")\n"
      ]
    },
    {
      "cell_type": "code",
      "execution_count": 108,
      "id": "5a060996-f77e-429a-ab4a-6d9cb136b04f",
      "metadata": {
        "colab": {
          "base_uri": "https://localhost:8080/"
        },
        "id": "5a060996-f77e-429a-ab4a-6d9cb136b04f",
        "outputId": "683cd269-c2d2-482c-e872-ff8ef6dbe526"
      },
      "outputs": [
        {
          "output_type": "stream",
          "name": "stdout",
          "text": [
            "Preparing test data and making predictions...\n"
          ]
        }
      ],
      "source": [
        "# Prepare test data\n",
        "print(\"Preparing test data and making predictions...\")\n",
        "X_test = test_df[cat_features + num_features]\n",
        "X_test_te = te.transform(X_test[high_cardinality_features])\n",
        "X_test_ohe = ohe.transform(X_test[low_cardinality_features])\n",
        "X_test_encoded = np.hstack([X_test_te, X_test_ohe, X_test[num_features]])\n",
        "\n",
        "# Make predictions on test set\n",
        "test_preds = model.predict(X_test_encoded)"
      ]
    },
    {
      "cell_type": "code",
      "source": [
        "# Create a DataFrame with predictions\n",
        "ranked_destinations = test_df[['vessel_id', 'destination', 'is_visit', 'vessel_type', 'product_family']].copy()\n",
        "ranked_destinations['predicted_probability'] = test_preds\n",
        "\n",
        "# Filter predictions (is_visit = 0) and actual destinations (is_visit = 1)\n",
        "ranked_destinations_filtered = ranked_destinations[ranked_destinations['is_visit'] == 0]\n",
        "test_df_sample = ranked_destinations[ranked_destinations['is_visit'] == 1]\n",
        "\n",
        "# Create a dictionary of actual destinations\n",
        "actual_destinations = test_df_sample.set_index('vessel_id')['destination'].to_dict()"
      ],
      "metadata": {
        "id": "d4ujaPxGKi_7"
      },
      "id": "d4ujaPxGKi_7",
      "execution_count": 117,
      "outputs": []
    },
    {
      "cell_type": "code",
      "source": [
        "# Function to get top N predictions (unchanged)\n",
        "def get_top_n_predictions(group, n):\n",
        "    return group.nlargest(n, 'predicted_probability')['destination'].tolist()\n",
        "\n",
        "# Modified function to calculate accuracy and get ranks for MRR\n",
        "def calculate_accuracy_and_ranks(n):\n",
        "    top_n_predictions = ranked_destinations_filtered.groupby('vessel_id').apply(lambda x: get_top_n_predictions(x, n))\n",
        "    accuracies = []\n",
        "    ranks = []\n",
        "    for vessel_id, preds in top_n_predictions.items():\n",
        "        actual_dest = actual_destinations.get(vessel_id)\n",
        "        if actual_dest in preds:\n",
        "            accuracies.append(1)\n",
        "            ranks.append(1 / (preds.index(actual_dest) + 1))\n",
        "        else:\n",
        "            accuracies.append(0)\n",
        "            ranks.append(0)\n",
        "    return np.mean(accuracies), ranks\n",
        "\n",
        "# Calculate accuracy for top N predictions\n",
        "def calculate_accuracy_for_top_n(n):\n",
        "    top_n_predictions = ranked_destinations_filtered.groupby('vessel_id').apply(lambda x: get_top_n_predictions(x, n))\n",
        "    accuracy = sum(actual_destinations.get(vessel_id) in preds for vessel_id, preds in top_n_predictions.items()) / len(actual_destinations)\n",
        "    return accuracy\n",
        "\n",
        "# Function to calculate Mean Reciprocal Rank\n",
        "def calculate_mrr():\n",
        "    def get_reciprocal_rank(group):\n",
        "        vessel_id = group.name\n",
        "        actual_dest = actual_destinations.get(vessel_id)\n",
        "        if actual_dest is None:\n",
        "            return 0\n",
        "        # Sort predictions by probability in descending order\n",
        "        sorted_predictions = group.sort_values('predicted_probability', ascending=False).reset_index(drop=True)\n",
        "        # Find the rank of the actual destination\n",
        "        rank = sorted_predictions[sorted_predictions['destination'] == actual_dest].index.min()\n",
        "        if pd.isna(rank):\n",
        "            return 0\n",
        "        # Calculate reciprocal rank (add 1 to rank because indexing starts at 0)\n",
        "        return 1 / (rank + 1)\n",
        "\n",
        "    reciprocal_ranks = ranked_destinations_filtered.groupby('vessel_id').apply(get_reciprocal_rank)\n",
        "\n",
        "    # Print some debug information\n",
        "    print(f\"Number of vessels: {len(reciprocal_ranks)}\")\n",
        "    print(f\"Number of non-zero ranks: {(reciprocal_ranks > 0).sum()}\")\n",
        "    print(f\"Average reciprocal rank: {reciprocal_ranks.mean():.4f}\")\n",
        "\n",
        "    return reciprocal_ranks.mean()\n"
      ],
      "metadata": {
        "id": "6XiJZqrqOCN4"
      },
      "id": "6XiJZqrqOCN4",
      "execution_count": 112,
      "outputs": []
    },
    {
      "cell_type": "code",
      "source": [
        "# Calculate Top 1, Top 3, and Top 10 Accuracies\n",
        "top_1_accuracy, ranks_1 = calculate_accuracy_and_ranks(1)\n",
        "top_3_accuracy, _ = calculate_accuracy_and_ranks(3)\n",
        "top_10_accuracy, _ = calculate_accuracy_and_ranks(10)\n",
        "\n",
        "# Calculate Mean Reciprocal Rank\n",
        "mrr = calculate_mrr()\n",
        "\n",
        "# Print the results\n",
        "print(f\"Top 1 Accuracy: {top_1_accuracy:.4f}\")\n",
        "print(f\"Top 3 Accuracy: {top_3_accuracy:.4f}\")\n",
        "print(f\"Top 10 Accuracy: {top_10_accuracy:.4f}\")\n",
        "print(f\"Mean Reciprocal Rank (MRR): {mrr:.4f}\")"
      ],
      "metadata": {
        "colab": {
          "base_uri": "https://localhost:8080/"
        },
        "id": "0kan4ElzODaL",
        "outputId": "b5c8d6ef-8bd1-4134-caa6-cd0f93d036cc"
      },
      "id": "0kan4ElzODaL",
      "execution_count": 113,
      "outputs": [
        {
          "output_type": "stream",
          "name": "stdout",
          "text": [
            "Number of vessels: 6246\n",
            "Number of non-zero ranks: 5038\n",
            "Average reciprocal rank: 0.5036\n",
            "Top 1 Accuracy: 0.4049\n",
            "Top 3 Accuracy: 0.5692\n",
            "Top 10 Accuracy: 0.6820\n",
            "Mean Reciprocal Rank (MRR): 0.5036\n"
          ]
        }
      ]
    },
    {
      "cell_type": "code",
      "execution_count": 114,
      "id": "2214d62b-4692-4de4-8426-4d385c9e5750",
      "metadata": {
        "colab": {
          "base_uri": "https://localhost:8080/",
          "height": 542
        },
        "id": "2214d62b-4692-4de4-8426-4d385c9e5750",
        "outputId": "0c576d43-64b2-4cbc-e8e0-1efc84a42789"
      },
      "outputs": [
        {
          "output_type": "display_data",
          "data": {
            "text/html": [
              "<html>\n",
              "<head><meta charset=\"utf-8\" /></head>\n",
              "<body>\n",
              "    <div>            <script src=\"https://cdnjs.cloudflare.com/ajax/libs/mathjax/2.7.5/MathJax.js?config=TeX-AMS-MML_SVG\"></script><script type=\"text/javascript\">if (window.MathJax && window.MathJax.Hub && window.MathJax.Hub.Config) {window.MathJax.Hub.Config({SVG: {font: \"STIX-Web\"}});}</script>                <script type=\"text/javascript\">window.PlotlyConfig = {MathJaxConfig: 'local'};</script>\n",
              "        <script charset=\"utf-8\" src=\"https://cdn.plot.ly/plotly-2.24.1.min.js\"></script>                <div id=\"36941e10-e7e7-4142-a3cb-6e7cb9373145\" class=\"plotly-graph-div\" style=\"height:525px; width:100%;\"></div>            <script type=\"text/javascript\">                                    window.PLOTLYENV=window.PLOTLYENV || {};                                    if (document.getElementById(\"36941e10-e7e7-4142-a3cb-6e7cb9373145\")) {                    Plotly.newPlot(                        \"36941e10-e7e7-4142-a3cb-6e7cb9373145\",                        [{\"mode\":\"lines+markers+text\",\"text\":[\"40.09%\",\"50.99%\",\"56.35%\",\"59.76%\",\"61.75%\",\"63.37%\",\"64.72%\",\"65.76%\",\"66.70%\",\"67.52%\"],\"textposition\":\"top center\",\"x\":[1,2,3,4,5,6,7,8,9,10],\"y\":[0.4008559201141227,0.5099064828023459,0.5634807417974322,0.597559042637502,0.6175305119670312,0.6336978919004597,0.64717070851165,0.6576319543509273,0.6669836741163417,0.6752258678078935],\"type\":\"scatter\"}],                        {\"template\":{\"data\":{\"histogram2dcontour\":[{\"type\":\"histogram2dcontour\",\"colorbar\":{\"outlinewidth\":0,\"ticks\":\"\"},\"colorscale\":[[0.0,\"#0d0887\"],[0.1111111111111111,\"#46039f\"],[0.2222222222222222,\"#7201a8\"],[0.3333333333333333,\"#9c179e\"],[0.4444444444444444,\"#bd3786\"],[0.5555555555555556,\"#d8576b\"],[0.6666666666666666,\"#ed7953\"],[0.7777777777777778,\"#fb9f3a\"],[0.8888888888888888,\"#fdca26\"],[1.0,\"#f0f921\"]]}],\"choropleth\":[{\"type\":\"choropleth\",\"colorbar\":{\"outlinewidth\":0,\"ticks\":\"\"}}],\"histogram2d\":[{\"type\":\"histogram2d\",\"colorbar\":{\"outlinewidth\":0,\"ticks\":\"\"},\"colorscale\":[[0.0,\"#0d0887\"],[0.1111111111111111,\"#46039f\"],[0.2222222222222222,\"#7201a8\"],[0.3333333333333333,\"#9c179e\"],[0.4444444444444444,\"#bd3786\"],[0.5555555555555556,\"#d8576b\"],[0.6666666666666666,\"#ed7953\"],[0.7777777777777778,\"#fb9f3a\"],[0.8888888888888888,\"#fdca26\"],[1.0,\"#f0f921\"]]}],\"heatmap\":[{\"type\":\"heatmap\",\"colorbar\":{\"outlinewidth\":0,\"ticks\":\"\"},\"colorscale\":[[0.0,\"#0d0887\"],[0.1111111111111111,\"#46039f\"],[0.2222222222222222,\"#7201a8\"],[0.3333333333333333,\"#9c179e\"],[0.4444444444444444,\"#bd3786\"],[0.5555555555555556,\"#d8576b\"],[0.6666666666666666,\"#ed7953\"],[0.7777777777777778,\"#fb9f3a\"],[0.8888888888888888,\"#fdca26\"],[1.0,\"#f0f921\"]]}],\"heatmapgl\":[{\"type\":\"heatmapgl\",\"colorbar\":{\"outlinewidth\":0,\"ticks\":\"\"},\"colorscale\":[[0.0,\"#0d0887\"],[0.1111111111111111,\"#46039f\"],[0.2222222222222222,\"#7201a8\"],[0.3333333333333333,\"#9c179e\"],[0.4444444444444444,\"#bd3786\"],[0.5555555555555556,\"#d8576b\"],[0.6666666666666666,\"#ed7953\"],[0.7777777777777778,\"#fb9f3a\"],[0.8888888888888888,\"#fdca26\"],[1.0,\"#f0f921\"]]}],\"contourcarpet\":[{\"type\":\"contourcarpet\",\"colorbar\":{\"outlinewidth\":0,\"ticks\":\"\"}}],\"contour\":[{\"type\":\"contour\",\"colorbar\":{\"outlinewidth\":0,\"ticks\":\"\"},\"colorscale\":[[0.0,\"#0d0887\"],[0.1111111111111111,\"#46039f\"],[0.2222222222222222,\"#7201a8\"],[0.3333333333333333,\"#9c179e\"],[0.4444444444444444,\"#bd3786\"],[0.5555555555555556,\"#d8576b\"],[0.6666666666666666,\"#ed7953\"],[0.7777777777777778,\"#fb9f3a\"],[0.8888888888888888,\"#fdca26\"],[1.0,\"#f0f921\"]]}],\"surface\":[{\"type\":\"surface\",\"colorbar\":{\"outlinewidth\":0,\"ticks\":\"\"},\"colorscale\":[[0.0,\"#0d0887\"],[0.1111111111111111,\"#46039f\"],[0.2222222222222222,\"#7201a8\"],[0.3333333333333333,\"#9c179e\"],[0.4444444444444444,\"#bd3786\"],[0.5555555555555556,\"#d8576b\"],[0.6666666666666666,\"#ed7953\"],[0.7777777777777778,\"#fb9f3a\"],[0.8888888888888888,\"#fdca26\"],[1.0,\"#f0f921\"]]}],\"mesh3d\":[{\"type\":\"mesh3d\",\"colorbar\":{\"outlinewidth\":0,\"ticks\":\"\"}}],\"scatter\":[{\"fillpattern\":{\"fillmode\":\"overlay\",\"size\":10,\"solidity\":0.2},\"type\":\"scatter\"}],\"parcoords\":[{\"type\":\"parcoords\",\"line\":{\"colorbar\":{\"outlinewidth\":0,\"ticks\":\"\"}}}],\"scatterpolargl\":[{\"type\":\"scatterpolargl\",\"marker\":{\"colorbar\":{\"outlinewidth\":0,\"ticks\":\"\"}}}],\"bar\":[{\"error_x\":{\"color\":\"#2a3f5f\"},\"error_y\":{\"color\":\"#2a3f5f\"},\"marker\":{\"line\":{\"color\":\"#E5ECF6\",\"width\":0.5},\"pattern\":{\"fillmode\":\"overlay\",\"size\":10,\"solidity\":0.2}},\"type\":\"bar\"}],\"scattergeo\":[{\"type\":\"scattergeo\",\"marker\":{\"colorbar\":{\"outlinewidth\":0,\"ticks\":\"\"}}}],\"scatterpolar\":[{\"type\":\"scatterpolar\",\"marker\":{\"colorbar\":{\"outlinewidth\":0,\"ticks\":\"\"}}}],\"histogram\":[{\"marker\":{\"pattern\":{\"fillmode\":\"overlay\",\"size\":10,\"solidity\":0.2}},\"type\":\"histogram\"}],\"scattergl\":[{\"type\":\"scattergl\",\"marker\":{\"colorbar\":{\"outlinewidth\":0,\"ticks\":\"\"}}}],\"scatter3d\":[{\"type\":\"scatter3d\",\"line\":{\"colorbar\":{\"outlinewidth\":0,\"ticks\":\"\"}},\"marker\":{\"colorbar\":{\"outlinewidth\":0,\"ticks\":\"\"}}}],\"scattermapbox\":[{\"type\":\"scattermapbox\",\"marker\":{\"colorbar\":{\"outlinewidth\":0,\"ticks\":\"\"}}}],\"scatterternary\":[{\"type\":\"scatterternary\",\"marker\":{\"colorbar\":{\"outlinewidth\":0,\"ticks\":\"\"}}}],\"scattercarpet\":[{\"type\":\"scattercarpet\",\"marker\":{\"colorbar\":{\"outlinewidth\":0,\"ticks\":\"\"}}}],\"carpet\":[{\"aaxis\":{\"endlinecolor\":\"#2a3f5f\",\"gridcolor\":\"white\",\"linecolor\":\"white\",\"minorgridcolor\":\"white\",\"startlinecolor\":\"#2a3f5f\"},\"baxis\":{\"endlinecolor\":\"#2a3f5f\",\"gridcolor\":\"white\",\"linecolor\":\"white\",\"minorgridcolor\":\"white\",\"startlinecolor\":\"#2a3f5f\"},\"type\":\"carpet\"}],\"table\":[{\"cells\":{\"fill\":{\"color\":\"#EBF0F8\"},\"line\":{\"color\":\"white\"}},\"header\":{\"fill\":{\"color\":\"#C8D4E3\"},\"line\":{\"color\":\"white\"}},\"type\":\"table\"}],\"barpolar\":[{\"marker\":{\"line\":{\"color\":\"#E5ECF6\",\"width\":0.5},\"pattern\":{\"fillmode\":\"overlay\",\"size\":10,\"solidity\":0.2}},\"type\":\"barpolar\"}],\"pie\":[{\"automargin\":true,\"type\":\"pie\"}]},\"layout\":{\"autotypenumbers\":\"strict\",\"colorway\":[\"#636efa\",\"#EF553B\",\"#00cc96\",\"#ab63fa\",\"#FFA15A\",\"#19d3f3\",\"#FF6692\",\"#B6E880\",\"#FF97FF\",\"#FECB52\"],\"font\":{\"color\":\"#2a3f5f\"},\"hovermode\":\"closest\",\"hoverlabel\":{\"align\":\"left\"},\"paper_bgcolor\":\"white\",\"plot_bgcolor\":\"#E5ECF6\",\"polar\":{\"bgcolor\":\"#E5ECF6\",\"angularaxis\":{\"gridcolor\":\"white\",\"linecolor\":\"white\",\"ticks\":\"\"},\"radialaxis\":{\"gridcolor\":\"white\",\"linecolor\":\"white\",\"ticks\":\"\"}},\"ternary\":{\"bgcolor\":\"#E5ECF6\",\"aaxis\":{\"gridcolor\":\"white\",\"linecolor\":\"white\",\"ticks\":\"\"},\"baxis\":{\"gridcolor\":\"white\",\"linecolor\":\"white\",\"ticks\":\"\"},\"caxis\":{\"gridcolor\":\"white\",\"linecolor\":\"white\",\"ticks\":\"\"}},\"coloraxis\":{\"colorbar\":{\"outlinewidth\":0,\"ticks\":\"\"}},\"colorscale\":{\"sequential\":[[0.0,\"#0d0887\"],[0.1111111111111111,\"#46039f\"],[0.2222222222222222,\"#7201a8\"],[0.3333333333333333,\"#9c179e\"],[0.4444444444444444,\"#bd3786\"],[0.5555555555555556,\"#d8576b\"],[0.6666666666666666,\"#ed7953\"],[0.7777777777777778,\"#fb9f3a\"],[0.8888888888888888,\"#fdca26\"],[1.0,\"#f0f921\"]],\"sequentialminus\":[[0.0,\"#0d0887\"],[0.1111111111111111,\"#46039f\"],[0.2222222222222222,\"#7201a8\"],[0.3333333333333333,\"#9c179e\"],[0.4444444444444444,\"#bd3786\"],[0.5555555555555556,\"#d8576b\"],[0.6666666666666666,\"#ed7953\"],[0.7777777777777778,\"#fb9f3a\"],[0.8888888888888888,\"#fdca26\"],[1.0,\"#f0f921\"]],\"diverging\":[[0,\"#8e0152\"],[0.1,\"#c51b7d\"],[0.2,\"#de77ae\"],[0.3,\"#f1b6da\"],[0.4,\"#fde0ef\"],[0.5,\"#f7f7f7\"],[0.6,\"#e6f5d0\"],[0.7,\"#b8e186\"],[0.8,\"#7fbc41\"],[0.9,\"#4d9221\"],[1,\"#276419\"]]},\"xaxis\":{\"gridcolor\":\"white\",\"linecolor\":\"white\",\"ticks\":\"\",\"title\":{\"standoff\":15},\"zerolinecolor\":\"white\",\"automargin\":true,\"zerolinewidth\":2},\"yaxis\":{\"gridcolor\":\"white\",\"linecolor\":\"white\",\"ticks\":\"\",\"title\":{\"standoff\":15},\"zerolinecolor\":\"white\",\"automargin\":true,\"zerolinewidth\":2},\"scene\":{\"xaxis\":{\"backgroundcolor\":\"#E5ECF6\",\"gridcolor\":\"white\",\"linecolor\":\"white\",\"showbackground\":true,\"ticks\":\"\",\"zerolinecolor\":\"white\",\"gridwidth\":2},\"yaxis\":{\"backgroundcolor\":\"#E5ECF6\",\"gridcolor\":\"white\",\"linecolor\":\"white\",\"showbackground\":true,\"ticks\":\"\",\"zerolinecolor\":\"white\",\"gridwidth\":2},\"zaxis\":{\"backgroundcolor\":\"#E5ECF6\",\"gridcolor\":\"white\",\"linecolor\":\"white\",\"showbackground\":true,\"ticks\":\"\",\"zerolinecolor\":\"white\",\"gridwidth\":2}},\"shapedefaults\":{\"line\":{\"color\":\"#2a3f5f\"}},\"annotationdefaults\":{\"arrowcolor\":\"#2a3f5f\",\"arrowhead\":0,\"arrowwidth\":1},\"geo\":{\"bgcolor\":\"white\",\"landcolor\":\"#E5ECF6\",\"subunitcolor\":\"white\",\"showland\":true,\"showlakes\":true,\"lakecolor\":\"white\"},\"title\":{\"x\":0.05},\"mapbox\":{\"style\":\"light\"}}},\"yaxis\":{\"title\":{\"text\":\"Accuracy\"},\"tickformat\":\".0%\"},\"xaxis\":{\"title\":{\"text\":\"Top N Predictions\"},\"tickmode\":\"linear\",\"tick0\":1,\"dtick\":1},\"title\":{\"text\":\"Accuracy Evolution: Top 1 to Top 10\"}},                        {\"responsive\": true}                    ).then(function(){\n",
              "                            \n",
              "var gd = document.getElementById('36941e10-e7e7-4142-a3cb-6e7cb9373145');\n",
              "var x = new MutationObserver(function (mutations, observer) {{\n",
              "        var display = window.getComputedStyle(gd).display;\n",
              "        if (!display || display === 'none') {{\n",
              "            console.log([gd, 'removed!']);\n",
              "            Plotly.purge(gd);\n",
              "            observer.disconnect();\n",
              "        }}\n",
              "}});\n",
              "\n",
              "// Listen for the removal of the full notebook cells\n",
              "var notebookContainer = gd.closest('#notebook-container');\n",
              "if (notebookContainer) {{\n",
              "    x.observe(notebookContainer, {childList: true});\n",
              "}}\n",
              "\n",
              "// Listen for the clearing of the current output cell\n",
              "var outputEl = gd.closest('.output');\n",
              "if (outputEl) {{\n",
              "    x.observe(outputEl, {childList: true});\n",
              "}}\n",
              "\n",
              "                        })                };                            </script>        </div>\n",
              "</body>\n",
              "</html>"
            ]
          },
          "metadata": {}
        }
      ],
      "source": [
        "# Calculate accuracies for top 1 to top 10\n",
        "accuracies = [calculate_accuracy_for_top_n(i) for i in range(1, 11)]\n",
        "\n",
        "# 1. Plot accuracy evolution from top 1 to top 10\n",
        "fig1 = go.Figure(data=go.Scatter(\n",
        "    x=list(range(1, 11)),\n",
        "    y=accuracies,\n",
        "    mode='lines+markers+text',\n",
        "    text=[f'{acc:.2%}' for acc in accuracies],\n",
        "    textposition='top center'\n",
        "))\n",
        "fig1.update_layout(\n",
        "    title='Accuracy Evolution: Top 1 to Top 10',\n",
        "    xaxis_title='Top N Predictions',\n",
        "    yaxis_title='Accuracy',\n",
        "    yaxis_tickformat='.0%',\n",
        "    xaxis=dict(tickmode='linear', tick0=1, dtick=1)\n",
        ")\n",
        "fig1.show()"
      ]
    },
    {
      "cell_type": "code",
      "source": [
        "def calculate_top_1_accuracy(group):\n",
        "    return actual_destinations.get(group.name) == group.nlargest(1, 'predicted_probability')['destination'].iloc[0]\n",
        "\n",
        "ranked_destinations['num_negative_samples'] = ranked_destinations.groupby('vessel_id')['vessel_id'].transform('count')\n",
        "ranked_destinations['top_1_accuracy'] = ranked_destinations.groupby('vessel_id').apply(calculate_top_1_accuracy)\n",
        "\n",
        "# Filter to include only up to 1000 negative samples\n",
        "ranked_destinations = ranked_destinations[ranked_destinations['num_negative_samples'] <= 1000]\n",
        "\n",
        "bin_size = 100\n",
        "max_samples = 1000\n",
        "bins = range(0, max_samples + bin_size, bin_size)\n",
        "\n",
        "accuracy_by_bin = ranked_destinations.groupby(pd.cut(ranked_destinations['num_negative_samples'], bins=bins))['top_1_accuracy'].agg(['mean', 'count']).reset_index()\n",
        "accuracy_by_bin['bin_midpoint'] = accuracy_by_bin['num_negative_samples'].apply(lambda x: x.mid)\n",
        "\n",
        "# Create subplots: line plot and histogram\n",
        "fig = make_subplots(rows=2, cols=1,\n",
        "                    subplot_titles=(\"Line Plot: Top 1 Accuracy vs Number of Negative Samples (up to 1000)\",\n",
        "                                    \"Histogram: Distribution of Negative Samples (up to 1000)\"),\n",
        "                    vertical_spacing=0.1)\n",
        "\n",
        "# Line plot\n",
        "fig.add_trace(\n",
        "    go.Scatter(x=accuracy_by_bin['bin_midpoint'], y=accuracy_by_bin['mean'], mode='lines+markers',\n",
        "               name='Top 1 Accuracy', text=[f'{acc:.2%}' for acc in accuracy_by_bin['mean']],\n",
        "               hovertemplate='Negative Samples: %{x}<br>Accuracy: %{text}<br>Count: %{customdata}',\n",
        "               customdata=accuracy_by_bin['count']),\n",
        "    row=1, col=1\n",
        ")\n",
        "\n",
        "# Histogram\n",
        "fig.add_trace(\n",
        "    go.Bar(x=accuracy_by_bin['bin_midpoint'], y=accuracy_by_bin['count'],\n",
        "           name='Sample Count', hovertemplate='Negative Samples: %{x}<br>Count: %{y}'),\n",
        "    row=2, col=1\n",
        ")\n",
        "\n",
        "# Update layout\n",
        "fig.update_layout(height=800, title_text=\"Top 1 Accuracy vs Number of Negative Samples (up to 1000)\")\n",
        "fig.update_xaxes(title_text=\"Number of Negative Samples\", row=1, col=1, tickmode='array', tickvals=list(range(0, 1001, 100)))\n",
        "fig.update_xaxes(title_text=\"Number of Negative Samples\", row=2, col=1, tickmode='array', tickvals=list(range(0, 1001, 100)))\n",
        "fig.update_yaxes(title_text=\"Top 1 Accuracy\", tickformat='.0%', row=1, col=1)\n",
        "fig.update_yaxes(title_text=\"Count\", row=2, col=1)\n",
        "\n",
        "fig.show()\n",
        "\n",
        "# Print some statistics\n",
        "print(f\"Total number of vessels (up to 1000 negative samples): {len(ranked_destinations['vessel_id'].unique())}\")\n",
        "print(f\"Average number of negative samples per vessel: {ranked_destinations['num_negative_samples'].mean():.2f}\")\n",
        "print(f\"Median number of negative samples per vessel: {ranked_destinations['num_negative_samples'].median():.2f}\")\n",
        "print(f\"Range of negative samples: {ranked_destinations['num_negative_samples'].min()} to {ranked_destinations['num_negative_samples'].max()}\")\n",
        "print(f\"Overall Top 1 Accuracy: {ranked_destinations['top_1_accuracy'].mean():.2%}\")\n",
        "print(f\"Correlation between number of negative samples and accuracy: {accuracy_by_bin['bin_midpoint'].corr(accuracy_by_bin['mean']):.4f}\")\n",
        "\n",
        "# Additional statistics for vessels with more than 1000 negative samples\n",
        "vessels_over_1000 = ranked_destinations[ranked_destinations['num_negative_samples'] > 1000]\n",
        "print(f\"\\nNumber of vessels with more than 1000 negative samples: {len(vessels_over_1000['vessel_id'].unique())}\")\n",
        "if not vessels_over_1000.empty:\n",
        "    print(f\"Average accuracy for vessels with >1000 negative samples: {vessels_over_1000['top_1_accuracy'].mean():.2%}\")\n"
      ],
      "metadata": {
        "colab": {
          "base_uri": "https://localhost:8080/",
          "height": 1000
        },
        "id": "0ysYZ_HA1gd3",
        "outputId": "31b00824-288d-404e-bd2b-709e04555a91"
      },
      "id": "0ysYZ_HA1gd3",
      "execution_count": 115,
      "outputs": [
        {
          "output_type": "stream",
          "name": "stderr",
          "text": [
            "<ipython-input-115-24bf92743c63>:14: FutureWarning:\n",
            "\n",
            "The default of observed=False is deprecated and will be changed to True in a future version of pandas. Pass observed=False to retain current behavior or observed=True to adopt the future default and silence this warning.\n",
            "\n"
          ]
        },
        {
          "output_type": "display_data",
          "data": {
            "text/html": [
              "<html>\n",
              "<head><meta charset=\"utf-8\" /></head>\n",
              "<body>\n",
              "    <div>            <script src=\"https://cdnjs.cloudflare.com/ajax/libs/mathjax/2.7.5/MathJax.js?config=TeX-AMS-MML_SVG\"></script><script type=\"text/javascript\">if (window.MathJax && window.MathJax.Hub && window.MathJax.Hub.Config) {window.MathJax.Hub.Config({SVG: {font: \"STIX-Web\"}});}</script>                <script type=\"text/javascript\">window.PlotlyConfig = {MathJaxConfig: 'local'};</script>\n",
              "        <script charset=\"utf-8\" src=\"https://cdn.plot.ly/plotly-2.24.1.min.js\"></script>                <div id=\"1c98a2df-b5fc-409f-a10d-9d8f30799c3b\" class=\"plotly-graph-div\" style=\"height:800px; width:100%;\"></div>            <script type=\"text/javascript\">                                    window.PLOTLYENV=window.PLOTLYENV || {};                                    if (document.getElementById(\"1c98a2df-b5fc-409f-a10d-9d8f30799c3b\")) {                    Plotly.newPlot(                        \"1c98a2df-b5fc-409f-a10d-9d8f30799c3b\",                        [{\"customdata\":[81,438,767,845,1494,1188,749,470,153,84],\"hovertemplate\":\"Negative Samples: %{x}\\u003cbr\\u003eAccuracy: %{text}\\u003cbr\\u003eCount: %{customdata}\",\"mode\":\"lines+markers\",\"name\":\"Top 1 Accuracy\",\"text\":[\"45.68%\",\"49.77%\",\"52.67%\",\"51.83%\",\"53.82%\",\"51.52%\",\"48.60%\",\"48.72%\",\"46.41%\",\"46.43%\"],\"x\":[50.0,150.0,250.0,350.0,450.0,550.0,650.0,750.0,850.0,950.0],\"y\":[0.4567901234567901,0.4977168949771689,0.5267275097783573,0.5183431952662721,0.5381526104417671,0.5151515151515151,0.48598130841121495,0.48723404255319147,0.46405228758169936,0.4642857142857143],\"type\":\"scatter\",\"xaxis\":\"x\",\"yaxis\":\"y\"},{\"hovertemplate\":\"Negative Samples: %{x}\\u003cbr\\u003eCount: %{y}\",\"name\":\"Sample Count\",\"x\":[50.0,150.0,250.0,350.0,450.0,550.0,650.0,750.0,850.0,950.0],\"y\":[81,438,767,845,1494,1188,749,470,153,84],\"type\":\"bar\",\"xaxis\":\"x2\",\"yaxis\":\"y2\"}],                        {\"template\":{\"data\":{\"histogram2dcontour\":[{\"type\":\"histogram2dcontour\",\"colorbar\":{\"outlinewidth\":0,\"ticks\":\"\"},\"colorscale\":[[0.0,\"#0d0887\"],[0.1111111111111111,\"#46039f\"],[0.2222222222222222,\"#7201a8\"],[0.3333333333333333,\"#9c179e\"],[0.4444444444444444,\"#bd3786\"],[0.5555555555555556,\"#d8576b\"],[0.6666666666666666,\"#ed7953\"],[0.7777777777777778,\"#fb9f3a\"],[0.8888888888888888,\"#fdca26\"],[1.0,\"#f0f921\"]]}],\"choropleth\":[{\"type\":\"choropleth\",\"colorbar\":{\"outlinewidth\":0,\"ticks\":\"\"}}],\"histogram2d\":[{\"type\":\"histogram2d\",\"colorbar\":{\"outlinewidth\":0,\"ticks\":\"\"},\"colorscale\":[[0.0,\"#0d0887\"],[0.1111111111111111,\"#46039f\"],[0.2222222222222222,\"#7201a8\"],[0.3333333333333333,\"#9c179e\"],[0.4444444444444444,\"#bd3786\"],[0.5555555555555556,\"#d8576b\"],[0.6666666666666666,\"#ed7953\"],[0.7777777777777778,\"#fb9f3a\"],[0.8888888888888888,\"#fdca26\"],[1.0,\"#f0f921\"]]}],\"heatmap\":[{\"type\":\"heatmap\",\"colorbar\":{\"outlinewidth\":0,\"ticks\":\"\"},\"colorscale\":[[0.0,\"#0d0887\"],[0.1111111111111111,\"#46039f\"],[0.2222222222222222,\"#7201a8\"],[0.3333333333333333,\"#9c179e\"],[0.4444444444444444,\"#bd3786\"],[0.5555555555555556,\"#d8576b\"],[0.6666666666666666,\"#ed7953\"],[0.7777777777777778,\"#fb9f3a\"],[0.8888888888888888,\"#fdca26\"],[1.0,\"#f0f921\"]]}],\"heatmapgl\":[{\"type\":\"heatmapgl\",\"colorbar\":{\"outlinewidth\":0,\"ticks\":\"\"},\"colorscale\":[[0.0,\"#0d0887\"],[0.1111111111111111,\"#46039f\"],[0.2222222222222222,\"#7201a8\"],[0.3333333333333333,\"#9c179e\"],[0.4444444444444444,\"#bd3786\"],[0.5555555555555556,\"#d8576b\"],[0.6666666666666666,\"#ed7953\"],[0.7777777777777778,\"#fb9f3a\"],[0.8888888888888888,\"#fdca26\"],[1.0,\"#f0f921\"]]}],\"contourcarpet\":[{\"type\":\"contourcarpet\",\"colorbar\":{\"outlinewidth\":0,\"ticks\":\"\"}}],\"contour\":[{\"type\":\"contour\",\"colorbar\":{\"outlinewidth\":0,\"ticks\":\"\"},\"colorscale\":[[0.0,\"#0d0887\"],[0.1111111111111111,\"#46039f\"],[0.2222222222222222,\"#7201a8\"],[0.3333333333333333,\"#9c179e\"],[0.4444444444444444,\"#bd3786\"],[0.5555555555555556,\"#d8576b\"],[0.6666666666666666,\"#ed7953\"],[0.7777777777777778,\"#fb9f3a\"],[0.8888888888888888,\"#fdca26\"],[1.0,\"#f0f921\"]]}],\"surface\":[{\"type\":\"surface\",\"colorbar\":{\"outlinewidth\":0,\"ticks\":\"\"},\"colorscale\":[[0.0,\"#0d0887\"],[0.1111111111111111,\"#46039f\"],[0.2222222222222222,\"#7201a8\"],[0.3333333333333333,\"#9c179e\"],[0.4444444444444444,\"#bd3786\"],[0.5555555555555556,\"#d8576b\"],[0.6666666666666666,\"#ed7953\"],[0.7777777777777778,\"#fb9f3a\"],[0.8888888888888888,\"#fdca26\"],[1.0,\"#f0f921\"]]}],\"mesh3d\":[{\"type\":\"mesh3d\",\"colorbar\":{\"outlinewidth\":0,\"ticks\":\"\"}}],\"scatter\":[{\"fillpattern\":{\"fillmode\":\"overlay\",\"size\":10,\"solidity\":0.2},\"type\":\"scatter\"}],\"parcoords\":[{\"type\":\"parcoords\",\"line\":{\"colorbar\":{\"outlinewidth\":0,\"ticks\":\"\"}}}],\"scatterpolargl\":[{\"type\":\"scatterpolargl\",\"marker\":{\"colorbar\":{\"outlinewidth\":0,\"ticks\":\"\"}}}],\"bar\":[{\"error_x\":{\"color\":\"#2a3f5f\"},\"error_y\":{\"color\":\"#2a3f5f\"},\"marker\":{\"line\":{\"color\":\"#E5ECF6\",\"width\":0.5},\"pattern\":{\"fillmode\":\"overlay\",\"size\":10,\"solidity\":0.2}},\"type\":\"bar\"}],\"scattergeo\":[{\"type\":\"scattergeo\",\"marker\":{\"colorbar\":{\"outlinewidth\":0,\"ticks\":\"\"}}}],\"scatterpolar\":[{\"type\":\"scatterpolar\",\"marker\":{\"colorbar\":{\"outlinewidth\":0,\"ticks\":\"\"}}}],\"histogram\":[{\"marker\":{\"pattern\":{\"fillmode\":\"overlay\",\"size\":10,\"solidity\":0.2}},\"type\":\"histogram\"}],\"scattergl\":[{\"type\":\"scattergl\",\"marker\":{\"colorbar\":{\"outlinewidth\":0,\"ticks\":\"\"}}}],\"scatter3d\":[{\"type\":\"scatter3d\",\"line\":{\"colorbar\":{\"outlinewidth\":0,\"ticks\":\"\"}},\"marker\":{\"colorbar\":{\"outlinewidth\":0,\"ticks\":\"\"}}}],\"scattermapbox\":[{\"type\":\"scattermapbox\",\"marker\":{\"colorbar\":{\"outlinewidth\":0,\"ticks\":\"\"}}}],\"scatterternary\":[{\"type\":\"scatterternary\",\"marker\":{\"colorbar\":{\"outlinewidth\":0,\"ticks\":\"\"}}}],\"scattercarpet\":[{\"type\":\"scattercarpet\",\"marker\":{\"colorbar\":{\"outlinewidth\":0,\"ticks\":\"\"}}}],\"carpet\":[{\"aaxis\":{\"endlinecolor\":\"#2a3f5f\",\"gridcolor\":\"white\",\"linecolor\":\"white\",\"minorgridcolor\":\"white\",\"startlinecolor\":\"#2a3f5f\"},\"baxis\":{\"endlinecolor\":\"#2a3f5f\",\"gridcolor\":\"white\",\"linecolor\":\"white\",\"minorgridcolor\":\"white\",\"startlinecolor\":\"#2a3f5f\"},\"type\":\"carpet\"}],\"table\":[{\"cells\":{\"fill\":{\"color\":\"#EBF0F8\"},\"line\":{\"color\":\"white\"}},\"header\":{\"fill\":{\"color\":\"#C8D4E3\"},\"line\":{\"color\":\"white\"}},\"type\":\"table\"}],\"barpolar\":[{\"marker\":{\"line\":{\"color\":\"#E5ECF6\",\"width\":0.5},\"pattern\":{\"fillmode\":\"overlay\",\"size\":10,\"solidity\":0.2}},\"type\":\"barpolar\"}],\"pie\":[{\"automargin\":true,\"type\":\"pie\"}]},\"layout\":{\"autotypenumbers\":\"strict\",\"colorway\":[\"#636efa\",\"#EF553B\",\"#00cc96\",\"#ab63fa\",\"#FFA15A\",\"#19d3f3\",\"#FF6692\",\"#B6E880\",\"#FF97FF\",\"#FECB52\"],\"font\":{\"color\":\"#2a3f5f\"},\"hovermode\":\"closest\",\"hoverlabel\":{\"align\":\"left\"},\"paper_bgcolor\":\"white\",\"plot_bgcolor\":\"#E5ECF6\",\"polar\":{\"bgcolor\":\"#E5ECF6\",\"angularaxis\":{\"gridcolor\":\"white\",\"linecolor\":\"white\",\"ticks\":\"\"},\"radialaxis\":{\"gridcolor\":\"white\",\"linecolor\":\"white\",\"ticks\":\"\"}},\"ternary\":{\"bgcolor\":\"#E5ECF6\",\"aaxis\":{\"gridcolor\":\"white\",\"linecolor\":\"white\",\"ticks\":\"\"},\"baxis\":{\"gridcolor\":\"white\",\"linecolor\":\"white\",\"ticks\":\"\"},\"caxis\":{\"gridcolor\":\"white\",\"linecolor\":\"white\",\"ticks\":\"\"}},\"coloraxis\":{\"colorbar\":{\"outlinewidth\":0,\"ticks\":\"\"}},\"colorscale\":{\"sequential\":[[0.0,\"#0d0887\"],[0.1111111111111111,\"#46039f\"],[0.2222222222222222,\"#7201a8\"],[0.3333333333333333,\"#9c179e\"],[0.4444444444444444,\"#bd3786\"],[0.5555555555555556,\"#d8576b\"],[0.6666666666666666,\"#ed7953\"],[0.7777777777777778,\"#fb9f3a\"],[0.8888888888888888,\"#fdca26\"],[1.0,\"#f0f921\"]],\"sequentialminus\":[[0.0,\"#0d0887\"],[0.1111111111111111,\"#46039f\"],[0.2222222222222222,\"#7201a8\"],[0.3333333333333333,\"#9c179e\"],[0.4444444444444444,\"#bd3786\"],[0.5555555555555556,\"#d8576b\"],[0.6666666666666666,\"#ed7953\"],[0.7777777777777778,\"#fb9f3a\"],[0.8888888888888888,\"#fdca26\"],[1.0,\"#f0f921\"]],\"diverging\":[[0,\"#8e0152\"],[0.1,\"#c51b7d\"],[0.2,\"#de77ae\"],[0.3,\"#f1b6da\"],[0.4,\"#fde0ef\"],[0.5,\"#f7f7f7\"],[0.6,\"#e6f5d0\"],[0.7,\"#b8e186\"],[0.8,\"#7fbc41\"],[0.9,\"#4d9221\"],[1,\"#276419\"]]},\"xaxis\":{\"gridcolor\":\"white\",\"linecolor\":\"white\",\"ticks\":\"\",\"title\":{\"standoff\":15},\"zerolinecolor\":\"white\",\"automargin\":true,\"zerolinewidth\":2},\"yaxis\":{\"gridcolor\":\"white\",\"linecolor\":\"white\",\"ticks\":\"\",\"title\":{\"standoff\":15},\"zerolinecolor\":\"white\",\"automargin\":true,\"zerolinewidth\":2},\"scene\":{\"xaxis\":{\"backgroundcolor\":\"#E5ECF6\",\"gridcolor\":\"white\",\"linecolor\":\"white\",\"showbackground\":true,\"ticks\":\"\",\"zerolinecolor\":\"white\",\"gridwidth\":2},\"yaxis\":{\"backgroundcolor\":\"#E5ECF6\",\"gridcolor\":\"white\",\"linecolor\":\"white\",\"showbackground\":true,\"ticks\":\"\",\"zerolinecolor\":\"white\",\"gridwidth\":2},\"zaxis\":{\"backgroundcolor\":\"#E5ECF6\",\"gridcolor\":\"white\",\"linecolor\":\"white\",\"showbackground\":true,\"ticks\":\"\",\"zerolinecolor\":\"white\",\"gridwidth\":2}},\"shapedefaults\":{\"line\":{\"color\":\"#2a3f5f\"}},\"annotationdefaults\":{\"arrowcolor\":\"#2a3f5f\",\"arrowhead\":0,\"arrowwidth\":1},\"geo\":{\"bgcolor\":\"white\",\"landcolor\":\"#E5ECF6\",\"subunitcolor\":\"white\",\"showland\":true,\"showlakes\":true,\"lakecolor\":\"white\"},\"title\":{\"x\":0.05},\"mapbox\":{\"style\":\"light\"}}},\"xaxis\":{\"anchor\":\"y\",\"domain\":[0.0,1.0],\"title\":{\"text\":\"Number of Negative Samples\"},\"tickmode\":\"array\",\"tickvals\":[0,100,200,300,400,500,600,700,800,900,1000]},\"yaxis\":{\"anchor\":\"x\",\"domain\":[0.55,1.0],\"title\":{\"text\":\"Top 1 Accuracy\"},\"tickformat\":\".0%\"},\"xaxis2\":{\"anchor\":\"y2\",\"domain\":[0.0,1.0],\"title\":{\"text\":\"Number of Negative Samples\"},\"tickmode\":\"array\",\"tickvals\":[0,100,200,300,400,500,600,700,800,900,1000]},\"yaxis2\":{\"anchor\":\"x2\",\"domain\":[0.0,0.45],\"title\":{\"text\":\"Count\"}},\"annotations\":[{\"font\":{\"size\":16},\"showarrow\":false,\"text\":\"Line Plot: Top 1 Accuracy vs Number of Negative Samples (up to 1000)\",\"x\":0.5,\"xanchor\":\"center\",\"xref\":\"paper\",\"y\":1.0,\"yanchor\":\"bottom\",\"yref\":\"paper\"},{\"font\":{\"size\":16},\"showarrow\":false,\"text\":\"Histogram: Distribution of Negative Samples (up to 1000)\",\"x\":0.5,\"xanchor\":\"center\",\"xref\":\"paper\",\"y\":0.45,\"yanchor\":\"bottom\",\"yref\":\"paper\"}],\"title\":{\"text\":\"Top 1 Accuracy vs Number of Negative Samples (up to 1000)\"},\"height\":800},                        {\"responsive\": true}                    ).then(function(){\n",
              "                            \n",
              "var gd = document.getElementById('1c98a2df-b5fc-409f-a10d-9d8f30799c3b');\n",
              "var x = new MutationObserver(function (mutations, observer) {{\n",
              "        var display = window.getComputedStyle(gd).display;\n",
              "        if (!display || display === 'none') {{\n",
              "            console.log([gd, 'removed!']);\n",
              "            Plotly.purge(gd);\n",
              "            observer.disconnect();\n",
              "        }}\n",
              "}});\n",
              "\n",
              "// Listen for the removal of the full notebook cells\n",
              "var notebookContainer = gd.closest('#notebook-container');\n",
              "if (notebookContainer) {{\n",
              "    x.observe(notebookContainer, {childList: true});\n",
              "}}\n",
              "\n",
              "// Listen for the clearing of the current output cell\n",
              "var outputEl = gd.closest('.output');\n",
              "if (outputEl) {{\n",
              "    x.observe(outputEl, {childList: true});\n",
              "}}\n",
              "\n",
              "                        })                };                            </script>        </div>\n",
              "</body>\n",
              "</html>"
            ]
          },
          "metadata": {}
        },
        {
          "output_type": "stream",
          "name": "stdout",
          "text": [
            "Total number of vessels (up to 1000 negative samples): 6299\n",
            "Average number of negative samples per vessel: 446.24\n",
            "Median number of negative samples per vessel: 449.00\n",
            "Range of negative samples: 1 to 992\n",
            "Overall Top 1 Accuracy: 51.30%\n",
            "Correlation between number of negative samples and accuracy: -0.3124\n",
            "\n",
            "Number of vessels with more than 1000 negative samples: 0\n"
          ]
        }
      ]
    },
    {
      "cell_type": "code",
      "source": [
        "# 3. Compute top 1 accuracy for different dimensions\n",
        "def compute_top_1_accuracy_by_dimension(dimension, top_n):\n",
        "    top_categories = ranked_destinations[dimension].value_counts().nlargest(top_n).index\n",
        "    accuracies = {}\n",
        "    for category in top_categories:\n",
        "        subset = ranked_destinations[ranked_destinations[dimension] == category]\n",
        "        accuracies[category] = subset.groupby('vessel_id').apply(calculate_top_1_accuracy).mean()\n",
        "    return pd.Series(accuracies)\n",
        "\n",
        "vessel_type_accuracy = compute_top_1_accuracy_by_dimension('vessel_type', 4)\n",
        "product_family_accuracy = compute_top_1_accuracy_by_dimension('product_family', 5)\n",
        "\n",
        "fig3 = make_subplots(rows=2, cols=1, subplot_titles=('Top 1 Accuracy by Vessel Type', 'Top 1 Accuracy by Product Family'))\n",
        "\n",
        "fig3.add_trace(go.Bar(\n",
        "    x=vessel_type_accuracy.index,\n",
        "    y=vessel_type_accuracy.values,\n",
        "    text=[f'{acc:.2%}' for acc in vessel_type_accuracy.values],\n",
        "    textposition='auto'\n",
        "), row=1, col=1)\n",
        "\n",
        "fig3.add_trace(go.Bar(\n",
        "    x=product_family_accuracy.index,\n",
        "    y=product_family_accuracy.values,\n",
        "    text=[f'{acc:.2%}' for acc in product_family_accuracy.values],\n",
        "    textposition='auto'\n",
        "), row=2, col=1)\n",
        "\n",
        "fig3.update_layout(height=800, title_text=\"Top 1 Accuracy by Vessel Type and Product Family\")\n",
        "fig3.update_xaxes(title_text=\"Vessel Type\", row=1, col=1)\n",
        "fig3.update_xaxes(title_text=\"Product Family\", row=2, col=1)\n",
        "fig3.update_yaxes(title_text=\"Top 1 Accuracy\", tickformat='.0%', row=1, col=1)\n",
        "fig3.update_yaxes(title_text=\"Top 1 Accuracy\", tickformat='.0%', row=2, col=1)\n",
        "\n",
        "fig3.show()\n"
      ],
      "metadata": {
        "colab": {
          "base_uri": "https://localhost:8080/",
          "height": 817
        },
        "id": "7953_4of14vD",
        "outputId": "3d1af28a-e1dd-4f5a-988e-fc2b915214ea"
      },
      "id": "7953_4of14vD",
      "execution_count": 118,
      "outputs": [
        {
          "output_type": "display_data",
          "data": {
            "text/html": [
              "<html>\n",
              "<head><meta charset=\"utf-8\" /></head>\n",
              "<body>\n",
              "    <div>            <script src=\"https://cdnjs.cloudflare.com/ajax/libs/mathjax/2.7.5/MathJax.js?config=TeX-AMS-MML_SVG\"></script><script type=\"text/javascript\">if (window.MathJax && window.MathJax.Hub && window.MathJax.Hub.Config) {window.MathJax.Hub.Config({SVG: {font: \"STIX-Web\"}});}</script>                <script type=\"text/javascript\">window.PlotlyConfig = {MathJaxConfig: 'local'};</script>\n",
              "        <script charset=\"utf-8\" src=\"https://cdn.plot.ly/plotly-2.24.1.min.js\"></script>                <div id=\"8933cae8-5552-4b47-836d-7d1e0cfac2b0\" class=\"plotly-graph-div\" style=\"height:800px; width:100%;\"></div>            <script type=\"text/javascript\">                                    window.PLOTLYENV=window.PLOTLYENV || {};                                    if (document.getElementById(\"8933cae8-5552-4b47-836d-7d1e0cfac2b0\")) {                    Plotly.newPlot(                        \"8933cae8-5552-4b47-836d-7d1e0cfac2b0\",                        [{\"text\":[\"51.68%\",\"46.57%\",\"49.50%\",\"64.35%\"],\"textposition\":\"auto\",\"x\":[\"Crude\\u002fOil Products Tanker\",\"Chemical\\u002fOil Products Tanker\",\"Products Tanker\",\"Crude Oil Tanker\"],\"y\":[0.5167693360711841,0.46568627450980393,0.4949596774193548,0.6434782608695652],\"type\":\"bar\",\"xaxis\":\"x\",\"yaxis\":\"y\"},{\"text\":[\"47.96%\",\"47.31%\",\"62.80%\",\"49.46%\",\"50.00%\"],\"textposition\":\"auto\",\"x\":[\"clean petroleum products\",\"chem\\u002fbio\",\"crude oil\\u002fcondensate\",\"dirty petroleum products\",\"minor bulks\"],\"y\":[0.4796325878594249,0.47308970099667774,0.6280087527352297,0.4945887445887446,0.5],\"type\":\"bar\",\"xaxis\":\"x2\",\"yaxis\":\"y2\"}],                        {\"template\":{\"data\":{\"histogram2dcontour\":[{\"type\":\"histogram2dcontour\",\"colorbar\":{\"outlinewidth\":0,\"ticks\":\"\"},\"colorscale\":[[0.0,\"#0d0887\"],[0.1111111111111111,\"#46039f\"],[0.2222222222222222,\"#7201a8\"],[0.3333333333333333,\"#9c179e\"],[0.4444444444444444,\"#bd3786\"],[0.5555555555555556,\"#d8576b\"],[0.6666666666666666,\"#ed7953\"],[0.7777777777777778,\"#fb9f3a\"],[0.8888888888888888,\"#fdca26\"],[1.0,\"#f0f921\"]]}],\"choropleth\":[{\"type\":\"choropleth\",\"colorbar\":{\"outlinewidth\":0,\"ticks\":\"\"}}],\"histogram2d\":[{\"type\":\"histogram2d\",\"colorbar\":{\"outlinewidth\":0,\"ticks\":\"\"},\"colorscale\":[[0.0,\"#0d0887\"],[0.1111111111111111,\"#46039f\"],[0.2222222222222222,\"#7201a8\"],[0.3333333333333333,\"#9c179e\"],[0.4444444444444444,\"#bd3786\"],[0.5555555555555556,\"#d8576b\"],[0.6666666666666666,\"#ed7953\"],[0.7777777777777778,\"#fb9f3a\"],[0.8888888888888888,\"#fdca26\"],[1.0,\"#f0f921\"]]}],\"heatmap\":[{\"type\":\"heatmap\",\"colorbar\":{\"outlinewidth\":0,\"ticks\":\"\"},\"colorscale\":[[0.0,\"#0d0887\"],[0.1111111111111111,\"#46039f\"],[0.2222222222222222,\"#7201a8\"],[0.3333333333333333,\"#9c179e\"],[0.4444444444444444,\"#bd3786\"],[0.5555555555555556,\"#d8576b\"],[0.6666666666666666,\"#ed7953\"],[0.7777777777777778,\"#fb9f3a\"],[0.8888888888888888,\"#fdca26\"],[1.0,\"#f0f921\"]]}],\"heatmapgl\":[{\"type\":\"heatmapgl\",\"colorbar\":{\"outlinewidth\":0,\"ticks\":\"\"},\"colorscale\":[[0.0,\"#0d0887\"],[0.1111111111111111,\"#46039f\"],[0.2222222222222222,\"#7201a8\"],[0.3333333333333333,\"#9c179e\"],[0.4444444444444444,\"#bd3786\"],[0.5555555555555556,\"#d8576b\"],[0.6666666666666666,\"#ed7953\"],[0.7777777777777778,\"#fb9f3a\"],[0.8888888888888888,\"#fdca26\"],[1.0,\"#f0f921\"]]}],\"contourcarpet\":[{\"type\":\"contourcarpet\",\"colorbar\":{\"outlinewidth\":0,\"ticks\":\"\"}}],\"contour\":[{\"type\":\"contour\",\"colorbar\":{\"outlinewidth\":0,\"ticks\":\"\"},\"colorscale\":[[0.0,\"#0d0887\"],[0.1111111111111111,\"#46039f\"],[0.2222222222222222,\"#7201a8\"],[0.3333333333333333,\"#9c179e\"],[0.4444444444444444,\"#bd3786\"],[0.5555555555555556,\"#d8576b\"],[0.6666666666666666,\"#ed7953\"],[0.7777777777777778,\"#fb9f3a\"],[0.8888888888888888,\"#fdca26\"],[1.0,\"#f0f921\"]]}],\"surface\":[{\"type\":\"surface\",\"colorbar\":{\"outlinewidth\":0,\"ticks\":\"\"},\"colorscale\":[[0.0,\"#0d0887\"],[0.1111111111111111,\"#46039f\"],[0.2222222222222222,\"#7201a8\"],[0.3333333333333333,\"#9c179e\"],[0.4444444444444444,\"#bd3786\"],[0.5555555555555556,\"#d8576b\"],[0.6666666666666666,\"#ed7953\"],[0.7777777777777778,\"#fb9f3a\"],[0.8888888888888888,\"#fdca26\"],[1.0,\"#f0f921\"]]}],\"mesh3d\":[{\"type\":\"mesh3d\",\"colorbar\":{\"outlinewidth\":0,\"ticks\":\"\"}}],\"scatter\":[{\"fillpattern\":{\"fillmode\":\"overlay\",\"size\":10,\"solidity\":0.2},\"type\":\"scatter\"}],\"parcoords\":[{\"type\":\"parcoords\",\"line\":{\"colorbar\":{\"outlinewidth\":0,\"ticks\":\"\"}}}],\"scatterpolargl\":[{\"type\":\"scatterpolargl\",\"marker\":{\"colorbar\":{\"outlinewidth\":0,\"ticks\":\"\"}}}],\"bar\":[{\"error_x\":{\"color\":\"#2a3f5f\"},\"error_y\":{\"color\":\"#2a3f5f\"},\"marker\":{\"line\":{\"color\":\"#E5ECF6\",\"width\":0.5},\"pattern\":{\"fillmode\":\"overlay\",\"size\":10,\"solidity\":0.2}},\"type\":\"bar\"}],\"scattergeo\":[{\"type\":\"scattergeo\",\"marker\":{\"colorbar\":{\"outlinewidth\":0,\"ticks\":\"\"}}}],\"scatterpolar\":[{\"type\":\"scatterpolar\",\"marker\":{\"colorbar\":{\"outlinewidth\":0,\"ticks\":\"\"}}}],\"histogram\":[{\"marker\":{\"pattern\":{\"fillmode\":\"overlay\",\"size\":10,\"solidity\":0.2}},\"type\":\"histogram\"}],\"scattergl\":[{\"type\":\"scattergl\",\"marker\":{\"colorbar\":{\"outlinewidth\":0,\"ticks\":\"\"}}}],\"scatter3d\":[{\"type\":\"scatter3d\",\"line\":{\"colorbar\":{\"outlinewidth\":0,\"ticks\":\"\"}},\"marker\":{\"colorbar\":{\"outlinewidth\":0,\"ticks\":\"\"}}}],\"scattermapbox\":[{\"type\":\"scattermapbox\",\"marker\":{\"colorbar\":{\"outlinewidth\":0,\"ticks\":\"\"}}}],\"scatterternary\":[{\"type\":\"scatterternary\",\"marker\":{\"colorbar\":{\"outlinewidth\":0,\"ticks\":\"\"}}}],\"scattercarpet\":[{\"type\":\"scattercarpet\",\"marker\":{\"colorbar\":{\"outlinewidth\":0,\"ticks\":\"\"}}}],\"carpet\":[{\"aaxis\":{\"endlinecolor\":\"#2a3f5f\",\"gridcolor\":\"white\",\"linecolor\":\"white\",\"minorgridcolor\":\"white\",\"startlinecolor\":\"#2a3f5f\"},\"baxis\":{\"endlinecolor\":\"#2a3f5f\",\"gridcolor\":\"white\",\"linecolor\":\"white\",\"minorgridcolor\":\"white\",\"startlinecolor\":\"#2a3f5f\"},\"type\":\"carpet\"}],\"table\":[{\"cells\":{\"fill\":{\"color\":\"#EBF0F8\"},\"line\":{\"color\":\"white\"}},\"header\":{\"fill\":{\"color\":\"#C8D4E3\"},\"line\":{\"color\":\"white\"}},\"type\":\"table\"}],\"barpolar\":[{\"marker\":{\"line\":{\"color\":\"#E5ECF6\",\"width\":0.5},\"pattern\":{\"fillmode\":\"overlay\",\"size\":10,\"solidity\":0.2}},\"type\":\"barpolar\"}],\"pie\":[{\"automargin\":true,\"type\":\"pie\"}]},\"layout\":{\"autotypenumbers\":\"strict\",\"colorway\":[\"#636efa\",\"#EF553B\",\"#00cc96\",\"#ab63fa\",\"#FFA15A\",\"#19d3f3\",\"#FF6692\",\"#B6E880\",\"#FF97FF\",\"#FECB52\"],\"font\":{\"color\":\"#2a3f5f\"},\"hovermode\":\"closest\",\"hoverlabel\":{\"align\":\"left\"},\"paper_bgcolor\":\"white\",\"plot_bgcolor\":\"#E5ECF6\",\"polar\":{\"bgcolor\":\"#E5ECF6\",\"angularaxis\":{\"gridcolor\":\"white\",\"linecolor\":\"white\",\"ticks\":\"\"},\"radialaxis\":{\"gridcolor\":\"white\",\"linecolor\":\"white\",\"ticks\":\"\"}},\"ternary\":{\"bgcolor\":\"#E5ECF6\",\"aaxis\":{\"gridcolor\":\"white\",\"linecolor\":\"white\",\"ticks\":\"\"},\"baxis\":{\"gridcolor\":\"white\",\"linecolor\":\"white\",\"ticks\":\"\"},\"caxis\":{\"gridcolor\":\"white\",\"linecolor\":\"white\",\"ticks\":\"\"}},\"coloraxis\":{\"colorbar\":{\"outlinewidth\":0,\"ticks\":\"\"}},\"colorscale\":{\"sequential\":[[0.0,\"#0d0887\"],[0.1111111111111111,\"#46039f\"],[0.2222222222222222,\"#7201a8\"],[0.3333333333333333,\"#9c179e\"],[0.4444444444444444,\"#bd3786\"],[0.5555555555555556,\"#d8576b\"],[0.6666666666666666,\"#ed7953\"],[0.7777777777777778,\"#fb9f3a\"],[0.8888888888888888,\"#fdca26\"],[1.0,\"#f0f921\"]],\"sequentialminus\":[[0.0,\"#0d0887\"],[0.1111111111111111,\"#46039f\"],[0.2222222222222222,\"#7201a8\"],[0.3333333333333333,\"#9c179e\"],[0.4444444444444444,\"#bd3786\"],[0.5555555555555556,\"#d8576b\"],[0.6666666666666666,\"#ed7953\"],[0.7777777777777778,\"#fb9f3a\"],[0.8888888888888888,\"#fdca26\"],[1.0,\"#f0f921\"]],\"diverging\":[[0,\"#8e0152\"],[0.1,\"#c51b7d\"],[0.2,\"#de77ae\"],[0.3,\"#f1b6da\"],[0.4,\"#fde0ef\"],[0.5,\"#f7f7f7\"],[0.6,\"#e6f5d0\"],[0.7,\"#b8e186\"],[0.8,\"#7fbc41\"],[0.9,\"#4d9221\"],[1,\"#276419\"]]},\"xaxis\":{\"gridcolor\":\"white\",\"linecolor\":\"white\",\"ticks\":\"\",\"title\":{\"standoff\":15},\"zerolinecolor\":\"white\",\"automargin\":true,\"zerolinewidth\":2},\"yaxis\":{\"gridcolor\":\"white\",\"linecolor\":\"white\",\"ticks\":\"\",\"title\":{\"standoff\":15},\"zerolinecolor\":\"white\",\"automargin\":true,\"zerolinewidth\":2},\"scene\":{\"xaxis\":{\"backgroundcolor\":\"#E5ECF6\",\"gridcolor\":\"white\",\"linecolor\":\"white\",\"showbackground\":true,\"ticks\":\"\",\"zerolinecolor\":\"white\",\"gridwidth\":2},\"yaxis\":{\"backgroundcolor\":\"#E5ECF6\",\"gridcolor\":\"white\",\"linecolor\":\"white\",\"showbackground\":true,\"ticks\":\"\",\"zerolinecolor\":\"white\",\"gridwidth\":2},\"zaxis\":{\"backgroundcolor\":\"#E5ECF6\",\"gridcolor\":\"white\",\"linecolor\":\"white\",\"showbackground\":true,\"ticks\":\"\",\"zerolinecolor\":\"white\",\"gridwidth\":2}},\"shapedefaults\":{\"line\":{\"color\":\"#2a3f5f\"}},\"annotationdefaults\":{\"arrowcolor\":\"#2a3f5f\",\"arrowhead\":0,\"arrowwidth\":1},\"geo\":{\"bgcolor\":\"white\",\"landcolor\":\"#E5ECF6\",\"subunitcolor\":\"white\",\"showland\":true,\"showlakes\":true,\"lakecolor\":\"white\"},\"title\":{\"x\":0.05},\"mapbox\":{\"style\":\"light\"}}},\"xaxis\":{\"anchor\":\"y\",\"domain\":[0.0,1.0],\"title\":{\"text\":\"Vessel Type\"}},\"yaxis\":{\"anchor\":\"x\",\"domain\":[0.625,1.0],\"title\":{\"text\":\"Top 1 Accuracy\"},\"tickformat\":\".0%\"},\"xaxis2\":{\"anchor\":\"y2\",\"domain\":[0.0,1.0],\"title\":{\"text\":\"Product Family\"}},\"yaxis2\":{\"anchor\":\"x2\",\"domain\":[0.0,0.375],\"title\":{\"text\":\"Top 1 Accuracy\"},\"tickformat\":\".0%\"},\"annotations\":[{\"font\":{\"size\":16},\"showarrow\":false,\"text\":\"Top 1 Accuracy by Vessel Type\",\"x\":0.5,\"xanchor\":\"center\",\"xref\":\"paper\",\"y\":1.0,\"yanchor\":\"bottom\",\"yref\":\"paper\"},{\"font\":{\"size\":16},\"showarrow\":false,\"text\":\"Top 1 Accuracy by Product Family\",\"x\":0.5,\"xanchor\":\"center\",\"xref\":\"paper\",\"y\":0.375,\"yanchor\":\"bottom\",\"yref\":\"paper\"}],\"title\":{\"text\":\"Top 1 Accuracy by Vessel Type and Product Family\"},\"height\":800},                        {\"responsive\": true}                    ).then(function(){\n",
              "                            \n",
              "var gd = document.getElementById('8933cae8-5552-4b47-836d-7d1e0cfac2b0');\n",
              "var x = new MutationObserver(function (mutations, observer) {{\n",
              "        var display = window.getComputedStyle(gd).display;\n",
              "        if (!display || display === 'none') {{\n",
              "            console.log([gd, 'removed!']);\n",
              "            Plotly.purge(gd);\n",
              "            observer.disconnect();\n",
              "        }}\n",
              "}});\n",
              "\n",
              "// Listen for the removal of the full notebook cells\n",
              "var notebookContainer = gd.closest('#notebook-container');\n",
              "if (notebookContainer) {{\n",
              "    x.observe(notebookContainer, {childList: true});\n",
              "}}\n",
              "\n",
              "// Listen for the clearing of the current output cell\n",
              "var outputEl = gd.closest('.output');\n",
              "if (outputEl) {{\n",
              "    x.observe(outputEl, {childList: true});\n",
              "}}\n",
              "\n",
              "                        })                };                            </script>        </div>\n",
              "</body>\n",
              "</html>"
            ]
          },
          "metadata": {}
        }
      ]
    },
    {
      "cell_type": "code",
      "source": [],
      "metadata": {
        "id": "Uqx6wtI086HB"
      },
      "id": "Uqx6wtI086HB",
      "execution_count": null,
      "outputs": []
    }
  ],
  "metadata": {
    "kernelspec": {
      "display_name": "Python 3 (ipykernel)",
      "language": "python",
      "name": "python3"
    },
    "language_info": {
      "codemirror_mode": {
        "name": "ipython",
        "version": 3
      },
      "file_extension": ".py",
      "mimetype": "text/x-python",
      "name": "python",
      "nbconvert_exporter": "python",
      "pygments_lexer": "ipython3",
      "version": "3.9.6"
    },
    "colab": {
      "provenance": [],
      "toc_visible": true,
      "include_colab_link": true
    }
  },
  "nbformat": 4,
  "nbformat_minor": 5
}